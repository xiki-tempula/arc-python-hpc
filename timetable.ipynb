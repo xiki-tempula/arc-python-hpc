{
 "cells": [
  {
   "cell_type": "markdown",
   "metadata": {},
   "source": [
    "<hr style=\"border: solid 1px red; margin-bottom: 2% \">\n",
    "# ARCHER SCIENTIFIC PYTHON COURSE\n",
    "<hr style=\"border: solid 1px red; margin-bottom: -1%; \">\n",
    "\n",
    "## Website:  http://www.archer.ac.uk \n",
    "\n",
    "## Helpdesk: support@archer.ac.uk\n",
    "\n",
    "<br>\n",
    "\n",
    "<img src=\"images/epsrclogo.png\"; style=\"float: center; width: 40%\">\n",
    "<br>\n",
    "<img src=\"images/nerclogo.png\"; style=\"float: center; width: 40%\">\n",
    "\n",
    "<br>\n",
    "<img src=\"images/craylogo.png\"; style=\"float: center; width: 40%\">\n",
    "\n",
    "<br>\n",
    "<img src=\"images/epcclogo.png\"; style=\"float: center; width: 40%\">\n",
    "\n",
    "<br>\n",
    "<img src=\"images/ediunilogo.png\"; style=\"float: center; width: 40%\" > \n",
    "\n",
    "<br>\n",
    "<br>\n",
    "\n"
   ]
  },
  {
   "cell_type": "markdown",
   "metadata": {},
   "source": [
    "<img src=\"images/reusematerial.png\"; style=\"float: center; width: 90\"; >"
   ]
  },
  {
   "cell_type": "markdown",
   "metadata": {
    "slideshow": {
     "slide_type": "slide"
    }
   },
   "source": [
    "<br>\n",
    "<hr style=\"border: solid 1px red; margin-bottom: -1% \">\n",
    "# Scientific Python: Timetable\n",
    "<hr style=\"border: solid 1px red; margin-top: 1.5% \">\n",
    "\n",
    "\n",
    "## Oxford e-Research Centre 6-7 September 2016\n",
    "## Presenters: Neelofer Banglawala, Kevin Stratford\n",
    "\n",
    "\n",
    "### DAY ONE\n",
    "\n",
    "```\n",
    "13:30 Open and Check Installations\n",
    "\n",
    "14:00 Introduction\n",
    "15:00 Break\n",
    "15:30 numpy\n",
    "17:30 Close\n",
    "```\n",
    "\n",
    "### DAY TWO\n",
    "\n",
    "```\n",
    "09:30 matplotlib\n",
    "11:00 Break\n",
    "11:30 scipy\n",
    "13:00 Lunch\n",
    "\n",
    "14:00 mpi4py\n",
    "15:00 Break\n",
    "15:30 C/Fotran coupling\n",
    "16:30 Close\n",
    "```"
   ]
  },
  {
   "cell_type": "markdown",
   "metadata": {
    "slideshow": {
     "slide_type": "slide"
    }
   },
   "source": [
    "<br>\n",
    "<hr style=\"border: solid 1px red; margin-bottom: 2% \">\n",
    "## Course materials\n",
    "<hr style=\"border: solid 1px red; margin-bottom: -1%; \">\n",
    "\n",
    "### Course web page:\n",
    "\n",
    "http://archer.ac.uk/training/course-material/2016/09/sci_py_ox\n",
    "\n",
    "```\n",
    "bash> tar zxvf sci-py.tar.gz\n",
    "```\n",
    "OR\n",
    "```\n",
    "bash> unzip sci-py.zip\n",
    "```\n",
    "\n",
    "And from Archer\n",
    "```\n",
    "wget http://archer.ac.uk/training/course-material/2016/09/sc_py_ox/sci-py.tar.gz\n",
    "```\n",
    "\n",
    "#### You will need:\n",
    "\n",
    "1. Laptop (Windows/Unix)\n",
    "2. Anaconda distribution of Python VERSION 2.7\n",
    "https://www.continuum.io/downloads\n",
    "\n",
    "3. Course material (including these notebooks) download from web page\n",
    "\n",
    "\n",
    "Please make sure you have signed in and have a ARCHER Guest Account sheet.\n",
    "\n",
    "\n",
    "<br>\n",
    "<br>\n",
    "\n",
    "\n"
   ]
  },
  {
   "cell_type": "markdown",
   "metadata": {
    "slideshow": {
     "slide_type": "slide"
    }
   },
   "source": [
    "\n",
    "<br>\n",
    "<br>\n",
    "<hr style=\"border: solid 1px red; margin-bottom: 2% \">\n",
    "## At the end\n",
    "<hr style=\"border: solid 1px red; margin-bottom: -1%; \">\n",
    "\n",
    "### Please remember feedback\n",
    "\n",
    "* Link will appear here\n",
    "\n",
    "\n",
    "### Want an ARCHER account?\n",
    "\n",
    "* Try the ARCHER Driving Test!\n",
    "\n",
    "http://www.archer.ac.uk/training/course-material/online/driving_test.php\n",
    "\n",
    "<br>\n",
    "<br>\n",
    "\n",
    "\n"
   ]
  },
  {
   "cell_type": "code",
   "execution_count": null,
   "metadata": {
    "collapsed": true
   },
   "outputs": [],
   "source": []
  }
 ],
 "metadata": {
  "celltoolbar": "Raw Cell Format",
  "kernelspec": {
   "display_name": "Python [default]",
   "language": "python",
   "name": "python2"
  },
  "language_info": {
   "codemirror_mode": {
    "name": "ipython",
    "version": 2
   },
   "file_extension": ".py",
   "mimetype": "text/x-python",
   "name": "python",
   "nbconvert_exporter": "python",
   "pygments_lexer": "ipython2",
   "version": "2.7.12"
  }
 },
 "nbformat": 4,
 "nbformat_minor": 0
}

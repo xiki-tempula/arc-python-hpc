{
 "cells": [
  {
   "cell_type": "markdown",
   "metadata": {
    "slideshow": {
     "slide_type": "slide"
    }
   },
   "source": [
    "# Python for High Performance Computing\n",
    "# <span style=\"font-family: Courier New, Courier, monospace;\">numba</span>\n",
    "<hr style=\"border: solid 4px green\">\n",
    "<br>\n",
    "<center> <img src=\"images/arc_logo.png\"; alt=\"Logo\" style=\"float: center; width: 20%\"></center>\n",
    "<br>\n",
    "## http://www.arc.ox.ac.uk\n",
    "## support@arc.ox.ac.uk"
   ]
  },
  {
   "cell_type": "markdown",
   "metadata": {
    "slideshow": {
     "slide_type": "slide"
    }
   },
   "source": [
    "## Overview\n",
    "<hr style=\"border: solid 4px green\">\n",
    "\n",
    "### Numba\n",
    "* project sponsored by Continuum Analytics\n",
    "* its core is a compiler for Python array and numerical functions\n",
    "* **J**ust **I**n **T**ime (JIT) compilation\n",
    "* exploits the LLVM compiler to generate optimised machine code\n",
    "<br><br>\n",
    "\n",
    "### Features\n",
    "* on-the-fly code generation (at import time or runtime, according to user choice)\n",
    "* native code generation for the CPU (default) and GPU\n",
    "* integration with the Python scientific software stack (thanks to `Numpy`)"
   ]
  },
  {
   "cell_type": "markdown",
   "metadata": {
    "slideshow": {
     "slide_type": "slide"
    }
   },
   "source": [
    "## Example\n",
    "<hr style=\"border: solid 4px green\">\n",
    "\n",
    "### Fibonacci sequence"
   ]
  },
  {
   "cell_type": "code",
   "execution_count": 1,
   "metadata": {
    "collapsed": true
   },
   "outputs": [],
   "source": [
    "import numpy\n",
    "\n",
    "def fib (n):\n",
    "    \"\"\"Compute Fibonacci sequence\"\"\"\n",
    "    # the output is floats to cope with large n\n",
    "    s = numpy.zeros(n, dtype=numpy.float64)\n",
    "    if n >= 1:\n",
    "        s[0] = 1.0\n",
    "\n",
    "    if n >= 2:\n",
    "        s[1] = 1.0\n",
    "\n",
    "    for i in range (2, n):\n",
    "        s[i] = s[i-1] + s[i-2]\n",
    "\n",
    "    return s"
   ]
  },
  {
   "cell_type": "code",
   "execution_count": 2,
   "metadata": {},
   "outputs": [
    {
     "name": "stdout",
     "output_type": "stream",
     "text": [
      "1000 loops, best of 3: 285 µs per loop\n"
     ]
    }
   ],
   "source": [
    "% timeit fib (1024)"
   ]
  },
  {
   "cell_type": "code",
   "execution_count": 3,
   "metadata": {
    "collapsed": true
   },
   "outputs": [],
   "source": [
    "import numpy\n",
    "from numba import jit\n",
    "\n",
    "@jit\n",
    "def fibJIT (n):\n",
    "    \"\"\"Compute Fibonacci sequence\"\"\"\n",
    "    s = numpy.zeros(n, dtype=numpy.float64)\n",
    "    if n >= 1:\n",
    "        s[0] = 1.0\n",
    "\n",
    "    if n >= 2:\n",
    "        s[1] = 1.0\n",
    "\n",
    "    for i in range (2, n):\n",
    "        s[i] = s[i-1] + s[i-2]\n",
    "\n",
    "    return s"
   ]
  },
  {
   "cell_type": "code",
   "execution_count": 4,
   "metadata": {},
   "outputs": [
    {
     "name": "stdout",
     "output_type": "stream",
     "text": [
      "100000 loops, best of 3: 3.3 µs per loop\n"
     ]
    }
   ],
   "source": [
    "# run once to generate machine code and cache results\n",
    "fibJIT (16)\n",
    "# now, time it\n",
    "% timeit fibJIT (1024)"
   ]
  },
  {
   "cell_type": "markdown",
   "metadata": {},
   "source": [
    "### 100x speedup with 1 decorator!"
   ]
  },
  {
   "cell_type": "markdown",
   "metadata": {
    "slideshow": {
     "slide_type": "slide"
    }
   },
   "source": [
    "## How <span style=\"font-family: Courier New, Courier, monospace;\">numba</span> works\n",
    "<hr style=\"border: solid 4px green\">\n",
    "\n",
    "<img src=\"./images/how-numba-works.jpg\"; alt=\"Logo\" style=\"float: center; width: 80%\">"
   ]
  },
  {
   "cell_type": "markdown",
   "metadata": {
    "slideshow": {
     "slide_type": "slide"
    }
   },
   "source": [
    "## How <span style=\"font-family: Courier New, Courier, monospace;\">numba</span> works (cont'd)\n",
    "\n",
    "### Consider the following simple example"
   ]
  },
  {
   "cell_type": "code",
   "execution_count": 6,
   "metadata": {
    "collapsed": true
   },
   "outputs": [],
   "source": [
    "# annotate function\n",
    "@jit\n",
    "def add_int (a, b):\n",
    "    return a + b"
   ]
  },
  {
   "cell_type": "code",
   "execution_count": 7,
   "metadata": {},
   "outputs": [
    {
     "data": {
      "text/plain": [
       "3"
      ]
     },
     "execution_count": 7,
     "metadata": {},
     "output_type": "execute_result"
    }
   ],
   "source": [
    "# run function\n",
    "add_int (1, 2)"
   ]
  },
  {
   "cell_type": "markdown",
   "metadata": {},
   "source": [
    "### Running the function once\n",
    "* `numba` examines the Python code and translates this into an 'intermediate representation' (IR)\n",
    "* LLVM translates the IR into compiled code\n",
    "\n",
    "### Peek behind the magic: the IR\n",
    "* the IR can be instpected using the `inspect_types` method"
   ]
  },
  {
   "cell_type": "code",
   "execution_count": 8,
   "metadata": {},
   "outputs": [
    {
     "name": "stdout",
     "output_type": "stream",
     "text": [
      "add_int (int64, int64)\n",
      "--------------------------------------------------------------------------------\n",
      "# File: <ipython-input-6-c54ac082f96d>\n",
      "# --- LINE 2 --- \n",
      "\n",
      "@jit\n",
      "\n",
      "# --- LINE 3 --- \n",
      "\n",
      "def add_int (a, b):\n",
      "\n",
      "    # --- LINE 4 --- \n",
      "    # label 0\n",
      "    #   a = arg(0, name=a)  :: int64\n",
      "    #   b = arg(1, name=b)  :: int64\n",
      "    #   $0.3 = a + b  :: int64\n",
      "    #   del b\n",
      "    #   del a\n",
      "    #   $0.4 = cast(value=$0.3)  :: int64\n",
      "    #   del $0.3\n",
      "    #   return $0.4\n",
      "\n",
      "    return a + b\n",
      "\n",
      "\n",
      "================================================================================\n"
     ]
    }
   ],
   "source": [
    "add_int.inspect_types()"
   ]
  },
  {
   "cell_type": "markdown",
   "metadata": {},
   "source": [
    "### Peek behind the magic: LLVM\n",
    "* the LLVM translation can be inspected using the `inspect_llvm()` method (returns a dictionary)"
   ]
  },
  {
   "cell_type": "code",
   "execution_count": 8,
   "metadata": {},
   "outputs": [
    {
     "name": "stdout",
     "output_type": "stream",
     "text": [
      "((int64, int64), '; ModuleID = \\'add_int\\'\\ntarget datalayout = \"e-m:o-i64:64-f80:128-n8:16:32:64-S128\"\\ntarget triple = \"x86_64-apple-darwin15.0.0\"\\n\\n@PyExc_RuntimeError = external global i8\\n@.const.add_int = internal constant [8 x i8] c\"add_int\\\\00\"\\n@\".const.Fatal error: missing _dynfunc.Closure\" = internal constant [38 x i8] c\"Fatal error: missing _dynfunc.Closure\\\\00\"\\n@\".const.missing Environment\" = internal constant [20 x i8] c\"missing Environment\\\\00\"\\n\\n; Function Attrs: nounwind\\ndefine i32 @\"__main__.add_int$2.int64.int64\"(i64* noalias nocapture %retptr, { i8*, i32 }** noalias nocapture readnone %excinfo, i8* noalias nocapture readnone %env, i64 %arg.a, i64 %arg.b) #0 {\\nentry:\\n  %.15 = add nsw i64 %arg.b, %arg.a\\n  store i64 %.15, i64* %retptr, align 8\\n  ret i32 0\\n}\\n\\ndefine i8* @\"cpython.__main__.add_int$2.int64.int64\"(i8* %py_closure, i8* %py_args, i8* nocapture readnone %py_kws) {\\nentry:\\n  %.5 = alloca i8*, align 8\\n  %.6 = alloca i8*, align 8\\n  %.7 = call i32 (i8*, i8*, i64, i64, ...) @PyArg_UnpackTuple(i8* %py_args, i8* getelementptr inbounds ([8 x i8], [8 x i8]* @.const.add_int, i64 0, i64 0), i64 2, i64 2, i8** nonnull %.5, i8** nonnull %.6)\\n  %.8 = icmp eq i32 %.7, 0\\n  br i1 %.8, label %entry.if, label %entry.endif, !prof !0\\n\\nentry.if:                                         ; preds = %entry.endif.endif.endif.endif.endif.endif.endif, %entry.endif.endif.endif.endif.endif.endif, %entry.endif.endif.endif.endif, %entry\\n  %merge = phi i8* [ null, %entry.endif.endif.endif.endif.endif.endif ], [ null, %entry.endif.endif.endif.endif ], [ null, %entry ], [ %.82, %entry.endif.endif.endif.endif.endif.endif.endif ]\\n  ret i8* %merge\\n\\nentry.endif:                                      ; preds = %entry\\n  %.12 = icmp eq i8* %py_closure, null\\n  br i1 %.12, label %entry.endif.if, label %entry.endif.endif, !prof !0\\n\\nentry.endif.if:                                   ; preds = %entry.endif\\n  %.14 = call i32 @puts(i8* getelementptr inbounds ([38 x i8], [38 x i8]* @\".const.Fatal error: missing _dynfunc.Closure\", i64 0, i64 0))\\n  unreachable\\n\\nentry.endif.endif:                                ; preds = %entry.endif\\n  %.16 = ptrtoint i8* %py_closure to i64\\n  %.17 = add i64 %.16, 24\\n  %.19 = inttoptr i64 %.17 to { i8* }*\\n  %.201 = bitcast { i8* }* %.19 to i8**\\n  %.21 = load i8*, i8** %.201, align 8\\n  %.26 = icmp eq i8* %.21, null\\n  br i1 %.26, label %entry.endif.endif.if, label %entry.endif.endif.endif, !prof !0\\n\\nentry.endif.endif.if:                             ; preds = %entry.endif.endif\\n  call void @PyErr_SetString(i8* nonnull @PyExc_RuntimeError, i8* getelementptr inbounds ([20 x i8], [20 x i8]* @\".const.missing Environment\", i64 0, i64 0))\\n  ret i8* null\\n\\nentry.endif.endif.endif:                          ; preds = %entry.endif.endif\\n  %.30 = load i8*, i8** %.5, align 8\\n  %.32 = call i8* @PyNumber_Long(i8* %.30)\\n  %.33 = icmp eq i8* %.32, null\\n  br i1 %.33, label %entry.endif.endif.endif.endif, label %entry.endif.endif.endif.if, !prof !0\\n\\nentry.endif.endif.endif.if:                       ; preds = %entry.endif.endif.endif\\n  %.35 = call i64 @PyLong_AsLongLong(i8* %.32)\\n  call void @Py_DecRef(i8* %.32)\\n  br label %entry.endif.endif.endif.endif\\n\\nentry.endif.endif.endif.endif:                    ; preds = %entry.endif.endif.endif, %entry.endif.endif.endif.if\\n  %.31.0 = phi i64 [ %.35, %entry.endif.endif.endif.if ], [ undef, %entry.endif.endif.endif ]\\n  %.40 = call i8* @PyErr_Occurred()\\n  %.41 = icmp eq i8* %.40, null\\n  br i1 %.41, label %entry.endif.endif.endif.endif.endif, label %entry.if, !prof !1\\n\\nentry.endif.endif.endif.endif.endif:              ; preds = %entry.endif.endif.endif.endif\\n  %.45 = load i8*, i8** %.6, align 8\\n  %.47 = call i8* @PyNumber_Long(i8* %.45)\\n  %.48 = icmp eq i8* %.47, null\\n  br i1 %.48, label %entry.endif.endif.endif.endif.endif.endif, label %entry.endif.endif.endif.endif.endif.if, !prof !0\\n\\nentry.endif.endif.endif.endif.endif.if:           ; preds = %entry.endif.endif.endif.endif.endif\\n  %.50 = call i64 @PyLong_AsLongLong(i8* %.47)\\n  call void @Py_DecRef(i8* %.47)\\n  br label %entry.endif.endif.endif.endif.endif.endif\\n\\nentry.endif.endif.endif.endif.endif.endif:        ; preds = %entry.endif.endif.endif.endif.endif, %entry.endif.endif.endif.endif.endif.if\\n  %.46.0 = phi i64 [ %.50, %entry.endif.endif.endif.endif.endif.if ], [ undef, %entry.endif.endif.endif.endif.endif ]\\n  %.55 = call i8* @PyErr_Occurred()\\n  %.56 = icmp eq i8* %.55, null\\n  br i1 %.56, label %entry.endif.endif.endif.endif.endif.endif.endif, label %entry.if, !prof !1\\n\\nentry.endif.endif.endif.endif.endif.endif.endif:  ; preds = %entry.endif.endif.endif.endif.endif.endif\\n  %.15.i = add nsw i64 %.46.0, %.31.0\\n  %.82 = call i8* @PyInt_FromLong(i64 %.15.i)\\n  br label %entry.if\\n}\\n\\ndeclare i32 @PyArg_UnpackTuple(i8*, i8*, i64, i64, ...)\\n\\n; Function Attrs: nounwind\\ndeclare i32 @puts(i8* nocapture readonly) #0\\n\\ndeclare void @PyErr_SetString(i8*, i8*)\\n\\ndeclare i8* @PyNumber_Long(i8*)\\n\\ndeclare i64 @PyLong_AsLongLong(i8*)\\n\\ndeclare void @Py_DecRef(i8*)\\n\\ndeclare i8* @PyErr_Occurred()\\n\\ndeclare i8* @PyInt_FromLong(i64)\\n\\nattributes #0 = { nounwind }\\n\\n!0 = !{!\"branch_weights\", i32 1, i32 99}\\n!1 = !{!\"branch_weights\", i32 99, i32 1}\\n')\n"
     ]
    }
   ],
   "source": [
    "for k, v in add_int.inspect_llvm().items():\n",
    "    print(k, v)"
   ]
  },
  {
   "cell_type": "markdown",
   "metadata": {},
   "source": [
    "### JIT compilation = IR translation + LLVM compilation\n",
    "* powerful type inference\n",
    "* done once per data type\n",
    "  * cached for later use: subsequent calls to same function are optimally fast\n",
    "  * multi-dispatch compilation: a function called with two different types generates two cached versions"
   ]
  },
  {
   "cell_type": "markdown",
   "metadata": {
    "slideshow": {
     "slide_type": "slide"
    }
   },
   "source": [
    "## How <span style=\"font-family: Courier New, Courier, monospace;\">numba</span> works (cont'd)\n",
    "<hr style=\"border: solid 4px green\">\n",
    "\n",
    "### Type inference recognises simple types (integer, floats)\n",
    "* optimal code is generated\n",
    "<br><br>\n",
    "\n",
    "### However,\n",
    "* Python objects are used when simple types cannot be inferred\n",
    "* which is what happens when you try something that is natural in Python, but ambiguous"
   ]
  },
  {
   "cell_type": "code",
   "execution_count": 9,
   "metadata": {
    "collapsed": true
   },
   "outputs": [],
   "source": [
    "@jit\n",
    "def add_strings(a, b):\n",
    "    return a + b"
   ]
  },
  {
   "cell_type": "code",
   "execution_count": 10,
   "metadata": {},
   "outputs": [
    {
     "data": {
      "text/plain": [
       "'string'"
      ]
     },
     "execution_count": 10,
     "metadata": {},
     "output_type": "execute_result"
    }
   ],
   "source": [
    "add_strings (\"str\", \"ing\")"
   ]
  },
  {
   "cell_type": "markdown",
   "metadata": {
    "collapsed": true
   },
   "source": [
    "### It worked, but ...\n",
    "* what does `inspect_types` reveal?"
   ]
  },
  {
   "cell_type": "code",
   "execution_count": 11,
   "metadata": {},
   "outputs": [
    {
     "name": "stdout",
     "output_type": "stream",
     "text": [
      "add_strings (str, str)\n",
      "--------------------------------------------------------------------------------\n",
      "# File: <ipython-input-9-cae23f949469>\n",
      "# --- LINE 1 --- \n",
      "\n",
      "@jit\n",
      "\n",
      "# --- LINE 2 --- \n",
      "\n",
      "def add_strings(a, b):\n",
      "\n",
      "    # --- LINE 3 --- \n",
      "    # label 0\n",
      "    #   a = arg(0, name=a)  :: pyobject\n",
      "    #   b = arg(1, name=b)  :: pyobject\n",
      "    #   $0.3 = a + b  :: pyobject\n",
      "    #   del b\n",
      "    #   del a\n",
      "    #   $0.4 = cast(value=$0.3)  :: pyobject\n",
      "    #   del $0.3\n",
      "    #   return $0.4\n",
      "\n",
      "    return a + b\n",
      "\n",
      "\n",
      "================================================================================\n"
     ]
    }
   ],
   "source": [
    "add_strings.inspect_types()"
   ]
  },
  {
   "cell_type": "markdown",
   "metadata": {},
   "source": [
    "### <span style=\"font-family: Courier New, Courier, monospace;\">pyobject</span>: back to the safety of Python objects\n",
    "* function compiled in \"object\" mode\n",
    "* can be faster than regular Python, but not by much\n",
    "<br><br>\n",
    "\n",
    "### <span style=\"font-family: Courier New, Courier, monospace;\">nopython</span>: force <span style=\"font-family: Courier New, Courier, monospace;\">numba</span> avoid objects and complain about problems when it cannot\n",
    "* performance requires simple types (*e.g.* `int64`)\n",
    "* to pinpoint throttled performance, set `nopython=True` to force `numba` to\n",
    "  * compile everything down to low level types or\n",
    "  * bail out if it runs into trouble\n",
    "* useful in \"debug\" mode: when performance is not what is expected\n",
    "  * force `nopython=True`\n",
    "  * see if there are problems\n",
    "  * modify Python code and repeat until right\n",
    "<br><br>\n",
    "\n",
    "> *Note*: `jit(nopython=True)` is equivalent to `njit`"
   ]
  },
  {
   "cell_type": "code",
   "execution_count": 13,
   "metadata": {},
   "outputs": [
    {
     "ename": "TypingError",
     "evalue": "Caused By:\nTraceback (most recent call last):\n  File \"/Users/mihai/anaconda/lib/python2.7/site-packages/numba/compiler.py\", line 249, in run\n    stage()\n  File \"/Users/mihai/anaconda/lib/python2.7/site-packages/numba/compiler.py\", line 466, in stage_nopython_frontend\n    self.locals)\n  File \"/Users/mihai/anaconda/lib/python2.7/site-packages/numba/compiler.py\", line 807, in type_inference_stage\n    infer.propagate()\n  File \"/Users/mihai/anaconda/lib/python2.7/site-packages/numba/typeinfer.py\", line 613, in propagate\n    raise errors[0]\nTypingError: Invalid usage of + with parameters (str, str)\nKnown signatures:\n * (int64, int64) -> int64\n * (int64, uint64) -> int64\n * (uint64, int64) -> int64\n * (uint64, uint64) -> uint64\n * (float32, float32) -> float32\n * (float64, float64) -> float64\n * (complex64, complex64) -> complex64\n * (complex128, complex128) -> complex128\n * (uint64,) -> uint64\n * (uint16,) -> uint64\n * (uint8,) -> uint64\n * (uint32,) -> uint64\n * (int32,) -> int64\n * (int16,) -> int64\n * (int64,) -> int64\n * (int8,) -> int64\n * (float32,) -> float32\n * (float64,) -> float64\n * (complex64,) -> complex64\n * (complex128,) -> complex128\n * parameterized\nFile \"<ipython-input-13-682ecf218f6d>\", line 3\n\nFailed at nopython (nopython frontend)\nInvalid usage of + with parameters (str, str)\nKnown signatures:\n * (int64, int64) -> int64\n * (int64, uint64) -> int64\n * (uint64, int64) -> int64\n * (uint64, uint64) -> uint64\n * (float32, float32) -> float32\n * (float64, float64) -> float64\n * (complex64, complex64) -> complex64\n * (complex128, complex128) -> complex128\n * (uint64,) -> uint64\n * (uint16,) -> uint64\n * (uint8,) -> uint64\n * (uint32,) -> uint64\n * (int32,) -> int64\n * (int16,) -> int64\n * (int64,) -> int64\n * (int8,) -> int64\n * (float32,) -> float32\n * (float64,) -> float64\n * (complex64,) -> complex64\n * (complex128,) -> complex128\n * parameterized\nFile \"<ipython-input-13-682ecf218f6d>\", line 3",
     "output_type": "error",
     "traceback": [
      "\u001b[0;31m---------------------------------------------------------------------------\u001b[0m",
      "\u001b[0;31mTypingError\u001b[0m                               Traceback (most recent call last)",
      "\u001b[0;32m<ipython-input-13-682ecf218f6d>\u001b[0m in \u001b[0;36m<module>\u001b[0;34m()\u001b[0m\n\u001b[1;32m      3\u001b[0m     \u001b[0;32mreturn\u001b[0m \u001b[0ma\u001b[0m \u001b[0;34m+\u001b[0m \u001b[0mb\u001b[0m\u001b[0;34m\u001b[0m\u001b[0m\n\u001b[1;32m      4\u001b[0m \u001b[0;34m\u001b[0m\u001b[0m\n\u001b[0;32m----> 5\u001b[0;31m \u001b[0madd_strings\u001b[0m \u001b[0;34m(\u001b[0m\u001b[0;34m\"str\"\u001b[0m\u001b[0;34m,\u001b[0m \u001b[0;34m\"ing\"\u001b[0m\u001b[0;34m)\u001b[0m\u001b[0;34m\u001b[0m\u001b[0m\n\u001b[0m",
      "\u001b[0;32m/Users/mihai/anaconda/lib/python2.7/site-packages/numba/dispatcher.pyc\u001b[0m in \u001b[0;36m_compile_for_args\u001b[0;34m(self, *args, **kws)\u001b[0m\n\u001b[1;32m    275\u001b[0m             \u001b[0;32melse\u001b[0m\u001b[0;34m:\u001b[0m\u001b[0;34m\u001b[0m\u001b[0m\n\u001b[1;32m    276\u001b[0m                 \u001b[0mreal_args\u001b[0m\u001b[0;34m.\u001b[0m\u001b[0mappend\u001b[0m\u001b[0;34m(\u001b[0m\u001b[0mself\u001b[0m\u001b[0;34m.\u001b[0m\u001b[0mtypeof_pyval\u001b[0m\u001b[0;34m(\u001b[0m\u001b[0ma\u001b[0m\u001b[0;34m)\u001b[0m\u001b[0;34m)\u001b[0m\u001b[0;34m\u001b[0m\u001b[0m\n\u001b[0;32m--> 277\u001b[0;31m         \u001b[0;32mreturn\u001b[0m \u001b[0mself\u001b[0m\u001b[0;34m.\u001b[0m\u001b[0mcompile\u001b[0m\u001b[0;34m(\u001b[0m\u001b[0mtuple\u001b[0m\u001b[0;34m(\u001b[0m\u001b[0mreal_args\u001b[0m\u001b[0;34m)\u001b[0m\u001b[0;34m)\u001b[0m\u001b[0;34m\u001b[0m\u001b[0m\n\u001b[0m\u001b[1;32m    278\u001b[0m \u001b[0;34m\u001b[0m\u001b[0m\n\u001b[1;32m    279\u001b[0m     \u001b[0;32mdef\u001b[0m \u001b[0minspect_llvm\u001b[0m\u001b[0;34m(\u001b[0m\u001b[0mself\u001b[0m\u001b[0;34m,\u001b[0m \u001b[0msignature\u001b[0m\u001b[0;34m=\u001b[0m\u001b[0mNone\u001b[0m\u001b[0;34m)\u001b[0m\u001b[0;34m:\u001b[0m\u001b[0;34m\u001b[0m\u001b[0m\n",
      "\u001b[0;32m/Users/mihai/anaconda/lib/python2.7/site-packages/numba/dispatcher.pyc\u001b[0m in \u001b[0;36mcompile\u001b[0;34m(self, sig)\u001b[0m\n\u001b[1;32m    493\u001b[0m \u001b[0;34m\u001b[0m\u001b[0m\n\u001b[1;32m    494\u001b[0m             \u001b[0mself\u001b[0m\u001b[0;34m.\u001b[0m\u001b[0m_cache_misses\u001b[0m\u001b[0;34m[\u001b[0m\u001b[0msig\u001b[0m\u001b[0;34m]\u001b[0m \u001b[0;34m+=\u001b[0m \u001b[0;36m1\u001b[0m\u001b[0;34m\u001b[0m\u001b[0m\n\u001b[0;32m--> 495\u001b[0;31m             \u001b[0mcres\u001b[0m \u001b[0;34m=\u001b[0m \u001b[0mself\u001b[0m\u001b[0;34m.\u001b[0m\u001b[0m_compiler\u001b[0m\u001b[0;34m.\u001b[0m\u001b[0mcompile\u001b[0m\u001b[0;34m(\u001b[0m\u001b[0margs\u001b[0m\u001b[0;34m,\u001b[0m \u001b[0mreturn_type\u001b[0m\u001b[0;34m)\u001b[0m\u001b[0;34m\u001b[0m\u001b[0m\n\u001b[0m\u001b[1;32m    496\u001b[0m             \u001b[0mself\u001b[0m\u001b[0;34m.\u001b[0m\u001b[0madd_overload\u001b[0m\u001b[0;34m(\u001b[0m\u001b[0mcres\u001b[0m\u001b[0;34m)\u001b[0m\u001b[0;34m\u001b[0m\u001b[0m\n\u001b[1;32m    497\u001b[0m             \u001b[0mself\u001b[0m\u001b[0;34m.\u001b[0m\u001b[0m_cache\u001b[0m\u001b[0;34m.\u001b[0m\u001b[0msave_overload\u001b[0m\u001b[0;34m(\u001b[0m\u001b[0msig\u001b[0m\u001b[0;34m,\u001b[0m \u001b[0mcres\u001b[0m\u001b[0;34m)\u001b[0m\u001b[0;34m\u001b[0m\u001b[0m\n",
      "\u001b[0;32m/Users/mihai/anaconda/lib/python2.7/site-packages/numba/dispatcher.pyc\u001b[0m in \u001b[0;36mcompile\u001b[0;34m(self, args, return_type)\u001b[0m\n\u001b[1;32m     74\u001b[0m                                       \u001b[0mimpl\u001b[0m\u001b[0;34m,\u001b[0m\u001b[0;34m\u001b[0m\u001b[0m\n\u001b[1;32m     75\u001b[0m                                       \u001b[0margs\u001b[0m\u001b[0;34m=\u001b[0m\u001b[0margs\u001b[0m\u001b[0;34m,\u001b[0m \u001b[0mreturn_type\u001b[0m\u001b[0;34m=\u001b[0m\u001b[0mreturn_type\u001b[0m\u001b[0;34m,\u001b[0m\u001b[0;34m\u001b[0m\u001b[0m\n\u001b[0;32m---> 76\u001b[0;31m                                       flags=flags, locals=self.locals)\n\u001b[0m\u001b[1;32m     77\u001b[0m         \u001b[0;31m# Check typing error if object mode is used\u001b[0m\u001b[0;34m\u001b[0m\u001b[0;34m\u001b[0m\u001b[0m\n\u001b[1;32m     78\u001b[0m         \u001b[0;32mif\u001b[0m \u001b[0mcres\u001b[0m\u001b[0;34m.\u001b[0m\u001b[0mtyping_error\u001b[0m \u001b[0;32mis\u001b[0m \u001b[0;32mnot\u001b[0m \u001b[0mNone\u001b[0m \u001b[0;32mand\u001b[0m \u001b[0;32mnot\u001b[0m \u001b[0mflags\u001b[0m\u001b[0;34m.\u001b[0m\u001b[0menable_pyobject\u001b[0m\u001b[0;34m:\u001b[0m\u001b[0;34m\u001b[0m\u001b[0m\n",
      "\u001b[0;32m/Users/mihai/anaconda/lib/python2.7/site-packages/numba/compiler.pyc\u001b[0m in \u001b[0;36mcompile_extra\u001b[0;34m(typingctx, targetctx, func, args, return_type, flags, locals, library)\u001b[0m\n\u001b[1;32m    694\u001b[0m     pipeline = Pipeline(typingctx, targetctx, library,\n\u001b[1;32m    695\u001b[0m                         args, return_type, flags, locals)\n\u001b[0;32m--> 696\u001b[0;31m     \u001b[0;32mreturn\u001b[0m \u001b[0mpipeline\u001b[0m\u001b[0;34m.\u001b[0m\u001b[0mcompile_extra\u001b[0m\u001b[0;34m(\u001b[0m\u001b[0mfunc\u001b[0m\u001b[0;34m)\u001b[0m\u001b[0;34m\u001b[0m\u001b[0m\n\u001b[0m\u001b[1;32m    697\u001b[0m \u001b[0;34m\u001b[0m\u001b[0m\n\u001b[1;32m    698\u001b[0m \u001b[0;34m\u001b[0m\u001b[0m\n",
      "\u001b[0;32m/Users/mihai/anaconda/lib/python2.7/site-packages/numba/compiler.pyc\u001b[0m in \u001b[0;36mcompile_extra\u001b[0;34m(self, func)\u001b[0m\n\u001b[1;32m    367\u001b[0m                 \u001b[0;32mraise\u001b[0m \u001b[0me\u001b[0m\u001b[0;34m\u001b[0m\u001b[0m\n\u001b[1;32m    368\u001b[0m \u001b[0;34m\u001b[0m\u001b[0m\n\u001b[0;32m--> 369\u001b[0;31m         \u001b[0;32mreturn\u001b[0m \u001b[0mself\u001b[0m\u001b[0;34m.\u001b[0m\u001b[0mcompile_bytecode\u001b[0m\u001b[0;34m(\u001b[0m\u001b[0mbc\u001b[0m\u001b[0;34m,\u001b[0m \u001b[0mfunc_attr\u001b[0m\u001b[0;34m=\u001b[0m\u001b[0mself\u001b[0m\u001b[0;34m.\u001b[0m\u001b[0mfunc_attr\u001b[0m\u001b[0;34m)\u001b[0m\u001b[0;34m\u001b[0m\u001b[0m\n\u001b[0m\u001b[1;32m    370\u001b[0m \u001b[0;34m\u001b[0m\u001b[0m\n\u001b[1;32m    371\u001b[0m     def compile_bytecode(self, bc, lifted=(), lifted_from=None,\n",
      "\u001b[0;32m/Users/mihai/anaconda/lib/python2.7/site-packages/numba/compiler.pyc\u001b[0m in \u001b[0;36mcompile_bytecode\u001b[0;34m(self, bc, lifted, lifted_from, func_attr)\u001b[0m\n\u001b[1;32m    376\u001b[0m         \u001b[0mself\u001b[0m\u001b[0;34m.\u001b[0m\u001b[0mlifted_from\u001b[0m \u001b[0;34m=\u001b[0m \u001b[0mlifted_from\u001b[0m\u001b[0;34m\u001b[0m\u001b[0m\n\u001b[1;32m    377\u001b[0m         \u001b[0mself\u001b[0m\u001b[0;34m.\u001b[0m\u001b[0mfunc_attr\u001b[0m \u001b[0;34m=\u001b[0m \u001b[0mfunc_attr\u001b[0m\u001b[0;34m\u001b[0m\u001b[0m\n\u001b[0;32m--> 378\u001b[0;31m         \u001b[0;32mreturn\u001b[0m \u001b[0mself\u001b[0m\u001b[0;34m.\u001b[0m\u001b[0m_compile_bytecode\u001b[0m\u001b[0;34m(\u001b[0m\u001b[0;34m)\u001b[0m\u001b[0;34m\u001b[0m\u001b[0m\n\u001b[0m\u001b[1;32m    379\u001b[0m \u001b[0;34m\u001b[0m\u001b[0m\n\u001b[1;32m    380\u001b[0m     \u001b[0;32mdef\u001b[0m \u001b[0mcompile_internal\u001b[0m\u001b[0;34m(\u001b[0m\u001b[0mself\u001b[0m\u001b[0;34m,\u001b[0m \u001b[0mbc\u001b[0m\u001b[0;34m,\u001b[0m \u001b[0mfunc_attr\u001b[0m\u001b[0;34m=\u001b[0m\u001b[0mDEFAULT_FUNCTION_ATTRIBUTES\u001b[0m\u001b[0;34m)\u001b[0m\u001b[0;34m:\u001b[0m\u001b[0;34m\u001b[0m\u001b[0m\n",
      "\u001b[0;32m/Users/mihai/anaconda/lib/python2.7/site-packages/numba/compiler.pyc\u001b[0m in \u001b[0;36m_compile_bytecode\u001b[0;34m(self)\u001b[0m\n\u001b[1;32m    660\u001b[0m \u001b[0;34m\u001b[0m\u001b[0m\n\u001b[1;32m    661\u001b[0m         \u001b[0mpm\u001b[0m\u001b[0;34m.\u001b[0m\u001b[0mfinalize\u001b[0m\u001b[0;34m(\u001b[0m\u001b[0;34m)\u001b[0m\u001b[0;34m\u001b[0m\u001b[0m\n\u001b[0;32m--> 662\u001b[0;31m         \u001b[0mres\u001b[0m \u001b[0;34m=\u001b[0m \u001b[0mpm\u001b[0m\u001b[0;34m.\u001b[0m\u001b[0mrun\u001b[0m\u001b[0;34m(\u001b[0m\u001b[0mself\u001b[0m\u001b[0;34m.\u001b[0m\u001b[0mstatus\u001b[0m\u001b[0;34m)\u001b[0m\u001b[0;34m\u001b[0m\u001b[0m\n\u001b[0m\u001b[1;32m    663\u001b[0m         \u001b[0;32mif\u001b[0m \u001b[0mres\u001b[0m \u001b[0;32mis\u001b[0m \u001b[0;32mnot\u001b[0m \u001b[0mNone\u001b[0m\u001b[0;34m:\u001b[0m\u001b[0;34m\u001b[0m\u001b[0m\n\u001b[1;32m    664\u001b[0m             \u001b[0;31m# Early pipeline completion\u001b[0m\u001b[0;34m\u001b[0m\u001b[0;34m\u001b[0m\u001b[0m\n",
      "\u001b[0;32m/Users/mihai/anaconda/lib/python2.7/site-packages/numba/compiler.pyc\u001b[0m in \u001b[0;36mrun\u001b[0;34m(self, status)\u001b[0m\n\u001b[1;32m    255\u001b[0m                     \u001b[0;31m# No more fallback pipelines?\u001b[0m\u001b[0;34m\u001b[0m\u001b[0;34m\u001b[0m\u001b[0m\n\u001b[1;32m    256\u001b[0m                     \u001b[0;32mif\u001b[0m \u001b[0mis_final_pipeline\u001b[0m\u001b[0;34m:\u001b[0m\u001b[0;34m\u001b[0m\u001b[0m\n\u001b[0;32m--> 257\u001b[0;31m                         \u001b[0;32mraise\u001b[0m \u001b[0mpatched_exception\u001b[0m\u001b[0;34m\u001b[0m\u001b[0m\n\u001b[0m\u001b[1;32m    258\u001b[0m                     \u001b[0;31m# Go to next fallback pipeline\u001b[0m\u001b[0;34m\u001b[0m\u001b[0;34m\u001b[0m\u001b[0m\n\u001b[1;32m    259\u001b[0m                     \u001b[0;32melse\u001b[0m\u001b[0;34m:\u001b[0m\u001b[0;34m\u001b[0m\u001b[0m\n",
      "\u001b[0;31mTypingError\u001b[0m: Caused By:\nTraceback (most recent call last):\n  File \"/Users/mihai/anaconda/lib/python2.7/site-packages/numba/compiler.py\", line 249, in run\n    stage()\n  File \"/Users/mihai/anaconda/lib/python2.7/site-packages/numba/compiler.py\", line 466, in stage_nopython_frontend\n    self.locals)\n  File \"/Users/mihai/anaconda/lib/python2.7/site-packages/numba/compiler.py\", line 807, in type_inference_stage\n    infer.propagate()\n  File \"/Users/mihai/anaconda/lib/python2.7/site-packages/numba/typeinfer.py\", line 613, in propagate\n    raise errors[0]\nTypingError: Invalid usage of + with parameters (str, str)\nKnown signatures:\n * (int64, int64) -> int64\n * (int64, uint64) -> int64\n * (uint64, int64) -> int64\n * (uint64, uint64) -> uint64\n * (float32, float32) -> float32\n * (float64, float64) -> float64\n * (complex64, complex64) -> complex64\n * (complex128, complex128) -> complex128\n * (uint64,) -> uint64\n * (uint16,) -> uint64\n * (uint8,) -> uint64\n * (uint32,) -> uint64\n * (int32,) -> int64\n * (int16,) -> int64\n * (int64,) -> int64\n * (int8,) -> int64\n * (float32,) -> float32\n * (float64,) -> float64\n * (complex64,) -> complex64\n * (complex128,) -> complex128\n * parameterized\nFile \"<ipython-input-13-682ecf218f6d>\", line 3\n\nFailed at nopython (nopython frontend)\nInvalid usage of + with parameters (str, str)\nKnown signatures:\n * (int64, int64) -> int64\n * (int64, uint64) -> int64\n * (uint64, int64) -> int64\n * (uint64, uint64) -> uint64\n * (float32, float32) -> float32\n * (float64, float64) -> float64\n * (complex64, complex64) -> complex64\n * (complex128, complex128) -> complex128\n * (uint64,) -> uint64\n * (uint16,) -> uint64\n * (uint8,) -> uint64\n * (uint32,) -> uint64\n * (int32,) -> int64\n * (int16,) -> int64\n * (int64,) -> int64\n * (int8,) -> int64\n * (float32,) -> float32\n * (float64,) -> float64\n * (complex64,) -> complex64\n * (complex128,) -> complex128\n * parameterized\nFile \"<ipython-input-13-682ecf218f6d>\", line 3"
     ]
    }
   ],
   "source": [
    "@jit (nopython=True)\n",
    "def add_strings(a, b):\n",
    "    return a + b\n",
    "\n",
    "add_strings (\"str\", \"ing\")"
   ]
  },
  {
   "cell_type": "markdown",
   "metadata": {
    "slideshow": {
     "slide_type": "slide"
    }
   },
   "source": [
    "## Decorators\n",
    "<hr style=\"border: solid 4px green\">\n",
    "\n",
    "### <span style=\"font-family: Courier New, Courier, monospace;\">numba</span> JIT works via decorators\n",
    "\n",
    "| Decorator | Function |\n",
    "| :--- | :---- |\n",
    "| `jit` | compile Python function into native code |\n",
    "| `cfunc` | compile Python function into a C callback (usable by foreign C/C++ libraries from Python) |\n",
    "| `vectorize` | generate ufuncs operating on `NumPy` arrays of like size |\n",
    "| `guvectorize` | generate ufuncs operating on `NumPy` arrays of arbitrary sizes |\n",
    "<br><br>\n",
    "\n",
    "### *Note*: <span style=\"font-family: Courier New, Courier, monospace;\">vectorize</span> and <span style=\"font-family: Courier New, Courier, monospace;\">guvectorize</span> can be parallelised"
   ]
  },
  {
   "cell_type": "markdown",
   "metadata": {
    "slideshow": {
     "slide_type": "slide"
    }
   },
   "source": [
    "## <span style=\"font-family: Courier New, Courier, monospace;\">numba</span> JIT compilation\n",
    "<hr style=\"border: solid 4px green\">\n",
    "\n",
    "### Two options\n",
    "* lazy (this is option is already illustrated above!)\n",
    "* eager"
   ]
  },
  {
   "cell_type": "markdown",
   "metadata": {
    "slideshow": {
     "slide_type": "-"
    }
   },
   "source": [
    "### Lazy (call-time) compilation -- <span style=\"font-family: Courier New, Courier, monospace;\">numba</span> decides when & how to optimise\n",
    "* compilation deferred until the first function call\n",
    "* argument types inferred at call time & optimised code generated based on this\n",
    "* separate (specialised) versions of same function are generated depending on the input type\n",
    "* *Pros*: very easy to use\n",
    "* *Cons*: compilation can default to Python objects"
   ]
  },
  {
   "cell_type": "markdown",
   "metadata": {
    "slideshow": {
     "slide_type": "-"
    }
   },
   "source": [
    "### Eager (decoration-time) compilation -- <span style=\"font-family: Courier New, Courier, monospace;\">numba</span> instructed via function signature\n",
    "* restrict types\n",
    "  * types of interest\n",
    "  * avoid Python objects\n",
    "* type signatures are passed to the decorator\n",
    "* *Pros*: good practice, leads to controlled (good?) performance\n",
    "* *Cons*: a little bit more planning than just decoration"
   ]
  },
  {
   "cell_type": "markdown",
   "metadata": {
    "slideshow": {
     "slide_type": "slide"
    }
   },
   "source": [
    "## The <span style=\"font-family: Courier New, Courier, monospace;\">jit</span> decorator\n",
    "<hr style=\"border: solid 4px green\">\n",
    "\n",
    "### Lazy compilation (once again!)"
   ]
  },
  {
   "cell_type": "code",
   "execution_count": 14,
   "metadata": {
    "collapsed": true
   },
   "outputs": [],
   "source": [
    "from numba import jit\n",
    "\n",
    "@jit\n",
    "def add (x, y):\n",
    "    return x + y"
   ]
  },
  {
   "cell_type": "code",
   "execution_count": 15,
   "metadata": {},
   "outputs": [
    {
     "name": "stdout",
     "output_type": "stream",
     "text": [
      "3\n",
      "(2+1j)\n"
     ]
    }
   ],
   "source": [
    "print add (1, 2)\n",
    "print add (1j, 2)"
   ]
  },
  {
   "cell_type": "markdown",
   "metadata": {
    "slideshow": {
     "slide_type": "slide"
    }
   },
   "source": [
    "## The <span style=\"font-family: Courier New, Courier, monospace;\">jit</span> decorator (cont'd)\n",
    "<hr style=\"border: solid 4px green\">\n",
    "\n",
    "### Eager compilation\n",
    "* `numba` is given a *function signature*\n",
    "* defined using types for *input arguments* and *returned values*\n",
    "<br><br>\n",
    "\n",
    "### Types\n",
    "* basic types\n",
    "  * `void`, `bool`, `uint8`, `uint16`, `uint32`, `uint16`\n",
    "  * integers: `int32`, `int64`\n",
    "  * floats: `float32`, `float64`\n",
    "  * complex: `complex64`, `complex128`\n",
    "* array types are created by creating \"slices\" of basic types\n",
    "  * *e.g.*: `float32[:,:]`\n",
    "<br><br>\n",
    "\n",
    "### Function signature\n",
    "* list of signatures to be compiled\n",
    "* return type specified first"
   ]
  },
  {
   "cell_type": "markdown",
   "metadata": {
    "slideshow": {
     "slide_type": "slide"
    }
   },
   "source": [
    "## The <span style=\"font-family: Courier New, Courier, monospace;\">jit</span> decorator (cont'd)\n",
    "<hr style=\"border: solid 4px green\">\n",
    "\n",
    "### Signatures can be defined using objects\n",
    "```python\n",
    "from numba import jit, int32\n",
    "@jit (int32(int32, int32))\n",
    "```\n",
    "<br><br>\n",
    "\n",
    "### ...or using strings (avoiding importing objects)\n",
    "\n",
    "```python\n",
    "from numba import jit\n",
    "@jit (\"int32(int32, int32)\")\n",
    "```\n",
    "<br><br>\n",
    "\n",
    "### ...and can specify several signatures for the same function (producing several execution paths)\n",
    "\n",
    "```python\n",
    "from numba import jit\n",
    "@jit ([\"int32(int32, int32)\", \"int64(int64, int64)\"])\n",
    "```"
   ]
  },
  {
   "cell_type": "markdown",
   "metadata": {
    "slideshow": {
     "slide_type": "-"
    }
   },
   "source": [
    "### Print a few signatures"
   ]
  },
  {
   "cell_type": "code",
   "execution_count": 16,
   "metadata": {},
   "outputs": [
    {
     "name": "stdout",
     "output_type": "stream",
     "text": [
      "() -> float32\n",
      "(float32,) -> none\n",
      "(int32, float32, float64) -> float64\n",
      "(array(float32, 2d, A), array(int32, 1d, A)) -> none\n"
     ]
    }
   ],
   "source": [
    "from numba import void, int32, float32, float64\n",
    "\n",
    "# function type created from calling a Numba type object\n",
    "print(float32())                             # no arguments, return 4 byte float\n",
    "print(void(float32))                         # return nothing\n",
    "print(float64(int32, float32, float64))      # return a 8 byte float\n",
    "print(void(float32[:,:], int32[:]))          # array arguments"
   ]
  },
  {
   "cell_type": "markdown",
   "metadata": {
    "slideshow": {
     "slide_type": "-"
    }
   },
   "source": [
    "### Returning to the previous example"
   ]
  },
  {
   "cell_type": "code",
   "execution_count": 17,
   "metadata": {
    "collapsed": true
   },
   "outputs": [],
   "source": [
    "from numba import jit, int32\n",
    "\n",
    "@jit (int32(int32, int32))\n",
    "def add (x, y):\n",
    "    return x + y"
   ]
  },
  {
   "cell_type": "code",
   "execution_count": 18,
   "metadata": {},
   "outputs": [
    {
     "name": "stdout",
     "output_type": "stream",
     "text": [
      "3\n"
     ]
    }
   ],
   "source": [
    "# this executes correctly as types are those specified\n",
    "print add (1, 2)"
   ]
  },
  {
   "cell_type": "code",
   "execution_count": 19,
   "metadata": {},
   "outputs": [
    {
     "ename": "TypeError",
     "evalue": "No matching definition for argument type(s) complex128, int64",
     "output_type": "error",
     "traceback": [
      "\u001b[0;31m---------------------------------------------------------------------------\u001b[0m",
      "\u001b[0;31mTypeError\u001b[0m                                 Traceback (most recent call last)",
      "\u001b[0;32m<ipython-input-19-dcc2e163f3bf>\u001b[0m in \u001b[0;36m<module>\u001b[0;34m()\u001b[0m\n\u001b[1;32m      1\u001b[0m \u001b[0;31m# but this issues an error as the input type is not the one intended\u001b[0m\u001b[0;34m\u001b[0m\u001b[0;34m\u001b[0m\u001b[0m\n\u001b[0;32m----> 2\u001b[0;31m \u001b[0;32mprint\u001b[0m \u001b[0madd\u001b[0m \u001b[0;34m(\u001b[0m\u001b[0;36m1j\u001b[0m\u001b[0;34m,\u001b[0m \u001b[0;36m2\u001b[0m\u001b[0;34m)\u001b[0m\u001b[0;34m\u001b[0m\u001b[0m\n\u001b[0m",
      "\u001b[0;32m/Users/mihai/anaconda/lib/python2.7/site-packages/numba/dispatcher.pyc\u001b[0m in \u001b[0;36m_explain_matching_error\u001b[0;34m(self, *args, **kws)\u001b[0m\n\u001b[1;32m    322\u001b[0m         msg = (\"No matching definition for argument type(s) %s\"\n\u001b[1;32m    323\u001b[0m                % ', '.join(map(str, args)))\n\u001b[0;32m--> 324\u001b[0;31m         \u001b[0;32mraise\u001b[0m \u001b[0mTypeError\u001b[0m\u001b[0;34m(\u001b[0m\u001b[0mmsg\u001b[0m\u001b[0;34m)\u001b[0m\u001b[0;34m\u001b[0m\u001b[0m\n\u001b[0m\u001b[1;32m    325\u001b[0m \u001b[0;34m\u001b[0m\u001b[0m\n\u001b[1;32m    326\u001b[0m     \u001b[0;32mdef\u001b[0m \u001b[0m_search_new_conversions\u001b[0m\u001b[0;34m(\u001b[0m\u001b[0mself\u001b[0m\u001b[0;34m,\u001b[0m \u001b[0;34m*\u001b[0m\u001b[0margs\u001b[0m\u001b[0;34m,\u001b[0m \u001b[0;34m**\u001b[0m\u001b[0mkws\u001b[0m\u001b[0;34m)\u001b[0m\u001b[0;34m:\u001b[0m\u001b[0;34m\u001b[0m\u001b[0m\n",
      "\u001b[0;31mTypeError\u001b[0m: No matching definition for argument type(s) complex128, int64"
     ]
    }
   ],
   "source": [
    "# but this issues an error as the input type is not the one intended\n",
    "print add (1j, 2)"
   ]
  },
  {
   "cell_type": "code",
   "execution_count": 20,
   "metadata": {},
   "outputs": [],
   "source": [
    "# redefine function with multiple signatures (remark mixture of imported types and strings)\n",
    "@jit ([int32(int32, int32), \"complex128(complex128, complex128)\"], nopython=True)\n",
    "def add (x, y):\n",
    "    return x + y"
   ]
  },
  {
   "cell_type": "code",
   "execution_count": 21,
   "metadata": {},
   "outputs": [
    {
     "name": "stdout",
     "output_type": "stream",
     "text": [
      "(3+0j)\n",
      "(2+1j)\n"
     ]
    }
   ],
   "source": [
    "# now both work\n",
    "print add (1, 2)\n",
    "print add (1j, 2)"
   ]
  },
  {
   "cell_type": "markdown",
   "metadata": {},
   "source": [
    "### Ooops!  not quite the intended result...\n",
    "* the type-based dispatching did not work as expected\n",
    "* remember the order: most specific signature first"
   ]
  },
  {
   "cell_type": "code",
   "execution_count": 22,
   "metadata": {},
   "outputs": [],
   "source": [
    "# the right order: most specific signature first\n",
    "@jit ([int32(int32, int32), \"int64(int64, int64)\", \"complex128(complex128, complex128)\"], nopython=True)\n",
    "def add (x, y):\n",
    "    return x + y"
   ]
  },
  {
   "cell_type": "code",
   "execution_count": 23,
   "metadata": {},
   "outputs": [
    {
     "name": "stdout",
     "output_type": "stream",
     "text": [
      "3\n",
      "(2+1j)\n"
     ]
    }
   ],
   "source": [
    "# now both work *correctly*\n",
    "print add (1, 2)\n",
    "print add (1j, 2)"
   ]
  },
  {
   "cell_type": "markdown",
   "metadata": {
    "slideshow": {
     "slide_type": "slide"
    }
   },
   "source": [
    "## Example\n",
    "<hr style=\"border: solid 4px green\">\n",
    "\n",
    "### Task\n",
    "* compute the $p$-norm of a vector\n",
    "$$||x||_p=\\left( \\sum_{i=1}^{n} |x_i|^p \\right)^{1/p}$$\n",
    "* reference implementation is `numpy.linalg.norm`\n",
    "<br><br>\n",
    "\n",
    "### Steps\n",
    "* write Python code, decorate it and execute it once (to cache results)\n",
    "* compare accuracy and performance against the `NumPy` equivalent"
   ]
  },
  {
   "cell_type": "code",
   "execution_count": 24,
   "metadata": {},
   "outputs": [],
   "source": [
    "import math\n",
    "import numpy\n",
    "from numba import jit\n",
    "\n",
    "@jit\n",
    "def p_norm_JIT (u, p):\n",
    "    n = u.size\n",
    "    s = 0.0\n",
    "    for i in range (n):\n",
    "        s += math.pow (math.fabs(u[i]), p)\n",
    "\n",
    "    return math.pow (s, 1.0 / float(p))"
   ]
  },
  {
   "cell_type": "code",
   "execution_count": 25,
   "metadata": {},
   "outputs": [
    {
     "name": "stdout",
     "output_type": "stream",
     "text": [
      "relative error = 1.41977660939e-16\n"
     ]
    }
   ],
   "source": [
    "# test accuracy\n",
    "n = 1024\n",
    "u = numpy.random.rand (n)\n",
    "# compute norm from linalg\n",
    "nrm0 = numpy.linalg.norm (u, 3)\n",
    "# compute norms using extension functions\n",
    "nrm1 = p_norm_JIT (u, 3)\n",
    "print \"relative error =\", math.fabs ( (nrm0 - nrm1) / nrm0 )"
   ]
  },
  {
   "cell_type": "code",
   "execution_count": 26,
   "metadata": {},
   "outputs": [
    {
     "name": "stdout",
     "output_type": "stream",
     "text": [
      "1 loop, best of 3: 641 ms per loop\n",
      "10 loops, best of 3: 43.3 ms per loop\n"
     ]
    }
   ],
   "source": [
    "# test performance\n",
    "n = 25000000\n",
    "u = numpy.random.rand (n)\n",
    "% timeit numpy.linalg.norm (u, 3)\n",
    "% timeit p_norm_JIT (u, 3)"
   ]
  },
  {
   "cell_type": "markdown",
   "metadata": {},
   "source": [
    "### Restrict types"
   ]
  },
  {
   "cell_type": "code",
   "execution_count": 27,
   "metadata": {},
   "outputs": [],
   "source": [
    "from numba import int32, float64\n",
    "\n",
    "@jit (\"float64 (float64[:], int32)\")\n",
    "def p_norm_JIT (u, p):\n",
    "    n = u.size\n",
    "    s = 0.0\n",
    "    for i in range (n):\n",
    "        s += math.pow (math.fabs(u[i]), p)\n",
    "\n",
    "    return math.pow (s, 1.0 / float(p))"
   ]
  },
  {
   "cell_type": "code",
   "execution_count": 29,
   "metadata": {},
   "outputs": [
    {
     "name": "stdout",
     "output_type": "stream",
     "text": [
      "1 loop, best of 3: 650 ms per loop\n",
      "10 loops, best of 3: 46.9 ms per loop\n"
     ]
    }
   ],
   "source": [
    "# test performance\n",
    "n = 25000000\n",
    "u = numpy.random.rand (n)\n",
    "% timeit numpy.linalg.norm (u, 3)\n",
    "% timeit p_norm_JIT (u, 3)"
   ]
  },
  {
   "cell_type": "markdown",
   "metadata": {},
   "source": [
    "### In this case, adding types does not improve performance!"
   ]
  },
  {
   "cell_type": "markdown",
   "metadata": {},
   "source": [
    "### Better than an order of magnitude gain compared to <span style=\"font-family: Courier New, Courier, monospace;\">NumPy</span>!\n",
    "* one import\n",
    "* one decoration\n",
    "<br><br>\n",
    "\n",
    "### <span style=\"font-family: Courier New, Courier, monospace;\">numba</span>  compares well with C/Fortran!\n",
    "<br><br>\n",
    "\n",
    "### This can be even better!\n",
    "* in certain situations..."
   ]
  },
  {
   "cell_type": "markdown",
   "metadata": {
    "slideshow": {
     "slide_type": "slide"
    }
   },
   "source": [
    "## What about multi-threaded parallel execution?\n",
    "<hr style=\"border: solid 4px green\">\n",
    "\n",
    "### Option 1: using the <span style=\"font-family: Courier New, Courier, monospace;\">threading</span> module\n",
    "* possible but very fussy\n",
    "  * release the GIL\n",
    "  * assign chunks of work to threads\n",
    "  * start the threads\n",
    "  * let them execute the work\n",
    "  * join the threads\n",
    "* complicated, with all the problems of concurrent progamming apply (*e.g.* race conditions)\n",
    "<br><br>\n",
    "\n",
    "### Option 2: ufuncs + <span style=\"font-family: Courier New, Courier, monospace;\">vectorize</span>"
   ]
  },
  {
   "cell_type": "markdown",
   "metadata": {
    "slideshow": {
     "slide_type": "slide"
    }
   },
   "source": [
    "## ufuncs + <span style=\"font-family: Courier New, Courier, monospace;\">vectorize</span>\n",
    "<hr style=\"border: solid 4px green\">\n",
    "\n",
    "### Generate <span style=\"font-family: Courier New, Courier, monospace;\">NumPy</span> ufuncs from scalar functions\n",
    "* apply the `vectorize` decorator\n",
    "* resulting function can operate on scalars or `NumPy` arrays\n",
    "* when used on arrays, the ufunc apply the core scalar function to every group of elements from each arguments in an element-wise fashion\n",
    "<br><br>\n",
    "\n",
    "### Writing ufuncs is usual business using C programming (<span style=\"font-family: Courier New, Courier, monospace;\">ctypes</span>)\n",
    "* but life is too short..."
   ]
  },
  {
   "cell_type": "markdown",
   "metadata": {},
   "source": [
    "### <span style=\"font-family: Courier New, Courier, monospace;\">vectorize</span>\n",
    "\n",
    "```\n",
    "@vectorize (type_signatures[, target=\"cpu\"])\n",
    "```\n",
    "* returns a `NumPy` ufunc\n",
    "* parameters are\n",
    "  * *type_signatures* -- an iterable of type signatures\n",
    "    * function type object or\n",
    "    * a string describing the function type\n",
    "  * *target* -- a string for hardware target; e.g. \"cpu\" (default), \"parallel\" (multicore), \"gpu\"\n",
    "    * GPU computing should target isolated parts of the code, a useful option to have\n",
    "<br><br>\n",
    "\n",
    "### Example"
   ]
  },
  {
   "cell_type": "code",
   "execution_count": 30,
   "metadata": {
    "collapsed": true
   },
   "outputs": [],
   "source": [
    "import numpy\n",
    "import math\n",
    "\n",
    "def trig(a, b):\n",
    "    return math.sin(a**2) * math.exp(b)"
   ]
  },
  {
   "cell_type": "code",
   "execution_count": 31,
   "metadata": {},
   "outputs": [
    {
     "data": {
      "text/plain": [
       "2.2873552871788423"
      ]
     },
     "execution_count": 31,
     "metadata": {},
     "output_type": "execute_result"
    }
   ],
   "source": [
    "trig(1, 1)"
   ]
  },
  {
   "cell_type": "markdown",
   "metadata": {
    "collapsed": true
   },
   "source": [
    "### All is good but only works on scalars"
   ]
  },
  {
   "cell_type": "code",
   "execution_count": 32,
   "metadata": {},
   "outputs": [
    {
     "ename": "TypeError",
     "evalue": "only length-1 arrays can be converted to Python scalars",
     "output_type": "error",
     "traceback": [
      "\u001b[0;31m---------------------------------------------------------------------------\u001b[0m",
      "\u001b[0;31mTypeError\u001b[0m                                 Traceback (most recent call last)",
      "\u001b[0;32m<ipython-input-32-f570ade13d73>\u001b[0m in \u001b[0;36m<module>\u001b[0;34m()\u001b[0m\n\u001b[1;32m      1\u001b[0m \u001b[0ma\u001b[0m \u001b[0;34m=\u001b[0m \u001b[0mnumpy\u001b[0m\u001b[0;34m.\u001b[0m\u001b[0mones\u001b[0m\u001b[0;34m(\u001b[0m\u001b[0;34m(\u001b[0m\u001b[0;36m5\u001b[0m\u001b[0;34m,\u001b[0m\u001b[0;36m5\u001b[0m\u001b[0;34m)\u001b[0m\u001b[0;34m)\u001b[0m\u001b[0;34m\u001b[0m\u001b[0m\n\u001b[1;32m      2\u001b[0m \u001b[0mb\u001b[0m \u001b[0;34m=\u001b[0m \u001b[0mnumpy\u001b[0m\u001b[0;34m.\u001b[0m\u001b[0mones\u001b[0m\u001b[0;34m(\u001b[0m\u001b[0;34m(\u001b[0m\u001b[0;36m5\u001b[0m\u001b[0;34m,\u001b[0m\u001b[0;36m5\u001b[0m\u001b[0;34m)\u001b[0m\u001b[0;34m)\u001b[0m\u001b[0;34m\u001b[0m\u001b[0m\n\u001b[0;32m----> 3\u001b[0;31m \u001b[0mtrig\u001b[0m\u001b[0;34m(\u001b[0m\u001b[0ma\u001b[0m\u001b[0;34m,\u001b[0m \u001b[0mb\u001b[0m\u001b[0;34m)\u001b[0m\u001b[0;34m\u001b[0m\u001b[0m\n\u001b[0m",
      "\u001b[0;32m<ipython-input-30-c6680c0818e8>\u001b[0m in \u001b[0;36mtrig\u001b[0;34m(a, b)\u001b[0m\n\u001b[1;32m      3\u001b[0m \u001b[0;34m\u001b[0m\u001b[0m\n\u001b[1;32m      4\u001b[0m \u001b[0;32mdef\u001b[0m \u001b[0mtrig\u001b[0m\u001b[0;34m(\u001b[0m\u001b[0ma\u001b[0m\u001b[0;34m,\u001b[0m \u001b[0mb\u001b[0m\u001b[0;34m)\u001b[0m\u001b[0;34m:\u001b[0m\u001b[0;34m\u001b[0m\u001b[0m\n\u001b[0;32m----> 5\u001b[0;31m     \u001b[0;32mreturn\u001b[0m \u001b[0mmath\u001b[0m\u001b[0;34m.\u001b[0m\u001b[0msin\u001b[0m\u001b[0;34m(\u001b[0m\u001b[0ma\u001b[0m\u001b[0;34m**\u001b[0m\u001b[0;36m2\u001b[0m\u001b[0;34m)\u001b[0m \u001b[0;34m*\u001b[0m \u001b[0mmath\u001b[0m\u001b[0;34m.\u001b[0m\u001b[0mexp\u001b[0m\u001b[0;34m(\u001b[0m\u001b[0mb\u001b[0m\u001b[0;34m)\u001b[0m\u001b[0;34m\u001b[0m\u001b[0m\n\u001b[0m",
      "\u001b[0;31mTypeError\u001b[0m: only length-1 arrays can be converted to Python scalars"
     ]
    }
   ],
   "source": [
    "a = numpy.ones((5,5))\n",
    "b = numpy.ones((5,5))\n",
    "trig(a, b)"
   ]
  },
  {
   "cell_type": "markdown",
   "metadata": {
    "collapsed": true
   },
   "source": [
    "### The function can be vectorized"
   ]
  },
  {
   "cell_type": "code",
   "execution_count": 35,
   "metadata": {},
   "outputs": [
    {
     "name": "stdout",
     "output_type": "stream",
     "text": [
      "2.28735528718\n",
      "[[ 2.28735529  2.28735529  2.28735529  2.28735529  2.28735529]\n",
      " [ 2.28735529  2.28735529  2.28735529  2.28735529  2.28735529]\n",
      " [ 2.28735529  2.28735529  2.28735529  2.28735529  2.28735529]\n",
      " [ 2.28735529  2.28735529  2.28735529  2.28735529  2.28735529]\n",
      " [ 2.28735529  2.28735529  2.28735529  2.28735529  2.28735529]]\n"
     ]
    }
   ],
   "source": [
    "from numba import vectorize\n",
    "@ vectorize\n",
    "def trig_vec (a, b):\n",
    "    return math.sin(a**2) * math.exp(b)\n",
    "\n",
    "print trig_vec (1, 1)\n",
    "print trig_vec (a, b)"
   ]
  },
  {
   "cell_type": "markdown",
   "metadata": {},
   "source": [
    "### <span style=\"font-family: Courier New, Courier, monospace;\">vec_trig</span> is a <span style=\"font-family: Courier New, Courier, monospace;\">NumPy</span> ufunc\n",
    "<br><br>\n",
    "\n",
    "### How does it compare to pure <span style=\"font-family: Courier New, Courier, monospace;\">NumPy</span>?"
   ]
  },
  {
   "cell_type": "code",
   "execution_count": 36,
   "metadata": {},
   "outputs": [],
   "source": [
    "def trig_numpy (a, b):\n",
    "    return numpy.sin(a**2) * numpy.exp(b)"
   ]
  },
  {
   "cell_type": "code",
   "execution_count": 37,
   "metadata": {},
   "outputs": [
    {
     "name": "stdout",
     "output_type": "stream",
     "text": [
      "100 loops, best of 3: 18.4 ms per loop\n",
      "100 loops, best of 3: 16.3 ms per loop\n"
     ]
    }
   ],
   "source": [
    "a = numpy.random.random((1000, 1000))\n",
    "b = numpy.random.random((1000, 1000))\n",
    "\n",
    "% timeit trig_numpy (a, b)\n",
    "% timeit trig_vec (a, b)"
   ]
  },
  {
   "cell_type": "markdown",
   "metadata": {},
   "source": [
    "### Similar performance...\n",
    "<br><br>\n",
    "\n",
    "### What if we specify a signature?  Is there a speed boost?"
   ]
  },
  {
   "cell_type": "code",
   "execution_count": 38,
   "metadata": {},
   "outputs": [
    {
     "name": "stdout",
     "output_type": "stream",
     "text": [
      "100 loops, best of 3: 16.3 ms per loop\n"
     ]
    }
   ],
   "source": [
    "@ vectorize (\"float64(float64, float64)\")\n",
    "def trig_vec (a, b):\n",
    "    return math.sin(a**2) * math.exp(b)\n",
    "\n",
    "% timeit trig_vec (a, b)"
   ]
  },
  {
   "cell_type": "markdown",
   "metadata": {},
   "source": [
    "### Not really.\n",
    "<br><br>\n",
    "\n",
    "### But with a signature, we can use the parallel target"
   ]
  },
  {
   "cell_type": "code",
   "execution_count": 39,
   "metadata": {},
   "outputs": [
    {
     "name": "stdout",
     "output_type": "stream",
     "text": [
      "100 loops, best of 3: 5.66 ms per loop\n"
     ]
    }
   ],
   "source": [
    "@ vectorize (\"float64(float64, float64)\", target=\"parallel\")\n",
    "def trig_vec (a, b):\n",
    "    return math.sin(a**2) * math.exp(b)\n",
    "\n",
    "%timeit trig_vec (a, b)"
   ]
  },
  {
   "cell_type": "markdown",
   "metadata": {},
   "source": [
    "### Bingo!  Automatic multicore operations!"
   ]
  },
  {
   "cell_type": "markdown",
   "metadata": {
    "slideshow": {
     "slide_type": "slide"
    }
   },
   "source": [
    "## Target performance depends on data size\n",
    "<hr style=\"border: solid 4px green\">\n",
    "\n",
    "### Careful: <span style=\"font-family: Courier New, Courier, monospace;\">target=\"parallel\"</span> not always the best option\n",
    "* there is an overhead in setting up the threading\n",
    "* this overhead must then be offset by multithreaded performance\n",
    "* simple operations on little data -- serial performance is better\n",
    "* expensive operations on large data -- `parallel` is faster\n",
    "<br><br>\n",
    "\n",
    "### Guideline\n",
    "|Target     | Description         | Optimal data size |\n",
    "| :---      | : ---               | ---:              |\n",
    "|`cpu`      | single-threaded CPU |             < 1kB |\n",
    "|`parallel` | multi-core CPU      |             ~ 1MB |\n",
    "|`cuda`     | CUDA GPU            |             ~ 1GB |"
   ]
  },
  {
   "cell_type": "markdown",
   "metadata": {
    "slideshow": {
     "slide_type": "slide"
    }
   },
   "source": [
    "## gufuncs + <span style=\"font-family: Courier New, Courier, monospace;\">guvectorize</span>\n",
    "<hr style=\"border: solid 4px green\">\n",
    "\n",
    "### <span style=\"font-family: Courier New, Courier, monospace;\">vectorize</span>\n",
    "* generate ufuncs from functions that work on one element at a time\n",
    "* return a value\n",
    "<br><br>\n",
    "\n",
    "### <span style=\"font-family: Courier New, Courier, monospace;\">guvectorize</span>\n",
    "* generate ufuncs that work on an arbitrary number of elements of input arrays, and return arrays of differing dimensions\n",
    "* no value returned -- the result to be returned is an array argument\n",
    "* input and output layouts are declared\n",
    "  * *e.g.* `\"(n),()->(n)\"` means the function takes a n-element one-dimension array, a scalar (symbolically denoted by the empty tuple ()) and returns a n-element one-dimension array\n",
    "<br><br>\n",
    "\n",
    "> *Note*: more at https://docs.scipy.org/doc/numpy/reference/c-api.generalized-ufuncs.html"
   ]
  },
  {
   "cell_type": "markdown",
   "metadata": {
    "slideshow": {
     "slide_type": "slide"
    }
   },
   "source": [
    "## Back to the p-norm example\n",
    "<hr style=\"border: solid 4px green\">\n",
    "\n",
    "### Can we apply the above to multithread the function?\n",
    "<br><br>\n",
    "\n",
    "### Yes, but with mixed success!\n",
    "* parallelising `u -> numpy.power (numpy.fabs(u), p)` is easy\n",
    "* the reduction at the end breaks parallelism\n",
    "* I have no solution!"
   ]
  },
  {
   "cell_type": "markdown",
   "metadata": {},
   "source": [
    "### Parallelise <span style=\"font-family: Courier New, Courier, monospace;\">u -> numpy.power (numpy.fabs(u), p)</span>"
   ]
  },
  {
   "cell_type": "code",
   "execution_count": 6,
   "metadata": {},
   "outputs": [
    {
     "name": "stdout",
     "output_type": "stream",
     "text": [
      "3.0987972677\n",
      "2.2188367208e-16 2.2188367208e-16\n",
      "1 loop, best of 3: 3.21 s per loop\n",
      "1 loop, best of 3: 663 ms per loop\n",
      "10 loops, best of 3: 211 ms per loop\n"
     ]
    }
   ],
   "source": [
    "#suppose we wanted to vectorize only the vector part of\n",
    "#the operations (without the reduction at the end)\n",
    "#@vectorize parallelises nicely\n",
    "\n",
    "import numpy\n",
    "def funcNumpy (u, p):\n",
    "    return numpy.power (numpy.fabs(u), p)\n",
    "\n",
    "from numba import vectorize\n",
    "\n",
    "# target=\"cpu\"\n",
    "@vectorize ([\"float64(float64, int64)\"])\n",
    "def funcNumba (u, p):\n",
    "    return math.pow (math.fabs(u), p)\n",
    "\n",
    "# target=\"parallel\"\n",
    "@vectorize ([\"float64(float64, int64)\"], target=\"parallel\")\n",
    "def funcNumbaPar (u, p):\n",
    "    return math.pow (math.fabs(u), p)\n",
    "\n",
    "u = numpy.random.ranf(100)\n",
    "p = 3\n",
    "v0 = funcNumpy (u, p)\n",
    "v1 = funcNumba (u, p)\n",
    "v2 = funcNumbaPar (u, p)\n",
    "# check values are computed correctly\n",
    "print numpy.linalg.norm(v0-v1), numpy.linalg.norm(v0-v2)\n",
    "\n",
    "# performance test\n",
    "u = numpy.random.ranf(10**8)\n",
    "p = 3\n",
    "% timeit funcNumpy (u, p)\n",
    "% timeit funcNumba (u, p)\n",
    "% timeit funcNumbaPar (u, p)"
   ]
  },
  {
   "cell_type": "markdown",
   "metadata": {},
   "source": [
    "### Attempting to parallelise everything"
   ]
  },
  {
   "cell_type": "code",
   "execution_count": 19,
   "metadata": {},
   "outputs": [
    {
     "name": "stdout",
     "output_type": "stream",
     "text": [
      "2.95841079601\n",
      "0.0 0.0\n",
      "10 loops, best of 3: 24.9 ms per loop\n",
      "1000 loops, best of 3: 1.84 ms per loop\n",
      "The slowest run took 5.00 times longer than the fastest. This could mean that an intermediate result is being cached.\n",
      "100 loops, best of 3: 4.75 ms per loop\n"
     ]
    }
   ],
   "source": [
    "#\n",
    "# --- numpy only function (reference)\n",
    "#\n",
    "import numpy\n",
    "def funcNumpy (u, p):\n",
    "    return numpy.power (numpy.fabs(u), p)\n",
    "\n",
    "\n",
    "#\n",
    "# --- JIT only function -- all fine but not parallel\n",
    "#\n",
    "from numba import jit\n",
    "\n",
    "@jit (\"float64(float64[:], int64)\")\n",
    "def p_norm_JIT (u, p):\n",
    "    n = u.size\n",
    "    s = 0.0\n",
    "    for i in range (n):\n",
    "        s += math.pow (math.fabs(u[i]), p)\n",
    "\n",
    "    return math.pow (s, 1.0 / float(p))\n",
    "\n",
    "\n",
    "#\n",
    "# --- JIT vectorize function with parallelised kernel for u -> math.pow (math.fabs(u), p)\n",
    "#\n",
    "from numba import vectorize\n",
    "\n",
    "@vectorize (\"float64(float64, int64)\", target=\"parallel\", nopython=True)\n",
    "def funcNumbaPar (u, p):\n",
    "    return math.pow (math.fabs(u), p)\n",
    "\n",
    "@jit (\"float64(float64[:], int64)\")\n",
    "def p_norm_JIT_par (u, p):\n",
    "    v = funcNumbaPar (u, p)\n",
    "    s = v.sum()\n",
    "    # can also use the inherited methods add or reduce\n",
    "    # s = funcNumbaPar.add (v, axis=0)\n",
    "    return math.pow (s, 1.0 / float(p))\n",
    "\n",
    "u = numpy.random.ranf(100)\n",
    "p = 3\n",
    "v0 = numpy.linalg.norm (u, p)\n",
    "v1 = p_norm_JIT (u, p)\n",
    "v2 = p_norm_JIT_par (u, p)\n",
    "print v0\n",
    "print numpy.fabs(v0-v1), numpy.fabs(v0-v2)\n",
    "\n",
    "u = numpy.random.ranf(10**6)\n",
    "p = 3\n",
    "% timeit numpy.linalg.norm (u, p)\n",
    "% timeit p_norm_JIT (u, p)\n",
    "% timeit p_norm_JIT_par (u, p)"
   ]
  },
  {
   "cell_type": "markdown",
   "metadata": {},
   "source": [
    "## There is more!\n",
    "<hr style=\"border: solid 4px green\">\n",
    "\n",
    "### Features\n",
    "* automatic function inlining\n",
    "* writing fast generators (functions that return a sequence, such as `xrange`)\n",
    "* targeting GPU execution\n",
    "<br><br>\n",
    "\n",
    "### Tutorials\n",
    "* https://github.com/barbagroup/numba_tutorial_scipy2016/blob/master/notebooks/08.Make.generalized.ufuncs.ipynb\n",
    "* http://numba.pydata.org/numba-doc/dev/user/vectorize.html"
   ]
  },
  {
   "cell_type": "markdown",
   "metadata": {},
   "source": [
    "## Limitations\n",
    "<hr style=\"border: solid 4px green\">\n",
    "\n",
    "### <span style=\"font-family: Courier New, Courier, monospace;\">numba</span> is new\n",
    "* under development, not yet mature\n",
    "* some features are missing, *e.g.* no support JIT compiling native Python classes (`jit_class` structure on the way)\n",
    "\n",
    "### Parallel execution?\n",
    "* parallel execution is a possibility but\n",
    "   * the recipe keeps changing, *e.g* the `prange` construct in version 0.11 is no longer available\n",
    "   * LLVM has had no support for OpenMP until recently\n",
    "* best approach at the moment for parallel execution is to combine `numba` with other solutions, such as `multiprocessing`"
   ]
  },
  {
   "cell_type": "markdown",
   "metadata": {},
   "source": [
    "## Summary\n",
    "<hr style=\"border: solid 4px green\">\n",
    "\n",
    "### <span style=\"font-family: Courier New, Courier, monospace;\">numba</span>\n",
    "* an exciting project with promising future\n",
    "* *extremely* easy to use (essentially the API has only one feature; the decorator `@jit`)\n",
    "* *extremely* easy to install\n",
    "* as good as C/Fortran or `Cython` (on a single core!)\n",
    "* easy threaded parallelism (limited functionality)\n",
    "<br><br>\n",
    "\n",
    "### ...but\n",
    "* don't trust it -- test everything!\n",
    "* treat it with caution when it comes to long term code development plans"
   ]
  },
  {
   "cell_type": "markdown",
   "metadata": {
    "slideshow": {
     "slide_type": "notes"
    }
   },
   "source": [
    "<img src=\"../../images/reusematerial.png\"; style=\"float: center; width: 90\"; >\n",
    "<br>\n",
    "<br>"
   ]
  }
 ],
 "metadata": {
  "anaconda-cloud": {},
  "celltoolbar": "Slideshow",
  "kernelspec": {
   "display_name": "Python 2",
   "language": "python",
   "name": "python2"
  },
  "language_info": {
   "codemirror_mode": {
    "name": "ipython",
    "version": 2
   },
   "file_extension": ".py",
   "mimetype": "text/x-python",
   "name": "python",
   "nbconvert_exporter": "python",
   "pygments_lexer": "ipython2",
   "version": "2.7.14"
  }
 },
 "nbformat": 4,
 "nbformat_minor": 1
}

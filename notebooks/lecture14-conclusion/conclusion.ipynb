{
 "cells": [
  {
   "cell_type": "markdown",
   "metadata": {
    "slideshow": {
     "slide_type": "slide"
    }
   },
   "source": [
    "# Python for High Performance Computing\n",
    "# Conclusion\n",
    "<hr style=\"border: solid 4px green\">\n",
    "<br>\n",
    "<center> <img src=\"images/arc_logo.png\"; alt=\"Logo\" style=\"float: center; width: 20%\"></center>\n",
    "<br>\n",
    "## http://www.arc.ox.ac.uk\n",
    "## support@arc.ox.ac.uk"
   ]
  },
  {
   "cell_type": "markdown",
   "metadata": {
    "slideshow": {
     "slide_type": "slide"
    }
   },
   "source": [
    "## Overview\n",
    "<hr style=\"border: solid 4px green\">\n",
    "\n",
    "### We have examined\n",
    "* the sources of Python slow performance for scientific computation\n",
    "* `NumPy`\n",
    "  * array types that are suited for scientific codes\n",
    "  * the basis for other Python modules\n",
    "* single host parallel execution\n",
    "  * serial: `NumPy`\n",
    "  * parallel: `numba`, `Cython`, `multiprocessing`\n",
    "* distributed parallel execution\n",
    "  * `mpi4py`"
   ]
  },
  {
   "cell_type": "markdown",
   "metadata": {
    "slideshow": {
     "slide_type": "slide"
    }
   },
   "source": [
    "## What to use when?\n",
    "<hr style=\"border: solid 4px green\">\n",
    "\n",
    "### Assuming greenfield programming\n",
    "* `NumPy` should be the first port of call\n",
    "  * vectorised operations\n",
    "  * ufuncs and specialised class methods\n",
    "  * the basis of further approaches\n",
    "* `numba` and `Cython` are very easy\n",
    "  * should be tried next\n",
    "  * large gains for almost no effort\n",
    "* `multiprocessing` is relatively easy\n",
    "  * optimal for mapping functions to data in parallel\n",
    "  * best case: expensive functions and little data to map to\n",
    "  * limited to single host execution\n",
    "* `mpi4py` is relatively difficult\n",
    "  * may pay off if multi-host execution dominates\n",
    "  * inter-process communication should be avoided\n",
    "  \n",
    "### But...\n",
    "* first profile, then re-program"
   ]
  },
  {
   "cell_type": "markdown",
   "metadata": {
    "slideshow": {
     "slide_type": "slide"
    }
   },
   "source": [
    "## <span style=\"font-family: Courier New, Courier, monospace;\">cython</span> and <span style=\"font-family: Courier New, Courier, monospace;\">numba</span> (cont'd)\n",
    "<hr style=\"border: solid 4px green\">\n",
    "\n",
    "### Which to use?\n",
    "<br><br>\n",
    "\n",
    "### Short answer: it depends.\n",
    "<br><br>\n",
    "\n",
    "### Long answer: it depends on several factors.\n",
    "* `cython` is a safer bet\n",
    "  * stable and mature\n",
    "  * easier to distribute than `numba`, a better option for user-facing libraries\n",
    "  * the preferred option for most of the scientific Python stack, including `NumPy`, `SciPy`, `pandas` and `Scikit-Learn`\n",
    "  * shared-memory parallelism is easy to program\n",
    "  * can compile arbitrary Python code, and can even directly call C\n",
    "\n",
    "* `numba` is maturing fast\n",
    "  * increasing number of features\n",
    "  * few libraries that use `numba`\n",
    "  * `numba` only accelerates code that uses scalars or N-dimensional arrays; built-in types (such as lists or dictionaries or own custom classes do not work)\n",
    "<br><br>\n",
    "\n",
    "### Conclusion\n",
    "* `cython` is the better option in general\n",
    "  * suitable for larger projects\n",
    "  * an entire module (including advanced Python features) can be \"cythonized\" easily\n",
    "  * the bottlenecks for speed can be targeted with little effort\n",
    "  * parallel processing is an easy add-on\n",
    "* `numba` can be a very good idea\n",
    "  * suitable for smaller projects\n",
    "  * Python data types limited to what `numba` can handle\n",
    "  * serial processing is acceptable"
   ]
  },
  {
   "cell_type": "markdown",
   "metadata": {
    "slideshow": {
     "slide_type": "notes"
    }
   },
   "source": [
    "<img src=\"../../images/reusematerial.png\"; style=\"float: center; width: 90\"; >\n",
    "<br>\n",
    "<br>"
   ]
  }
 ],
 "metadata": {
  "anaconda-cloud": {},
  "celltoolbar": "Slideshow",
  "kernelspec": {
   "display_name": "Python 2",
   "language": "python",
   "name": "python2"
  },
  "language_info": {
   "codemirror_mode": {
    "name": "ipython",
    "version": 2
   },
   "file_extension": ".py",
   "mimetype": "text/x-python",
   "name": "python",
   "nbconvert_exporter": "python",
   "pygments_lexer": "ipython2",
   "version": "2.7.14"
  }
 },
 "nbformat": 4,
 "nbformat_minor": 1
}

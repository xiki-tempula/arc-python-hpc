{
 "cells": [
  {
   "cell_type": "markdown",
   "metadata": {
    "nbpresent": {
     "id": "6fff3e7e-a1c1-4fb0-8866-0e3cecd444dc"
    },
    "slideshow": {
     "slide_type": "slide"
    }
   },
   "source": [
    "# Python for High Performance Computing\n",
    "# Interfacing to C and Fortran using OpenMP\n",
    "<hr style=\"border: solid 4px green\">\n",
    "<br>\n",
    "<center> <img src=\"images/arc_logo.png\"; alt=\"Logo\" style=\"float: center; width: 20%\"></center>\n",
    "<br>\n",
    "## http://www.arc.ox.ac.uk\n",
    "## support@arc.ox.ac.uk"
   ]
  },
  {
   "cell_type": "markdown",
   "metadata": {
    "nbpresent": {
     "id": "44dc397d-83d6-497a-848d-38527fdda0c9"
    },
    "slideshow": {
     "slide_type": "slide"
    }
   },
   "source": [
    "## Python extensions and OpenMP\n",
    "<hr style=\"border: solid 4px green\">\n",
    "\n",
    "### C and Fortran extensions\n",
    "* one way to improve performance of critical functions\n",
    "* results are fast compared to equivalent `numpy` implementations\n",
    "* but are *serial* -- *single thread* of execution, using a *single core*\n",
    "* this can be easily improved on using OpenMP (reasonable multicore performance is achievable with minimal effort)\n",
    "<br><br>\n",
    "\n",
    "### We shall be looking at\n",
    "* how to use OpenMP to multithread Python extensions\n",
    "* some factors that influence performance"
   ]
  },
  {
   "cell_type": "markdown",
   "metadata": {
    "nbpresent": {
     "id": "a39732e2-bd7e-4055-bee0-02af8b3e0b72"
    },
    "slideshow": {
     "slide_type": "slide"
    }
   },
   "source": [
    "## A quick overview of OpenMP\n",
    "<hr style=\"border: solid 4px green\">\n",
    "\n",
    "### Introducing OpenMP\n",
    "* beyond the aim of this presentation\n",
    "  * online tutorials\n",
    "  * dedicated ARC course\n",
    "* however, the examples are enough as a starting point\n",
    "<br><br>\n",
    "\n",
    "### What is OpenMP?\n",
    "* **Open** **M**ulti-**P**rocessing\n",
    "* an API that supports multithreaded programming in C, C++, and Fortran\n",
    "* primarily targets data parallelism (*e.g.* loops over arrays)\n",
    "  * multiple threads work on separate parts of the data\n",
    "  * execution is in parallel"
   ]
  },
  {
   "cell_type": "markdown",
   "metadata": {
    "slideshow": {
     "slide_type": "slide"
    }
   },
   "source": [
    "## A quick overview of OpenMP (cont'd)\n",
    "<hr style=\"border: solid 4px green\">\n",
    "\n",
    "### *Shared memory* programming model\n",
    "* multiple (identical) CPUs linked to a single, unified main memory\n",
    "* the program is a single process, which consists of independent threads of execution\n",
    "* all threads can access the shared data stored in the main memory\n",
    "<br><br>\n",
    "\n",
    "### Explicit parallelism\n",
    "* explicit (not automatic) programming model\n",
    "* full programmer control over parallelisation\n",
    "  * can be as simple as taking a serial program and inserting compiler directives\n",
    "  * or as complex as using subroutines to set multiple levels of parallelism, locks, nested locks, etc."
   ]
  },
  {
   "cell_type": "markdown",
   "metadata": {
    "slideshow": {
     "slide_type": "slide"
    }
   },
   "source": [
    "## A quick overview of OpenMP (cont'd)\n",
    "<hr style=\"border: solid 4px green\">\n",
    "\n",
    "### Thread-based parallelism\n",
    "* parallelism achieved exclusively through the use of threads\n",
    "* thread of execution = the smallest unit of processing that can be scheduled by an operating system\n",
    "* threads exist within the resources of a single process\n",
    "<br><br>\n",
    "\n",
    "### Performance notes\n",
    "* for performance, the number of threads match the number of cores\n",
    "* thread scheduling can be\n",
    "  * left to the operating system\n",
    "  * controlled using appropriate tools"
   ]
  },
  {
   "cell_type": "markdown",
   "metadata": {
    "slideshow": {
     "slide_type": "slide"
    }
   },
   "source": [
    "## A quick overview of OpenMP (cont'd)\n",
    "<hr style=\"border: solid 4px green\">\n",
    "\n",
    "### OpenMP multithreading \n",
    "* fork / join mechanism\n",
    "  * start with master thread\n",
    "  * fork into multiple threads (at the start of the parallel region)\n",
    "  * each thread performs part of the *processing* on a part of the *data*\n",
    "  * join threads into the master one (at the end of the loop)\n",
    "\n",
    "<table>\n",
    "  <tr>\n",
    "    <th>Single thread execution</th>\n",
    "    <th>Multithreaded execution (fork-join)</th>\n",
    "  </tr>\n",
    "  <tr>\n",
    "    <th><img src=\"./images/tasks-serial.png\";   style=\"float: center; width: 100%\"></th>\n",
    "    <th><img src=\"./images/tasks-parallel.png\"; style=\"float: center; width: 100%\"></th>\n",
    "  </tr>\n",
    "</table>"
   ]
  },
  {
   "cell_type": "markdown",
   "metadata": {
    "nbpresent": {
     "id": "4efa9221-b7fb-40a2-8185-4b0fc4027a12"
    },
    "slideshow": {
     "slide_type": "slide"
    }
   },
   "source": [
    "## A quick overview of OpenMP (cont'd)\n",
    "<hr style=\"border: solid 4px green\">\n",
    "\n",
    "### API components\n",
    "* compiler directives\n",
    "* environment variables\n",
    "* runtime libraries\n",
    "<br><br>\n",
    "\n",
    "### Compiler directives\n",
    "* the bread-and-butter of OpenMP programming\n",
    "* aimed at data parallelism in loops\n",
    "* comments inserted in the source code\n",
    "* control\n",
    "  * spawning a parallel region\n",
    "  * distributing loop iterations between threads\n",
    "  * synchronising work among threads\n",
    "  * setting the number of threads\n",
    "  * specifying how loop interations are divided (scheduling)"
   ]
  },
  {
   "cell_type": "markdown",
   "metadata": {
    "slideshow": {
     "slide_type": "slide"
    }
   },
   "source": [
    "## A quick overview of OpenMP (cont'd)\n",
    "<hr style=\"border: solid 4px green\">\n",
    "\n",
    "### Environment\n",
    "* setting the number of threads\n",
    "* specifying how loop interations are divided (scheduling)\n",
    "* binding threads to processors\n",
    "* etc.\n",
    "<br><br>\n",
    "\n",
    "### RTL routines\n",
    "* setting (and querying) the number of threads\n",
    "* querying a thread's unique identifier\n",
    "* querying a thread's team size\n",
    "* querying wall clock time and resolution\n",
    "* etc.\n",
    "<br><br>\n",
    "\n",
    "> *Note*: there is overlap in functionality (*e.g.* setting the number of threads), which gives programming flexibility."
   ]
  },
  {
   "cell_type": "markdown",
   "metadata": {
    "nbpresent": {
     "id": "751450e1-b69a-4669-b2a7-4e525def33bb"
    },
    "slideshow": {
     "slide_type": "slide"
    }
   },
   "source": [
    "## OpenMP practical example\n",
    "<hr style=\"border: solid 4px green\">\n",
    "\n",
    "### How to\n",
    "* write code (step #1)\n",
    "* compile it (step #2)\n",
    "* run it (step #3)\n",
    "<br><br>\n",
    "\n",
    "### A simple example\n",
    "* one for loop\n",
    "* 2 arrays"
   ]
  },
  {
   "cell_type": "markdown",
   "metadata": {
    "nbpresent": {
     "id": "8ca438c9-5b6a-41e3-b175-6fec6195f6f1"
    },
    "slideshow": {
     "slide_type": "slide"
    }
   },
   "source": [
    "## OpenMP practical example: step #1\n",
    "<hr style=\"border: solid 4px green\">\n",
    "\n",
    "### Using *directives* to tell compiler what and how to multithread\n",
    "<br><br>\n",
    "\n",
    "### Original C code\n",
    "```c\n",
    "for (i=0; i<N; i++) {\n",
    "    y[i] = x[i]*x[i];\n",
    "}\n",
    "```\n",
    "<br><br>\n",
    "\n",
    "### Thread parallelised C code\n",
    "```c\n",
    "# pragma omp parallel default (none) shared (N, x,y) private (i) default(none)\n",
    "{\n",
    "# pragma omp for schedule (static)\n",
    "for (i=0; i<N; i++) {\n",
    "    y[i] = x[i]*x[i];\n",
    "}\n",
    "}\n",
    "```"
   ]
  },
  {
   "cell_type": "markdown",
   "metadata": {
    "nbpresent": {
     "id": "60b4831b-6ae1-4ea3-b312-096887cf7caf"
    },
    "slideshow": {
     "slide_type": "slide"
    }
   },
   "source": [
    "## OpenMP practical example: step #1\n",
    "<hr style=\"border: solid 4px green\">\n",
    "\n",
    "### Same for Fortran\n",
    "<br><br>\n",
    "\n",
    "### Fortran code\n",
    "```fortran\n",
    "do i=1, N\n",
    "    y(i) = x(i)*x(i)\n",
    "end do\n",
    "```\n",
    "<br><br>\n",
    "\n",
    "### Thread parallelised Fortran code\n",
    "```fortran\n",
    "!$omp parallel default (none) shared (N, x,y) private (i) default(none)\n",
    "!$omp do schedule (static)\n",
    "do i=1, N\n",
    "    y(i) = x(i)*x(i)\n",
    "end do\n",
    "!$omp end do\n",
    "!$omp end parallel\n",
    "```"
   ]
  },
  {
   "cell_type": "markdown",
   "metadata": {
    "nbpresent": {
     "id": "590a8a79-9cc0-49f1-a36a-1a6bc7e08245"
    },
    "slideshow": {
     "slide_type": "slide"
    }
   },
   "source": [
    "## OpenMP practical example: step #2\n",
    "<hr style=\"border: solid 4px green\">\n",
    "\n",
    "### Compilation\n",
    "* the source code (containing compiler directives) is compiled\n",
    "* the compiler is instructed to *not* ignore the compiler directives via an OpenMP support flag\n",
    "  * `gcc` and `gfortran` flag: `-fopenmp`\n",
    "  * `icc` and `ifort` flag: `-qopenmp`\n",
    "  * more at http://openmp.org/wp/openmp-compilers/"
   ]
  },
  {
   "cell_type": "markdown",
   "metadata": {
    "slideshow": {
     "slide_type": "slide"
    }
   },
   "source": [
    "## OpenMP practical example: step #3\n",
    "<hr style=\"border: solid 4px green\">\n",
    "\n",
    "### The executable\n",
    "* run in the nomal way\n",
    "* there are extra controls for OpenMP\n",
    "  * number of threads\n",
    "  * scheduling (how loop iterations are divided)\n",
    "  * *etc.*"
   ]
  },
  {
   "cell_type": "markdown",
   "metadata": {
    "slideshow": {
     "slide_type": "slide"
    }
   },
   "source": [
    "## OpenMP practical example: summary\n",
    "<hr style=\"border: solid 4px green\">\n",
    "\n",
    "### Standalone C code\n",
    "```\n",
    "$ gcc -o example -fopenmp example.c\n",
    "$ export OMP_NUM_THREADS=8\n",
    "$ ./example\n",
    "```\n",
    "<br><br>\n",
    "\n",
    "### Options for controlling the number of threads\n",
    "* environment variable `OMP_NUM_THREADS`\n",
    "  * *e.g.* `export OMP_NUM_THREADS=16`\n",
    "  * set in shell, before running the code\n",
    "* run-time library function `omp_set_num_threads()`\n",
    "* compiler directive `num_threads()`\n",
    "\n",
    "> *Note*: `OMP_NUM_THREADS` has the widest scope and can be overriden by the other two."
   ]
  },
  {
   "cell_type": "markdown",
   "metadata": {
    "nbpresent": {
     "id": "d19a5a0e-9042-4cb2-ba7d-9b0b3742006f"
    },
    "slideshow": {
     "slide_type": "slide"
    }
   },
   "source": [
    "## Python extensions with OpenMP\n",
    "<hr style=\"border: solid 4px green\">\n",
    "\n",
    "### Write the extensions\n",
    "* simply follow the same guidelines as for serial extensions\n",
    "* additionally, code is enhanced with compiler directives\n",
    "* compilation uses the extra OpenMP support flags \n",
    "<br><br>\n",
    "\n",
    "### Build the extensions: option #1\n",
    "Use the same tools and guidelines as for serial extensions\n",
    "* `gcc` and `f2py`\n",
    "* add the `-fopenmp` flag\n",
    "* *Pros*\n",
    "  * complete control over the process\n",
    "* *Cons*\n",
    "  * most of the build process takes place outside Python\n",
    "  * potential problems (depending on `NumPy` configuration)\n",
    "    * *e.g.* linking to and loading the right OpenMP RT library"
   ]
  },
  {
   "cell_type": "markdown",
   "metadata": {
    "slideshow": {
     "slide_type": "slide"
    }
   },
   "source": [
    "## Python extensions with OpenMP (cont'd)\n",
    "<hr style=\"border: solid 4px green\">\n",
    "\n",
    "### Build the extensions: option #2\n",
    "Using the `numpy.distutils` package\n",
    "* support for building and installing modules\n",
    "  * can be pure Python or C/Fortran extension modules\n",
    "  * can be collections of Python packages which include modules\n",
    "* *Pros*\n",
    "  * the build process is well integrated with Python\n",
    "  * links to the right OpenMP RT libraries\n",
    "  * established standard procedure\n",
    "* *Cons*\n",
    "  * `distutils` is old and can be temperamental\n",
    "<br><br>\n",
    "\n",
    "> *Notes*:\n",
    "> * `setuptools` (includes `easy_install`) is a modern tool\n",
    "> * options discussed at https://packaging.python.org/installing/"
   ]
  },
  {
   "cell_type": "markdown",
   "metadata": {
    "nbpresent": {
     "id": "f126151b-1234-4cba-92f2-5fb1ac692541"
    },
    "slideshow": {
     "slide_type": "slide"
    }
   },
   "source": [
    "## Installing Python extensions via <span style=\"font-family: Courier New, Courier, monospace;\">distutils</span>\n",
    "<hr style=\"border: solid 4px green\">\n",
    "\n",
    "### The setup script\n",
    "* the centre of all activity (building, distributing, and installing) a module\n",
    "* describes the module distribution to `distutils`\n",
    "<br><br>\n",
    "\n",
    "### Usage\n",
    "* from \"help\" `python setup.py --help`\n",
    "  * `python setup.py build`: build package under directory `build/`\n",
    "  * `python setup.py install`: install the package at \"standard\" location or at location specified via `--prefix`\n",
    "  * `python setup.py clean`: clean the build"
   ]
  },
  {
   "cell_type": "markdown",
   "metadata": {
    "slideshow": {
     "slide_type": "slide"
    }
   },
   "source": [
    "## Installing Python extensions via <span style=\"font-family: Courier New, Courier, monospace;\">distutils</span> (cont'd)\n",
    "<hr style=\"border: solid 4px green\">\n",
    "\n",
    "### OpenMP extensions\n",
    "* build C code\n",
    "  * `setup.py` contains C flags\n",
    "  * `python setup.py install`\n",
    "* build Fortran code\n",
    "  * Fortran flags passed on to `f2py` at command line\n",
    "  * `python setup.py config_fc --f90flags=\"-O2 -fopenmp\" install`\n",
    "<br><br>\n",
    "\n",
    "### Installing in current directory\n",
    "* adding `--prefix=$PWD` (Linux, Mac OS) to `python setup.py build`\n",
    "  * builds in `$PWD/build`\n",
    "  * installs in `$PWD/lib/python2.7/site-packages`"
   ]
  },
  {
   "cell_type": "markdown",
   "metadata": {
    "slideshow": {
     "slide_type": "slide"
    }
   },
   "source": [
    "## Using Python extensions installed via <span style=\"font-family: Courier New, Courier, monospace;\">distutils</span>\n",
    "<hr style=\"border: solid 4px green\">\n",
    "\n",
    "### The extensions (libraries) have to be in the path\n",
    "* Option #1: control paths from Python code\n",
    "  * *e.g.* using `sys.path.append()`\n",
    "* Option #2: use the shell environment\n",
    "  * C ('ctypes') extentions: update `LD_LIBRARY_PATH` for `ctypes.cdll.LoadLibrary()`\n",
    "  * Fortran extensions: update `PYTHONPATH` for `import`\n",
    "<br><br>\n",
    "\n",
    "### The extensions are loaded in the normal way\n",
    "* `lib = ctypes.cdll.LoadLibrary(\"c_lib.so\")`\n",
    "* `import fortran_lib`"
   ]
  },
  {
   "cell_type": "markdown",
   "metadata": {
    "slideshow": {
     "slide_type": "slide"
    }
   },
   "source": [
    "## Example\n",
    "<hr style=\"border: solid 4px green\">\n",
    "\n",
    "### Task\n",
    "Compute the square root of the entries in an array (example used before).\n",
    "<br><br>\n",
    "\n",
    "### Steps\n",
    "* code in directory `src/`\n",
    "* inspect `setup.py`\n",
    "* inspect source\n",
    "  * `c_array_sqrt_omp.c`\n",
    "  * `f_array_sqrt_omp.f90`\n",
    "* install extensions\n",
    "* test extensions using `test_array_sqrt_omp.py`\n",
    "  * run the extension functions using 1, 2, 4, ... threads"
   ]
  },
  {
   "cell_type": "markdown",
   "metadata": {
    "slideshow": {
     "slide_type": "slide"
    }
   },
   "source": [
    "## Example: inspect <span style=\"font-family: Courier New, Courier, monospace;\">setup.py</span>\n",
    "<hr style=\"border: solid 4px green\">"
   ]
  },
  {
   "cell_type": "code",
   "execution_count": 1,
   "metadata": {},
   "outputs": [
    {
     "ename": "SystemExit",
     "evalue": "usage: ipykernel_launcher.py [global_opts] cmd1 [cmd1_opts] [cmd2 [cmd2_opts] ...]\n   or: ipykernel_launcher.py --help [cmd1 cmd2 ...]\n   or: ipykernel_launcher.py --help-commands\n   or: ipykernel_launcher.py cmd --help\n\nerror: option -f not recognized",
     "output_type": "error",
     "traceback": [
      "An exception has occurred, use %tb to see the full traceback.\n",
      "\u001b[0;31mSystemExit\u001b[0m\u001b[0;31m:\u001b[0m usage: ipykernel_launcher.py [global_opts] cmd1 [cmd1_opts] [cmd2 [cmd2_opts] ...]\n   or: ipykernel_launcher.py --help [cmd1 cmd2 ...]\n   or: ipykernel_launcher.py --help-commands\n   or: ipykernel_launcher.py cmd --help\n\nerror: option -f not recognized\n"
     ]
    },
    {
     "name": "stderr",
     "output_type": "stream",
     "text": [
      "/opt/anaconda2/lib/python2.7/site-packages/IPython/core/interactiveshell.py:2890: UserWarning: To exit: use 'exit', 'quit', or Ctrl-D.\n",
      "  warn(\"To exit: use 'exit', 'quit', or Ctrl-D.\", stacklevel=1)\n"
     ]
    }
   ],
   "source": [
    "# %load setup.py\n",
    "#\n",
    "# purpose: setup file to install the compiled-language python libraries\n",
    "# usage:   python setup.py config_fc --f90flags=\"-O2 -fopenmp\" install --prefix=$PWD\n",
    "#\n",
    "\n",
    "from numpy.distutils.core import Extension\n",
    "\n",
    "c_array_sqrt = Extension (name = \"c_array_sqrt_omp\",\n",
    "                          sources = [\"./src/c_array_sqrt_omp.c\"],\n",
    "                          extra_compile_args = [\"-O2 -ffast-math -std=c99 -fopenmp\"],\n",
    "                          extra_link_args = [\"-lgomp\"])\n",
    "\n",
    "f_array_sqrt = Extension (name = \"f_array_sqrt_omp\",\n",
    "                          sources = [\"./src/f_array_sqrt_omp.f90\"],\n",
    "                          extra_compile_args = [\"-O2 -ffast-math -fopenmp\"],\n",
    "                          extra_link_args = [\"-lgomp\"])\n",
    "\n",
    "if __name__ == \"__main__\":\n",
    "    from numpy.distutils.core import setup\n",
    "    setup ( name = \"array-sqrt-openmp\",\n",
    "            description  = \"Illustration of Python extensions using OpenMP\",\n",
    "            author       = \"Mihai Duta\",\n",
    "            author_email = \"mihai.duta@it.ox.ac.uk\",\n",
    "            ext_modules  = [c_array_sqrt, f_array_sqrt]\n",
    "          )\n",
    "\n",
    "# end\n"
   ]
  },
  {
   "cell_type": "markdown",
   "metadata": {
    "slideshow": {
     "slide_type": "slide"
    }
   },
   "source": [
    "## Example: inspect C source\n",
    "<hr style=\"border: solid 4px green\">\n",
    "\n",
    "* make use of `omp_set_num_threads()` to set the number of threads in the parallel region\n",
    "* this makes threading easier to control from the test script"
   ]
  },
  {
   "cell_type": "code",
   "execution_count": null,
   "metadata": {},
   "outputs": [],
   "source": [
    "# %load src/c_array_sqrt_omp.c\n",
    "# include <math.h>\n",
    "# ifdef _OPENMP\n",
    "# include <omp.h>\n",
    "# endif\n",
    "\n",
    "void array_sqrt (const int n,\n",
    "                 double *restrict a_in,\n",
    "                 double *restrict a_out,\n",
    "                 const int nt)\n",
    "{\n",
    "\n",
    "  int i;\n",
    "\n",
    "# ifdef _OPENMP\n",
    "  // set the number of threads to input nt\n",
    "  omp_set_num_threads(nt);\n",
    "  // schedule a parallel loop\n",
    "  # pragma omp parallel for \\\n",
    "    default (none)          \\\n",
    "    shared (a_in,a_out)     \\\n",
    "    firstprivate (n)        \\\n",
    "    private (i)\n",
    "# endif\n",
    "  for (i = 0; i < n; i++) {\n",
    "    a_out[i] = sqrt (a_in[i]);\n",
    "  }\n",
    "}\n"
   ]
  },
  {
   "cell_type": "markdown",
   "metadata": {
    "slideshow": {
     "slide_type": "slide"
    }
   },
   "source": [
    "## Example: inspect Fortran source\n",
    "<hr style=\"border: solid 4px green\">\n",
    "\n",
    "* make use of `omp_set_num_threads()` to set the number of threads in the parallel region\n",
    "* this makes threading easier to control from the test script"
   ]
  },
  {
   "cell_type": "code",
   "execution_count": 2,
   "metadata": {},
   "outputs": [
    {
     "ename": "SyntaxError",
     "evalue": "invalid syntax (<ipython-input-2-e3675e99b8e1>, line 2)",
     "output_type": "error",
     "traceback": [
      "\u001b[0;36m  File \u001b[0;32m\"<ipython-input-2-e3675e99b8e1>\"\u001b[0;36m, line \u001b[0;32m2\u001b[0m\n\u001b[0;31m    subroutine array_sqrt (n, a_in, a_out, nt)\u001b[0m\n\u001b[0m                        ^\u001b[0m\n\u001b[0;31mSyntaxError\u001b[0m\u001b[0;31m:\u001b[0m invalid syntax\n"
     ]
    }
   ],
   "source": [
    "% load src/f_array_sqrt_omp.f90\n",
    "subroutine array_sqrt (n, a_in, a_out, nt)\n",
    "  use omp_lib\n",
    "\n",
    "  implicit none\n",
    "  integer, intent(in) :: n\n",
    "  real(kind=8), dimension(n), intent(in)  :: a_in\n",
    "  real(kind=8), dimension(n), intent(out) :: a_out\n",
    "  integer, intent(in) :: nt\n",
    "\n",
    "  integer :: i\n",
    "\n",
    "  !! set the number of threads to input nt\n",
    "  call omp_set_num_threads (nt)\n",
    "\n",
    "  !! schedule a parallel loop\n",
    "  !$omp parallel do default(none) shared(a_in,a_out,n) private(i)\n",
    "  do i = 1, n\n",
    "     a_out(i) = sqrt (a_in(i))\n",
    "  end do\n",
    "  !$omp end parallel do\n",
    "\n",
    "  return\n",
    "\n",
    "end subroutine array_sqrt\n"
   ]
  },
  {
   "cell_type": "markdown",
   "metadata": {
    "slideshow": {
     "slide_type": "slide"
    }
   },
   "source": [
    "## Example: build extensions\n",
    "<hr style=\"border: solid 4px green\">"
   ]
  },
  {
   "cell_type": "code",
   "execution_count": 3,
   "metadata": {},
   "outputs": [
    {
     "name": "stdout",
     "output_type": "stream",
     "text": [
      "\u001b[39mrunning config_fc\u001b[0m\n",
      "\u001b[39munifing config_fc, config, build_clib, build_ext, build commands --fcompiler options\u001b[0m\n",
      "\u001b[39mrunning install\u001b[0m\n",
      "\u001b[39mrunning build\u001b[0m\n",
      "\u001b[39mrunning config_cc\u001b[0m\n",
      "\u001b[39munifing config_cc, config, build_clib, build_ext, build commands --compiler options\u001b[0m\n",
      "\u001b[39mrunning build_src\u001b[0m\n",
      "\u001b[39mbuild_src\u001b[0m\n",
      "\u001b[39mbuilding extension \"c_array_sqrt_omp\" sources\u001b[0m\n",
      "\u001b[39mbuilding extension \"f_array_sqrt_omp\" sources\u001b[0m\n",
      "\u001b[39mf2py options: []\u001b[0m\n",
      "\u001b[39mf2py:> build/src.linux-x86_64-2.7/f_array_sqrt_ompmodule.c\u001b[0m\n",
      "\u001b[39mcreating build\u001b[0m\n",
      "\u001b[39mcreating build/src.linux-x86_64-2.7\u001b[0m\n",
      "Reading fortran codes...\n",
      "\tReading file './src/f_array_sqrt_omp.f90' (format:free)\n",
      "Post-processing...\n",
      "\tBlock: f_array_sqrt_omp\n",
      "\t\t\tBlock: array_sqrt\n",
      "In: :f_array_sqrt_omp:./src/f_array_sqrt_omp.f90:array_sqrt\n",
      "get_useparameters: no module omp_lib info used by array_sqrt\n",
      "Post-processing (stage 2)...\n",
      "Building modules...\n",
      "\tBuilding module \"f_array_sqrt_omp\"...\n",
      "\t\tConstructing wrapper function \"array_sqrt\"...\n",
      "\t\t  a_out = array_sqrt(a_in,nt,[n])\n",
      "\tWrote C/API module \"f_array_sqrt_omp\" to file \"build/src.linux-x86_64-2.7/f_array_sqrt_ompmodule.c\"\n",
      "\u001b[39m  adding 'build/src.linux-x86_64-2.7/build/src.linux-x86_64-2.7/fortranobject.c' to sources.\u001b[0m\n",
      "\u001b[39m  adding 'build/src.linux-x86_64-2.7/build/src.linux-x86_64-2.7' to include_dirs.\u001b[0m\n",
      "\u001b[39mcreating build/src.linux-x86_64-2.7/build\u001b[0m\n",
      "\u001b[39mcreating build/src.linux-x86_64-2.7/build/src.linux-x86_64-2.7\u001b[0m\n",
      "\u001b[39mcopying /opt/anaconda2/lib/python2.7/site-packages/numpy/f2py/src/fortranobject.c -> build/src.linux-x86_64-2.7/build/src.linux-x86_64-2.7\u001b[0m\n",
      "\u001b[39mcopying /opt/anaconda2/lib/python2.7/site-packages/numpy/f2py/src/fortranobject.h -> build/src.linux-x86_64-2.7/build/src.linux-x86_64-2.7\u001b[0m\n",
      "\u001b[39mbuild_src: building npy-pkg config files\u001b[0m\n",
      "\u001b[39mrunning build_ext\u001b[0m\n",
      "\u001b[39mcustomize UnixCCompiler\u001b[0m\n",
      "\u001b[39mcustomize UnixCCompiler using build_ext\u001b[0m\n",
      "\u001b[39mget_default_fcompiler: matching types: '['gnu95', 'intel', 'lahey', 'pg', 'absoft', 'nag', 'vast', 'compaq', 'intele', 'intelem', 'gnu', 'g95', 'pathf95', 'nagfor']'\u001b[0m\n",
      "\u001b[39mcustomize Gnu95FCompiler\u001b[0m\n",
      "\u001b[39mFound executable /usr/bin/gfortran\u001b[0m\n",
      "\u001b[39mcustomize Gnu95FCompiler\u001b[0m\n",
      "\u001b[39mcustomize Gnu95FCompiler using build_ext\u001b[0m\n",
      "\u001b[39mbuilding 'c_array_sqrt_omp' extension\u001b[0m\n",
      "\u001b[39mcompiling C sources\u001b[0m\n",
      "\u001b[39mC compiler: gcc -pthread -B /opt/anaconda2/compiler_compat -Wl,--sysroot=/ -fno-strict-aliasing -g -O2 -DNDEBUG -g -fwrapv -O3 -Wall -Wstrict-prototypes -fPIC\n",
      "\u001b[0m\n",
      "\u001b[39mcreating build/temp.linux-x86_64-2.7/src\u001b[0m\n",
      "\u001b[39mcompile options: '-I/opt/anaconda2/lib/python2.7/site-packages/numpy/core/include -I/opt/anaconda2/include/python2.7 -c'\n",
      "extra options: '-O2 -ffast-math -std=c99 -fopenmp'\u001b[0m\n",
      "\u001b[39mgcc: ./src/c_array_sqrt_omp.c\u001b[0m\n",
      "\u001b[39mcreating build/lib.linux-x86_64-2.7\u001b[0m\n",
      "\u001b[39mgcc -pthread -shared -B /opt/anaconda2/compiler_compat -L/opt/anaconda2/lib -Wl,-rpath=/opt/anaconda2/lib -Wl,--no-as-needed -Wl,--sysroot=/ build/temp.linux-x86_64-2.7/src/c_array_sqrt_omp.o -L/opt/anaconda2/lib -lpython2.7 -o build/lib.linux-x86_64-2.7/c_array_sqrt_omp.so -lgomp\u001b[0m\n",
      "\u001b[39mbuilding 'f_array_sqrt_omp' extension\u001b[0m\n",
      "\u001b[39mcompiling C sources\u001b[0m\n",
      "\u001b[39mC compiler: gcc -pthread -B /opt/anaconda2/compiler_compat -Wl,--sysroot=/ -fno-strict-aliasing -g -O2 -DNDEBUG -g -fwrapv -O3 -Wall -Wstrict-prototypes -fPIC\n",
      "\u001b[0m\n",
      "\u001b[39mcreating build/temp.linux-x86_64-2.7/build\u001b[0m\n",
      "\u001b[39mcreating build/temp.linux-x86_64-2.7/build/src.linux-x86_64-2.7\u001b[0m\n",
      "\u001b[39mcreating build/temp.linux-x86_64-2.7/build/src.linux-x86_64-2.7/build\u001b[0m\n",
      "\u001b[39mcreating build/temp.linux-x86_64-2.7/build/src.linux-x86_64-2.7/build/src.linux-x86_64-2.7\u001b[0m\n",
      "\u001b[39mcompile options: '-Ibuild/src.linux-x86_64-2.7/build/src.linux-x86_64-2.7 -I/opt/anaconda2/lib/python2.7/site-packages/numpy/core/include -I/opt/anaconda2/include/python2.7 -c'\n",
      "extra options: '-O2 -ffast-math -fopenmp'\u001b[0m\n",
      "\u001b[39mgcc: build/src.linux-x86_64-2.7/build/src.linux-x86_64-2.7/fortranobject.c\u001b[0m\n",
      "In file included from /opt/anaconda2/lib/python2.7/site-packages/numpy/core/include/numpy/ndarraytypes.h:1816:0,\n",
      "                 from /opt/anaconda2/lib/python2.7/site-packages/numpy/core/include/numpy/ndarrayobject.h:18,\n",
      "                 from /opt/anaconda2/lib/python2.7/site-packages/numpy/core/include/numpy/arrayobject.h:4,\n",
      "                 from build/src.linux-x86_64-2.7/build/src.linux-x86_64-2.7/fortranobject.h:13,\n",
      "                 from build/src.linux-x86_64-2.7/build/src.linux-x86_64-2.7/fortranobject.c:2:\n",
      "/opt/anaconda2/lib/python2.7/site-packages/numpy/core/include/numpy/npy_1_7_deprecated_api.h:15:2: warning: #warning \"Using deprecated NumPy API, disable it by \" \"#defining NPY_NO_DEPRECATED_API NPY_1_7_API_VERSION\" [-Wcpp]\n",
      " #warning \"Using deprecated NumPy API, disable it by \" \\\n",
      "  ^\n",
      "\u001b[39mgcc: build/src.linux-x86_64-2.7/f_array_sqrt_ompmodule.c\u001b[0m\n",
      "In file included from /opt/anaconda2/lib/python2.7/site-packages/numpy/core/include/numpy/ndarraytypes.h:1816:0,\n",
      "                 from /opt/anaconda2/lib/python2.7/site-packages/numpy/core/include/numpy/ndarrayobject.h:18,\n",
      "                 from /opt/anaconda2/lib/python2.7/site-packages/numpy/core/include/numpy/arrayobject.h:4,\n",
      "                 from build/src.linux-x86_64-2.7/build/src.linux-x86_64-2.7/fortranobject.h:13,\n",
      "                 from build/src.linux-x86_64-2.7/f_array_sqrt_ompmodule.c:16:\n",
      "/opt/anaconda2/lib/python2.7/site-packages/numpy/core/include/numpy/npy_1_7_deprecated_api.h:15:2: warning: #warning \"Using deprecated NumPy API, disable it by \" \"#defining NPY_NO_DEPRECATED_API NPY_1_7_API_VERSION\" [-Wcpp]\n",
      " #warning \"Using deprecated NumPy API, disable it by \" \\\n",
      "  ^\n",
      "build/src.linux-x86_64-2.7/f_array_sqrt_ompmodule.c:109:12: warning: ‘f2py_size’ defined but not used [-Wunused-function]\n",
      " static int f2py_size(PyArrayObject* var, ...)\n",
      "            ^\n",
      "\u001b[39mcompiling Fortran sources\u001b[0m\n",
      "\u001b[39mFortran f77 compiler: /usr/bin/gfortran -Wall -g -ffixed-form -fno-second-underscore -fPIC -O3 -funroll-loops\n",
      "Fortran f90 compiler: /usr/bin/gfortran -O2 -fopenmp -fPIC -O3 -funroll-loops\n",
      "Fortran fix compiler: /usr/bin/gfortran -Wall -g -ffixed-form -fno-second-underscore -O2 -fopenmp -fPIC -O3 -funroll-loops\u001b[0m\n",
      "\u001b[39mcompile options: '-Ibuild/src.linux-x86_64-2.7/build/src.linux-x86_64-2.7 -I/opt/anaconda2/lib/python2.7/site-packages/numpy/core/include -I/opt/anaconda2/include/python2.7 -c'\u001b[0m\n",
      "\u001b[39mgfortran:f90: ./src/f_array_sqrt_omp.f90\u001b[0m\n",
      "\u001b[39m/usr/bin/gfortran -Wall -g -Wall -g -shared build/temp.linux-x86_64-2.7/build/src.linux-x86_64-2.7/f_array_sqrt_ompmodule.o build/temp.linux-x86_64-2.7/build/src.linux-x86_64-2.7/build/src.linux-x86_64-2.7/fortranobject.o build/temp.linux-x86_64-2.7/src/f_array_sqrt_omp.o -L/usr/lib/gcc/x86_64-linux-gnu/4.8 -L/usr/lib/gcc/x86_64-linux-gnu/4.8 -L/opt/anaconda2/lib -lpython2.7 -lgfortran -o build/lib.linux-x86_64-2.7/f_array_sqrt_omp.so -lgomp\u001b[0m\n",
      "\u001b[39mrunning install_lib\u001b[0m\n",
      "\u001b[39mcreating /home/ouit0554/published/arc-python-hpc/notebooks/lecture09-extensions-openmp/lib\u001b[0m\n",
      "\u001b[39mcreating /home/ouit0554/published/arc-python-hpc/notebooks/lecture09-extensions-openmp/lib/python2.7\u001b[0m\n",
      "\u001b[39mcreating /home/ouit0554/published/arc-python-hpc/notebooks/lecture09-extensions-openmp/lib/python2.7/site-packages\u001b[0m\n",
      "\u001b[39mcopying build/lib.linux-x86_64-2.7/c_array_sqrt_omp.so -> /home/ouit0554/published/arc-python-hpc/notebooks/lecture09-extensions-openmp/lib/python2.7/site-packages\u001b[0m\n",
      "\u001b[39mcopying build/lib.linux-x86_64-2.7/f_array_sqrt_omp.so -> /home/ouit0554/published/arc-python-hpc/notebooks/lecture09-extensions-openmp/lib/python2.7/site-packages\u001b[0m\n",
      "\u001b[39mrunning install_egg_info\u001b[0m\n",
      "\u001b[39mWriting /home/ouit0554/published/arc-python-hpc/notebooks/lecture09-extensions-openmp/lib/python2.7/site-packages/array_sqrt_openmp-0.0.0-py2.7.egg-info\u001b[0m\n",
      "\u001b[39mrunning install_clib\u001b[0m\n",
      "\u001b[39mcustomize UnixCCompiler\u001b[0m\n"
     ]
    }
   ],
   "source": [
    "!python setup.py config_fc --f90flags=\"-O2 -fopenmp\" install --prefix=$PWD"
   ]
  },
  {
   "cell_type": "markdown",
   "metadata": {},
   "source": [
    "Check dynamic libraries were created."
   ]
  },
  {
   "cell_type": "code",
   "execution_count": 4,
   "metadata": {
    "scrolled": true
   },
   "outputs": [
    {
     "name": "stdout",
     "output_type": "stream",
     "text": [
      "total 112\r\n",
      "-rw-rw-r-- 1 ouit0554 ouit0554   248 Mar  6 17:55 array_sqrt_openmp-0.0.0-py2.7.egg-info\r\n",
      "-rwxrwxr-x 1 ouit0554 ouit0554 11176 Mar  6 17:55 c_array_sqrt_omp.so\r\n",
      "-rwxrwxr-x 1 ouit0554 ouit0554 96328 Mar  6 17:55 f_array_sqrt_omp.so\r\n"
     ]
    }
   ],
   "source": [
    "!ls -l ./lib/python2.7/site-packages"
   ]
  },
  {
   "cell_type": "markdown",
   "metadata": {
    "slideshow": {
     "slide_type": "slide"
    }
   },
   "source": [
    "## Example: run test\n",
    "<hr style=\"border: solid 4px green\">"
   ]
  },
  {
   "cell_type": "code",
   "execution_count": 5,
   "metadata": {
    "scrolled": true
   },
   "outputs": [
    {
     "name": "stdout",
     "output_type": "stream",
     "text": [
      " === C extensions\n",
      " 1 threads, 0.695964 seconds\n",
      " 2 threads, 0.365554 seconds\n",
      " 4 threads, 0.383612 seconds\n",
      " === F90 extensions\n",
      " 1 threads, 0.637081 seconds\n",
      " 2 threads, 0.322948 seconds\n",
      " 4 threads, 0.445562 seconds\n"
     ]
    }
   ],
   "source": [
    "! python test_array_sqrt_omp.py"
   ]
  },
  {
   "cell_type": "markdown",
   "metadata": {
    "slideshow": {
     "slide_type": "slide"
    }
   },
   "source": [
    "## Summary\n",
    "<hr style=\"border: solid 4px green\">\n",
    "\n",
    "### OpenMP\n",
    "* easy to use\n",
    "* *pros*\n",
    "  * very portable (supported by all compilers)\n",
    "  * easy incremental parallel code development\n",
    "  * achieving reasonably good performance is easy\n",
    "* *cons*\n",
    "  * achieving very good scaling not trivial\n",
    "  * easy to make mistakes and trigger elusive bugs"
   ]
  },
  {
   "cell_type": "markdown",
   "metadata": {
    "nbpresent": {
     "id": "93979091-4434-4427-be06-2ebd441b3d4c"
    },
    "slideshow": {
     "slide_type": "notes"
    }
   },
   "source": [
    "<img src=\"../../images/reusematerial.png\"; style=\"float: center; width: 90\"; >\n",
    "<br>\n",
    "<br>"
   ]
  }
 ],
 "metadata": {
  "anaconda-cloud": {},
  "celltoolbar": "Slideshow",
  "kernelspec": {
   "display_name": "Python 2",
   "language": "python",
   "name": "python2"
  },
  "language_info": {
   "codemirror_mode": {
    "name": "ipython",
    "version": 2
   },
   "file_extension": ".py",
   "mimetype": "text/x-python",
   "name": "python",
   "nbconvert_exporter": "python",
   "pygments_lexer": "ipython2",
   "version": "2.7.14"
  }
 },
 "nbformat": 4,
 "nbformat_minor": 1
}

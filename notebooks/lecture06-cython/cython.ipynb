{
 "cells": [
  {
   "cell_type": "markdown",
   "metadata": {
    "slideshow": {
     "slide_type": "slide"
    }
   },
   "source": [
    "# Python for High Performance Computing\n",
    "# <span style=\"font-family: Courier New, Courier, monospace;\">Cython</span> extensions\n",
    "<hr style=\"border: solid 4px green\">\n",
    "<br>\n",
    "<center> <img src=\"images/arc_logo.png\"; alt=\"Logo\" style=\"float: center; width: 20%\"></center>\n",
    "<br>\n",
    "## http://www.arc.ox.ac.uk\n",
    "## support@arc.ox.ac.uk"
   ]
  },
  {
   "cell_type": "markdown",
   "metadata": {
    "slideshow": {
     "slide_type": "slide"
    }
   },
   "source": [
    "## Overview\n",
    "<hr style=\"border: solid 4px green\">\n",
    "\n",
    "### <span style=\"font-family: Courier New, Courier, monospace;\">Cython</span>: you can have the cake and eat it... almost\n",
    "* enjoy the benefits of fast executing C code without practically leaving Python\n",
    "* requires a less Pythonic thinking and a more C-like thinking (familiarity with C pays)\n",
    "* bonus feature: multithreaded parallelism\n",
    "<br><br>\n",
    "\n",
    "### <span style=\"font-family: Courier New, Courier, monospace;\">Cython</span> is\n",
    "* an open-source project (http://cython.org)\n",
    "* a Python compiler (nearly)\n",
    "* an extension to the Python language for\n",
    "  * writing fast-executing extension modules\n",
    "  * interfacing Python with C libraries\n",
    "* best used to target performance critical parts of the code\n",
    "<br><br>\n",
    "\n",
    "### <span style=\"font-family: Courier New, Courier, monospace;\">Cython</span> is stable & mature\n",
    "* establishing itself as a pillar of the scientific Python ecosystem"
   ]
  },
  {
   "cell_type": "markdown",
   "metadata": {
    "slideshow": {
     "slide_type": "slide"
    }
   },
   "source": [
    "## Example\n",
    "<hr style=\"border: solid 4px green\">\n",
    "\n",
    "### Fibonacci sequence"
   ]
  },
  {
   "cell_type": "code",
   "execution_count": 2,
   "metadata": {
    "collapsed": true
   },
   "outputs": [],
   "source": [
    "import numpy\n",
    "\n",
    "def fib (n):\n",
    "    \"\"\"Compute Fibonacci sequence\"\"\"\n",
    "    s = numpy.zeros(n, dtype=numpy.float64)\n",
    "    if n >= 1:\n",
    "        s[0] = 1.0\n",
    "\n",
    "    if n >= 2:\n",
    "        s[1] = 1.0\n",
    "\n",
    "    for i in range (2, n):\n",
    "        s[i] = s[i-1] + s[i-2]\n",
    "\n",
    "    return s"
   ]
  },
  {
   "cell_type": "code",
   "execution_count": 3,
   "metadata": {},
   "outputs": [
    {
     "name": "stdout",
     "output_type": "stream",
     "text": [
      "1000 loops, best of 3: 485 µs per loop\n"
     ]
    }
   ],
   "source": [
    "% timeit fib(1024)"
   ]
  },
  {
   "cell_type": "code",
   "execution_count": 4,
   "metadata": {},
   "outputs": [
    {
     "name": "stderr",
     "output_type": "stream",
     "text": [
      "/Users/mihai/anaconda/lib/python2.7/site-packages/IPython/extensions/cythonmagic.py:21: UserWarning: The Cython magic has been moved to the Cython package\n",
      "  warnings.warn(\"\"\"The Cython magic has been moved to the Cython package\"\"\")\n"
     ]
    }
   ],
   "source": [
    "% load_ext Cython\n",
    "% load_ext cythonmagic"
   ]
  },
  {
   "cell_type": "code",
   "execution_count": 5,
   "metadata": {},
   "outputs": [],
   "source": [
    "%%cython\n",
    "\n",
    "import numpy\n",
    "cimport numpy\n",
    "\n",
    "# samre function as before but with data types\n",
    "cpdef double[:] cfib (int n):\n",
    "    \"\"\"Compute Fibonacci sequence\"\"\"\n",
    "\n",
    "    # declare types of output data\n",
    "    cdef double[:] s\n",
    "    # declare types of function local data\n",
    "    cdef int i\n",
    "\n",
    "    # the rest is the same\n",
    "    s = numpy.zeros(n, dtype=numpy.float64)\n",
    "    if n >= 1:\n",
    "        s[0] = 1.0\n",
    "\n",
    "    if n >= 2:\n",
    "        s[1] = 1.0\n",
    "\n",
    "    for i in range (2, n):\n",
    "        s[i] = s[i-1] + s[i-2]\n",
    "\n",
    "    return s"
   ]
  },
  {
   "cell_type": "code",
   "execution_count": 6,
   "metadata": {},
   "outputs": [
    {
     "name": "stdout",
     "output_type": "stream",
     "text": [
      "The slowest run took 318.13 times longer than the fastest. This could mean that an intermediate result is being cached.\n",
      "100000 loops, best of 3: 4.96 µs per loop\n"
     ]
    }
   ],
   "source": [
    "% timeit cfib(1024)"
   ]
  },
  {
   "cell_type": "markdown",
   "metadata": {},
   "source": [
    "###  A speedup of ~100 times!\n",
    "* 3 extra lines of code\n",
    "* 2 types added in function definition"
   ]
  },
  {
   "cell_type": "markdown",
   "metadata": {
    "slideshow": {
     "slide_type": "slide"
    }
   },
   "source": [
    "## Overview\n",
    "<hr style=\"border: solid 4px green\">\n",
    "\n",
    "### Pros\n",
    "* 99% Python (versions 2 and 3 compatible)\n",
    "* supports functionality both ways\n",
    "  * running C extensions from Python\n",
    "  * using `Cython` functions from C\n",
    "* incremental development\n",
    "  * standard Python is valid `Cython`\n",
    "  * speed code up by adding C features\n",
    "<br><br>\n",
    "\n",
    "### Cons\n",
    "* needs compilation\n",
    "* CPython specific (does not work with other implementations, *e.g.* PyPy)\n",
    "\n",
    "> *Documentation*:\n",
    "> * http://cython.readthedocs.io/en/latest/\n",
    "> * http://cython.readthedocs.io/en/latest/src/userguide/parallelism.html"
   ]
  },
  {
   "cell_type": "markdown",
   "metadata": {
    "slideshow": {
     "slide_type": "slide"
    }
   },
   "source": [
    "## How Cython works\n",
    "<hr style=\"border: solid 4px green\">\n",
    "\n",
    "### It writes C code so you don't have to\n",
    "* Cython generates C code from Python-like code\n",
    "* a C compiler compiles the C code generated\n",
    "  * all major compilers supported on all major platforms\n",
    "* most of Python syntax can be Cythonized\n",
    "  * top-level classes and functions\n",
    "  * control structures: loops, with, try-except/finally, ...\n",
    "  * object operations, arithmetic, ...\n",
    "<br><br>\n",
    "\n",
    "### Help <span style=\"font-family: Courier New, Courier, monospace;\">Cython</span> to get greater the performance than on its own\n",
    "* the more specific you can be about variables and functions\n",
    "  * the more the generated C code uses C types and libraries instead of the Python API and\n",
    "  * the more the compiler can apply optimisations\n",
    "* **aim** to get away from Python safety towards C optimised performance"
   ]
  },
  {
   "cell_type": "markdown",
   "metadata": {
    "slideshow": {
     "slide_type": "slide"
    }
   },
   "source": [
    "## Cython workflow\n",
    "<hr style=\"border: solid 4px green\">\n",
    "\n",
    "### Step 1: write <span style=\"font-family: Courier New, Courier, monospace;\">Cython</span> code\n",
    "* `.pyx` files: Python-like code\n",
    "* `.pxd` files: Cython header files (optional)\n",
    "<br><br>\n",
    "\n",
    "### Step 2: <span style=\"font-family: Courier New, Courier, monospace;\">Cython</span> translates this into C code and a compiler builds a shared library\n",
    "* Option #1: use a translate-compile two step procedure, *e.g.*\n",
    "  * `cython mycode.pyx`\n",
    "  * `gcc -O2 -Wall -shared -fPIC $(pkg-config --cflags --libs python) -o myext.so myext.c`\n",
    "* <span style=\"background-color:#ffcc00\">Option #2: build and install using distutils</span>\n",
    "  * `python setup.py build_ext --inplace`\n",
    "  * `python setup.py install --prefix=./`\n",
    "<br><br>\n",
    "\n",
    "> *Note*: run-time build is an option\n",
    "> * `pyximport` -- on-the-fly build & import (for experiments)\n",
    "> * `cython.inline()` -- runtime compile code\n",
    "<br><br>\n",
    "\n",
    "### Step 3: Python imports the module and uses it\n",
    "```python\n",
    "import mycode\n",
    "mycode.func ()\n",
    "```"
   ]
  },
  {
   "cell_type": "markdown",
   "metadata": {
    "slideshow": {
     "slide_type": "slide"
    }
   },
   "source": [
    "## Remove overheads: 4 steps to performance\n",
    "<hr style=\"border: solid 4px green\">\n",
    "\n",
    "### Remove Python object overheads\n",
    "* tell `Cython` the types of variables\n",
    "```python\n",
    "cdef int i, j, k\n",
    "cdef float x, y[10]\n",
    "cdef double *z\n",
    "```\n",
    "<br><br>\n",
    "\n",
    "### Remove Python function call overheads\n",
    "* tell `Cython`\n",
    "  * how to turn functions into C or\n",
    "  * how to use C functions directly\n",
    "```python\n",
    "# define Python function\n",
    "def foo (int i, char *s):\n",
    "# C function, not visible to Python code that imports the module\n",
    "cdef int foo2 (int i, char *s):\n",
    "# use function from C library directly\n",
    "from libc.math cimport sin\n",
    "cdef double x\n",
    "s = sin(x)\n",
    "```\n",
    "\n",
    "### Multithreaded parallellism\n",
    "* release the GIL\n",
    "* use data parallelism constructs\n",
    "  * replace `range` with `prange`\n",
    "<br><br>\n",
    "\n",
    "### Remove Python check overheads\n",
    "* use *compiler directives*: tell `Cython` about any Python checks that can be skipped\n",
    "```python\n",
    "# True = avoid division checks (e.g. ZeroDivisionError)\n",
    "@cython.cdivision(True)\n",
    "# False = do not check that indexing operations raise IndexErrors\n",
    "@cython.boundscheck(False)\n",
    "# False = do not check for negative index handling (possibly causing segfaults or data corruption)\n",
    "@cython.wraparound(False)\n",
    "```"
   ]
  },
  {
   "cell_type": "markdown",
   "metadata": {
    "slideshow": {
     "slide_type": "slide"
    }
   },
   "source": [
    "## Example\n",
    "<hr style=\"border: solid 4px green\">\n",
    "\n",
    "### Task\n",
    "* compute the $p$-norm of a vector\n",
    "$$||x||_p=\\left( \\sum_{i=1}^{n} |x_i|^p \\right)^{1/p}$$\n",
    "* reference implementation is `numpy.linalg.norm`\n",
    "<br><br>\n",
    "\n",
    "### Steps\n",
    "* write `cython` code\n",
    "* build module\n",
    "* test module\n",
    "<br><br>\n",
    "\n",
    "### Incremental Cython code development\n",
    "* start with pure Python\n",
    "* type the variables\n",
    "* use external C functions\n",
    "* remove the GIL and add multithreading\n",
    "* add Cython compiler directives to eliminate checks"
   ]
  },
  {
   "cell_type": "markdown",
   "metadata": {
    "slideshow": {
     "slide_type": "slide"
    }
   },
   "source": [
    "## Example (cont'd)\n",
    "<hr style=\"border: solid 4px green\">\n",
    "\n",
    "### Start with a pure Python function\n",
    "\n",
    "```python\n",
    "import math\n",
    "\n",
    "def p_norm (u, p):\n",
    "    n = u.size\n",
    "    s = 0.0\n",
    "    for i in range (n):\n",
    "        s += math.pow (math.fabs(u[i]), p)\n",
    "\n",
    "    return math.pow (s, 1.0 / float(p))\n",
    "```\n",
    "<br><br>\n",
    "\n",
    "### Notes\n",
    "* Python code is legal `Cython` code"
   ]
  },
  {
   "cell_type": "markdown",
   "metadata": {
    "slideshow": {
     "slide_type": "slide"
    }
   },
   "source": [
    "## Example (cont'd)\n",
    "<hr style=\"border: solid 4px green\">\n",
    "\n",
    "### Add types\n",
    "\n",
    "```python\n",
    "import cython\n",
    "cimport cython\n",
    "\n",
    "cpdef double p_norm_types (double [:] u, int n, int p):\n",
    "    cdef:\n",
    "        int i\n",
    "        double s\n",
    "\n",
    "    s = 0.0\n",
    "    for i in range (n):\n",
    "        s += math.pow (math.fabs(u[i]), p)\n",
    "\n",
    "    return math.pow (s, 1.0 / float (p))\n",
    "```\n",
    "<br><br>\n",
    "\n",
    "### Notes\n",
    "* the `cimport` statement imports the external C declarations from another module via a `.pxd` file from that module\n",
    "* function arguments and internal function variables are given C types\n",
    "```python\n",
    "double [:] u, int n, int p\n",
    "```\n",
    "* these will be directly translated to like variables in the generated C code, avoiding the expensive use of Python objects\n",
    "<br><br>\n",
    "\n",
    "> *Remark*: recent developments allow us to use\n",
    "```python\n",
    "cpdef double[:] func (double[:])\n",
    "```\n",
    "instead of old\n",
    "```python\n",
    "cpdef numpy.ndarray[numpy.double_t, ndim=1] func (numpy.ndarray[numpy.double_t, ndim=1] u)\n",
    "```\n",
    "Higher dimensional arrays are equally easy, *e.g.* `double[:,:] u`"
   ]
  },
  {
   "cell_type": "markdown",
   "metadata": {
    "slideshow": {
     "slide_type": "slide"
    }
   },
   "source": [
    "## Example (cont'd)\n",
    "<hr style=\"border: solid 4px green\">\n",
    "\n",
    "### Add external C functions \n",
    "\n",
    "```python\n",
    "from libc.math cimport pow, fabs\n",
    "\n",
    "cpdef double p_norm_types_better (double [:] u, int n, int p):\n",
    "    cdef:\n",
    "        int i\n",
    "        double s\n",
    "\n",
    "    s = 0.0\n",
    "\n",
    "    for i in range (n):\n",
    "        s += pow (fabs(u[i]), p)\n",
    "\n",
    "    return pow (s, 1.0 / float (p))\n",
    "```\n",
    "<br><br>\n",
    "\n",
    "### Notes:\n",
    "* the `Cython` module installation (and the associated `.pxd` files) make importing declarations easy (see remark below)\n",
    "* the call to C function `pow` is repeated in the loop, so significant overheads are removed\n",
    "\n",
    "<br><br>\n",
    "> *Remark*: The use of the `pow` math function from the external C library\n",
    "```python\n",
    "from libc.math cimport pow\n",
    "```\n",
    "is equivalent to the longer explicit header declaration\n",
    "```\n",
    "cdef extern from \"math.h\" nogil:\n",
    "    double pow (double x, double y)\n",
    "```"
   ]
  },
  {
   "cell_type": "markdown",
   "metadata": {
    "slideshow": {
     "slide_type": "slide"
    }
   },
   "source": [
    "## Example (cont'd)\n",
    "<hr style=\"border: solid 4px green\">\n",
    "\n",
    "### Add multithreading and release the GIL\n",
    "\n",
    "```python\n",
    "from cython.parallel import prange, parallel\n",
    "cimport openmp\n",
    "\n",
    "cpdef double p_norm_openmp (double [:] u, int n, int p, int nt=2):\n",
    "    cdef:\n",
    "        int i\n",
    "        double s\n",
    "\n",
    "    s = 0.0\n",
    "\n",
    "    openmp.omp_set_num_threads (nt)\n",
    "\n",
    "    with nogil:\n",
    "        for i in prange (n):\n",
    "            s += pow (fabs (u[i]), p)\n",
    "\n",
    "    return pow (s, 1.0 / float (p))\n",
    "```\n",
    "<br><br>\n",
    "\n",
    "### Notes\n",
    "* parallel region defined via `prange`\n",
    "* the parallel region releases the GIL\n",
    "* number of threads to use in parallel region set\n",
    "  * via function argument\n",
    "  * passed on to the OpenMP `omp_set_num_threads ()` function\n",
    "* the reduction on variable `s` is inferred from context\n",
    "  * `s +=` works\n",
    "  * `s = s +` does not work"
   ]
  },
  {
   "cell_type": "markdown",
   "metadata": {
    "slideshow": {
     "slide_type": "slide"
    }
   },
   "source": [
    "## OpenMP\n",
    "<hr style=\"border: solid 4px green\">\n",
    "\n",
    "### OpenMP is\n",
    "* an API for explicit shared-memory parallelism\n",
    "* supported by all major compilers for C/C++/Fortran\n",
    "<br><br>\n",
    "\n",
    "### Multi-threaded parallelism\n",
    "* program to tell the compiler when (and how) to multithread\n",
    "* particularly targeting loops and particularly good for data parallelism\n",
    "<br><br>\n",
    "\n",
    "### Fork-join multithreading\n",
    "<img src=\"./images/openmp_fork_join.gif\"; style=\"float: center; width: 60%\"; >\n",
    "<br><br>\n",
    "\n",
    "### Example\n",
    "```c\n",
    "# pragma omp parallel for \\\n",
    "  default (none)          \\\n",
    "  private (i)             \\\n",
    "  shared (n,p,u)          \\\n",
    "  reduction(+:s)\n",
    "  for (i=0; i<n; i++) {\n",
    "     s += pow (fabs (u[i]), p)\n",
    "  }\n",
    "```\n",
    "<br><br>\n",
    "\n",
    "\n",
    "### API components:\n",
    "* compiler directives\n",
    "* run-time library routines\n",
    "* environment variables"
   ]
  },
  {
   "cell_type": "markdown",
   "metadata": {
    "slideshow": {
     "slide_type": "slide"
    }
   },
   "source": [
    "## Example (cont'd)\n",
    "<hr style=\"border: solid 4px green\">\n",
    "\n",
    "### Final touches: remove checks\n",
    "\n",
    "```python\n",
    "@cython.cdivision(True)\n",
    "@cython.boundscheck(False)\n",
    "@cython.wraparound(False)\n",
    "cpdef double p_norm_openmp_better (double [:] u, int n, int p, int nt=2):\n",
    "\n",
    "    cdef:\n",
    "        int i\n",
    "        double s\n",
    "\n",
    "    s = 0.0\n",
    "\n",
    "    openmp.omp_set_num_threads (nt)\n",
    "\n",
    "    with nogil:\n",
    "        for i in prange (n):\n",
    "            s += pow (fabs (u[i]), p)\n",
    "\n",
    "    return pow (s, 1.0 / float (p))\n",
    "```\n",
    "<br><br>\n",
    "\n",
    "### Notes\n",
    "* the Cython generator for C code is given additional hints to simplify code using compiler directives\n",
    "  * `boundscheck=False` -- guarantee array bounds are respected\n",
    "  * `wraparound=False` -- guarantee negative indices are not used\n",
    "  * `cdivision=True` -- guarantee division is safe, avoid expensive checks (*e.g.* division by 0)"
   ]
  },
  {
   "cell_type": "markdown",
   "metadata": {
    "slideshow": {
     "slide_type": "slide"
    }
   },
   "source": [
    "## Example (cont'd)\n",
    "<hr style=\"border: solid 4px green\">\n",
    "\n",
    "### Build module"
   ]
  },
  {
   "cell_type": "code",
   "execution_count": 1,
   "metadata": {},
   "outputs": [
    {
     "name": "stdout",
     "output_type": "stream",
     "text": [
      "running install\n",
      "running build\n",
      "running build_ext\n",
      "cythoning ./src/matnorm.pyx to ./src/matnorm.c\n",
      "warning: src/matnorm.pyx:80:29: Use boundscheck(False) for faster access\n",
      "building 'matnorm' extension\n",
      "creating build\n",
      "creating build/temp.linux-x86_64-2.7\n",
      "creating build/temp.linux-x86_64-2.7/src\n",
      "gcc -pthread -fno-strict-aliasing -g -O2 -DNDEBUG -g -fwrapv -O3 -Wall -Wstrict-prototypes -fPIC -I/usr/local/anaconda2/lib/python2.7/site-packages/numpy/core/include -I/usr/local/anaconda2/include/python2.7 -c ./src/matnorm.c -o build/temp.linux-x86_64-2.7/./src/matnorm.o -fopenmp\n",
      "creating build/lib.linux-x86_64-2.7\n",
      "gcc -pthread -shared -L/usr/local/anaconda2/lib -Wl,-rpath=/usr/local/anaconda2/lib,--no-as-needed build/temp.linux-x86_64-2.7/./src/matnorm.o -L/usr/local/anaconda2/lib -lpython2.7 -o build/lib.linux-x86_64-2.7/matnorm.so -fopenmp\n",
      "running install_lib\n",
      "creating /home/mihai/python-for-hpc/python-hpc/notebooks/lecture06-cython/lib\n",
      "creating /home/mihai/python-for-hpc/python-hpc/notebooks/lecture06-cython/lib/python2.7\n",
      "creating /home/mihai/python-for-hpc/python-hpc/notebooks/lecture06-cython/lib/python2.7/site-packages\n",
      "copying build/lib.linux-x86_64-2.7/matnorm.so -> /home/mihai/python-for-hpc/python-hpc/notebooks/lecture06-cython/lib/python2.7/site-packages\n",
      "running install_egg_info\n",
      "Writing /home/mihai/python-for-hpc/python-hpc/notebooks/lecture06-cython/lib/python2.7/site-packages/UNKNOWN-0.0.0-py2.7.egg-info\n"
     ]
    }
   ],
   "source": [
    "! python setup.py install --prefix=$PWD"
   ]
  },
  {
   "cell_type": "markdown",
   "metadata": {
    "slideshow": {
     "slide_type": "slide"
    }
   },
   "source": [
    "## Example (cont'd)\n",
    "<hr style=\"border: solid 4px green\">\n",
    "\n",
    "### Test\n",
    "* first, test accuracy against `numpy.linalg.norm`\n",
    "* then, test performance"
   ]
  },
  {
   "cell_type": "code",
   "execution_count": 2,
   "metadata": {},
   "outputs": [
    {
     "name": "stdout",
     "output_type": "stream",
     "text": [
      "norm is  6.17168473681\n",
      "relative errors [%] [  7.19559130e-14   7.19559130e-14   2.87823652e-14   2.87823652e-14]\n",
      "\n",
      " performance ...\n",
      "                                     linalg.norm:  1.595858\n",
      "                       pure python code cythonized 8.873584\n",
      "                                    adding C types 5.472727\n",
      "                                adding C functions 1.504336\n",
      "                   using types + OpenMP (1 thread) 1.976157\n",
      "                  using types + OpenMP (2 threads) 1.013240\n",
      "                  using types + OpenMP (4 threads) 0.593100\n",
      "      using types + OpenMP + no checks (4 threads) 0.427184\n"
     ]
    }
   ],
   "source": [
    "! python test.py"
   ]
  },
  {
   "cell_type": "markdown",
   "metadata": {},
   "source": [
    "## Three types of function declarations\n",
    "<hr style=\"border: solid 4px green\">\n",
    "\n",
    "### <span style=\"font-family: Courier New, Courier, monospace;\">def</span>\n",
    "* Python, basically\n",
    "  * called directly from Python\n",
    "  * Python objects as arguments\n",
    "  * returns a Python object\n",
    "<br><br>\n",
    "\n",
    "### <span style=\"font-family: Courier New, Courier, monospace;\">cdef</span>: pure C functions\n",
    "* C code effectively, all types must be declared\n",
    "* `Cython` optimises aggressively\n",
    "* *Pros*: fastest executing code\n",
    "* *Cons*: declared functions not visible to code that imports the module\n",
    "<br><br>\n",
    "\n",
    "### <span style=\"font-family: Courier New, Courier, monospace;\">cpdef</span>: both C and Python\n",
    "* gets compiled to two functions\n",
    "  * a `cdef` for C types (for fast execution)\n",
    "  * a `def` for Python types (for compatibility)\n",
    "* *Pros*: visible to code that imports the module\n",
    "* *Cons*: version using Python objects can be as slow as `def` version"
   ]
  },
  {
   "cell_type": "markdown",
   "metadata": {
    "slideshow": {
     "slide_type": "slide"
    }
   },
   "source": [
    "## Functions and type coercion\n",
    "<hr style=\"border: solid 4px green\">\n",
    "\n",
    "### Argument type checks are automatic where variables are typed"
   ]
  },
  {
   "cell_type": "code",
   "execution_count": 9,
   "metadata": {},
   "outputs": [
    {
     "name": "stdout",
     "output_type": "stream",
     "text": [
      "The Cython extension is already loaded. To reload it, use:\n",
      "  %reload_ext Cython\n",
      "The cythonmagic extension is already loaded. To reload it, use:\n",
      "  %reload_ext cythonmagic\n"
     ]
    }
   ],
   "source": [
    "% load_ext Cython\n",
    "% load_ext cythonmagic"
   ]
  },
  {
   "cell_type": "code",
   "execution_count": 10,
   "metadata": {},
   "outputs": [],
   "source": [
    "%%cython\n",
    "\n",
    "def func (x):\n",
    "    return x + 1\n",
    "\n",
    "def func_int (int x):\n",
    "    return x + 1\n",
    "\n",
    "# low-level C function, callable from C\n",
    "cdef cdef_func_int (int x):\n",
    "    return x + 1\n",
    "\n",
    "# low-level C function, callable from C + wrapper, callable from Python\n",
    "cpdef cpdef_func_int (int x):\n",
    "    return x + 1"
   ]
  },
  {
   "cell_type": "code",
   "execution_count": 11,
   "metadata": {},
   "outputs": [
    {
     "name": "stdout",
     "output_type": "stream",
     "text": [
      "2\n"
     ]
    }
   ],
   "source": [
    "# this works as intended\n",
    "print func (1)"
   ]
  },
  {
   "cell_type": "code",
   "execution_count": 12,
   "metadata": {},
   "outputs": [
    {
     "ename": "TypeError",
     "evalue": "cannot concatenate 'str' and 'int' objects",
     "output_type": "error",
     "traceback": [
      "\u001b[0;31m---------------------------------------------------------------------------\u001b[0m",
      "\u001b[0;31mTypeError\u001b[0m                                 Traceback (most recent call last)",
      "\u001b[0;32m<ipython-input-12-5156d55267bc>\u001b[0m in \u001b[0;36m<module>\u001b[0;34m()\u001b[0m\n\u001b[1;32m      1\u001b[0m \u001b[0;31m# this raises a type error from the \"add\" operation itself\u001b[0m\u001b[0;34m\u001b[0m\u001b[0;34m\u001b[0m\u001b[0m\n\u001b[0;32m----> 2\u001b[0;31m \u001b[0;32mprint\u001b[0m \u001b[0mfunc\u001b[0m \u001b[0;34m(\u001b[0m\u001b[0;34m\"abc\"\u001b[0m\u001b[0;34m)\u001b[0m\u001b[0;34m\u001b[0m\u001b[0m\n\u001b[0m",
      "\u001b[0;32m_cython_magic_33534d6a0fbf893545ecf421754892b2.pyx\u001b[0m in \u001b[0;36m_cython_magic_33534d6a0fbf893545ecf421754892b2.func (/Users/mihai/.ipython/cython/_cython_magic_33534d6a0fbf893545ecf421754892b2.c:662)\u001b[0;34m()\u001b[0m\n",
      "\u001b[0;31mTypeError\u001b[0m: cannot concatenate 'str' and 'int' objects"
     ]
    }
   ],
   "source": [
    "# this raises a type error from the \"add\" operation itself\n",
    "print func (\"abc\")"
   ]
  },
  {
   "cell_type": "code",
   "execution_count": 13,
   "metadata": {},
   "outputs": [
    {
     "ename": "TypeError",
     "evalue": "an integer is required",
     "output_type": "error",
     "traceback": [
      "\u001b[0;31m---------------------------------------------------------------------------\u001b[0m",
      "\u001b[0;31mTypeError\u001b[0m                                 Traceback (most recent call last)",
      "\u001b[0;32m<ipython-input-13-7ae0a2b6f4bd>\u001b[0m in \u001b[0;36m<module>\u001b[0;34m()\u001b[0m\n\u001b[1;32m      1\u001b[0m \u001b[0;31m# this function has a typed arg and the error is from an argument type check\u001b[0m\u001b[0;34m\u001b[0m\u001b[0;34m\u001b[0m\u001b[0m\n\u001b[0;32m----> 2\u001b[0;31m \u001b[0;32mprint\u001b[0m \u001b[0mfunc_int\u001b[0m \u001b[0;34m(\u001b[0m\u001b[0;34m\"abc\"\u001b[0m\u001b[0;34m)\u001b[0m\u001b[0;34m\u001b[0m\u001b[0m\n\u001b[0m",
      "\u001b[0;32m_cython_magic_33534d6a0fbf893545ecf421754892b2.pyx\u001b[0m in \u001b[0;36m_cython_magic_33534d6a0fbf893545ecf421754892b2.func_int (/Users/mihai/.ipython/cython/_cython_magic_33534d6a0fbf893545ecf421754892b2.c:703)\u001b[0;34m()\u001b[0m\n",
      "\u001b[0;31mTypeError\u001b[0m: an integer is required"
     ]
    }
   ],
   "source": [
    "# this function has a typed arg and the error is from an argument type check\n",
    "print func_int (\"abc\")"
   ]
  },
  {
   "cell_type": "code",
   "execution_count": 14,
   "metadata": {},
   "outputs": [
    {
     "ename": "NameError",
     "evalue": "name 'cdef_func_int' is not defined",
     "output_type": "error",
     "traceback": [
      "\u001b[0;31m---------------------------------------------------------------------------\u001b[0m",
      "\u001b[0;31mNameError\u001b[0m                                 Traceback (most recent call last)",
      "\u001b[0;32m<ipython-input-14-a527c26877c7>\u001b[0m in \u001b[0;36m<module>\u001b[0;34m()\u001b[0m\n\u001b[1;32m      1\u001b[0m \u001b[0;31m# low-level C function, callable from C, not visible from Python\u001b[0m\u001b[0;34m\u001b[0m\u001b[0;34m\u001b[0m\u001b[0m\n\u001b[0;32m----> 2\u001b[0;31m \u001b[0;32mprint\u001b[0m \u001b[0mcdef_func_int\u001b[0m \u001b[0;34m(\u001b[0m\u001b[0;34m\"abc\"\u001b[0m\u001b[0;34m)\u001b[0m\u001b[0;34m\u001b[0m\u001b[0m\n\u001b[0m",
      "\u001b[0;31mNameError\u001b[0m: name 'cdef_func_int' is not defined"
     ]
    }
   ],
   "source": [
    "# low-level C function, callable from C, not visible from Python\n",
    "print cdef_func_int (\"abc\")"
   ]
  },
  {
   "cell_type": "code",
   "execution_count": 15,
   "metadata": {},
   "outputs": [
    {
     "ename": "TypeError",
     "evalue": "an integer is required",
     "output_type": "error",
     "traceback": [
      "\u001b[0;31m---------------------------------------------------------------------------\u001b[0m",
      "\u001b[0;31mTypeError\u001b[0m                                 Traceback (most recent call last)",
      "\u001b[0;32m<ipython-input-15-3c4942895ae2>\u001b[0m in \u001b[0;36m<module>\u001b[0;34m()\u001b[0m\n\u001b[1;32m      1\u001b[0m \u001b[0;31m# hybrid function, visible from Python, arg type check\u001b[0m\u001b[0;34m\u001b[0m\u001b[0;34m\u001b[0m\u001b[0m\n\u001b[0;32m----> 2\u001b[0;31m \u001b[0;32mprint\u001b[0m \u001b[0mcpdef_func_int\u001b[0m \u001b[0;34m(\u001b[0m\u001b[0;34m\"abc\"\u001b[0m\u001b[0;34m)\u001b[0m\u001b[0;34m\u001b[0m\u001b[0m\n\u001b[0m",
      "\u001b[0;32m_cython_magic_33534d6a0fbf893545ecf421754892b2.pyx\u001b[0m in \u001b[0;36m_cython_magic_33534d6a0fbf893545ecf421754892b2.cpdef_func_int (/Users/mihai/.ipython/cython/_cython_magic_33534d6a0fbf893545ecf421754892b2.c:856)\u001b[0;34m()\u001b[0m\n",
      "\u001b[0;31mTypeError\u001b[0m: an integer is required"
     ]
    }
   ],
   "source": [
    "# hybrid function, visible from Python, arg type check\n",
    "print cpdef_func_int (\"abc\")"
   ]
  },
  {
   "cell_type": "markdown",
   "metadata": {
    "slideshow": {
     "slide_type": "slide"
    }
   },
   "source": [
    "## Functions and type coercion (cont'd)\n",
    "<hr style=\"border: solid 4px green\">\n",
    "\n",
    "### Similar tests using the \"norm\" functions\n",
    "* eliminating the Python specific tests (*e.g.* bounds check) doen not prevent the C type checks"
   ]
  },
  {
   "cell_type": "code",
   "execution_count": 16,
   "metadata": {},
   "outputs": [
    {
     "name": "stdout",
     "output_type": "stream",
     "text": [
      "u is  (12,) float64\n",
      "v is  (12,) int64\n",
      "w is  (3, 4) float64\n"
     ]
    }
   ],
   "source": [
    "import sys\n",
    "sys.path.append(\"./lib/python2.7/site-packages\")\n",
    "import matnorm as mn\n",
    "import numpy as np\n",
    "\n",
    "M, N = 3, 4\n",
    "u = np.random.rand (M*N)\n",
    "v = np.arange(M*N)\n",
    "w = u.reshape((M, N))\n",
    "\n",
    "print \"u is \", u.shape, u.dtype\n",
    "print \"v is \", v.shape, v.dtype\n",
    "print \"w is \", w.shape, w.dtype"
   ]
  },
  {
   "cell_type": "code",
   "execution_count": 17,
   "metadata": {},
   "outputs": [],
   "source": [
    "# call function the normal way\n",
    "r = mn.p_norm_openmp_better (u, M*N, 3)"
   ]
  },
  {
   "cell_type": "code",
   "execution_count": 18,
   "metadata": {},
   "outputs": [
    {
     "ename": "ValueError",
     "evalue": "Buffer dtype mismatch, expected 'double' but got 'long'",
     "output_type": "error",
     "traceback": [
      "\u001b[0;31m---------------------------------------------------------------------------\u001b[0m",
      "\u001b[0;31mValueError\u001b[0m                                Traceback (most recent call last)",
      "\u001b[0;32m<ipython-input-18-94bed11674d2>\u001b[0m in \u001b[0;36m<module>\u001b[0;34m()\u001b[0m\n\u001b[1;32m      1\u001b[0m \u001b[0;31m# if input is wrong data type, an error is automatically raised\u001b[0m\u001b[0;34m\u001b[0m\u001b[0;34m\u001b[0m\u001b[0m\n\u001b[0;32m----> 2\u001b[0;31m \u001b[0mr\u001b[0m \u001b[0;34m=\u001b[0m \u001b[0mmn\u001b[0m\u001b[0;34m.\u001b[0m\u001b[0mp_norm_openmp_better\u001b[0m \u001b[0;34m(\u001b[0m\u001b[0mv\u001b[0m\u001b[0;34m,\u001b[0m \u001b[0mM\u001b[0m\u001b[0;34m*\u001b[0m\u001b[0mN\u001b[0m\u001b[0;34m,\u001b[0m \u001b[0;36m3\u001b[0m\u001b[0;34m)\u001b[0m\u001b[0;34m\u001b[0m\u001b[0m\n\u001b[0m",
      "\u001b[0;32m/Users/mihai/Documents/arc/training/arc-training-course__python-hpc__trinity-2017/notebooks__day-1/lecture06-cython/src/matnorm.pyx\u001b[0m in \u001b[0;36mmatnorm.p_norm_openmp_better (./src/matnorm.c:2925)\u001b[0;34m()\u001b[0m\n\u001b[1;32m     98\u001b[0m \u001b[0;34m@\u001b[0m\u001b[0mcython\u001b[0m\u001b[0;34m.\u001b[0m\u001b[0mboundscheck\u001b[0m\u001b[0;34m(\u001b[0m\u001b[0mFalse\u001b[0m\u001b[0;34m)\u001b[0m\u001b[0;34m\u001b[0m\u001b[0m\n\u001b[1;32m     99\u001b[0m \u001b[0;34m@\u001b[0m\u001b[0mcython\u001b[0m\u001b[0;34m.\u001b[0m\u001b[0mwraparound\u001b[0m\u001b[0;34m(\u001b[0m\u001b[0mFalse\u001b[0m\u001b[0;34m)\u001b[0m\u001b[0;34m\u001b[0m\u001b[0m\n\u001b[0;32m--> 100\u001b[0;31m \u001b[0mcpdef\u001b[0m \u001b[0mdouble\u001b[0m \u001b[0mp_norm_openmp_better\u001b[0m \u001b[0;34m(\u001b[0m\u001b[0mdouble\u001b[0m \u001b[0;34m[\u001b[0m\u001b[0;34m:\u001b[0m\u001b[0;34m]\u001b[0m \u001b[0mu\u001b[0m\u001b[0;34m,\u001b[0m \u001b[0mint\u001b[0m \u001b[0mn\u001b[0m\u001b[0;34m,\u001b[0m \u001b[0mint\u001b[0m \u001b[0mp\u001b[0m\u001b[0;34m,\u001b[0m \u001b[0mint\u001b[0m \u001b[0mnt\u001b[0m\u001b[0;34m=\u001b[0m\u001b[0;36m2\u001b[0m\u001b[0;34m)\u001b[0m\u001b[0;34m:\u001b[0m\u001b[0;34m\u001b[0m\u001b[0m\n\u001b[0m\u001b[1;32m    101\u001b[0m \u001b[0;34m\u001b[0m\u001b[0m\n\u001b[1;32m    102\u001b[0m     \u001b[0mcdef\u001b[0m\u001b[0;34m:\u001b[0m\u001b[0;34m\u001b[0m\u001b[0m\n",
      "\u001b[0;31mValueError\u001b[0m: Buffer dtype mismatch, expected 'double' but got 'long'"
     ]
    }
   ],
   "source": [
    "# if input is wrong data type, an error is automatically raised\n",
    "r = mn.p_norm_openmp_better (v, M*N, 3)"
   ]
  },
  {
   "cell_type": "code",
   "execution_count": 19,
   "metadata": {},
   "outputs": [
    {
     "ename": "ValueError",
     "evalue": "Buffer has wrong number of dimensions (expected 1, got 2)",
     "output_type": "error",
     "traceback": [
      "\u001b[0;31m---------------------------------------------------------------------------\u001b[0m",
      "\u001b[0;31mValueError\u001b[0m                                Traceback (most recent call last)",
      "\u001b[0;32m<ipython-input-19-65cbd02a88ea>\u001b[0m in \u001b[0;36m<module>\u001b[0;34m()\u001b[0m\n\u001b[1;32m      1\u001b[0m \u001b[0;31m# if input is wrong data type, an error is automatically raised\u001b[0m\u001b[0;34m\u001b[0m\u001b[0;34m\u001b[0m\u001b[0m\n\u001b[0;32m----> 2\u001b[0;31m \u001b[0mr\u001b[0m \u001b[0;34m=\u001b[0m \u001b[0mmn\u001b[0m\u001b[0;34m.\u001b[0m\u001b[0mp_norm_openmp_better\u001b[0m \u001b[0;34m(\u001b[0m\u001b[0mw\u001b[0m\u001b[0;34m,\u001b[0m \u001b[0mM\u001b[0m\u001b[0;34m*\u001b[0m\u001b[0mN\u001b[0m\u001b[0;34m,\u001b[0m \u001b[0;36m3\u001b[0m\u001b[0;34m)\u001b[0m\u001b[0;34m\u001b[0m\u001b[0m\n\u001b[0m",
      "\u001b[0;32m/Users/mihai/Documents/arc/training/arc-training-course__python-hpc__trinity-2017/notebooks__day-1/lecture06-cython/src/matnorm.pyx\u001b[0m in \u001b[0;36mmatnorm.p_norm_openmp_better (./src/matnorm.c:2925)\u001b[0;34m()\u001b[0m\n\u001b[1;32m     98\u001b[0m \u001b[0;34m@\u001b[0m\u001b[0mcython\u001b[0m\u001b[0;34m.\u001b[0m\u001b[0mboundscheck\u001b[0m\u001b[0;34m(\u001b[0m\u001b[0mFalse\u001b[0m\u001b[0;34m)\u001b[0m\u001b[0;34m\u001b[0m\u001b[0m\n\u001b[1;32m     99\u001b[0m \u001b[0;34m@\u001b[0m\u001b[0mcython\u001b[0m\u001b[0;34m.\u001b[0m\u001b[0mwraparound\u001b[0m\u001b[0;34m(\u001b[0m\u001b[0mFalse\u001b[0m\u001b[0;34m)\u001b[0m\u001b[0;34m\u001b[0m\u001b[0m\n\u001b[0;32m--> 100\u001b[0;31m \u001b[0mcpdef\u001b[0m \u001b[0mdouble\u001b[0m \u001b[0mp_norm_openmp_better\u001b[0m \u001b[0;34m(\u001b[0m\u001b[0mdouble\u001b[0m \u001b[0;34m[\u001b[0m\u001b[0;34m:\u001b[0m\u001b[0;34m]\u001b[0m \u001b[0mu\u001b[0m\u001b[0;34m,\u001b[0m \u001b[0mint\u001b[0m \u001b[0mn\u001b[0m\u001b[0;34m,\u001b[0m \u001b[0mint\u001b[0m \u001b[0mp\u001b[0m\u001b[0;34m,\u001b[0m \u001b[0mint\u001b[0m \u001b[0mnt\u001b[0m\u001b[0;34m=\u001b[0m\u001b[0;36m2\u001b[0m\u001b[0;34m)\u001b[0m\u001b[0;34m:\u001b[0m\u001b[0;34m\u001b[0m\u001b[0m\n\u001b[0m\u001b[1;32m    101\u001b[0m \u001b[0;34m\u001b[0m\u001b[0m\n\u001b[1;32m    102\u001b[0m     \u001b[0mcdef\u001b[0m\u001b[0;34m:\u001b[0m\u001b[0;34m\u001b[0m\u001b[0m\n",
      "\u001b[0;31mValueError\u001b[0m: Buffer has wrong number of dimensions (expected 1, got 2)"
     ]
    }
   ],
   "source": [
    "# if input is wrong data type, an error is automatically raised\n",
    "r = mn.p_norm_openmp_better (w, M*N, 3)"
   ]
  },
  {
   "cell_type": "markdown",
   "metadata": {
    "slideshow": {
     "slide_type": "slide"
    }
   },
   "source": [
    "## Summary\n",
    "<hr style=\"border: solid 4px green\">\n",
    "\n",
    "### Benefits of <span style=\"font-family: Courier New, Courier, monospace;\">Cython</span>\n",
    "* Python code is enhanced with\n",
    "  * variable types\n",
    "  * external libraries functions\n",
    "  * multi-threading constructs\n",
    "  * extra directives for the Cython compiler\n",
    "* nevertheless, code remains mostly Python\n",
    "<br><br>\n",
    "\n",
    "### Enhanced Python code is cythonized and compiled\n",
    "* code-to-code transformation: `Cython` source file (`.pyx` file) $\\longrightarrow$ C source (`.c` file)\n",
    "* source compilation: C source $\\longrightarrow$ Python extension module (`.so` file)"
   ]
  },
  {
   "cell_type": "markdown",
   "metadata": {
    "slideshow": {
     "slide_type": "slide"
    }
   },
   "source": [
    "## Summary (cont'd)\n",
    "<hr style=\"border: solid 4px green\">\n",
    "\n",
    "### Best practices\n",
    "* since pure Python is valid Cython, code development can be incremental\n",
    "* work by methodically stripping away the Python safe but expensive objects\n",
    "* `Cython` annotation helps\n",
    "  * `cython -a mycode.pyx` generates `mycode.html`\n",
    "  * the HTML file provides information about Python call outs\n",
    "  * useful and *recommended* while developing code -- minimise the size of the *yellow regions*"
   ]
  },
  {
   "cell_type": "markdown",
   "metadata": {
    "slideshow": {
     "slide_type": "slide"
    }
   },
   "source": [
    "## Summary (cont'd)\n",
    "<hr style=\"border: solid 4px green\">\n",
    "\n",
    "### `Cython` performance achieved by\n",
    "* compiling code\n",
    "  * applying standard compiler optimisation (which the interpreter cannot)\n",
    "  * *note*: pure Python cythonized cuts runtime by 20-50%\n",
    "* pruning the original Python down to essentials\n",
    "  * eliminate dynamic typing\n",
    "  * eliminate checks (*e.g.* bound checks)\n",
    "  * *note*: 300x speedup on pure Python cythonized\n",
    "* overcoming the GIL and using OpenMP to multithread\n",
    "  * *note*: very easy programming"
   ]
  },
  {
   "cell_type": "markdown",
   "metadata": {
    "slideshow": {
     "slide_type": "notes"
    }
   },
   "source": [
    "<img src=\"../../images/reusematerial.png\"; style=\"float: center; width: 90\"; >\n",
    "<br>\n",
    "<br>"
   ]
  }
 ],
 "metadata": {
  "anaconda-cloud": {},
  "celltoolbar": "Slideshow",
  "kernelspec": {
   "display_name": "Python 2",
   "language": "python",
   "name": "python2"
  },
  "language_info": {
   "codemirror_mode": {
    "name": "ipython",
    "version": 2
   },
   "file_extension": ".py",
   "mimetype": "text/x-python",
   "name": "python",
   "nbconvert_exporter": "python",
   "pygments_lexer": "ipython2",
   "version": "2.7.14"
  }
 },
 "nbformat": 4,
 "nbformat_minor": 1
}

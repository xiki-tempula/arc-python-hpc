{
 "cells": [
  {
   "cell_type": "markdown",
   "metadata": {
    "nbpresent": {
     "id": "6fff3e7e-a1c1-4fb0-8866-0e3cecd444dc"
    },
    "slideshow": {
     "slide_type": "slide"
    }
   },
   "source": [
    "# Python for High Performance Computing\n",
    "# Summary of shared memory parallel methods\n",
    "<hr style=\"border: solid 4px green\">\n",
    "<br>\n",
    "<center> <img src=\"../../images/arc_logo.png\"; alt=\"Logo\" style=\"float: center; width: 20%\"></center>\n",
    "<br>\n",
    "## http://www.arc.ox.ac.uk\n",
    "## support@arc.ox.ac.uk"
   ]
  },
  {
   "cell_type": "markdown",
   "metadata": {
    "slideshow": {
     "slide_type": "slide"
    }
   },
   "source": [
    "## Making Python faster\n",
    "<hr style=\"border: solid 4px green\">\n",
    "\n",
    "### Serial solutions\n",
    "* `NumPy`\n",
    "* Fortran and C\n",
    "<br><br>\n",
    "\n",
    "### Parallel solutions (shared memory porgramming)\n",
    "* Fortran and C accelerated by OpenMP\n",
    "* Cython\n",
    "<br><br>\n",
    "\n",
    "\n",
    "### Demonstrated on the 2D heat equation solution\n",
    "* serial solutions (last time)\n",
    "* parallel solutions"
   ]
  },
  {
   "cell_type": "markdown",
   "metadata": {
    "slideshow": {
     "slide_type": "slide"
    }
   },
   "source": [
    "## 2D heat equation solution recap\n",
    "<hr style=\"border: solid 4px green\">\n",
    "\n",
    "### The numerical algorithm\n",
    "* start with initial conditions $u^0$\n",
    "* for each time step\n",
    "  * for each space point, use current solution $u^{n}$ and the 6-point stencil (below) to compute next step $u^{n+1}$\n",
    "  * apply boundary conditions\n",
    "<br><br>\n",
    "\n",
    "### The 6-point stencil of the numerical scheme\n",
    "* each discrete point $(i, j)$ is updated from five values\n",
    "  * itself\n",
    "  * 4 neighbours: $(i-1, j)$, $(i+1, j)$, $(i, j-1)$, $(i, j+1)$\n",
    "<br><br>\n",
    "\n",
    "### Implementation\n",
    "* solution is a 2D array\n",
    "* updated solution is another 2D array\n",
    "* the two arrays are swapped at each time-step"
   ]
  },
  {
   "cell_type": "markdown",
   "metadata": {
    "slideshow": {
     "slide_type": "slide"
    }
   },
   "source": [
    "## 2D heat equation: C + OpenMP\n",
    "<hr style=\"border: solid 4px green\">"
   ]
  },
  {
   "cell_type": "markdown",
   "metadata": {},
   "source": [
    "```c\n",
    "void timestep ( const double nu,\n",
    "                const int nx,const int ny,\n",
    "                double uo[nx][ny],double u[nx][ny] )\n",
    "{\n",
    "\n",
    "  int i,j;\n",
    "\n",
    "  // finite difference scheme\n",
    "# ifdef _OPENMP\n",
    "# pragma omp parallel for      \\\n",
    "  default (none)               \\\n",
    "  shared (u,uo)                \\\n",
    "  private (i,j)                \\\n",
    "  firstprivate (nx,ny, nu)     \\\n",
    "  schedule (static)\n",
    "# endif\n",
    "  // finite difference scheme\n",
    "  for (i=1; i<nx-1; i++) {\n",
    "    for (j=1; j<ny-1; j++) {\n",
    "      u[i][j] = uo[i][j]\n",
    "              + nu * ( uo [i-1][j] + uo [i+1][j]\n",
    "                     + uo [i][j-1] + uo [i][j+1]\n",
    "                     - 4.0 * uo [i][j] );\n",
    "        }\n",
    "  }\n",
    "}\n",
    "```"
   ]
  },
  {
   "cell_type": "markdown",
   "metadata": {
    "slideshow": {
     "slide_type": "slide"
    }
   },
   "source": [
    "## 2D heat equation: Fortran + OpenMP\n",
    "<hr style=\"border: solid 4px green\">"
   ]
  },
  {
   "cell_type": "markdown",
   "metadata": {},
   "source": [
    "```fortran\n",
    "subroutine timestep (nu, uo,u, nx,ny)\n",
    "  use omp_lib\n",
    "\n",
    "  implicit none\n",
    "\n",
    "  integer, parameter :: dp = selected_real_kind (15, 307)\n",
    "\n",
    "  integer,                                   intent (in)    :: nx,ny\n",
    "  real (kind=dp), dimension (0:nx-1,0:ny-1), intent (inout) :: u\n",
    "  real (kind=dp), dimension (0:nx-1,0:ny-1), intent (in)    :: uo\n",
    "  real (kind=dp),                            intent (in)    :: nu\n",
    "\n",
    "  integer :: i,j\n",
    "\n",
    "  !$omp parallel do default(none) &\n",
    "  !$omp&            private(i,j) shared(u,uo) &\n",
    "  !$omp&            firstprivate(nx,ny, nu) collapse(2) &\n",
    "  !$omp&            schedule(static)\n",
    "  do j = 1, ny-2\n",
    "     do i = 1, nx-2\n",
    "        u(i,j) = uo(i,j)                        &\n",
    "               + nu * ( uo (i-1,j) + uo (i+1,j) &\n",
    "                      + uo (i,j-1) + uo (i,j+1) &\n",
    "                      - 4.0_dp * uo (i,j) )\n",
    "     end do\n",
    "  end do\n",
    "  !$omp end parallel do\n",
    "\n",
    "end subroutine timestep\n",
    "```"
   ]
  },
  {
   "cell_type": "markdown",
   "metadata": {
    "slideshow": {
     "slide_type": "slide"
    }
   },
   "source": [
    "## 2D heat equation: Cython\n",
    "<hr style=\"border: solid 4px green\">"
   ]
  },
  {
   "cell_type": "markdown",
   "metadata": {},
   "source": [
    "```python\n",
    "import cython\n",
    "from cython.parallel import prange, parallel\n",
    "cimport openmp\n",
    "\n",
    "@cython.boundscheck(False)\n",
    "@cython.wraparound(False)\n",
    "def timestep (double [:, :] u,\n",
    "              double [:, :] uo,\n",
    "              double nu):\n",
    "    \"\"\" time-steps implemented using cython and straight python array indexing\"\"\"\n",
    "    # c-style type definitions\n",
    "    cdef int nx,ny\n",
    "    cdef int i, j\n",
    "    # array size\n",
    "    nx = u.shape[0]\n",
    "    ny = u.shape[1]\n",
    "    # apply numerical scheme (one time-step)\n",
    "    for i in prange(1, nx-1, nogil=True):\n",
    "        for j in range(1, ny-1):\n",
    "            u[i,j] = uo[i,j] + ( nu * ( uo [i-1, j] + uo [i+1, j] +\n",
    "                                        uo [i, j-1] + uo [i, j+1]\n",
    "                                        - 4.0 * uo [i,j] ) )\n",
    "```"
   ]
  },
  {
   "cell_type": "markdown",
   "metadata": {
    "slideshow": {
     "slide_type": "slide"
    }
   },
   "source": [
    "## 2D heat equation: build libraries\n",
    "<hr style=\"border: solid 4px green\">"
   ]
  },
  {
   "cell_type": "code",
   "execution_count": 1,
   "metadata": {
    "collapsed": false
   },
   "outputs": [],
   "source": [
    "# C and Fortran extensions\n",
    "msg = !python setup_c_fortran.py config_fc --f90flags=\"-O3 -mavx -fopenmp\" install --prefix=$PWD"
   ]
  },
  {
   "cell_type": "code",
   "execution_count": 2,
   "metadata": {
    "collapsed": false
   },
   "outputs": [],
   "source": [
    "# cython extensions\n",
    "msg = !python setup_cython.py install --prefix=$PWD"
   ]
  },
  {
   "cell_type": "markdown",
   "metadata": {
    "slideshow": {
     "slide_type": "slide"
    }
   },
   "source": [
    "## 2D heat equation: check\n",
    "<hr style=\"border: solid 4px green\">"
   ]
  },
  {
   "cell_type": "code",
   "execution_count": 3,
   "metadata": {
    "collapsed": false
   },
   "outputs": [
    {
     "name": "stdout",
     "output_type": "stream",
     "text": [
      "total 472\r\n",
      "-rwxr-xr-x  1 mihai  staff    9376  7 Mar 13:33 \u001b[31mc_stepper.so\u001b[m\u001b[m\r\n",
      "-rwxr-xr-x  1 mihai  staff  176360  7 Mar 13:33 \u001b[31mcython_stepper.so\u001b[m\u001b[m\r\n",
      "-rwxr-xr-x  1 mihai  staff   37220  7 Mar 13:33 \u001b[31mfortran_stepper.so\u001b[m\u001b[m\r\n",
      "drwxr-xr-x  3 mihai  staff     102  7 Mar 13:33 \u001b[34mfortran_stepper.so.dSYM\u001b[m\u001b[m\r\n",
      "-rw-r--r--  1 mihai  staff     250  7 Mar 13:33 heat_c_fortran_stepper-0.0.0-py2.7.egg-info\r\n",
      "-rw-r--r--  1 mihai  staff     247  7 Mar 13:33 heat_cython_stepper-0.0.0-py2.7.egg-info\r\n"
     ]
    }
   ],
   "source": [
    "!ls -l ./lib/python2.7/site-packages"
   ]
  },
  {
   "cell_type": "markdown",
   "metadata": {},
   "source": [
    "## 2D heat equation: run\n",
    "<hr style=\"border: solid 4px green\">"
   ]
  },
  {
   "cell_type": "code",
   "execution_count": 4,
   "metadata": {
    "collapsed": false
   },
   "outputs": [
    {
     "name": "stdout",
     "output_type": "stream",
     "text": [
      "===== 1 threads =====\n",
      " computing 500 iterations on a 1000x1000 grid\n",
      " stepper numpy, 500 iterations, 5.252281 seconds, 0.382189 rel error\n",
      " stepper fortran, 500 iterations, 1.367225 seconds, 0.382189 rel error\n",
      " stepper ctypes, 500 iterations, 0.536755 seconds, 0.382189 rel error\n",
      " stepper cython, 500 iterations, 1.859913 seconds, 0.382285 rel error\n",
      "===== 2 threads =====\n",
      " computing 500 iterations on a 1000x1000 grid\n",
      " stepper numpy, 500 iterations, 5.231704 seconds, 0.382189 rel error\n",
      " stepper fortran, 500 iterations, 0.784759 seconds, 0.382189 rel error\n",
      " stepper ctypes, 500 iterations, 0.369377 seconds, 0.382189 rel error\n",
      " stepper cython, 500 iterations, 1.028648 seconds, 0.382285 rel error\n",
      "===== 4 threads =====\n",
      " computing 500 iterations on a 1000x1000 grid\n",
      " stepper numpy, 500 iterations, 5.288416 seconds, 0.382189 rel error\n",
      " stepper fortran, 500 iterations, 0.418362 seconds, 0.382189 rel error\n",
      " stepper ctypes, 500 iterations, 0.311398 seconds, 0.382189 rel error\n",
      " stepper cython, 500 iterations, 0.591416 seconds, 0.382285 rel error\n"
     ]
    }
   ],
   "source": [
    "!for nt in 1 2 4; do echo \"===== $nt threads =====\"; OMP_NUM_THREADS=$nt python heat.py 1000 500; done"
   ]
  },
  {
   "cell_type": "markdown",
   "metadata": {
    "slideshow": {
     "slide_type": "slide"
    }
   },
   "source": [
    "## 2D heat equation: results on the ARC cluster\n",
    "<hr style=\"border: solid 4px green\">\n",
    "\n",
    "### Compute nodes\n",
    "* 16 cores (Intel Xeon Haswell)\n",
    "* 64GB RAM (or more)"
   ]
  },
  {
   "cell_type": "markdown",
   "metadata": {},
   "source": [
    "```\n",
    "for nt in 1 2 4 6 8 10 12 14 16; do\n",
    "  OMP_NUM_THREADS=$nt python heat.py 3000 500;\n",
    "done 2>&1 | tee heat.3000x3000x500_arcus-b.raw\n",
    "```"
   ]
  },
  {
   "cell_type": "code",
   "execution_count": 8,
   "metadata": {
    "collapsed": true
   },
   "outputs": [],
   "source": [
    "!grep seconds heat.3000x3000x500_arcus-b.raw | awk '{print $5}' > heat.3000x3000x500_arcus-b.times"
   ]
  },
  {
   "cell_type": "code",
   "execution_count": 5,
   "metadata": {
    "collapsed": false
   },
   "outputs": [
    {
     "data": {
      "image/png": "[encoded data removed]",
      "text/plain": [
       "<matplotlib.figure.Figure at 0x10606ab50>"
      ]
     },
     "metadata": {},
     "output_type": "display_data"
    }
   ],
   "source": [
    "% matplotlib inline\n",
    "import numpy as np\n",
    "import matplotlib.pyplot as plt\n",
    "data = np.loadtxt (\"heat.3000x3000x500_arcus-b.times\")\n",
    "data = data.reshape([-1,4])\n",
    "nthreads = np.array([1, 2, 4, 6, 8, 10, 12, 14, 16])\n",
    "\n",
    "# control figure size\n",
    "plt.figure (figsize = (16, 4))\n",
    "\n",
    "# plot 1: wallclock time\n",
    "plt.subplot (1, 2, 1)\n",
    "plt.plot (nthreads, data[:,1], 'bo-', label=\"Fortran\")\n",
    "plt.plot (nthreads, data[:,2], 'go-', label=\"C\")\n",
    "plt.plot (nthreads, data[:,3], 'ro-', label=\"Cython\")\n",
    "plt.xlabel (\"number of threads\")\n",
    "plt.ylabel (\"runtime [sec]\")\n",
    "axes = plt.gca ()\n",
    "axes.yaxis.grid ()\n",
    "plt.legend ()\n",
    "\n",
    "# plot 2: speedup\n",
    "plt.subplot (1, 2, 2)\n",
    "plt.plot (nthreads, data[0,1] / data[:,1], 'bo-', label=\"Fortran\")\n",
    "plt.plot (nthreads, data[0,2] / data[:,2], 'go-', label=\"C\")\n",
    "plt.plot (nthreads, data[0,3] / data[:,3], 'ro-', label=\"Cython\")\n",
    "plt.xlabel (\"number of threads\")\n",
    "plt.ylabel (\"speedup\")\n",
    "axes = plt.gca ()\n",
    "axes.yaxis.grid ()\n",
    "plt.legend ()\n",
    "\n",
    "# show plot\n",
    "plt.show ()"
   ]
  },
  {
   "cell_type": "markdown",
   "metadata": {
    "slideshow": {
     "slide_type": "slide"
    }
   },
   "source": [
    "## Conclusions\n",
    "<hr style=\"border: solid 4px green\">\n",
    "\n",
    "### A number of parallel solutions on a realistic problem\n",
    "* C and Fortran extensions using OpenMP\n",
    "* `cython`\n",
    "<br><br>\n",
    "\n",
    "### Overall winner: <span style=\"font-family: Courier New, Courier, monospace;\">cython</span>\n",
    "* easy to use and mature\n",
    "* shared memory parallelism also easy"
   ]
  },
  {
   "cell_type": "markdown",
   "metadata": {
    "nbpresent": {
     "id": "93979091-4434-4427-be06-2ebd441b3d4c"
    },
    "slideshow": {
     "slide_type": "notes"
    }
   },
   "source": [
    "<img src=\"../../images/reusematerial.png\"; style=\"float: center; width: 90\"; >"
   ]
  },
  {
   "cell_type": "code",
   "execution_count": null,
   "metadata": {
    "collapsed": true
   },
   "outputs": [],
   "source": []
  }
 ],
 "metadata": {
  "anaconda-cloud": {},
  "celltoolbar": "Slideshow",
  "kernelspec": {
   "display_name": "Python [Root]",
   "language": "python",
   "name": "Python [Root]"
  },
  "language_info": {
   "codemirror_mode": {
    "name": "ipython",
    "version": 2
   },
   "file_extension": ".py",
   "mimetype": "text/x-python",
   "name": "python",
   "nbconvert_exporter": "python",
   "pygments_lexer": "ipython2",
   "version": "2.7.12"
  }
 },
 "nbformat": 4,
 "nbformat_minor": 0
}

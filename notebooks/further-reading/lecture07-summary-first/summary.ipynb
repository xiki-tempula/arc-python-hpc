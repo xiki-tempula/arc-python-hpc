{
 "cells": [
  {
   "cell_type": "markdown",
   "metadata": {
    "slideshow": {
     "slide_type": "slide"
    }
   },
   "source": [
    "# Python for High Performance Computing\n",
    "# Putting it all together\n",
    "<hr style=\"border: solid 4px green\">\n",
    "<br>\n",
    "<center><img src=\"../../images/arc_logo.png\"; style=\"float: center; width: 20%\"></center>\n",
    "<br>\n",
    "## http://www.arc.ox.ac.uk\n",
    "## support@arc.ox.ac.uk"
   ]
  },
  {
   "cell_type": "markdown",
   "metadata": {
    "slideshow": {
     "slide_type": "slide"
    }
   },
   "source": [
    "## Overview\n",
    "<hr style=\"border: solid 4px green\">\n",
    "\n",
    "### Package and tools\n",
    "* `NumPy` arrays\n",
    "* `f2py` and `ctypes`\n",
    "<br><br>\n",
    "\n",
    "### They all make Python code run faster.  How much faster?\n",
    "* we are testing these in a realistic application\n",
    "* the test is against straight loop-based Python implementation\n",
    "<br><br>\n",
    "\n",
    "### Baseline execution for future benchmarking\n",
    "* `NumPy` implementation -- fastest performance in Python with minimum development\n",
    "* C / Fortran implementation -- fastest single threaded performance without a constraint on language or development effort"
   ]
  },
  {
   "cell_type": "markdown",
   "metadata": {
    "slideshow": {
     "slide_type": "slide"
    }
   },
   "source": [
    "## A finite difference solution to the 2D heat equation\n",
    "<hr style=\"border: solid 4px green\">\n",
    "\n",
    "### The physics\n",
    "Find the time-varying temperature distribution across a plate given an initial distribution and a fixed temperature around the edges.\n",
    "<br><br>\n",
    "\n",
    "### The maths\n",
    "Solve the equation\n",
    "$$\\frac{\\partial u}{\\partial t}=\\frac{\\partial^2 u}{\\partial x^2}+\\frac{\\partial^2 u}{\\partial y^2}$$\n",
    "with\n",
    "* initial condition: $u(x,y,0)=u_0(x,y)$\n",
    "* boundary condition: $u(x,y,t)=0$ on the boundary\n",
    "<br><br>\n",
    "\n",
    "Choose the domain to be the unit square $0\\leq x,y\\leq 1$ and the initial conditions\n",
    "$$u_0(x,y)=\\sin\\pi x\\cdot\\sin\\pi y$$\n",
    "Then, the analytic solution is\n",
    "$$u(x,y,t)=\\sin\\pi x\\cdot\\sin\\pi y\\cdot e^{-2\\pi^2 t}$$"
   ]
  },
  {
   "cell_type": "markdown",
   "metadata": {
    "slideshow": {
     "slide_type": "slide"
    }
   },
   "source": [
    "## A finite difference solution to the 2D heat equation (cont'd)\n",
    "<hr style=\"border: solid 4px green\">\n",
    "\n",
    "### The numerics\n",
    "Usind a **F**inite **D**ifference (FD) solution\n",
    "* sample the 2D domain at equidistant points at coordinates $x_i=i\\Delta x$ and $y_j=j\\Delta y$\n",
    "* sample time at points $t_n=n\\Delta t$\n",
    "* compute the discrete values $u^n_{i,j}$ corresponsing to the $x_i$, $y_j$ and $t_n$\n",
    "* assuming $\\Delta x=\\Delta y$, the numerical solution is produced by the *time-marching scheme*\n",
    "\n",
    "$$u^{n+1}_{i,j}=u^{n}_{i,j}+\\nu \\left( u^{n}_{i+1,j}+u^{n}_{i-1,j}+u^{n}_{i,j+1}+u^{n}_{i,j-1}\\ -\\ 4u^{n}_{i,j} \\right)$$\n",
    "\n",
    "where $\\nu=\\frac{\\Delta t}{\\Delta x^2}\\leq 0.25$ for numerical stability."
   ]
  },
  {
   "cell_type": "markdown",
   "metadata": {
    "slideshow": {
     "slide_type": "slide"
    }
   },
   "source": [
    "## A finite difference solution to the 2D heat equation (cont'd)\n",
    "<hr style=\"border: solid 4px green\">\n",
    "\n",
    "### The numerical scheme\n",
    "A 6-point stencil\n",
    "* each discrete point $(i, j)$ at time $t_{n+1}$ is updated from\n",
    "* five values at time $t_n$ (the same point plus its neighbours)\n",
    "<br><br>\n",
    "\n",
    "<table border=\"0\">\n",
    "  <tr>\n",
    "    <td><center>time step $n$</center></td>\n",
    "    <td><center>time step $n+1$</center></td>\n",
    "  </tr>\n",
    "  <tr>\n",
    "    <td><img src=\"./images/untxt.png\"; style=\"float: center; width: 40%\"></td>\n",
    "    <td><img src=\"./images/unp1txt.png\"; style=\"float: center; width: 40%\"></td>\n",
    "  </tr>\n",
    "</table>\n",
    "\n",
    "<br><br>\n",
    "\n",
    "### The numerical algorithm\n",
    "* start with initial conditions\n",
    "* for each time step\n",
    "  * for each space point, use current solution $u^{n}$ to compute next step $u^{n+1}$\n",
    "  * apply boundary conditions\n",
    "  * swap current solution with updated \"next-step\" solution"
   ]
  },
  {
   "cell_type": "markdown",
   "metadata": {
    "slideshow": {
     "slide_type": "slide"
    }
   },
   "source": [
    "## A finite difference solution to the 2D heat equation (cont'd)\n",
    "<hr style=\"border: solid 4px green\">\n",
    "\n",
    "### Implementation\n",
    "\n",
    "| Class | Data | Methods |\n",
    "| :--- | :--- | :--- | \n",
    "| `grid` | coordinates: `x`, `y` | `error` |\n",
    "|        | solution: `u`         | |\n",
    "|        | old solution: `uo`    | |\n",
    "|  `solution`  | `grid` object | `timeStep` |\n",
    "|              |               | `setStepper` |\n",
    "|              |               | `numpyStepper` |\n",
    "|              |               | `fortranStepper` |\n",
    "|              |               | `cStepper` |\n",
    "|              |               | *etc.* |"
   ]
  },
  {
   "cell_type": "markdown",
   "metadata": {
    "slideshow": {
     "slide_type": "slide"
    }
   },
   "source": [
    "## A finite difference solution to the 2D heat equation (cont'd)\n",
    "<hr style=\"border: solid 4px green\">\n",
    "\n",
    "The `solution` class has the method `timeStep`, which provides the numerical solution\n",
    "```python\n",
    "def timeStep (self, numIters=0):\n",
    "    \"\"\"\n",
    "    Advances the solution numIters timesteps using stepper set by setStepper()\n",
    "    \"\"\"\n",
    "    # number of grid points in x, y\n",
    "    nx, ny = self.grid.u.shape\n",
    "    # solution vectors\n",
    "    u  = self.grid.u\n",
    "    uo = self.grid.uo\n",
    "    # scheme parameter (<=0.25 for stability)\n",
    "    nu = self.nu\n",
    "    # time-step numIters times\n",
    "    for t in range (1, numIters):\n",
    "        # apply numerical scheme\n",
    "        self.stepper (nx,ny, u,uo, nu)\n",
    "        # copy previous step solution into old solution\n",
    "        u, uo = uo, u\n",
    "```"
   ]
  },
  {
   "cell_type": "markdown",
   "metadata": {
    "slideshow": {
     "slide_type": "slide"
    }
   },
   "source": [
    "## A finite difference solution to the 2D heat equation (cont'd)\n",
    "<hr style=\"border: solid 4px green\">\n",
    "\n",
    "This matches the *numerical algorithm* above, where `self.stepper` is an implementation of the update\n",
    "$$u^{n+1}_{i,j}=u^{n}_{i,j}+\\nu \\left( u^{n}_{i+1,j}+u^{n}_{i-1,j}+u^{n}_{i,j+1}+u^{n}_{i,j-1}\\ -\\ 4u^{n}_{i,j} \\right)$$\n",
    "for all $i$ and $j$, excepting the boundaries.\n",
    "\n",
    "`self.stepper` is initialised on one of the methods `*Stepper` available, each one being a different implementation."
   ]
  },
  {
   "cell_type": "markdown",
   "metadata": {
    "slideshow": {
     "slide_type": "slide"
    }
   },
   "source": [
    "## <span style=\"font-family: Courier New, Courier, monospace;\">pythonStepper</span>: pure Python\n",
    "<hr style=\"border: solid 4px green\">\n",
    "\n",
    "```python\n",
    "for i in range(1, nx-1):\n",
    "    for j in range(1, ny-1):\n",
    "        u[i,j] = uo[i,j] + ( nu * ( uo [i-1, j] + uo [i+1, j] +\n",
    "                                    uo [i, j-1] + uo [i, j+1]\n",
    "                                    - 4.0 * uo [i,j] ) )\n",
    "```"
   ]
  },
  {
   "cell_type": "markdown",
   "metadata": {
    "slideshow": {
     "slide_type": "slide"
    }
   },
   "source": [
    "## <span style=\"font-family: Courier New, Courier, monospace;\">numpyStepper</span>: <span style=\"font-family: Courier New, Courier, monospace;\">NumPy</span> arrays\n",
    "<hr style=\"border: solid 4px green\">\n",
    "\n",
    "Replacing the `for` loops by array slicing.\n",
    "\n",
    "```python\n",
    "u[1:-1, 1:-1] = uo[1:-1, 1:-1] + ( nu * ( uo [0:-2, 1:-1] + uo [2:, 1:-1]\n",
    "                                        + uo [1:-1, 0:-2] + uo [1:-1, 2:]\n",
    "                                        - 4.0 * uo [1:-1, 1:-1] ) )\n",
    "```"
   ]
  },
  {
   "cell_type": "markdown",
   "metadata": {
    "slideshow": {
     "slide_type": "slide"
    }
   },
   "source": [
    "## <span style=\"font-family: Courier New, Courier, monospace;\">fortranStepper</span>: Fortran\n",
    "<hr style=\"border: solid 4px green\">\n",
    "\n",
    "### Python side\n",
    "```python\n",
    "import fortran_stepper\n",
    "fortran_stepper.timestep (nu, uo,u)\n",
    "```\n",
    "\n",
    "### Library source code\n",
    "```fortran\n",
    "subroutine timestep (nu, uo,u, nx,ny)\n",
    "\n",
    "  implicit none\n",
    "\n",
    "  integer, parameter :: dp = selected_real_kind (15, 307)\n",
    "\n",
    "  integer,                                   intent (in)    :: nx,ny\n",
    "  real (kind=dp), dimension (0:nx-1,0:ny-1), intent (inout) :: u\n",
    "  real (kind=dp), dimension (0:nx-1,0:ny-1), intent (in)    :: uo\n",
    "  real (kind=dp),                            intent (in)    :: nu\n",
    "\n",
    "  u(1:nx-2, 1:ny-2) = uo(1:nx-2, 1:ny-2)                               &\n",
    "                    + nu * ( uo (0:nx-3, 1:ny-2) + uo (2:nx-1, 1:ny-2) &\n",
    "                           + uo (1:nx-2, 0:ny-3) + uo (1:nx-2, 2:ny-1) &\n",
    "                           - 4.0_dp * uo (1:nx-2, 1:ny-2) )\n",
    "\n",
    "end subroutine timestep\n",
    "```\n",
    "\n",
    "> *Note*: the above makes use of the Fortran array programming, which is very similar to `numpy` arrays"
   ]
  },
  {
   "cell_type": "markdown",
   "metadata": {
    "slideshow": {
     "slide_type": "slide"
    }
   },
   "source": [
    "## <span style=\"font-family: Courier New, Courier, monospace;\">fortranStepper</span>: Fortran  (cont'd)\n",
    "<hr style=\"border: solid 4px green\">\n",
    "\n",
    "### Important: storage must be cast as column major\n",
    "\n",
    "```fortran\n",
    "if (stepper == \"fortran\"):\n",
    "  self.grid.uo =  numpy.array (self.grid.uo, order=\"Fortran\")\n",
    "  self.grid.u  =  numpy.ndarray (shape=self.grid.uo.shape,\n",
    "                                 dtype=self.grid.uo.dtype,\n",
    "                                 order=\"Fortran\")\n",
    "```"
   ]
  },
  {
   "cell_type": "markdown",
   "metadata": {
    "slideshow": {
     "slide_type": "slide"
    }
   },
   "source": [
    "## `cStepper`: C\n",
    "<hr style=\"border: solid 4px green\">\n",
    "\n",
    "### Python side\n",
    "\n",
    "```python\n",
    "import ctypes\n",
    "from numpy.ctypeslib import ndpointer\n",
    "\n",
    "lib = ctypes.cdll.LoadLibrary(\"c_stepper.so\")\n",
    "lib.timestep.restype = None\n",
    "lib.timestep.argtypes = [ctypes.c_double,\n",
    "                         ctypes.c_int,\n",
    "                         ctypes.c_int,\n",
    "                         ndpointer(ctypes.c_double, flags=\"C_CONTIGUOUS\"),\n",
    "                         ndpointer(ctypes.c_double, flags=\"C_CONTIGUOUS\")]\n",
    "\n",
    "lib.timestep (nu, nx,ny, uo,u)\n",
    "```\n",
    "\n",
    "### Library source code\n",
    "\n",
    "```c\n",
    "void timestep ( const double nu,\n",
    "                const int nx,const int ny,\n",
    "                double uo[nx][ny],double u[nx][ny] )\n",
    "{\n",
    "\n",
    "  int i,j;\n",
    "\n",
    "  // finite difference scheme\n",
    "  for (i=1; i<nx-1; i++) {\n",
    "    for (j=1; j<ny-1; j++) {\n",
    "      u[i][j] = uo[i][j]\n",
    "              + nu * ( uo [i-1][j] + uo [i+1][j]\n",
    "                     + uo [i][j-1] + uo [i][j+1]\n",
    "                     - 4.0 * uo [i][j] );\n",
    "\t}\n",
    "  }\n",
    "}\n",
    "```"
   ]
  },
  {
   "cell_type": "markdown",
   "metadata": {
    "slideshow": {
     "slide_type": "slide"
    }
   },
   "source": [
    "## Exercise\n",
    "<hr style=\"border: solid 4px green\">\n",
    "\n",
    "### Steps\n",
    "* build the modules from source\n",
    "* measure performance\n",
    "* draw conclusions\n",
    "<br><br>\n",
    "\n",
    "### Observations\n",
    "* the C and Fortran source files are found in the `src/` directory\n",
    "* the modules (shared libraries) go into a directory `lib/python2.7/site-packages`\n",
    "  * directory created by the build process\n",
    "  * directory name mimics `distutils` installations"
   ]
  },
  {
   "cell_type": "markdown",
   "metadata": {
    "slideshow": {
     "slide_type": "slide"
    }
   },
   "source": [
    "## Exercise: building the modules\n",
    "<hr style=\"border: solid 4px green\">\n",
    "\n",
    "### Simple way using methods learnt so far\n",
    "* using `gcc` and `f2py`\n",
    "* to make life simple, the building process is managed by the `make` utility\n",
    "<br><br>\n",
    "\n",
    "### Pythonic way\n",
    "* providing a script `setup.py`, which uses `numpy.distutil` to define rules\n",
    "* the modules are built with the command `python setup.py build_ext --inplace`\n",
    "* this is what we shall be using in future\n",
    "<br><br>\n",
    "\n",
    "### Build\n",
    "* edit the `makefile` and observe\n",
    "  * the compiler details (flags, in particular)\n",
    "  * the rules to build the modules\n",
    "  * using `make` is just a convenient way to manage the `gcc` and `f2py` commands\n",
    "* build the modules by running the command `make`\n",
    "* check that the modules were created (`ls -l lib/python2.7/site-packages`)"
   ]
  },
  {
   "cell_type": "code",
   "execution_count": 8,
   "metadata": {
    "collapsed": false
   },
   "outputs": [
    {
     "name": "stdout",
     "output_type": "stream",
     "text": [
      "/bin/mkdir -p /Users/mihai/Documents/arc/training/scientific-python/arc-sci-py/python-hpc-day-1/lecture06-summary/lib/python2.7/site-packages\n",
      "gcc -O2 -mavx -fPIC -std=c99 -c src/c_stepper.c\n",
      "gcc -shared c_stepper.o -o /Users/mihai/Documents/arc/training/scientific-python/arc-sci-py/python-hpc-day-1/lecture06-summary/lib/python2.7/site-packages/c_stepper.so\n",
      "/bin/rm -f c_stepper.o\n",
      "f2py    src/fortran_stepper.f90 -h fortran_stepper.pyf\n",
      "Reading fortran codes...\n",
      "\tReading file 'src/fortran_stepper.f90' (format:free)\n",
      "Post-processing...\n",
      "\tBlock: timestep\n",
      "Post-processing (stage 2)...\n",
      "Saving signatures to file \"./fortran_stepper.pyf\"\n",
      "f2py -c src/fortran_stepper.f90 -m fortran_stepper\n",
      "\u001b[39mrunning build\u001b[0m\n",
      "\u001b[39mrunning config_cc\u001b[0m\n",
      "\u001b[39munifing config_cc, config, build_clib, build_ext, build commands --compiler options\u001b[0m\n",
      "\u001b[39mrunning config_fc\u001b[0m\n",
      "\u001b[39munifing config_fc, config, build_clib, build_ext, build commands --fcompiler options\u001b[0m\n",
      "\u001b[39mrunning build_src\u001b[0m\n",
      "\u001b[39mbuild_src\u001b[0m\n",
      "\u001b[39mbuilding extension \"fortran_stepper\" sources\u001b[0m\n",
      "\u001b[39mf2py options: []\u001b[0m\n",
      "\u001b[39mf2py:> /var/folders/k4/j32lxr9j5fxdmcpp8bj9znfc0000gn/T/tmpJyeopO/src.macosx-10.6-x86_64-2.7/fortran_steppermodule.c\u001b[0m\n",
      "\u001b[39mcreating /var/folders/k4/j32lxr9j5fxdmcpp8bj9znfc0000gn/T/tmpJyeopO/src.macosx-10.6-x86_64-2.7\u001b[0m\n",
      "Reading fortran codes...\n",
      "\tReading file 'src/fortran_stepper.f90' (format:free)\n",
      "Post-processing...\n",
      "\tBlock: fortran_stepper\n",
      "\t\t\tBlock: timestep\n",
      "Post-processing (stage 2)...\n",
      "Building modules...\n",
      "\tBuilding module \"fortran_stepper\"...\n",
      "\t\tConstructing wrapper function \"timestep\"...\n",
      "\t\t  timestep(nu,uo,u,[nx,ny])\n",
      "\tWrote C/API module \"fortran_stepper\" to file \"/var/folders/k4/j32lxr9j5fxdmcpp8bj9znfc0000gn/T/tmpJyeopO/src.macosx-10.6-x86_64-2.7/fortran_steppermodule.c\"\n",
      "\u001b[39m  adding '/var/folders/k4/j32lxr9j5fxdmcpp8bj9znfc0000gn/T/tmpJyeopO/src.macosx-10.6-x86_64-2.7/fortranobject.c' to sources.\u001b[0m\n",
      "\u001b[39m  adding '/var/folders/k4/j32lxr9j5fxdmcpp8bj9znfc0000gn/T/tmpJyeopO/src.macosx-10.6-x86_64-2.7' to include_dirs.\u001b[0m\n",
      "\u001b[39mcopying /Users/mihai/anaconda/lib/python2.7/site-packages/numpy/f2py/src/fortranobject.c -> /var/folders/k4/j32lxr9j5fxdmcpp8bj9znfc0000gn/T/tmpJyeopO/src.macosx-10.6-x86_64-2.7\u001b[0m\n",
      "\u001b[39mcopying /Users/mihai/anaconda/lib/python2.7/site-packages/numpy/f2py/src/fortranobject.h -> /var/folders/k4/j32lxr9j5fxdmcpp8bj9znfc0000gn/T/tmpJyeopO/src.macosx-10.6-x86_64-2.7\u001b[0m\n",
      "\u001b[39mbuild_src: building npy-pkg config files\u001b[0m\n",
      "\u001b[39mrunning build_ext\u001b[0m\n",
      "\u001b[39mcustomize UnixCCompiler\u001b[0m\n",
      "\u001b[39mcustomize UnixCCompiler using build_ext\u001b[0m\n",
      "\u001b[39mcustomize Gnu95FCompiler\u001b[0m\n",
      "\u001b[39mFound executable /usr/local/bin/gfortran\u001b[0m\n",
      "\u001b[39mcustomize Gnu95FCompiler\u001b[0m\n",
      "\u001b[39mcustomize Gnu95FCompiler using build_ext\u001b[0m\n",
      "\u001b[39mbuilding 'fortran_stepper' extension\u001b[0m\n",
      "\u001b[39mcompiling C sources\u001b[0m\n",
      "\u001b[39mC compiler: gcc -fno-strict-aliasing -I/Users/mihai/anaconda/include -arch x86_64 -DNDEBUG -g -fwrapv -O3 -Wall -Wstrict-prototypes\n",
      "\u001b[0m\n",
      "\u001b[39mcreating /var/folders/k4/j32lxr9j5fxdmcpp8bj9znfc0000gn/T/tmpJyeopO/var\u001b[0m\n",
      "\u001b[39mcreating /var/folders/k4/j32lxr9j5fxdmcpp8bj9znfc0000gn/T/tmpJyeopO/var/folders\u001b[0m\n",
      "\u001b[39mcreating /var/folders/k4/j32lxr9j5fxdmcpp8bj9znfc0000gn/T/tmpJyeopO/var/folders/k4\u001b[0m\n",
      "\u001b[39mcreating /var/folders/k4/j32lxr9j5fxdmcpp8bj9znfc0000gn/T/tmpJyeopO/var/folders/k4/j32lxr9j5fxdmcpp8bj9znfc0000gn\u001b[0m\n",
      "\u001b[39mcreating /var/folders/k4/j32lxr9j5fxdmcpp8bj9znfc0000gn/T/tmpJyeopO/var/folders/k4/j32lxr9j5fxdmcpp8bj9znfc0000gn/T\u001b[0m\n",
      "\u001b[39mcreating /var/folders/k4/j32lxr9j5fxdmcpp8bj9znfc0000gn/T/tmpJyeopO/var/folders/k4/j32lxr9j5fxdmcpp8bj9znfc0000gn/T/tmpJyeopO\u001b[0m\n",
      "\u001b[39mcreating /var/folders/k4/j32lxr9j5fxdmcpp8bj9znfc0000gn/T/tmpJyeopO/var/folders/k4/j32lxr9j5fxdmcpp8bj9znfc0000gn/T/tmpJyeopO/src.macosx-10.6-x86_64-2.7\u001b[0m\n",
      "\u001b[39mcompile options: '-I/var/folders/k4/j32lxr9j5fxdmcpp8bj9znfc0000gn/T/tmpJyeopO/src.macosx-10.6-x86_64-2.7 -I/Users/mihai/anaconda/lib/python2.7/site-packages/numpy/core/include -I/Users/mihai/anaconda/include/python2.7 -c'\u001b[0m\n",
      "\u001b[39mgcc: /var/folders/k4/j32lxr9j5fxdmcpp8bj9znfc0000gn/T/tmpJyeopO/src.macosx-10.6-x86_64-2.7/fortran_steppermodule.c\u001b[0m\n",
      "In file included from /Users/mihai/anaconda/lib/python2.7/site-packages/numpy/core/include/numpy/ndarraytypes.h:1788:0,\n",
      "                 from /Users/mihai/anaconda/lib/python2.7/site-packages/numpy/core/include/numpy/ndarrayobject.h:18,\n",
      "                 from /Users/mihai/anaconda/lib/python2.7/site-packages/numpy/core/include/numpy/arrayobject.h:4,\n",
      "                 from /var/folders/k4/j32lxr9j5fxdmcpp8bj9znfc0000gn/T/tmpJyeopO/src.macosx-10.6-x86_64-2.7/fortranobject.h:13,\n",
      "                 from /var/folders/k4/j32lxr9j5fxdmcpp8bj9znfc0000gn/T/tmpJyeopO/src.macosx-10.6-x86_64-2.7/fortran_steppermodule.c:19:\n",
      "/Users/mihai/anaconda/lib/python2.7/site-packages/numpy/core/include/numpy/npy_1_7_deprecated_api.h:15:2: warning: #warning \"Using deprecated NumPy API, disable it by \" \"#defining NPY_NO_DEPRECATED_API NPY_1_7_API_VERSION\" [-Wcpp]\n",
      " #warning \"Using deprecated NumPy API, disable it by \" \\\n",
      "  ^~~~~~~\n",
      "/var/folders/k4/j32lxr9j5fxdmcpp8bj9znfc0000gn/T/tmpJyeopO/src.macosx-10.6-x86_64-2.7/fortran_steppermodule.c:112:12: warning: 'f2py_size' defined but not used [-Wunused-function]\n",
      " static int f2py_size(PyArrayObject* var, ...)\n",
      "            ^~~~~~~~~\n",
      "\u001b[39mgcc: /var/folders/k4/j32lxr9j5fxdmcpp8bj9znfc0000gn/T/tmpJyeopO/src.macosx-10.6-x86_64-2.7/fortranobject.c\u001b[0m\n",
      "In file included from /Users/mihai/anaconda/lib/python2.7/site-packages/numpy/core/include/numpy/ndarraytypes.h:1788:0,\n",
      "                 from /Users/mihai/anaconda/lib/python2.7/site-packages/numpy/core/include/numpy/ndarrayobject.h:18,\n",
      "                 from /Users/mihai/anaconda/lib/python2.7/site-packages/numpy/core/include/numpy/arrayobject.h:4,\n",
      "                 from /var/folders/k4/j32lxr9j5fxdmcpp8bj9znfc0000gn/T/tmpJyeopO/src.macosx-10.6-x86_64-2.7/fortranobject.h:13,\n",
      "                 from /var/folders/k4/j32lxr9j5fxdmcpp8bj9znfc0000gn/T/tmpJyeopO/src.macosx-10.6-x86_64-2.7/fortranobject.c:2:\n",
      "/Users/mihai/anaconda/lib/python2.7/site-packages/numpy/core/include/numpy/npy_1_7_deprecated_api.h:15:2: warning: #warning \"Using deprecated NumPy API, disable it by \" \"#defining NPY_NO_DEPRECATED_API NPY_1_7_API_VERSION\" [-Wcpp]\n",
      " #warning \"Using deprecated NumPy API, disable it by \" \\\n",
      "  ^~~~~~~\n",
      "\u001b[39mcompiling Fortran sources\u001b[0m\n",
      "\u001b[39mFortran f77 compiler: /usr/local/bin/gfortran -Wall -g -ffixed-form -fno-second-underscore -arch x86_64 -fPIC -O3 -funroll-loops\n",
      "Fortran f90 compiler: /usr/local/bin/gfortran -Wall -g -fno-second-underscore -arch x86_64 -fPIC -O3 -funroll-loops\n",
      "Fortran fix compiler: /usr/local/bin/gfortran -Wall -g -ffixed-form -fno-second-underscore -Wall -g -fno-second-underscore -arch x86_64 -fPIC -O3 -funroll-loops\u001b[0m\n",
      "\u001b[39mcreating /var/folders/k4/j32lxr9j5fxdmcpp8bj9znfc0000gn/T/tmpJyeopO/src\u001b[0m\n",
      "\u001b[39mcompile options: '-I/var/folders/k4/j32lxr9j5fxdmcpp8bj9znfc0000gn/T/tmpJyeopO/src.macosx-10.6-x86_64-2.7 -I/Users/mihai/anaconda/lib/python2.7/site-packages/numpy/core/include -I/Users/mihai/anaconda/include/python2.7 -c'\u001b[0m\n",
      "\u001b[39mgfortran:f90: src/fortran_stepper.f90\u001b[0m\n",
      "\u001b[39m/usr/local/bin/gfortran -Wall -g -arch x86_64 -Wall -g -undefined dynamic_lookup -bundle /var/folders/k4/j32lxr9j5fxdmcpp8bj9znfc0000gn/T/tmpJyeopO/var/folders/k4/j32lxr9j5fxdmcpp8bj9znfc0000gn/T/tmpJyeopO/src.macosx-10.6-x86_64-2.7/fortran_steppermodule.o /var/folders/k4/j32lxr9j5fxdmcpp8bj9znfc0000gn/T/tmpJyeopO/var/folders/k4/j32lxr9j5fxdmcpp8bj9znfc0000gn/T/tmpJyeopO/src.macosx-10.6-x86_64-2.7/fortranobject.o /var/folders/k4/j32lxr9j5fxdmcpp8bj9znfc0000gn/T/tmpJyeopO/src/fortran_stepper.o -L/usr/local/Cellar/gcc/6.2.0/lib/gcc/6/gcc/x86_64-apple-darwin16.0.0/6.2.0 -L/Users/mihai/anaconda/lib -lgfortran -o ./fortran_stepper.so\u001b[0m\n",
      "Removing build directory /var/folders/k4/j32lxr9j5fxdmcpp8bj9znfc0000gn/T/tmpJyeopO\n",
      "/bin/rm -f fortran_stepper.pyf\n",
      "/bin/mv fortran_stepper.so* /Users/mihai/Documents/arc/training/scientific-python/arc-sci-py/python-hpc-day-1/lecture06-summary/lib/python2.7/site-packages\n",
      "mv: rename fortran_stepper.so.dSYM to /Users/mihai/Documents/arc/training/scientific-python/arc-sci-py/python-hpc-day-1/lecture06-summary/lib/python2.7/site-packages/fortran_stepper.so.dSYM: Directory not empty\n",
      "make: *** [fortran_stepper.so] Error 1\n"
     ]
    }
   ],
   "source": [
    "# build libraries\n",
    "! make"
   ]
  },
  {
   "cell_type": "code",
   "execution_count": 9,
   "metadata": {
    "collapsed": false
   },
   "outputs": [
    {
     "name": "stdout",
     "output_type": "stream",
     "text": [
      "total 80\r\n",
      "-rwxr-xr-x  1 mihai  staff   4192  5 Mar 15:42 \u001b[31mc_stepper.so\u001b[m\u001b[m\r\n",
      "-rwxr-xr-x  1 mihai  staff  32436  5 Mar 15:42 \u001b[31mfortran_stepper.so\u001b[m\u001b[m\r\n",
      "drwxr-xr-x  3 mihai  staff    102  5 Mar 15:38 \u001b[34mfortran_stepper.so.dSYM\u001b[m\u001b[m\r\n"
     ]
    }
   ],
   "source": [
    "# check libraries\n",
    "! ls -l lib/python2.7/site-packages"
   ]
  },
  {
   "cell_type": "markdown",
   "metadata": {
    "slideshow": {
     "slide_type": "slide"
    }
   },
   "source": [
    "## Exercise: comparing performance\n",
    "<hr style=\"border: solid 4px green\">\n",
    "\n",
    "### Edit the file <span style=\"font-family: Courier New, Courier, monospace;\">heat.py</span>\n",
    "* understand how the class `solution` selects the \"stepper\" in method `setStepper`\n",
    "* locate the \"stepper\" implementations `pythonStepper` and `numpyStepper`\n",
    "* locate the \"stepper\" implementations `cStepper` and `fortranStepper`\n",
    "* locate the C and Fortran sources in the directory `src/`\n",
    "<br><br>\n",
    "\n",
    "### Modify the file <span style=\"font-family: Courier New, Courier, monospace;\">heat.py</span>\n",
    "* `stepperTypeList` must include all options\n",
    "  * `\"python\"`\n",
    "  * `\"numpy\"`\n",
    "  * `\"fortran\"`\n",
    "  * `\"ctypes\"`"
   ]
  },
  {
   "cell_type": "markdown",
   "metadata": {
    "slideshow": {
     "slide_type": "slide"
    }
   },
   "source": [
    "## Exercise: comparing performance (cont'd)\n",
    "<hr style=\"border: solid 4px green\">\n",
    "\n",
    "### Run #1\n",
    "* do `python heat.py --help` to see how the test script is to be run with command line arguments\n",
    "* then, run the test script with a grid of 100 points and 500 timesteps\n",
    "\n",
    "> *Notes*:\n",
    "> * time measured refers to solution time only\n",
    "> * error is measured relative to analytic solution"
   ]
  },
  {
   "cell_type": "code",
   "execution_count": 11,
   "metadata": {
    "collapsed": false
   },
   "outputs": [
    {
     "name": "stdout",
     "output_type": "stream",
     "text": [
      " computing 500 iterations on a 100x100 grid\n",
      " stepper python, 500 iterations, 9.287722 seconds, 0.104286 rel error\n",
      " stepper numpy, 500 iterations, 0.046170 seconds, 0.104286 rel error\n",
      " stepper fortran, 500 iterations, 0.008832 seconds, 0.104286 rel error\n",
      " stepper ctypes, 500 iterations, 0.064468 seconds, 0.104286 rel error\n"
     ]
    }
   ],
   "source": [
    "! python heat.py 100 500"
   ]
  },
  {
   "cell_type": "markdown",
   "metadata": {
    "slideshow": {
     "slide_type": "slide"
    }
   },
   "source": [
    "## Exercise: comparing performance\n",
    "<hr style=\"border: solid 4px green\">\n",
    "\n",
    "### Modify the file <span style=\"font-family: Courier New, Courier, monospace;\">heat.py</span>\n",
    "* `stepperTypeList` must exclude the option `\"python\"` (too slow)\n",
    "\n",
    "### Run #2\n",
    "* run the test script with a grid of 1000 points and 500 timesteps\n",
    "* compare time spent by the following implementations\n",
    "  * `\"numpy\"`\n",
    "  * `\"fortran\"`\n",
    "  * `\"ctypes\"`"
   ]
  },
  {
   "cell_type": "code",
   "execution_count": 12,
   "metadata": {
    "collapsed": false
   },
   "outputs": [
    {
     "name": "stdout",
     "output_type": "stream",
     "text": [
      " computing 500 iterations on a 1000x1000 grid\n",
      " stepper numpy, 500 iterations, 5.367319 seconds, 0.382189 rel error\n",
      " stepper fortran, 500 iterations, 0.515249 seconds, 0.382189 rel error\n",
      " stepper ctypes, 500 iterations, 0.838505 seconds, 0.382189 rel error\n"
     ]
    }
   ],
   "source": [
    "!python heat.py 1000 500"
   ]
  },
  {
   "cell_type": "markdown",
   "metadata": {
    "slideshow": {
     "slide_type": "slide"
    }
   },
   "source": [
    "## Exercise: comparing performance (cont'd)\n",
    "<hr style=\"border: solid 4px green\">\n",
    "\n",
    "```\n",
    "(mihai@malus) lecture06-summary > python heat.py 100 500\n",
    " computing 500 iterations on a 100x100 grid\n",
    " stepper python, 500 iterations, 9.472842 seconds, 0.104286 rel error\n",
    " stepper numpy, 500 iterations, 0.041959 seconds, 0.104286 rel error\n",
    " stepper fortran, 500 iterations, 0.007695 seconds, 0.104286 rel error\n",
    " stepper ctypes, 500 iterations, 0.067254 seconds, 0.104286 rel error\n",
    "```\n",
    "<br><br>\n",
    "\n",
    "```\n",
    "(mihai@malus) > python heat.py 1000 500\n",
    " computing 500 iterations on a 1000x1000 grid\n",
    " stepper numpy, 500 iterations, 5.358381 seconds, 0.382189 rel error\n",
    " stepper fortran, 500 iterations, 0.490860 seconds, 0.382189 rel error\n",
    " stepper ctypes, 500 iterations, 0.835508 seconds, 0.382189 rel error\n",
    "```"
   ]
  },
  {
   "cell_type": "markdown",
   "metadata": {
    "slideshow": {
     "slide_type": "slide"
    }
   },
   "source": [
    "## A few more easy methods\n",
    "<hr style=\"border: solid 4px green\">\n",
    "\n",
    "### Compiled code solution: <span style=\"font-family: Courier New, Courier, monospace;\">scipy.weave</span>\n",
    "* package provides tools for including C/C++ code within in Python code\n",
    "* `weave.inline()` executes C code directly within Python\n",
    "* `weave.blitz()` translates Python NumPy expressions to C++ for fast execution\n",
    "* *Pros*\n",
    "  * fast execution from C/C++ code (generated from NumPy expressions or inserted)\n",
    "* *Cons*\n",
    "  * needs C/C++ code available\n",
    "  * there are easier to use alternative"
   ]
  },
  {
   "cell_type": "markdown",
   "metadata": {
    "slideshow": {
     "slide_type": "slide"
    }
   },
   "source": [
    "## <span style=\"font-family: Courier New, Courier, monospace;\">blitzStepper</span>: <span style=\"font-family: Courier New, Courier, monospace;\">scipy.weave.blitz</span>\n",
    "<hr style=\"border: solid 4px green\">\n",
    "\n",
    "```python\n",
    "    def blitzStepper (self, nx,ny, u,uo, nu):\n",
    "        \"\"\" time-steps implemented using numpy expression dispatched via blitz\"\"\"\n",
    "        from scipy import weave\n",
    "        # define expression (same one as for numpyStepper)\n",
    "        expr = \"u[1:-1, 1:-1] = uo[1:-1, 1:-1] + ( nu * ( uo [0:-2, 1:-1] + uo [2:, 1:-1] + \" \\\n",
    "               \"                                   uo [1:-1, 0:-2] + uo [1:-1, 2:]\" \\\n",
    "               \"                                   - 4.0 * uo [1:-1, 1:-1] ) )\"\n",
    "        weave.blitz (expr, check_size=0)\n",
    "```"
   ]
  },
  {
   "cell_type": "markdown",
   "metadata": {
    "slideshow": {
     "slide_type": "slide"
    }
   },
   "source": [
    "## <span style=\"font-family: Courier New, Courier, monospace;\">inlineStepper</span>: <span style=\"font-family: Courier New, Courier, monospace;\">scipy.weave.inline</span>\n",
    "<hr style=\"border: solid 4px green\">\n",
    "\n",
    "### Note the use of a \"linear\" array address rather than normal 2D indexing\n",
    "\n",
    "```python\n",
    "    def inlineStepper (self, nx,ny, u,uo, nu):\n",
    "        \"\"\" time-steps implemented using C code dispatched via weave\"\"\"\n",
    "        from scipy import weave\n",
    "        from scipy.weave import converters\n",
    "        # define code (same one as for C code cStepper\n",
    "        #  * cannot use u[i][j]\n",
    "        #  * instead use u[k], with k = i*ny + j\n",
    "        code = \"\"\"\n",
    "               int i,j;\n",
    "               int k,kn,ks,kw,ke;\n",
    "               for (i=1; i<nx-1; i++) {\n",
    "                 for (j=1; j<ny-1; j++) {\n",
    "                   k    = i*ny + j;\n",
    "                   kn   = k + nx;\n",
    "                   ks   = k - nx;\n",
    "                   ke   = k + 1;\n",
    "                   kw   = k - 1;\n",
    "                   u[k] = uo[k]\n",
    "                        + nu * ( uo[kn] + uo[ks]\n",
    "                               + uo[ke] + uo[kw]\n",
    "                               - 4.0 * uo[k]);\n",
    "                 }\n",
    "               }\n",
    "               \"\"\"\n",
    "        # compiler keyword only needed on windows with MSVC installed\n",
    "        err = weave.inline (code,\n",
    "                            [\"nx\",\"ny\",\"u\",\"uo\",\"nu\"])\n",
    "```"
   ]
  },
  {
   "cell_type": "markdown",
   "metadata": {
    "slideshow": {
     "slide_type": "slide"
    }
   },
   "source": [
    "## A few more easy methods (cont'd)\n",
    "<hr style=\"border: solid 4px green\">\n",
    "\n",
    "### JIT solution: <span style=\"font-family: Courier New, Courier, monospace;\">numba</span>\n",
    "* a compiler\n",
    "  * it leverages LLVM\n",
    "  * parses, compiles to, and optimises assembly code\n",
    "  * works in a similar manner to compiled languages such as C and Fortran\n",
    "* is Python\n",
    "  * underlying powerful libraries are used for performance\n",
    "  * code the programmer develops is always pure Python\n",
    "* accelerates Python functions via simple decorators\n",
    "* *Pros*\n",
    "  * powerful\n",
    "  * extremely easy to use\n",
    "* *Cons*\n",
    "  * a relative newcomer, hence not mature"
   ]
  },
  {
   "cell_type": "markdown",
   "metadata": {
    "slideshow": {
     "slide_type": "slide"
    }
   },
   "source": [
    "## <span style=\"font-family: Courier New, Courier, monospace;\">numbaStepper</span>: <span style=\"font-family: Courier New, Courier, monospace;\">numba</span>\n",
    "<hr style=\"border: solid 4px green\">\n",
    "\n",
    "```python\n",
    "    def numbaStepper (self, nx,ny, u,uo, nu):\n",
    "        \"\"\" time-steps implemented using straight python array indexing dispatched via JIT compiling\"\"\"\n",
    "        # apply numerical scheme (one time-step)\n",
    "        numbaStepperJIT (nx,ny, u,uo, nu)\n",
    "\n",
    "    from numba import jit\n",
    "    # numba / JIT compiler decorator\n",
    "    @jit\n",
    "    def numbaStepperJIT (nx,ny, u,uo, nu):\n",
    "        # same code as the straight python stepper\n",
    "        for i in range(1, nx-1):\n",
    "            for j in range(1, ny-1):\n",
    "                u[i,j] = uo[i,j] + ( nu * ( uo [i-1, j] + uo [i+1, j] +\n",
    "                                            uo [i, j-1] + uo [i, j+1]\n",
    "                                            - 4.0 * uo [i,j] ) )\n",
    "```"
   ]
  },
  {
   "cell_type": "markdown",
   "metadata": {
    "slideshow": {
     "slide_type": "slide"
    }
   },
   "source": [
    "## Exercise: comparing performance (cont'd)\n",
    "<hr style=\"border: solid 4px green\">\n",
    "\n",
    "### Modify the file <span style=\"font-family: Courier New, Courier, monospace;\">heat.py</span>\n",
    "* include all options so far except `\"python\"` (too slow)\n",
    "```python\n",
    "    stepperTypeList = [\n",
    "        \"numpy\",\n",
    "        \"numba\",\n",
    "        \"blitz\",\n",
    "        \"inline\",\n",
    "        \"fortran\",\n",
    "        \"ctypes\"\n",
    "    ]\n",
    "```"
   ]
  },
  {
   "cell_type": "markdown",
   "metadata": {
    "slideshow": {
     "slide_type": "slide"
    }
   },
   "source": [
    "## Exercise: comparing performance (cont'd)\n",
    "<hr style=\"border: solid 4px green\">\n",
    "\n",
    "### Preliminary run\n",
    "* small datasets\n",
    "* allows `weave` and `numba` generate code and cache it"
   ]
  },
  {
   "cell_type": "code",
   "execution_count": 13,
   "metadata": {
    "collapsed": false
   },
   "outputs": [
    {
     "name": "stdout",
     "output_type": "stream",
     "text": [
      " computing 500 iterations on a 100x100 grid\n",
      " stepper numpy, 500 iterations, 0.195461 seconds, 0.104286 rel error\n",
      " stepper numba, 500 iterations, 0.716754 seconds, 0.104286 rel error\n",
      " stepper blitz, 500 iterations, 0.353546 seconds, 0.104286 rel error\n",
      " stepper inline, 500 iterations, 0.053986 seconds, 0.104286 rel error\n",
      " stepper fortran, 500 iterations, 0.030147 seconds, 0.104286 rel error\n",
      " stepper ctypes, 500 iterations, 0.284029 seconds, 0.104286 rel error\n"
     ]
    }
   ],
   "source": [
    "! python heat.py 100 500"
   ]
  },
  {
   "cell_type": "markdown",
   "metadata": {},
   "source": [
    "## Exercise: comparing performance (cont'd)\n",
    "<hr style=\"border: solid 4px green\">\n",
    "\n",
    "### Run #3\n",
    "* run the test script with a grid of 1000 points and 500 timesteps\n",
    "* compare time spent in all implementations so far"
   ]
  },
  {
   "cell_type": "code",
   "execution_count": 14,
   "metadata": {
    "collapsed": false
   },
   "outputs": [
    {
     "name": "stdout",
     "output_type": "stream",
     "text": [
      " computing 500 iterations on a 1000x1000 grid\n",
      " stepper numpy, 500 iterations, 21.538667 seconds, 0.382189 rel error\n",
      " stepper numba, 500 iterations, 2.472552 seconds, 0.382189 rel error\n",
      " stepper blitz, 500 iterations, 6.626490 seconds, 0.382189 rel error\n",
      " stepper inline, 500 iterations, 4.406395 seconds, 0.382189 rel error\n",
      " stepper fortran, 500 iterations, 2.089497 seconds, 0.382189 rel error\n",
      " stepper ctypes, 500 iterations, 3.665506 seconds, 0.382189 rel error\n"
     ]
    }
   ],
   "source": [
    "! python heat.py 1000 500"
   ]
  },
  {
   "cell_type": "markdown",
   "metadata": {
    "slideshow": {
     "slide_type": "slide"
    }
   },
   "source": [
    "## Summary\n",
    "<hr style=\"border: solid 4px green\">\n",
    "\n",
    "### We have\n",
    "* seen the methods for making Python fast in action\n",
    "* simple but realistic application\n",
    "<br><br>\n",
    "\n",
    "### Performance\n",
    "* pure Python is a beginner's mistake\n",
    "* `NumPy` is the basic language of Python scientific and it leads to reasonable performance\n",
    "* compiled languages (C and Fortran) can be harnessed for extra performance\n",
    "* alternative methods (`weave.blitz`, `weave.inline`) exist for C/C++ code\n",
    "<br><br>\n",
    "\n",
    "### Overall winner: `numba`\n",
    "* JIT compiler\n",
    "* extremely easy to use, performance on a par with C/Fortran\n",
    "* future developments promise more\n",
    "* a pity it is serial...\n",
    "<br><br>\n",
    "\n",
    "### Baseline perfomance (for benchmarking)\n",
    "* `NumPy`\n",
    "* serial C / Fortran modules"
   ]
  },
  {
   "cell_type": "markdown",
   "metadata": {
    "slideshow": {
     "slide_type": "notes"
    }
   },
   "source": [
    "<img src=\"../../images/reusematerial.png\"; style=\"float: center; width: 90\"; >"
   ]
  }
 ],
 "metadata": {
  "anaconda-cloud": {},
  "celltoolbar": "Slideshow",
  "kernelspec": {
   "display_name": "Python [Root]",
   "language": "python",
   "name": "Python [Root]"
  },
  "language_info": {
   "codemirror_mode": {
    "name": "ipython",
    "version": 2
   },
   "file_extension": ".py",
   "mimetype": "text/x-python",
   "name": "python",
   "nbconvert_exporter": "python",
   "pygments_lexer": "ipython2",
   "version": "2.7.12"
  }
 },
 "nbformat": 4,
 "nbformat_minor": 0
}

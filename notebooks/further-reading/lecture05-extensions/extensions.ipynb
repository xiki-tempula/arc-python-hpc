{
 "cells": [
  {
   "cell_type": "markdown",
   "metadata": {
    "slideshow": {
     "slide_type": "slide"
    }
   },
   "source": [
    "# Python for High Performance Computing\n",
    "# Interfacing to C and Fortran\n",
    "<hr style=\"border: solid 4px green\">\n",
    "<br>\n",
    "<center><img src=\"../../images/arc_logo.png\"; style=\"float: center; width: 20%\"></center>\n",
    "<br>\n",
    "## http://www.arc.ox.ac.uk\n",
    "## support@arc.ox.ac.uk"
   ]
  },
  {
   "cell_type": "markdown",
   "metadata": {
    "slideshow": {
     "slide_type": "slide"
    }
   },
   "source": [
    "## Software\n",
    "<hr style=\"border: solid 4px green\">\n",
    "\n",
    "We shall need compilers for C and Fortran.\n",
    "\n",
    "The **G**NU **C**ompiler **C**ollection (GCC) includes the following compiler front-ends\n",
    "* C -- `gcc`\n",
    "* C++ -- `g++`\n",
    "* Fortran -- `gfortran`\n",
    "\n",
    "### Linux\n",
    "* `gcc` is part of the operating system installation\n",
    "* `gfortran` needs to be installed separately, *e.g.* `sudo apt-get install gfortran`\n",
    "\n",
    "### Mac OS\n",
    "* `gcc` that comes with the operating system is a an alias for `clang` (front-end for LLVM)\n",
    "* GCC `gcc` is installed with `xcode-select --install`\n",
    "* `gfortran` is installed via Homebrew with `brew install gfortran`\n",
    "\n",
    "### Windows\n",
    "* a linux feel-like solution: Cygwin, a distribution of GNU and other popular Open Source tools running on Windows\n",
    "* `gcc` and `gfortran` are included"
   ]
  },
  {
   "cell_type": "markdown",
   "metadata": {
    "slideshow": {
     "slide_type": "slide"
    }
   },
   "source": [
    "## Why couple Python with another language?\n",
    "<hr style=\"border: solid 4px green\">\n",
    "\n",
    "### Python is *slow* compared with compiled languages\n",
    "* dynamically typed language\n",
    "  * variables are Python objects, assigned a type at runtime, determined from context\n",
    "  * any operation involves access and checks on the Python object attributes\n",
    "* interpreted language\n",
    "  * optimisations on the operations are impossible\n",
    "* memory access can be sub-optimal\n",
    "  * *e.g.* Python lists are not stored in contiguous memory chunks\n",
    "<br><br>\n",
    "\n",
    "### But... Python is *useful*\n",
    "* easier to use than compiled languages\n",
    "* flexible and forgiving\n",
    "* efficient use of development time"
   ]
  },
  {
   "cell_type": "markdown",
   "metadata": {
    "slideshow": {
     "slide_type": "slide"
    }
   },
   "source": [
    "## Why couple Python with another language?\n",
    "<hr style=\"border: solid 4px green\">\n",
    "\n",
    "### Best of both worlds: combine\n",
    "* Python flexibility\n",
    "  * easy data manipulation, inspection and visualisation\n",
    "  * parse command line arguments\n",
    "  * handle complex software coordination\n",
    "* compiled language performance\n",
    "  * functions that do the computationally intensive parts\n",
    "  * these functions are presented as Python callable functions\n",
    "<br><br>\n",
    "\n",
    "The scope such an optimisation effort is highlighed by profiling:\n",
    "* typically, 10/20% of the code takes 90/80% of runtime\n",
    "* the slow parts of the can be re-programmed in C or Fortran\n",
    "<br><br>\n",
    "\n",
    "> More info\n",
    "> * http://docs.scipy.org/doc/numpy-dev/f2py/\n",
    "> * http://scipy-cookbook.readthedocs.org\n",
    "> * http://www.f2py.com/home/"
   ]
  },
  {
   "cell_type": "markdown",
   "metadata": {
    "slideshow": {
     "slide_type": "slide"
    }
   },
   "source": [
    "## Extension modules\n",
    "<hr style=\"border: solid 4px green\">\n",
    "\n",
    "### Basic approach: build *extension modules*\n",
    "* hand-write C or Fortran functions\n",
    "* compile source to produce a dynamic library (containing native machine code)\n",
    "  * `.so` file (shared object) in linux and MacOS\n",
    "  * `.dll` file in Windows\n",
    "* add a wrapper around the library to provide a Python interface\n",
    "<br><br>\n",
    "\n",
    "### The result\n",
    "* an extension module, *i.e.* a shared library\n",
    "* loadable at run time using `import`.\n",
    "<br><br>\n",
    "\n",
    "### Requires\n",
    "* a clear understanding of the number of types of any arguments\n",
    "* an appropriate compiler (*e.g.* `gcc` and `gfortran`)\n",
    "<br><br>\n",
    "\n",
    "> *Warning*: bugs in the C/Fortran programming easily crash the Python interpreter."
   ]
  },
  {
   "cell_type": "markdown",
   "metadata": {
    "slideshow": {
     "slide_type": "slide"
    }
   },
   "source": [
    "## A number of techniques\n",
    "<hr style=\"border: solid 4px green\">\n",
    "\n",
    "### Fortran to Python interface generators\n",
    "* `f2py` -- a tool that is part of `NumPy`\n",
    "* `f90wrap` -- a newer package that works together with `f2py`\n",
    "* both are remarkably easy to use but neither is well maintained"
   ]
  },
  {
   "cell_type": "markdown",
   "metadata": {
    "slideshow": {
     "slide_type": "slide"
    }
   },
   "source": [
    "## A number of techniques\n",
    "<hr style=\"border: solid 4px green\">\n",
    "\n",
    "### A miscellany of methods for C/C++\n",
    "* Ctypes\n",
    "  * a foreign function library which provides C compatible data types and allows calling functions from shared libraries\n",
    "  * *pros*: Python standard library\n",
    "  * *cons*: functions need to be available from a shared library, poor support for C++\n",
    "* Cython\n",
    "  * is both a Python-like *language* for writing C-extensions and a *compiler* for this language\n",
    "  * the Cython language is a superset of Python, with additional constructs that annotate variables and class attributes with C types (in a sense, Python with types)\n",
    "  * supports interactive optimization -- start with a pure-Python script and incrementally adds Cython types to optimize targeted code paths\n",
    "  * *pros*: easy to use (Python-like language for writing C-extensions), incremental optimization, includes a GNU debugger extension, C++ support\n",
    "  * *cons*: must be compiled\n",
    "* C native interface\n",
    "  * the Python-C API is the backbone of the standard CPython interpreter\n",
    "  * *pros*: no additional libraries, low-level control, usable from C/C++\n",
    "  * *cons*: needs compilation, substantial effort and maintenance cost, costly computing overheads, compatibility across Python versions\n",
    "* SWIG (**S**implified **W**rapper and **I**nterface **G**enerator)\n",
    "  * tool to connect C/C++ code with a variety of high-level programming languages (inc. Python)\n",
    "  * reads header files and generates libraries Python can load\n",
    "  * *pros*: given headers, automatically wraps entire libraries, works well with C++\n",
    "  * *cons*: generates huge files, difficult to debug, steep learning curve\n",
    "<br><br>\n",
    "\n",
    "> More information and examples\n",
    "> * http://www.scipy-lectures.org/advanced/interfacing_with_c/interfacing_with_c.html\n",
    "> * https://docs.scipy.org/doc/numpy-1.10.0/user/c-info.python-as-glue.html"
   ]
  },
  {
   "cell_type": "markdown",
   "metadata": {
    "slideshow": {
     "slide_type": "slide"
    }
   },
   "source": [
    "## Techniques in this lecture\n",
    "<hr style=\"border: solid 4px green\">\n",
    "\n",
    "* `f2py`\n",
    "* Ctypes"
   ]
  },
  {
   "cell_type": "markdown",
   "metadata": {
    "slideshow": {
     "slide_type": "slide"
    }
   },
   "source": [
    "## Arrays and memory access\n",
    "<hr style=\"border: solid 4px green\">\n",
    "\n",
    "### NumPy arrays\n",
    "* are contiguous in memory\n",
    "* easily usable from Fortran and C\n",
    "<br><br>\n",
    "\n",
    "### NumPy arrays (2D and higher)\n",
    "* default storage is in C order\n",
    "* Fortran storage has to be explicitly asked for\n",
    "* the internal ordering is hidden by the abstraction layer\n",
    "<br><br>\n",
    "\n",
    "### Arrays are stored in memory at contiguous locations\n",
    "<table border=\"0\">\n",
    "  <tr>\n",
    "    <td><center>Math representation</center></td>\n",
    "    <td><center>C mapping</center></td>\n",
    "    <td><center>Fortran mapping</center></td>\n",
    "  </tr>\n",
    "  <tr>\n",
    "    <td><img src=\"./images/array_2x3_math.png\"; style=\"float: center; width: 40%\"></td>\n",
    "    <td><img src=\"./images/array_2x3_C.png\"; style=\"float: center; width: 40%\"></td>\n",
    "    <td><img src=\"./images/array_2x3_Fortran.png\"; style=\"float: center; width: 40%\"></td>\n",
    "  </tr>\n",
    "</table>"
   ]
  },
  {
   "cell_type": "markdown",
   "metadata": {
    "slideshow": {
     "slide_type": "slide"
    }
   },
   "source": [
    "## Arrays and memory access (cont'd)\n",
    "<hr style=\"border: solid 4px green\">\n",
    "\n",
    "### Does this matter?\n",
    "* yes, it has an impact on performance\n",
    "<br><br>\n",
    "\n",
    "### Why?\n",
    "* computation is (almost) free, memory access is expensive\n",
    "* memory access is cached to improve performance\n",
    "  * cache is fast but size-limited memory\n",
    "  * sits between CPU and main memory\n",
    "  * split between (up to) 3 levels\n",
    "* the caching mechanism assumes *spatial locality*\n",
    "  * if a particular storage location is referenced, it is likely that nearby memory locations will be referenced during the following instructions\n",
    "  * therefore, when an array entry is referenced, a whole *cache line* is pulled out of memory"
   ]
  },
  {
   "cell_type": "markdown",
   "metadata": {
    "slideshow": {
     "slide_type": "slide"
    }
   },
   "source": [
    "## Arrays and memory access (cont'd)\n",
    "<hr style=\"border: solid 4px green\">\n",
    "\n",
    "### A simple example\n",
    "* compute the Frobenius norm of a *large* 2D array\n",
    "* traverse the array row first and column first and compare times\n",
    "* C-storage (default) means row-first is best\n",
    "  * `u[i, j]` being accessed means `u[i, j+1]`, `u[i, j+2]`, ... are already in cache and accessed quickly\n",
    "<br><br>\n",
    "\n",
    "> *Note*:  the *proper* way to compute the Frobenius norm (3 orders of magnitude faster) is `numpy.linalg.norm (u, \"fro\")`."
   ]
  },
  {
   "cell_type": "code",
   "execution_count": 1,
   "metadata": {
    "collapsed": true
   },
   "outputs": [],
   "source": [
    "import numpy as np\n",
    "\n",
    "# function that traverses a 2D array C-style (row major)\n",
    "# and computes the Frobenius norm of the array\n",
    "def c_fro_norm (u):\n",
    "    m, n = u.shape\n",
    "    rms = 0.0\n",
    "    for i in range(m):\n",
    "        for j in range(n):\n",
    "            rms += u[i,j]**2\n",
    "    return np.sqrt(rms)\n",
    "\n",
    "# function that traverses a 2D array Fortran-style (column major)\n",
    "# and computes the Frobenius norm of the array\n",
    "def f_fro_norm (u):\n",
    "    m, n = u.shape\n",
    "    rms = 0.0\n",
    "    for j in range(n):\n",
    "        for i in range(m):\n",
    "            rms += u[i,j]**2\n",
    "    return np.sqrt(rms)"
   ]
  },
  {
   "cell_type": "markdown",
   "metadata": {
    "slideshow": {
     "slide_type": "slide"
    }
   },
   "source": [
    "## Arrays and memory access (cont'd)\n",
    "<hr style=\"border: solid 4px green\">\n",
    "\n",
    "Now, create a large array and time both functions."
   ]
  },
  {
   "cell_type": "code",
   "execution_count": 3,
   "metadata": {
    "collapsed": false
   },
   "outputs": [
    {
     "name": "stdout",
     "output_type": "stream",
     "text": [
      "1 loop, best of 3: 1.21 s per loop\n",
      "1 loop, best of 3: 1.22 s per loop\n"
     ]
    }
   ],
   "source": [
    "u = np.random.rand (60, 40000)\n",
    "%timeit c_fro_norm (u)\n",
    "%timeit f_fro_norm (u)"
   ]
  },
  {
   "cell_type": "markdown",
   "metadata": {
    "slideshow": {
     "slide_type": "slide"
    }
   },
   "source": [
    "## Python and Fortran via <span style=\"font-family: Courier New, Courier, monospace;\">f2py</span>\n",
    "<hr style=\"border: solid 4px green\">\n",
    "\n",
    "### <span style=\"font-family: Courier New, Courier, monospace;\">f2py</span>: **F**ortran **to** **Py**thon interface generator\n",
    "From Fortran source, `f2py`\n",
    "* creates a *signature file*, which contain argument attributes (defining the Fortran interface)\n",
    "* compiles the source (using an external Fortran compiler)\n",
    "* wraps the compiled source in an extension module importable from Python\n",
    "<br><br>\n",
    "\n",
    "### General recipe\n",
    "* create a signature file\n",
    "  * `f2py <source_file> -m <extension_module_name> -h <signature_file>.pyf`\n",
    "  * typically, the signature filename stub is the same as the source filename\n",
    "\n",
    "* (optional) check the signature file for correctness\n",
    "  * sequence and types of arguments to be passed from Python to Fortran function and back\n",
    "  * argument attributes\n",
    "     * `depend`\n",
    "     * `check`\n",
    "     * `intent`\n",
    "     * `shape`\n",
    "\n",
    "* produce the final extension module\n",
    "  * `f2py -c <signature_file>.pyf <source_file>.f90`\n",
    "\n",
    "* import the module into Python and use the external Fortran function\n",
    "\n",
    "```python\n",
    "import extension_module_name\n",
    "extension_module_name.function (args)\n",
    "```\n",
    "<br><br>\n",
    "\n",
    "> The source filename may not be the same as the function name."
   ]
  },
  {
   "cell_type": "markdown",
   "metadata": {
    "slideshow": {
     "slide_type": "slide"
    }
   },
   "source": [
    "## Fortran example : <span style=\"font-family: Courier New, Courier, monospace;\">f_array_sqrt.f90</span>\n",
    "<hr style=\"border: solid 4px green\">\n",
    "\n",
    "`f_array_sqrt()` is an external subroutine to compute the square root of an array of values."
   ]
  },
  {
   "cell_type": "code",
   "execution_count": null,
   "metadata": {
    "collapsed": true
   },
   "outputs": [],
   "source": [
    "# %load f_array_sqrt.f90\n",
    "subroutine array_sqrt (n, a_in, a_out)\n",
    "\n",
    "  implicit none\n",
    "  integer, intent(in) :: n\n",
    "  real, dimension(n), intent(in)  :: a_in\n",
    "  real, dimension(n), intent(out) :: a_out\n",
    "\n",
    "  integer :: i\n",
    "\n",
    "  do i = 1, n\n",
    "     a_out(i) = sqrt(a_in(i))\n",
    "  end do\n",
    "\n",
    "  return\n",
    "\n",
    "end subroutine array_sqrt\n"
   ]
  },
  {
   "cell_type": "markdown",
   "metadata": {
    "slideshow": {
     "slide_type": "slide"
    }
   },
   "source": [
    "## Fortran example: create signature file\n",
    "<hr style=\"border: solid 4px green\">\n",
    "\n",
    "`f2py` creates the signature file automatically:\n",
    "```bash\n",
    "f2py f_array_sqrt.f90 -h f_array_sqrt.pyf\n",
    "```\n",
    "\n",
    "* use the `-h` option to specify signature is output to text file `f_array_sqrt.pyf`\n",
    "* use `--overwrite-signature` to overwrite signature"
   ]
  },
  {
   "cell_type": "code",
   "execution_count": 4,
   "metadata": {
    "collapsed": false,
    "scrolled": true,
    "slideshow": {
     "slide_type": "-"
    }
   },
   "outputs": [
    {
     "name": "stdout",
     "output_type": "stream",
     "text": [
      "Reading fortran codes...\r\n",
      "\tReading file 'f_array_sqrt.f90' (format:free)\r\n",
      "Post-processing...\r\n",
      "\tBlock: array_sqrt\r\n",
      "Post-processing (stage 2)...\r\n",
      "Saving signatures to file \"./f_array_sqrt.pyf\"\r\n"
     ]
    }
   ],
   "source": [
    "# call from notebook to avoid exiting...\n",
    "!f2py f_array_sqrt.f90 -h f_array_sqrt.pyf"
   ]
  },
  {
   "cell_type": "markdown",
   "metadata": {
    "slideshow": {
     "slide_type": "slide"
    }
   },
   "source": [
    "## Fortran example: check signature file (optional)\n",
    "<hr style=\"border: solid 4px green\">\n",
    "\n",
    "Attributes (such as `optional`, `intent` and `depend`)\n",
    "* specify the visibility, purpose and dependencies of the arguments\n",
    "* are automatically inferred from the Fortran source\n",
    "* can be manually modified if needed"
   ]
  },
  {
   "cell_type": "code",
   "execution_count": 5,
   "metadata": {
    "collapsed": false
   },
   "outputs": [
    {
     "name": "stdout",
     "output_type": "stream",
     "text": [
      "!    -*- f90 -*-\r\n",
      "! Note: the context of this file is case sensitive.\r\n",
      "\r\n",
      "subroutine array_sqrt(n,a_in,a_out) ! in f_array_sqrt.f90\r\n",
      "    integer, optional,intent(in),check(len(a_in)>=n),depend(a_in) :: n=len(a_in)\r\n",
      "    real dimension(n),intent(in) :: a_in\r\n",
      "    real dimension(n),intent(out),depend(n) :: a_out\r\n",
      "end subroutine array_sqrt\r\n",
      "\r\n",
      "! This file was auto-generated with f2py (version:2).\r\n",
      "! See http://cens.ioc.ee/projects/f2py2e/\r\n"
     ]
    }
   ],
   "source": [
    "!cat f_array_sqrt.pyf"
   ]
  },
  {
   "cell_type": "markdown",
   "metadata": {},
   "source": [
    "Normally, the automatically generated signature file does not need inspection or modification.\n",
    "\n",
    "Modifying the signature file is sometimes needed for changing the `intent` attributes\n",
    "* generating modules from legacy Fortran 77 code\n",
    "* adding signature-specific options, *e.g.* `intent(in, hide)`"
   ]
  },
  {
   "cell_type": "markdown",
   "metadata": {
    "slideshow": {
     "slide_type": "slide"
    }
   },
   "source": [
    "## Fortran example: compile extension module\n",
    "<hr style=\"border: solid 4px green\">\n",
    "\n",
    "Once verified that the signature file is correct, `f2py` compiles a module file that can be imported into Python\n",
    "\n",
    "```bash\n",
    "f2py -c f_array_sqrt.f90 -m f_array_sqrt\n",
    "```\n",
    "\n",
    "* `-m` specifies the name of the output module, in this case a shared library file called `f_array_sqrt.so`\n",
    "* it uses the default compiler `gfortran` but this can be changed\n",
    "  * *e.g.* the Intel Fortran compiler can be used by adding `--compiler=intelem --fcompiler=intelem`\n",
    "  * the available options are printed with `f2py -c --help-fcompiler`"
   ]
  },
  {
   "cell_type": "code",
   "execution_count": 7,
   "metadata": {
    "collapsed": false,
    "slideshow": {
     "slide_type": "-"
    }
   },
   "outputs": [],
   "source": [
    "# call from notebook to avoid exiting...\n",
    "# (to avoid the long output, use \"msg = !f2py ...\")\n",
    "msg = !f2py -c f_array_sqrt.f90 -m f_array_sqrt"
   ]
  },
  {
   "cell_type": "code",
   "execution_count": 8,
   "metadata": {
    "collapsed": false
   },
   "outputs": [
    {
     "name": "stdout",
     "output_type": "stream",
     "text": [
      "\u001b[31mf_array_sqrt.so\u001b[m\u001b[m\r\n"
     ]
    }
   ],
   "source": [
    "# check we have the f_array_sqrt.so\n",
    "!ls *.so"
   ]
  },
  {
   "cell_type": "markdown",
   "metadata": {
    "slideshow": {
     "slide_type": "slide"
    }
   },
   "source": [
    "## Fortran example: calling external function from Python\n",
    "<hr style=\"border: solid 4px green\">\n",
    "\n",
    "The function provided by the module has the same name as the Fortran routine: `array_sqrt`."
   ]
  },
  {
   "cell_type": "code",
   "execution_count": 9,
   "metadata": {
    "collapsed": false,
    "slideshow": {
     "slide_type": "-"
    }
   },
   "outputs": [],
   "source": [
    "# import the extension module\n",
    "import numpy as np\n",
    "from f_array_sqrt import array_sqrt"
   ]
  },
  {
   "cell_type": "code",
   "execution_count": 10,
   "metadata": {
    "collapsed": false,
    "slideshow": {
     "slide_type": "-"
    }
   },
   "outputs": [],
   "source": [
    "# view docsting of function (automatically produced)\n",
    "array_sqrt?"
   ]
  },
  {
   "cell_type": "code",
   "execution_count": 11,
   "metadata": {
    "collapsed": false,
    "slideshow": {
     "slide_type": "-"
    }
   },
   "outputs": [
    {
     "name": "stdout",
     "output_type": "stream",
     "text": [
      "[ 4.  5.  6.  7.]\n"
     ]
    }
   ],
   "source": [
    "# use the function\n",
    "a_in = np.array([16.0, 25.0, 36.0, 49.0])\n",
    "a_out = array_sqrt(a_in)\n",
    "print a_out"
   ]
  },
  {
   "cell_type": "markdown",
   "metadata": {
    "slideshow": {
     "slide_type": "slide"
    }
   },
   "source": [
    "## Fortran example: final remarks\n",
    "<hr style=\"border: solid 4px green\">\n",
    "\n",
    "### <span style=\"font-family: Courier New, Courier, monospace;\">f2py</span> automation\n",
    "Notice the difference between the Fortran source\n",
    "```fortran\n",
    "subroutine array_sqrt (n, a_in, a_out)\n",
    "  integer, intent(in) :: n\n",
    "  real, dimension(n), intent(in)  :: a_in\n",
    "  real, dimension(n), intent(out) :: a_out\n",
    "```\n",
    "and the Python usage\n",
    "```python\n",
    "a_out = array_sqrt(a_in)\n",
    "```\n",
    "Where does `n` go?  Find it in the signature file\n",
    "```fortran\n",
    "integer, optional,intent(in),check(len(a_in)>=n),depend(a_in) :: n=len(a_in)\n",
    "```\n",
    "<br><br>\n",
    "\n",
    "### Input and output variables\n",
    "* Fortran specifies what is input and output as tightly as possible\n",
    "* Python allocates `a_in`, initialises it and passes it to `array_sqrt ()`\n",
    "* Python also allocates `a_out` automatically for Fortran to work with"
   ]
  },
  {
   "cell_type": "markdown",
   "metadata": {
    "slideshow": {
     "slide_type": "slide"
    }
   },
   "source": [
    "## Python and C via <span style=\"font-family: Courier New, Courier, monospace;\">ctypes</span>\n",
    "<hr style=\"border: solid 4px green\">\n",
    "\n",
    "### Less automation than <span style=\"font-family: Courier New, Courier, monospace;\">f2py</span>\n",
    "* no additional interface file\n",
    "* no mixed-language intermediate code\n",
    "<br><br>\n",
    "\n",
    "### General recipe\n",
    "* compile C source to a shared library (`.so` extension)\n",
    "* the library is ready to use from Python\n",
    "  * import the `ctypes` module\n",
    "```python\n",
    "    import ctypes\n",
    "```\n",
    "\n",
    "  * load the library explicitly, *e.g.*\n",
    "```python\n",
    "    lib = ctypes.cdll.LoadLibrary (\"./my_library.so\")\n",
    "```\n",
    "\n",
    "* specify the prototype for the C function, *e.g.*\n",
    "```python\n",
    "     lib.my_c_function.restype = ctypes.c_int\n",
    "     lib.my_c_function.argtypes = [ctypes.c_double]\n",
    "```"
   ]
  },
  {
   "cell_type": "markdown",
   "metadata": {
    "slideshow": {
     "slide_type": "slide"
    }
   },
   "source": [
    "## C example: <span style=\"font-family: Courier New, Courier, monospace;\">c_array_sqrt.c</span>\n",
    "<hr style=\"border: solid 4px green\">\n",
    "\n",
    "Consider the same square root example, this time in C."
   ]
  },
  {
   "cell_type": "code",
   "execution_count": null,
   "metadata": {
    "collapsed": true
   },
   "outputs": [],
   "source": [
    "# %load c_array_sqrt.c\n",
    "# include <math.h>\n",
    "\n",
    "void array_sqrt (int n, double * a_in, double * a_out) {\n",
    "  int i;\n",
    "  for (i = 0; i < n; i++) {\n",
    "    a_out[i] = sqrt(a_in[i]);\n",
    "  }\n",
    "}\n"
   ]
  },
  {
   "cell_type": "markdown",
   "metadata": {
    "slideshow": {
     "slide_type": "slide"
    }
   },
   "source": [
    "## C example: create the module\n",
    "<hr style=\"border: solid 4px green\">\n",
    "\n",
    "Now, generate the shared library, using the C compiler `gcc` directly."
   ]
  },
  {
   "cell_type": "code",
   "execution_count": 12,
   "metadata": {
    "collapsed": false
   },
   "outputs": [
    {
     "name": "stdout",
     "output_type": "stream",
     "text": [
      "\u001b[31mc_array_sqrt.so\u001b[m\u001b[m \u001b[31mf_array_sqrt.so\u001b[m\u001b[m\r\n"
     ]
    }
   ],
   "source": [
    "# call from notebook to avoid exiting...\n",
    "\n",
    "# first compile\n",
    "!gcc -c -fPIC c_array_sqrt.c\n",
    "# then generate library\n",
    "!gcc -shared -o c_array_sqrt.so c_array_sqrt.o\n",
    "# check library was generated\n",
    "!ls *.so"
   ]
  },
  {
   "cell_type": "markdown",
   "metadata": {},
   "source": [
    "The compiler flag `-fPIC` stands for **P**osition **I**ndependent **C**ode\n",
    "* generated machine code is not dependent on being located at a specific address in order to work\n",
    "* this allows the dynamic loader (the mechanism whereby a process can load a library at run-time) to relocate libraries to different addresses at load time\n",
    "* this is essential for shared libraries support\n",
    "\n",
    "> *Note*: shared libraries are *shared* by different processes in memory."
   ]
  },
  {
   "cell_type": "markdown",
   "metadata": {
    "slideshow": {
     "slide_type": "slide"
    }
   },
   "source": [
    "## C example: calling external function from Python\n",
    "<hr style=\"border: solid 4px green\">\n",
    "\n",
    "* the function provided by the module has the same name as the C routine: `array_sqrt`\n",
    "* there is no wrapper, so the corresponding `ctypes` code must address the two C pointers"
   ]
  },
  {
   "cell_type": "code",
   "execution_count": 13,
   "metadata": {
    "collapsed": false
   },
   "outputs": [
    {
     "name": "stdout",
     "output_type": "stream",
     "text": [
      "[ 4.  5.  6.  7.]\n"
     ]
    }
   ],
   "source": [
    "import ctypes\n",
    "import numpy as np\n",
    "from numpy.ctypeslib import ndpointer\n",
    "\n",
    "lib = ctypes.cdll.LoadLibrary(\"./c_array_sqrt.so\")\n",
    "lib.array_sqrt.restype = None\n",
    "lib.array_sqrt.argtypes = [ctypes.c_int, ndpointer(ctypes.c_double, flags=\"C_CONTIGUOUS\"),\n",
    "                                         ndpointer(ctypes.c_double, flags=\"C_CONTIGUOUS\")]\n",
    "\n",
    "a_in  = np.array([16.0, 25.0, 36.0, 49.0])\n",
    "a_out = np.empty(4, np.double)\n",
    "\n",
    "lib.array_sqrt(4, a_in, a_out)\n",
    "print a_out"
   ]
  },
  {
   "cell_type": "markdown",
   "metadata": {
    "slideshow": {
     "slide_type": "slide"
    }
   },
   "source": [
    "## C example: final remarks\n",
    "<hr style=\"border: solid 4px green\">\n",
    "\n",
    "### What you program is what you get\n",
    "Compare the C source\n",
    "```c\n",
    "void array_sqrt (int n, double * a_in, double * a_out)\n",
    "```\n",
    "with the Python usage\n",
    "```python\n",
    "lib.array_sqrt(4, a_in, a_out)\n",
    "```\n",
    "<br><br>\n",
    "\n",
    "### Advantages of less automation\n",
    "* complete control over generating the shared library\n",
    "* complete control over variable memory allocation"
   ]
  },
  {
   "cell_type": "markdown",
   "metadata": {
    "slideshow": {
     "slide_type": "slide"
    }
   },
   "source": [
    "## Exercise\n",
    "<hr style=\"border: solid 4px green\">\n",
    "\n",
    "### Generate a Python extension module for the function `fibonacci()` \n",
    "* start with the provided C or Fortran source provided\n",
    "* the function computes the first `n` Fibonacci numbers (0, 1, 1, 2, 3, 5, 8, 13, ...) and stores the results in the array provided\n",
    "* test this function in Python"
   ]
  },
  {
   "cell_type": "markdown",
   "metadata": {
    "slideshow": {
     "slide_type": "slide"
    }
   },
   "source": [
    "## Summary\n",
    "<hr style=\"border: solid 4px green\">\n",
    "\n",
    "### We have looked at\n",
    "* coupling Python with C and Fortran code\n",
    "  * allowing code re-use (*e.g.* existing libraries)\n",
    "* `f2py` is a simple way to call Fortran code from Python\n",
    "* `ctypes` is the simplest way to interface Python with C functions\n",
    "<br><br>\n",
    "\n",
    "### Next: extended example\n",
    "* put all the above together (and more)\n",
    "* realistic example\n",
    "* focus on performance"
   ]
  },
  {
   "cell_type": "markdown",
   "metadata": {
    "slideshow": {
     "slide_type": "notes"
    }
   },
   "source": [
    "<img src=\"../../images/reusematerial.png\"; style=\"float: center; width: 90\"; >"
   ]
  },
  {
   "cell_type": "code",
   "execution_count": null,
   "metadata": {
    "collapsed": true
   },
   "outputs": [],
   "source": []
  }
 ],
 "metadata": {
  "anaconda-cloud": {},
  "celltoolbar": "Slideshow",
  "kernelspec": {
   "display_name": "Python [Root]",
   "language": "python",
   "name": "Python [Root]"
  },
  "language_info": {
   "codemirror_mode": {
    "name": "ipython",
    "version": 2
   },
   "file_extension": ".py",
   "mimetype": "text/x-python",
   "name": "python",
   "nbconvert_exporter": "python",
   "pygments_lexer": "ipython2",
   "version": "2.7.12"
  }
 },
 "nbformat": 4,
 "nbformat_minor": 0
}

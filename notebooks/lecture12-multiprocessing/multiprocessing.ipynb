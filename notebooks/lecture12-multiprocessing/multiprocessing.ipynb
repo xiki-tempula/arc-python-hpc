{
 "cells": [
  {
   "cell_type": "markdown",
   "metadata": {
    "slideshow": {
     "slide_type": "slide"
    }
   },
   "source": [
    "# Python for High Performance Computing\n",
    "# The <span style=\"font-family: Courier New, Courier, monospace;\">multiprocessing</span> library\n",
    "<hr style=\"border: solid 4px green\">\n",
    "<br>\n",
    "<center><img src=\"images/arc_logo.png\"; style=\"float: center; width: 20%\"></center>\n",
    "<br>\n",
    "## http://www.arc.ox.ac.uk\n",
    "## support@arc.ox.ac.uk"
   ]
  },
  {
   "cell_type": "markdown",
   "metadata": {
    "slideshow": {
     "slide_type": "slide"
    }
   },
   "source": [
    "## Overview\n",
    "<hr style=\"border: solid 4px green\">\n",
    "\n",
    "### <span style=\"font-family: Courier New, Courier, monospace;\">multiprocessing</span>\n",
    "* module introduced in Python 2.6\n",
    "* designed to exploit multiprocessor systems\n",
    "* copies (in part) the functionality of the older `threading` library\n",
    "* uses threads instead of processes, sidestepping the **G**lobal **I**nterpreter **L**ock (GIL) limitations of cPython\n",
    "<br><br>\n",
    "\n",
    "### Remember the GIL?\n",
    "* GIL is a mutex that prevents native threads from executing Python bytecodes concurrently\n",
    "  * only a single thread can acquire a lock on a Python object or C API at any one time\n",
    "* it *is* necessary because the interpreter is not thread-safe\n",
    "  * the GIL protects access to current thread state and heap allocated objects\n",
    "* but it also prevents Python programs from taking full advantage of multiprocessor systems\n",
    "* effectively, it is the language's most difficult technical challenge\n",
    "<br><br>\n",
    "\n",
    "> *Note*:\n",
    "* the `threading` library does not bypass the GIL, so it is useless for parallel data processing\n",
    "* but can be useful for code that is I/O or network bound"
   ]
  },
  {
   "cell_type": "markdown",
   "metadata": {
    "slideshow": {
     "slide_type": "slide"
    }
   },
   "source": [
    "## Overview (cont'd)\n",
    "<hr style=\"border: solid 4px green\">\n",
    "\n",
    "### <span style=\"font-family: Courier New, Courier, monospace;\">multiprocessing</span>\n",
    "* works on any system that runs Python\n",
    "* spawns processes that can execute tasks concurrently (each process has a separate GIL)\n",
    "* abstracts the detail of parallel scheduling and execution\n",
    "<br><br>\n",
    "\n",
    "### Pros\n",
    "* straigtforward to use\n",
    "* can achieve good parallel speedups on trivially parallel problems\n",
    "<br><br>\n",
    "\n",
    "### Cons\n",
    "* not suitable for tightly coupled parallelism (which needs a lot of inter-process communication)\n",
    "* limited to single host execution"
   ]
  },
  {
   "cell_type": "markdown",
   "metadata": {
    "slideshow": {
     "slide_type": "slide"
    }
   },
   "source": [
    "## Overview (cont'd)\n",
    "<hr style=\"border: solid 4px green\">\n",
    "  \n",
    "### <span style=\"font-family: Courier New, Courier, monospace;\">multiprocessing</span> works by\n",
    "* assigning tasks to processes\n",
    "* executing the processes\n",
    "<br><br>\n",
    "\n",
    "### Ideal use: trivially parallel workloads\n",
    "* independent tasks that only need minimal communication or synchronisation\n",
    "* ideally, tasks are balanced -- all tasks have a fixed computational cost\n",
    "* `multiprocessing` tasks assigned to processes are independent and task data is local to the process\n",
    "<br><br>\n",
    "\n",
    "### Examples\n",
    "* mapping a single function to multiple data\n",
    "* parameter sweep\n",
    "* map-reduce\n",
    "<br><br>\n",
    "\n",
    "### There is more...\n",
    "* the library offers a lot more (*e.g.* communication between processes)\n",
    "* arguably, tightly coupled parallelism is better tackled by other solutions, *e.g.* `mpi4py`"
   ]
  },
  {
   "cell_type": "markdown",
   "metadata": {
    "slideshow": {
     "slide_type": "slide"
    }
   },
   "source": [
    "## Example\n",
    "<hr style=\"border: solid 4px green\">\n",
    "  \n",
    "### The simplest way to use the library is via the <span style=\"font-family: Courier New, Courier, monospace;\">Process</span> class\n",
    "<br><br>\n",
    "\n",
    "### A \"hello world\" example\n",
    "* initialise a number of processes\n",
    "* each processes is assigned a task\n",
    "* each process has an associated argument (passed on to the task function)\n",
    "* each process is started independently"
   ]
  },
  {
   "cell_type": "code",
   "execution_count": 1,
   "metadata": {
    "slideshow": {
     "slide_type": "-"
    }
   },
   "outputs": [
    {
     "name": "stdout",
     "output_type": "stream",
     "text": [
      "hello from worker 0\n",
      "hello from worker 1\n",
      "hello from worker 2\n",
      "hello from worker 3\n"
     ]
    }
   ],
   "source": [
    "import multiprocessing\n",
    "\n",
    "def func (num):\n",
    "    print \"hello from worker\", num\n",
    "\n",
    "if __name__ == \"__main__\":\n",
    "    for i in range(4):\n",
    "        p = multiprocessing.Process (target=func, args=(i,))\n",
    "        p.start ()"
   ]
  },
  {
   "cell_type": "markdown",
   "metadata": {
    "slideshow": {
     "slide_type": "slide"
    }
   },
   "source": [
    "## Example (cont'd)\n",
    "<hr style=\"border: solid 4px green\">\n",
    "\n",
    "### A slightly enhanced \"hello world\" example\n",
    "* print process information: from OS as well as from from library\n",
    "* number of processes equals the number of cores available (counting hyperthreading)"
   ]
  },
  {
   "cell_type": "code",
   "execution_count": 1,
   "metadata": {
    "slideshow": {
     "slide_type": "notes"
    }
   },
   "outputs": [
    {
     "name": "stdout",
     "output_type": "stream",
     "text": [
      "hello from worker 0 process 6490 name Process-1\n",
      "hello from worker 1 process 6491 name Process-2\n",
      "hello from worker 2 process 6492 name Process-3\n",
      "hello from worker 3 process 6493 name Process-4\n",
      "hello from worker 4 process 6494 name Process-5\n",
      "hello from worker 5 process 6495 name Process-6\n",
      "hello from worker 6 process 6496 name Process-7\n",
      "hello from worker 7 process 6497 name Process-8\n"
     ]
    }
   ],
   "source": [
    "import multiprocessing\n",
    "import os\n",
    "\n",
    "def func (num):\n",
    "    print \"hello from worker\", num, \"process\", os.getpid(), \"name\", multiprocessing.current_process().name\n",
    "    return\n",
    "\n",
    "if __name__ == \"__main__\":\n",
    "    for i in range(multiprocessing.cpu_count()):\n",
    "        p = multiprocessing.Process (target=func, args=(i,))\n",
    "        p.start ()"
   ]
  },
  {
   "cell_type": "markdown",
   "metadata": {
    "slideshow": {
     "slide_type": "slide"
    }
   },
   "source": [
    "## <span style=\"font-family: Courier New, Courier, monospace;\">multiprocessing</span> classes\n",
    "<hr style=\"border: solid 4px green\">\n",
    "\n",
    "### Two very important classes\n",
    "* `Process` -- represents activity that is run in a separate process\n",
    "* `pool` -- controls a pool of \"worker\" processes to which tasks are asigned\n",
    "<br><br>\n",
    "\n",
    "### Other classes exist\n",
    "* examples include `Queue`, `Pipe`, `Lock`, `Manager`, `Connection`\n",
    "* allow quite sophisticated programming (including inter-process communication)"
   ]
  },
  {
   "cell_type": "markdown",
   "metadata": {
    "slideshow": {
     "slide_type": "slide"
    }
   },
   "source": [
    "## The <span style=\"font-family: Courier New, Courier, monospace;\">pool</span> class\n",
    "<hr style=\"border: solid 4px green\">\n",
    "\n",
    "### <span style=\"font-family: Courier New, Courier, monospace;\">pool</span>\n",
    "* the most important (and usefull class)\n",
    "* particularly useful for trivial parallelism\n",
    "<br><br>\n",
    "\n",
    "### Caveats\n",
    "* the `pool` class methods should only be used by the process which created the pool\n",
    "* the `__main__` module should be importable by the children processes\n",
    "  * some examples involving `pool` will not work in the interactive interpreter"
   ]
  },
  {
   "cell_type": "markdown",
   "metadata": {
    "slideshow": {
     "slide_type": "slide"
    }
   },
   "source": [
    "## The <span style=\"font-family: Courier New, Courier, monospace;\">pool</span> class: task offloading\n",
    "<hr style=\"border: solid 4px green\">\n",
    "\n",
    "### The <span style=\"font-family: Courier New, Courier, monospace;\">pool</span> class hides the complexity of concurrent programing\n",
    "* you do not have to worry about managing processes or shared data\n",
    "* you do not have to worry about distributing the work between workers\n",
    "<br><br>\n",
    "\n",
    "### All that a program needs is\n",
    "* open a pool of processes\n",
    "* offload tasks to processes in the pool\n",
    "<br><br>\n",
    "\n",
    "### Two types of methods to offload tasks\n",
    "* `map` (and `map_async`) -- map a function to arguments from an iterable\n",
    "* `apply` (and `apply_async`) -- apply a function to a set of arguments"
   ]
  },
  {
   "cell_type": "markdown",
   "metadata": {
    "slideshow": {
     "slide_type": "slide"
    }
   },
   "source": [
    "## The <span style=\"font-family: Courier New, Courier, monospace;\">pool</span> class: <span style=\"font-family: Courier New, Courier, monospace;\">map</span>\n",
    "<hr style=\"border: solid 4px green\">\n",
    "\n",
    "### <span style=\"font-family: Courier New, Courier, monospace;\">map</span> and <span style=\"font-family: Courier New, Courier, monospace;\">map_async</span>\n",
    "* map a function to arguments from an iterable\n",
    "* similar to Python built-in `map`\n",
    "* the iterable is automatically divided into \"chunks\" of tasks that are scheduled to be executed by separate processes in the pool\n",
    "* each process executes more than one task, going through its \"chunk\" of work sequentially\n",
    "<br><br>\n",
    "\n",
    "### Usage:\n",
    "* a single same function / task needs to be mapped to a set of multiple similar arguments"
   ]
  },
  {
   "cell_type": "markdown",
   "metadata": {
    "slideshow": {
     "slide_type": "slide"
    }
   },
   "source": [
    "## The <span style=\"font-family: Courier New, Courier, monospace;\">pool</span> class: <span style=\"font-family: Courier New, Courier, monospace;\">apply</span>\n",
    "<hr style=\"border: solid 4px green\">\n",
    "\n",
    "### <span style=\"font-family: Courier New, Courier, monospace;\">apply</span> and <span style=\"font-family: Courier New, Courier, monospace;\">apply_async</span>\n",
    "* apply a function to a set of arguments\n",
    "* similar to Python built-in `apply`\n",
    "* tasks are placed in a queue of execution\n",
    "* each process executes more than one task\n",
    "* tasks may be executed out of order\n",
    "<br><br>\n",
    "\n",
    "### Usage:\n",
    "* multiple functions / tasks needs to be mapped to a set of multiple (possibly dissimilar) arguments\n",
    "* `map` is a particular case of `apply`\n",
    "* `apply` allows the programmer greater flexibility"
   ]
  },
  {
   "cell_type": "markdown",
   "metadata": {
    "slideshow": {
     "slide_type": "slide"
    }
   },
   "source": [
    "## Example\n",
    "<hr style=\"border: solid 4px green\">\n",
    "\n",
    "### Unique function to multiple data\n",
    "* `map` is simpler than `apply`\n",
    "* `data` is a list (iterable)"
   ]
  },
  {
   "cell_type": "code",
   "execution_count": 3,
   "metadata": {
    "slideshow": {
     "slide_type": "slide"
    }
   },
   "outputs": [
    {
     "name": "stdout",
     "output_type": "stream",
     "text": [
      "[1, 4, 9, 16, 25, 36, 49]\n"
     ]
    }
   ],
   "source": [
    "import multiprocessing\n",
    "\n",
    "def func (x):\n",
    "    return x*x\n",
    "\n",
    "if __name__ == '__main__':\n",
    "    # start a pool with 2 processes\n",
    "    pool = multiprocessing.Pool(2)\n",
    "    # data list\n",
    "    data = [1, 2, 3, 4, 5, 6, 7]\n",
    "    # map a function to some data\n",
    "    pool.map (func, data)\n",
    "    # apply a function to the same data\n",
    "    results = [ pool.apply (func, args = (d, )) for d in data ]\n",
    "    print results"
   ]
  },
  {
   "cell_type": "markdown",
   "metadata": {
    "slideshow": {
     "slide_type": "slide"
    }
   },
   "source": [
    "## The <span style=\"font-family: Courier New, Courier, monospace;\">pool</span> class: properties\n",
    "<hr style=\"border: solid 4px green\">\n",
    "\n",
    "### Four choices\n",
    "* `map` and `map_async`\n",
    "* `apply` and `apply_async`\n",
    "<br><br>\n",
    "\n",
    "### Three important properties\n",
    "* scheduling\n",
    "  * `map` / `map_async` are mapped directly\n",
    "  * `apply` / `apply_async` use a task queue\n",
    "* blocking\n",
    "  * the asynchronous variants are non-blocking; processing carry on after their call, without waiting for returned results\n",
    "* ordering\n",
    "  * the asynchronous variants are mapped / applied in arbitrary order to the \"targets\""
   ]
  },
  {
   "cell_type": "markdown",
   "metadata": {
    "slideshow": {
     "slide_type": "slide"
    }
   },
   "source": [
    "## The <span style=\"font-family: Courier New, Courier, monospace;\">pool</span> class: a few more methods\n",
    "<hr style=\"border: solid 4px green\">\n",
    "\n",
    "### <span style=\"font-family: Courier New, Courier, monospace;\">close()</span>\n",
    "* closes a pool, preventing any more tasks from being submitted to the pool\n",
    "* once all the tasks completed, the worker processes exit and resources freed\n",
    "<br><br>\n",
    "\n",
    "### <span style=\"font-family: Courier New, Courier, monospace;\">join()</span>\n",
    "* join the worker processes from a pool, waiting for them to exit\n",
    "* `close()` must be called before using `join()`\n",
    "<br><br>\n",
    "\n",
    "### <span style=\"font-family: Courier New, Courier, monospace;\">close()</span> and <span style=\"font-family: Courier New, Courier, monospace;\">join()</span> are usually used together\n",
    "* typically called at end of the parallelisable part of the program\n",
    "* ensure the tasks are completed before results can be used\n",
    "<br><br>\n",
    "\n",
    "### <span style=\"font-family: Courier New, Courier, monospace;\">get()</span>\n",
    "* retrieve results from the objects returned by `map` or `apply` (or their asynchronous variants)\n",
    "* it is blocking\n",
    "<br><br>\n",
    "\n",
    "### The asynchronous methods accept callback functions\n",
    "* these are useful to perform useful actions on the results\n",
    "* can be used instead of `get()` to retrieve results"
   ]
  },
  {
   "cell_type": "markdown",
   "metadata": {
    "slideshow": {
     "slide_type": "slide"
    }
   },
   "source": [
    "## The <span style=\"font-family: Courier New, Courier, monospace;\">pool</span> class: properties (a summary)\n",
    "<hr style=\"border: solid 4px green\">\n",
    "\n",
    "| Method        | Scheduling    | Blocking     | Ordering                 | Callback function |\n",
    "| :------------ | :------------ | :----------- | :----------------------- | :---------------: |\n",
    "| `map`         | direct map    | blocking     | tasks executed in order  |       N           |\n",
    "| `map_async`   | direct map    | non-blocking | tasks out of order       |       Y           |\n",
    "| `apply`       | uses queue    | blocking     | tasks executed in order  |       N           |\n",
    "| `apply_async` | uses queue    | non-blocking | tasks out of order       |       Y           |"
   ]
  },
  {
   "cell_type": "markdown",
   "metadata": {
    "slideshow": {
     "slide_type": "slide"
    }
   },
   "source": [
    "## The <span style=\"font-family: Courier New, Courier, monospace;\">pool</span> class: blocking and non-blocking <span style=\"font-family: Courier New, Courier, monospace;\">map</span>\n",
    "<hr style=\"border: solid 4px green\">"
   ]
  },
  {
   "cell_type": "code",
   "execution_count": null,
   "metadata": {},
   "outputs": [],
   "source": [
    "# %load test_map.py\n",
    "#!/usr/bin/env python\n",
    "\n",
    "import multiprocessing\n",
    "import numpy\n",
    "\n",
    "def func (x):\n",
    "    print x\n",
    "\n",
    "if __name__ == '__main__':\n",
    "    \n",
    "    # some data\n",
    "    x1 = numpy.arange(8)\n",
    "    x2 = x1 + 100\n",
    "\n",
    "    # open pool\n",
    "    pool = multiprocessing.Pool (2)\n",
    "\n",
    "    # MAP\n",
    "    res = pool.map (func, x1)\n",
    "    print \"MAP FINISHED\"\n",
    "\n",
    "    # MAP_ASYNC\n",
    "    res = pool.map_async (func, x2)\n",
    "    print \"MAP_ASYNC FINISHED\"\n",
    "    res.wait ()\n",
    "\n",
    "    # close\n",
    "    pool.close ()\n",
    "    pool.join ()\n"
   ]
  },
  {
   "cell_type": "code",
   "execution_count": 4,
   "metadata": {
    "scrolled": false
   },
   "outputs": [
    {
     "name": "stdout",
     "output_type": "stream",
     "text": [
      "0\r\n",
      "1\r\n",
      "2\r\n",
      "3\r\n",
      "4\r\n",
      "5\r\n",
      "6\r\n",
      "7\r\n",
      "MAP FINISHED\r\n",
      "MAP_ASYNC FINISHED\r\n",
      "100\r\n",
      "101\r\n",
      "102\r\n",
      "103\r\n",
      "104\r\n",
      "105\r\n",
      "106\r\n",
      "107\r\n"
     ]
    }
   ],
   "source": [
    "!python test_map.py"
   ]
  },
  {
   "cell_type": "markdown",
   "metadata": {
    "slideshow": {
     "slide_type": "slide"
    }
   },
   "source": [
    "## The <span style=\"font-family: Courier New, Courier, monospace;\">pool</span> class: blocking and non-blocking <span style=\"font-family: Courier New, Courier, monospace;\">apply</span>\n",
    "<hr style=\"border: solid 4px green\">"
   ]
  },
  {
   "cell_type": "code",
   "execution_count": null,
   "metadata": {},
   "outputs": [],
   "source": [
    "# %load test_apply.py\n",
    "#!/usr/bin/env python\n",
    "\n",
    "import multiprocessing\n",
    "import numpy\n",
    "\n",
    "def func (x):\n",
    "    print x\n",
    "\n",
    "if __name__ == '__main__':\n",
    "    \n",
    "    # some data\n",
    "    x1 = numpy.arange(8)\n",
    "    x2 = x1 + 100\n",
    "\n",
    "    # open pool\n",
    "    pool = multiprocessing.Pool (2)\n",
    "\n",
    "    # APPLY\n",
    "    res = [ pool.apply (func, args = (xi, )) for xi in x1 ]\n",
    "    print \"APPLY FINISHED\"\n",
    "\n",
    "    # APPLY_ASYNC\n",
    "    out = [ pool.apply_async (func, args = (xi, )) for xi in x2 ]\n",
    "    print \"APPLY_ASYNC FINISHED\"\n",
    "\n",
    "    # close\n",
    "    pool.close ()\n",
    "    pool.join ()\n"
   ]
  },
  {
   "cell_type": "code",
   "execution_count": 5,
   "metadata": {},
   "outputs": [
    {
     "name": "stdout",
     "output_type": "stream",
     "text": [
      "0\n",
      "1\n",
      "2\n",
      "3\n",
      "4\n",
      "5\n",
      "6\n",
      "7\n",
      "APPLY FINISHED\n",
      "APPLY_ASYNC FINISHED\n",
      "100\n",
      "101\n",
      "102\n",
      "103\n",
      "104\n",
      "105\n",
      "106\n",
      "107\n"
     ]
    }
   ],
   "source": [
    "!python test_apply.py"
   ]
  },
  {
   "cell_type": "markdown",
   "metadata": {
    "slideshow": {
     "slide_type": "slide"
    }
   },
   "source": [
    "## Performance note\n",
    "<hr style=\"border: solid 4px green\">\n",
    "\n",
    "### Spawned processes are fed data by the process that owns the pool\n",
    "* amount of data has to be minimal, otherwise performance suffers\n",
    "* data is *pickled* before it is fed to spawned processes\n",
    "<br><br>\n",
    "\n",
    "### Minimise quantity of data passed to processes\n",
    "* `map`: small number of function arguments, little data\n",
    "* `apply`: tasks with little input data"
   ]
  },
  {
   "cell_type": "markdown",
   "metadata": {
    "slideshow": {
     "slide_type": "slide"
    }
   },
   "source": [
    "## Mapping functions with multiple parameters\n",
    "<hr style=\"border: solid 4px green\">\n",
    "\n",
    "### Mapping processes to data is easy"
   ]
  },
  {
   "cell_type": "code",
   "execution_count": 8,
   "metadata": {},
   "outputs": [
    {
     "name": "stdout",
     "output_type": "stream",
     "text": [
      "hello from worker 1\n",
      "hello from worker 2\n",
      "hello from worker 3\n",
      "hello from worker 4\n"
     ]
    }
   ],
   "source": [
    "import multiprocessing\n",
    "\n",
    "def func (num):\n",
    "    print \"hello from worker\", num\n",
    "\n",
    "if __name__ == \"__main__\":\n",
    "    data  = [1, 2, 3, 4]\n",
    "    pool = multiprocessing.Pool (4)\n",
    "    res = pool.map( func, data )"
   ]
  },
  {
   "cell_type": "markdown",
   "metadata": {
    "slideshow": {
     "slide_type": "-"
    }
   },
   "source": [
    "### But what multiple arguments?"
   ]
  },
  {
   "cell_type": "code",
   "execution_count": 6,
   "metadata": {},
   "outputs": [
    {
     "name": "stdout",
     "output_type": "stream",
     "text": [
      "hello from worker 2 with value 2.0\n"
     ]
    }
   ],
   "source": [
    "def func (num, val):\n",
    "    print \"hello from worker\", num, \"with value\", val\n",
    "\n",
    "func (2, 2.)"
   ]
  },
  {
   "cell_type": "markdown",
   "metadata": {
    "slideshow": {
     "slide_type": "-"
    }
   },
   "source": [
    "### Simplest option: use tuples"
   ]
  },
  {
   "cell_type": "code",
   "execution_count": 7,
   "metadata": {},
   "outputs": [
    {
     "name": "stdout",
     "output_type": "stream",
     "text": [
      "hello from worker 3 with value 3.0\n",
      "hello from worker 2 with value 2.0\n",
      "hello from worker 1 with value 1.0\n",
      "hello from worker 4 with value 4.0\n"
     ]
    }
   ],
   "source": [
    "import multiprocessing\n",
    "\n",
    "def func ((num, val)):\n",
    "    print \"hello from worker\", num, \"with value\", val\n",
    "\n",
    "if __name__ == \"__main__\":\n",
    "    data = [(1,1.0), (2,2.), (3,3.), (4,4.)]\n",
    "    pool = multiprocessing.Pool (4)\n",
    "    res = pool.map( func, data )"
   ]
  },
  {
   "cell_type": "markdown",
   "metadata": {
    "slideshow": {
     "slide_type": "-"
    }
   },
   "source": [
    "### Other options\n",
    "* Python 3 has the `pool.starmap()` method"
   ]
  },
  {
   "cell_type": "markdown",
   "metadata": {
    "slideshow": {
     "slide_type": "slide"
    }
   },
   "source": [
    "## <span style=\"font-family: Courier New, Courier, monospace;\">multiprocessing</span>, pickling and object-oriented programming\n",
    "<hr style=\"border: solid 4px green\">\n",
    "\n",
    "### A word of caution\n",
    "<br><br>\n",
    "\n",
    "### Pickling\n",
    "* the process whereby a Python object hierarchy is converted into a byte stream, or \"serialised\"\n",
    "* used by `multiprocessing` to pass data to spwaned processes\n",
    "<br><br>\n",
    "\n",
    "### Bound methods are not picklable\n",
    "* attempting to use `map` or `apply` with classes fails with\n",
    "\n",
    "```cPickle.PicklingError: Can't pickle <type 'instancemethod'>: attribute lookup __builtin__.instancemethod failed```\n",
    "\n",
    "* workaround uses `copy_reg`, a module to register pickle support functions"
   ]
  },
  {
   "cell_type": "markdown",
   "metadata": {
    "slideshow": {
     "slide_type": "slide"
    }
   },
   "source": [
    "## A Monte Carlo example\n",
    "<hr style=\"border: solid 4px green\">\n",
    "\n",
    "### A physical problem\n",
    "* find the terminal velocity of a falling body of given mass\n",
    "* forces acting on the body are weight and drag\n",
    "* finding the terminal velocity involves the solution to an **O**rdinary **D**ifferential **E**quation (ODE)\n",
    "<br><br>\n",
    "\n",
    "### Dealing with uncertainties\n",
    "* the \"drag\" coefficient is assumed a normal random variable of given mean and variance\n",
    "* takes into account possible variations in the shape of the body\n",
    "* the terminal velocity is thus a random variable itself"
   ]
  },
  {
   "cell_type": "markdown",
   "metadata": {
    "slideshow": {
     "slide_type": "slide"
    }
   },
   "source": [
    "## A Monte Carlo example (cont'd)\n",
    "<hr style=\"border: solid 4px green\">\n",
    "\n",
    "### The Monte Carlo method\n",
    "* a broad class of computational algorithms based on repeated random sampling to obtain numerical results\n",
    "* original application: the numerical calculation of multidimensional definite integrals with complicated boundaries\n",
    "* modern applications vary widely\n",
    "  * modelling uncertainties in engineering and physical problems\n",
    "  * evaluating financial derivatives in computational finance\n",
    "  * Bayesian inference in phylogeny (computational biology)\n",
    "<br><br>\n",
    "\n",
    "### The Monte Carlo example\n",
    "* generate a large number of values for the random variable on which the physical problem depends\n",
    "* solve the same physical problem for each such value\n",
    "* a statistical sample for the solution of the problem is found"
   ]
  },
  {
   "cell_type": "markdown",
   "metadata": {
    "slideshow": {
     "slide_type": "slide"
    }
   },
   "source": [
    "## A Monte Carlo example (cont'd)\n",
    "<hr style=\"border: solid 4px green\">\n",
    "\n",
    "### Implementation\n",
    "| Class | Methods | Function |\n",
    "| :--- | :--- | :--- | \n",
    "| `fallingBodyProblem` | `ode`      | Initialise parameters |\n",
    "|                      | `solution` | Solve ODE (using `odeint`) |\n",
    "|  `fallingBodyStats`  | `solutionWrapper` | Generates a single solution to the falling body problem |\n",
    "|                      | `solutionStats` | Generates a number of solutions to the falling body problem |\n",
    "|                      | `solutionStatsMultiProcessing` | Same as `solutionStats` but in parallel |"
   ]
  },
  {
   "cell_type": "markdown",
   "metadata": {
    "slideshow": {
     "slide_type": "slide"
    }
   },
   "source": [
    "## A Monte Carlo example (cont'd)\n",
    "<hr style=\"border: solid 4px green\">\n",
    "\n",
    "### Serial implementation of MC\n",
    "```python\n",
    "    def solutionStats (self):\n",
    "        \"\"\"\n",
    "        solutionStats -- generates terminal velocity statistics from a\n",
    "                         distribution of air resistance values\n",
    "        \"\"\"\n",
    "        # sample of air resistance values\n",
    "        resistanceValues = self.resistanceMean + self.resistanceVar * numpy.random.randn (self.sampleSize)\n",
    "\n",
    "        # vector to store final velocities\n",
    "        finalVelocities = numpy.zeros (self.sampleSize)\n",
    "        counterVelocities = 0\n",
    "\n",
    "        # run across the entire sample\n",
    "        for resistance in resistanceValues:\n",
    "            # set problem\n",
    "            finalVelocities [counterVelocities] = self.solutionWrapper (resistance)\n",
    "            counterVelocities += 1\n",
    "\n",
    "        return finalVelocities\n",
    "```"
   ]
  },
  {
   "cell_type": "markdown",
   "metadata": {
    "slideshow": {
     "slide_type": "slide"
    }
   },
   "source": [
    "## A Monte Carlo example (cont'd)\n",
    "<hr style=\"border: solid 4px green\">\n",
    "\n",
    "### Parallel implementation of MC\n",
    "```python\n",
    "    def solutionStatsMultiProcessing (self, numProcs=2):\n",
    "        \"\"\"\n",
    "        solutionStatsMultiProcessing -- generates terminal velocity statistics from a\n",
    "                                        distribution of air resistance values\n",
    "                                        (parallel processing using the multiprocessing module)\n",
    "        \"\"\"\n",
    "        # sample of air resistance values\n",
    "        resistanceValues = self.resistanceMean + self.resistanceVar * numpy.random.randn (self.sampleSize)\n",
    "\n",
    "        # vector to store final velocities\n",
    "        finalVelocities = numpy.zeros (self.sampleSize)\n",
    "        counterVelocities = 0\n",
    "\n",
    "        # open a pool\n",
    "        procPool = multiprocessing.Pool (numProcs)\n",
    "\n",
    "        rawResults = procPool.map_async( self.solutionWrapper, resistanceValues )\n",
    "        rawResults.wait () # not strictly necessary\n",
    "        finalVelocities = rawResults.get () # get() is blocking\n",
    "\n",
    "        # clean up pool\n",
    "        procPool.close () # close task pool (cannot submit new tasks from here on)\n",
    "        procPool.join ()  # __main__ must wait for all tasks to complete\n",
    "\n",
    "        return finalVelocities\n",
    "```"
   ]
  },
  {
   "cell_type": "markdown",
   "metadata": {
    "slideshow": {
     "slide_type": "slide"
    }
   },
   "source": [
    "## A Monte Carlo example: results\n",
    "<hr style=\"border: solid 4px green\">"
   ]
  },
  {
   "cell_type": "code",
   "execution_count": 4,
   "metadata": {},
   "outputs": [
    {
     "name": "stdout",
     "output_type": "stream",
     "text": [
      " serial implementation\n",
      " serial stats time = 5.095978\n",
      " multiprocessing implementation using 4 processes\n",
      " parallel stats time = 1.564982\n"
     ]
    }
   ],
   "source": [
    "% matplotlib inline\n",
    "! python test_multiprocessing.py 0.01 0.001 100.0 2000 16000 4"
   ]
  },
  {
   "cell_type": "markdown",
   "metadata": {
    "slideshow": {
     "slide_type": "slide"
    }
   },
   "source": [
    "## A Monte Carlo example: results on the ARC cluster\n",
    "<hr style=\"border: solid 4px green\">\n",
    "\n",
    "### Compute nodes\n",
    "* 16 cores (Intel Xeon Haswell)\n",
    "* 64GB RAM (or more)\n",
    "<br><br>\n",
    "\n",
    "### The test\n",
    "* comment out the serial part\n",
    "* run with the command\n",
    "```\n",
    "for numthreads in 1 2 4 6 8 10 12 14 16; do\n",
    "  python test_multiprocessing.py 0.01 0.001 100.0 2000 160000 $numtreads\n",
    "done 2>&1 | tee test_multiprocessing.times.raw\n",
    "```\n",
    "* process raw results\n",
    "* plot parallel scaling results"
   ]
  },
  {
   "cell_type": "markdown",
   "metadata": {},
   "source": [
    "## A Monte Carlo example: results on the ARC cluster (cont'd)\n",
    "<hr style=\"border: solid 4px green\">"
   ]
  },
  {
   "cell_type": "code",
   "execution_count": 45,
   "metadata": {},
   "outputs": [
    {
     "name": "stdout",
     "output_type": "stream",
     "text": [
      "1\r\n",
      "2\r\n",
      "4\r\n",
      "6\r\n",
      "8\r\n",
      "10\r\n",
      "12\r\n",
      "14\r\n",
      "16\r\n",
      "49.969022\r\n",
      "25.264540\r\n",
      "13.745896\r\n",
      "9.144087\r\n",
      "7.348700\r\n",
      "6.219468\r\n",
      "5.155684\r\n",
      "4.603014\r\n",
      "4.185782\r\n"
     ]
    }
   ],
   "source": [
    "# extract number of processes\n",
    "!grep \"multiprocessing implementation\" test_multiprocessing.times.raw | awk '{print $4}' > test_multiprocessing.times\n",
    "# extract and append processing time\n",
    "!grep \"parallel stats\" test_multiprocessing.times.raw | awk '{print $5}' >> test_multiprocessing.times\n",
    "# this is what the file read in Python looks like\n",
    "!cat test_multiprocessing.times"
   ]
  },
  {
   "cell_type": "code",
   "execution_count": 4,
   "metadata": {},
   "outputs": [
    {
     "data": {
      "image/png": "[encoded data removed]",
      "text/plain": [
       "<matplotlib.figure.Figure at 0x107cbea50>"
      ]
     },
     "metadata": {},
     "output_type": "display_data"
    }
   ],
   "source": [
    "% matplotlib inline\n",
    "import numpy as np\n",
    "import matplotlib.pyplot as plt\n",
    "data = np.loadtxt (\"test_multiprocessing.times\")\n",
    "data = data.reshape([2,-1])\n",
    "# control figure size\n",
    "plt.figure (figsize = (16, 4))\n",
    "# wallclock time plot\n",
    "plt.subplot (1, 2, 1)\n",
    "plt.plot (data[0, :], data[1, :], 'bo-')\n",
    "plt.xlabel (\"number of processes\")\n",
    "plt.ylabel (\"runtime [sec]\")\n",
    "axes = plt.gca ()\n",
    "axes.yaxis.grid ()\n",
    "# speedup plot\n",
    "plt.subplot (1, 2, 2)\n",
    "plt.plot (data[0, :], data[1, 0] / data[1, :], 'go-')\n",
    "plt.xlabel (\"number of processes\")\n",
    "plt.ylabel (\"speedup\")\n",
    "axes = plt.gca()\n",
    "axes.yaxis.grid ()\n",
    "# show plot\n",
    "plt.show ()"
   ]
  },
  {
   "cell_type": "markdown",
   "metadata": {},
   "source": [
    "## Summary: the <span style=\"font-family: Courier New, Courier, monospace;\">multiprocessing</span> module\n",
    "<hr style=\"border: solid 4px green\">\n",
    "\n",
    "### The good\n",
    "* easy to use, particularly on trivially parallel problems\n",
    "* good speedups can be achieved with little work\n",
    "<br><br>\n",
    "\n",
    "### The bad\n",
    "* execution limited to a single node\n",
    "* good performance limited to trivially parallel problems"
   ]
  },
  {
   "cell_type": "markdown",
   "metadata": {},
   "source": [
    "## Beyond single node\n",
    "<hr style=\"border: solid 4px green\">\n",
    "\n",
    "### Distributed solutions\n",
    "* `SCOOP` (**S**calable **CO**ncurrent **O**perations in **P**ython)\n",
    "  * provides a parallel `map` implementation\n",
    "  * works across multiple cores, across multiple hosts\n",
    "* `pathos`\n",
    "  * a `map` interface that meets and extends the Python `map` standard\n",
    "  * submits service requests to a selection of servers\n",
    "  * tunnels server communications with `ssh`\n",
    "* `pyro` (**Py**thon **r**emote **o**bjects)\n",
    "  * objects that can talk to each other over the network\n",
    "  * written entirely in Python (easy to install, portable)\n",
    "<br><br>\n",
    "\n",
    "> https://wiki.python.org/moin/DistributedProgramming"
   ]
  },
  {
   "cell_type": "markdown",
   "metadata": {},
   "source": [
    "<img src=\"../../images/reusematerial.png\"; style=\"float: center; width: 90\"; >"
   ]
  }
 ],
 "metadata": {
  "anaconda-cloud": {},
  "celltoolbar": "Slideshow",
  "kernelspec": {
   "display_name": "Python 2",
   "language": "python",
   "name": "python2"
  },
  "language_info": {
   "codemirror_mode": {
    "name": "ipython",
    "version": 2
   },
   "file_extension": ".py",
   "mimetype": "text/x-python",
   "name": "python",
   "nbconvert_exporter": "python",
   "pygments_lexer": "ipython2",
   "version": "2.7.14"
  }
 },
 "nbformat": 4,
 "nbformat_minor": 1
}

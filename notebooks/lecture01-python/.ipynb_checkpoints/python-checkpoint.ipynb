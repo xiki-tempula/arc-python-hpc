{
 "cells": [
  {
   "cell_type": "markdown",
   "metadata": {
    "slideshow": {
     "slide_type": "slide"
    }
   },
   "source": [
    "# Python for High Performance Computing\n",
    "# Python revision\n",
    "<hr style=\"border: solid 4px green \">\n",
    "<br>\n",
    "<center> <img src=\"images/arc_logo.png\"; alt=\"Logo\" style=\"float: center; width: 20%\"></center>\n",
    "<br>\n",
    "## http://www.arc.ox.ac.uk\n",
    "## support@arc.ox.ac.uk"
   ]
  },
  {
   "cell_type": "markdown",
   "metadata": {
    "slideshow": {
     "slide_type": "slide"
    }
   },
   "source": [
    "## Using Python\n",
    "<hr style=\"border: solid 4px green\">\n",
    "\n",
    "### Python can be run *interactively*\n",
    "* directly executing the Python interpreter `python`\n",
    "  * run Python interpreter without an input script file\n",
    "  * interpreter runs as a Python shell (interactive Python runtime environment)\n",
    "* indirectly, via a notebook\n",
    "  * `IPython` -- enhanced Python shell, ideal for data manipulation and visualisation\n",
    "  * `Jupyter` -- web browser-based interactive document\n",
    "<br><br>\n",
    "\n",
    "> The interactive mode is good for presentations, data inspection, *etc.*"
   ]
  },
  {
   "cell_type": "markdown",
   "metadata": {
    "slideshow": {
     "slide_type": "slide"
    }
   },
   "source": [
    "## Using Python\n",
    "<hr style=\"border: solid 4px green\">\n",
    "\n",
    "### Python can be run *non-interactively*\n",
    "* supply the Python interpreter with an input script file\n",
    "* example: `python myscript.py`\n",
    "<br><br>\n",
    "\n",
    "> The non-interactive mode is the normal way to execute production code."
   ]
  },
  {
   "cell_type": "markdown",
   "metadata": {
    "slideshow": {
     "slide_type": "slide"
    }
   },
   "source": [
    "## Interactive Python shell\n",
    "<hr style=\"border: solid 4px green\">\n",
    "\n",
    "* interactive access to to interpreter via the `python` command (not Windows)\n",
    "* type commands directly at the prompt\n",
    "\n",
    "```bash\n",
    "bash-prompt> python\n",
    ">>> print \"Hello World!\"\n",
    ">>> import numpy\n",
    ">>> numpy.__version__\n",
    "```\n",
    "\n",
    "* use `CTRL-d` to exit\n",
    "* good for testing simple operations\n",
    "* however, can be rather limited\n",
    "  * history lost on exit\n",
    "  * no completion or integrated help\n",
    "  * certain things do not work\n",
    "  * not suitable for *production* code"
   ]
  },
  {
   "cell_type": "markdown",
   "metadata": {
    "slideshow": {
     "slide_type": "slide"
    }
   },
   "source": [
    "## Interactive IPython shell\n",
    "<hr style=\"border: solid 4px green\">\n",
    "\n",
    "### IPython extends the standard Python shell by a number of useful things\n",
    "* TAB completion\n",
    "* help (*e.g.* `help` or `?int`)\n",
    "* \"magic\" commands, *e.g.*\n",
    "  * `%run` (run python script within shell)\n",
    "  * `%hist` (history of commands)\n",
    "  * `%save` (record state to return later)\n",
    "* shell escape to operating system, *e.g.*\n",
    "  * `!ls -l`"
   ]
  },
  {
   "cell_type": "markdown",
   "metadata": {
    "slideshow": {
     "slide_type": "slide"
    }
   },
   "source": [
    "## Non-interactive Python runs\n",
    "<hr style=\"border: solid 4px green\">\n",
    "\n",
    "### Use a text editor to edit a script\n",
    "* script file `hello.py`\n",
    "```python\n",
    "print \"Hello World!\"\n",
    "```\n",
    "<br><br>\n",
    "\n",
    "### The script can be executed\n",
    "* running from the command-line: `python hello.py`\n",
    "* running from within an IPython shell using \"magic\": `%run hello.py`\n",
    "\n",
    "> *Note*: scripts are ideal for pertsistent, reusable, large (complex) code."
   ]
  },
  {
   "cell_type": "markdown",
   "metadata": {
    "slideshow": {
     "slide_type": "slide"
    }
   },
   "source": [
    "## <span style=\"font-family: Courier New, Courier, monospace;\">jupyter-notebook</span>\n",
    "<hr style=\"border: solid 4px green\">\n",
    "\n",
    "### <span style=\"font-family: Courier New, Courier, monospace;\">jupyter-notebook</span> (formerly <span style=\"font-family: Courier New, Courier, monospace;\">ipython-notebook</span>)\n",
    "* front-end for IPython, a browser-based application\n",
    "* very useful for presentations and interactive use\n",
    "* but *not* so useful for production code\n",
    "* definitely *not* useful in batch processing\n",
    "\n",
    "### Starting the notebook (from the command line in Linux and MacOS)\n",
    "* `jupyter-notebook`\n",
    "* `jupyter notebook`\n",
    "* `jupyter notebook --browser=firefox`\n",
    "<br><br>\n",
    "\n",
    "### Notebook presentations\n",
    "* input is split into cells\n",
    "* cells are \"Markdown\" (text) and \"Code\" (Python commands)\n",
    "* cells are \"executed\" with `SHIFT+ENTER`\n",
    "  * \"Markdown\" cells are displayed\n",
    "  * \"Code\" cells execute code\n",
    "<br><br>\n",
    "\n",
    "### Example"
   ]
  },
  {
   "cell_type": "code",
   "execution_count": 1,
   "metadata": {},
   "outputs": [
    {
     "name": "stdout",
     "output_type": "stream",
     "text": [
      "Hello World\n"
     ]
    }
   ],
   "source": [
    "print \"Hello World\""
   ]
  },
  {
   "cell_type": "markdown",
   "metadata": {
    "collapsed": true,
    "slideshow": {
     "slide_type": "slide"
    }
   },
   "source": [
    "## Python data types\n",
    "<hr style=\"border: solid 4px green\">\n",
    "\n",
    "### Python is \"dynamically typed\"\n",
    "* no explicit type declarations\n",
    "* data types are worked out from context when code is executed\n",
    "* basic types include integers, floating point numbers, strings..."
   ]
  },
  {
   "cell_type": "code",
   "execution_count": 2,
   "metadata": {},
   "outputs": [
    {
     "name": "stdout",
     "output_type": "stream",
     "text": [
      "11 3.14159\n",
      "double quotes or single quotes\n"
     ]
    }
   ],
   "source": [
    "# assign values to variables\n",
    "nmax = 11\n",
    "pi = 3.14159\n",
    "string1 = \"double quotes\"\n",
    "string2 = 'or single quotes'\n",
    "print nmax, pi\n",
    "print string1 + \" \" + string2"
   ]
  },
  {
   "cell_type": "code",
   "execution_count": 3,
   "metadata": {},
   "outputs": [
    {
     "name": "stdout",
     "output_type": "stream",
     "text": [
      "<type 'int'>\n",
      "<type 'float'>\n",
      "<type 'str'>\n"
     ]
    }
   ],
   "source": [
    "# find out type using the inbuilt function...\n",
    "print type (nmax)\n",
    "print type (pi)\n",
    "print type (string1)"
   ]
  },
  {
   "cell_type": "markdown",
   "metadata": {
    "collapsed": true,
    "slideshow": {
     "slide_type": "slide"
    }
   },
   "source": [
    "## Careful!\n",
    "<hr style=\"border: solid 4px green\">\n",
    "\n",
    "* dynamic typing requires some care\n",
    "* use explicit type casting when needed"
   ]
  },
  {
   "cell_type": "code",
   "execution_count": 4,
   "metadata": {},
   "outputs": [
    {
     "name": "stdout",
     "output_type": "stream",
     "text": [
      "1\n"
     ]
    }
   ],
   "source": [
    "# a long variable name\n",
    "long_variable_name = 1\n",
    "\n",
    "# is easily mistyped later\n",
    "long_varaible_name = long_variable_name + 1\n",
    "\n",
    "# valid code: no errors but buggy execution\n",
    "print long_variable_name"
   ]
  },
  {
   "cell_type": "code",
   "execution_count": 5,
   "metadata": {},
   "outputs": [
    {
     "name": "stdout",
     "output_type": "stream",
     "text": [
      "3.14159 <type 'float'>\n"
     ]
    }
   ],
   "source": [
    "# care with variables that are meant to be integers\n",
    "nmax = pi\n",
    "\n",
    "# ...you have just redefined nmax to be a float\n",
    "print nmax, type (nmax)"
   ]
  },
  {
   "cell_type": "code",
   "execution_count": 6,
   "metadata": {},
   "outputs": [
    {
     "name": "stdout",
     "output_type": "stream",
     "text": [
      "3 <type 'int'>\n"
     ]
    }
   ],
   "source": [
    "# So use an explicit cast if unsure, e.g.\n",
    "nmax = int(pi)\n",
    "print nmax, type (nmax)"
   ]
  },
  {
   "cell_type": "markdown",
   "metadata": {
    "slideshow": {
     "slide_type": "slide"
    }
   },
   "source": [
    "## A very likely occurence: integer division\n",
    "<hr style=\"border: solid 4px green\">\n",
    "\n",
    "### Problem\n",
    "```python\n",
    "1/2\n",
    "```\n",
    "normally returns `0` rather than `0.5`.\n",
    "<br><br>\n",
    "\n",
    "### Solutions\n",
    "* cast divisor, *e.g.* `float(2)`\n",
    "* cast *all* division operations to floating point operations by importing the Python 3 division\n",
    "```python\n",
    "from __future__ import division\n",
    "```"
   ]
  },
  {
   "cell_type": "code",
   "execution_count": 7,
   "metadata": {},
   "outputs": [
    {
     "name": "stdout",
     "output_type": "stream",
     "text": [
      "0 <type 'int'>\n",
      "0.02 <type 'float'>\n"
     ]
    }
   ],
   "source": [
    "nmax = 100  # integer\n",
    "xmax = 2    # meant to be float but forgot to write 2.0\n",
    "# simple division (integers)\n",
    "dx   = xmax / nmax\n",
    "print dx, type(dx)\n",
    "# cast divisor to float\n",
    "dx   = xmax / float(nmax)\n",
    "print dx, type(dx)\n",
    "# exercise: import python3 division"
   ]
  },
  {
   "cell_type": "markdown",
   "metadata": {
    "collapsed": true,
    "slideshow": {
     "slide_type": "slide"
    }
   },
   "source": [
    "## Python data structures\n",
    "<hr style=\"border: solid 4px green\">\n",
    "\n",
    "* lists\n",
    "  * `[3, \"a\", 3.14, False]`\n",
    "* dictionary (or \"dicts\")\n",
    "  * `{\"key1\" : \"value1\", \"key1\" : \"value1\"}`\n",
    "* tuples\n",
    "  * `(1,2,3)` or `(1.2,)` or `(1,)`"
   ]
  },
  {
   "cell_type": "code",
   "execution_count": 8,
   "metadata": {
    "collapsed": true
   },
   "outputs": [],
   "source": [
    "lista = [3, \"a\", 3.14, False]\n",
    "dictb = {\"key1\" : 1, \"key2\" : 2}\n",
    "tuplec = (1,2,3)"
   ]
  },
  {
   "cell_type": "code",
   "execution_count": 9,
   "metadata": {},
   "outputs": [
    {
     "name": "stdout",
     "output_type": "stream",
     "text": [
      "3.14\n",
      "2\n",
      "3\n"
     ]
    }
   ],
   "source": [
    "# what do these do?\n",
    "print lista[2]\n",
    "print dictb[\"key2\"]\n",
    "print tuplec[2]"
   ]
  },
  {
   "cell_type": "markdown",
   "metadata": {
    "collapsed": true,
    "slideshow": {
     "slide_type": "slide"
    }
   },
   "source": [
    "## Immutable (read-olnly) objects\n",
    "<hr style=\"border: solid 4px green\">\n",
    "\n",
    "An error related to the tuple is raised because the tuple is an *immutable* object: an object whose state cannot be modified after it is created."
   ]
  },
  {
   "cell_type": "code",
   "execution_count": 10,
   "metadata": {},
   "outputs": [],
   "source": [
    "# the following work\n",
    "lista[2] = 1\n",
    "dictb[\"key2\"] = 1"
   ]
  },
  {
   "cell_type": "code",
   "execution_count": 11,
   "metadata": {},
   "outputs": [
    {
     "ename": "TypeError",
     "evalue": "'tuple' object does not support item assignment",
     "output_type": "error",
     "traceback": [
      "\u001b[0;31m---------------------------------------------------------------------------\u001b[0m",
      "\u001b[0;31mTypeError\u001b[0m                                 Traceback (most recent call last)",
      "\u001b[0;32m<ipython-input-11-2264d668f735>\u001b[0m in \u001b[0;36m<module>\u001b[0;34m()\u001b[0m\n\u001b[1;32m      1\u001b[0m \u001b[0;31m# but now try...\u001b[0m\u001b[0;34m\u001b[0m\u001b[0;34m\u001b[0m\u001b[0m\n\u001b[0;32m----> 2\u001b[0;31m \u001b[0mtuplec\u001b[0m\u001b[0;34m[\u001b[0m\u001b[0;36m2\u001b[0m\u001b[0;34m]\u001b[0m \u001b[0;34m=\u001b[0m \u001b[0;36m1\u001b[0m\u001b[0;34m\u001b[0m\u001b[0m\n\u001b[0m",
      "\u001b[0;31mTypeError\u001b[0m: 'tuple' object does not support item assignment"
     ]
    }
   ],
   "source": [
    "# but now try...\n",
    "tuplec[2] = 1"
   ]
  },
  {
   "cell_type": "markdown",
   "metadata": {
    "collapsed": true,
    "slideshow": {
     "slide_type": "slide"
    }
   },
   "source": [
    "## Python code indentation\n",
    "<hr style=\"border: solid 4px green\">\n",
    "\n",
    "### Code blocks are indented\n",
    "* loops\n",
    "* conditionals\n",
    "* functions\n",
    "\n",
    "### Myths\n",
    "* indentation should be exactly 4 spaces (they can be anything, as long as everything is consistent, see below)\n",
    "* tabs and spaces cannot be mixed (they can, although not a good idea)"
   ]
  },
  {
   "cell_type": "code",
   "execution_count": null,
   "metadata": {},
   "outputs": [],
   "source": [
    "# change the number of white spaces below...\n",
    "for n in range (4):\n",
    "    print \"Iteration\", n\n",
    "\n",
    "print \"End of iteration\""
   ]
  },
  {
   "cell_type": "markdown",
   "metadata": {
    "collapsed": true,
    "slideshow": {
     "slide_type": "slide"
    }
   },
   "source": [
    "## Python modules\n",
    "<hr style=\"border: solid 4px green\">\n",
    "\n",
    "### Extending Python functionality\n",
    "* suppose you need to find the square root of a number\n",
    "* Python does not have a `sqrt` function\n",
    "* you need the standard library module `math` for that"
   ]
  },
  {
   "cell_type": "code",
   "execution_count": 14,
   "metadata": {},
   "outputs": [
    {
     "name": "stdout",
     "output_type": "stream",
     "text": [
      "5.0\n"
     ]
    }
   ],
   "source": [
    "# this gives an error (comment it out)\n",
    "#print sqrt(25.0)\n",
    "# need to import the math module\n",
    "import math\n",
    "# this still does not work (comment it out)\n",
    "#print sqrt(25.0)\n",
    "# you have to reference the method from its class/object\n",
    "print math.sqrt(25.0)"
   ]
  },
  {
   "cell_type": "markdown",
   "metadata": {
    "collapsed": true,
    "slideshow": {
     "slide_type": "slide"
    }
   },
   "source": [
    "## Importing modules\n",
    "<hr style=\"border: solid 4px green\">\n",
    "\n",
    "### Two basic options\n",
    "* `import module`\n",
    "  * brings an entire module into the current namespace\n",
    "* `from module import name`\n",
    "  * brings the `name` object into the current namespace as a local reference\n",
    "  * use the variant\n",
    "\n",
    "    `from module import name as name2`\n",
    "\n",
    "    in order to\n",
    "    * refer object using a shorter name (*e.g.* `np` instead of `numpy`)\n",
    "    * avoid namespace conflicts (*e.g.* two objects with the same name belong to two separate packages)\n",
    "\n",
    "> *Note*: avoid universal imports, *e.g.* `from module import *`\n",
    "> * diminished code readability (not clear method belongs to what class)\n",
    "> * polluted namespace (overriding variable and function names)"
   ]
  },
  {
   "cell_type": "markdown",
   "metadata": {
    "slideshow": {
     "slide_type": "slide"
    }
   },
   "source": [
    "## Example\n",
    "<hr style=\"border: solid 4px green\">\n",
    "\n",
    "* the standard library contains a module `random` for the generation of random numbers\n",
    "* the `random` module contains a function `random()`, amongst others"
   ]
  },
  {
   "cell_type": "code",
   "execution_count": 18,
   "metadata": {},
   "outputs": [
    {
     "name": "stdout",
     "output_type": "stream",
     "text": [
      "0.77848290253\n",
      "no\n"
     ]
    }
   ],
   "source": [
    "import random\n",
    "print random.random ()\n",
    "print random.choice ([\"yes\", \"no\", \"maybe\"])"
   ]
  },
  {
   "cell_type": "markdown",
   "metadata": {
    "slideshow": {
     "slide_type": "slide"
    }
   },
   "source": [
    "## Python module structure\n",
    "<hr style=\"border: solid 4px green\">\n",
    "\n",
    "### General: a directory containing\n",
    "* `setup.py` -- package and distribution management\n",
    "* `__init__.py` -- module initialiser, *e.g.* loads other modules\n",
    "* Python files\n",
    "* directories: tests, documentation, *etc.*\n",
    "* sub-modules\n",
    "<br><br>\n",
    "\n",
    "### Simplest case: single file\n",
    "* a file with extension `.py` that can be imported from Python\n",
    "* Python environment specified at the top of the file\n",
    "```python\n",
    "#!/usr/bin/env python\n",
    "```\n",
    "* Python main at the bottom of the file (this allows use as \"stand-alone\" script or as imported module)\n",
    "```python\n",
    "if __name__ == \"__main__\":\n",
    "    import sys\n",
    "    some_function_defined_above(sys.argv)\n",
    "```\n",
    "\n",
    "> Linux and MacOS: if file is executable, locate interpreter from environment `$PATH`"
   ]
  },
  {
   "cell_type": "markdown",
   "metadata": {
    "collapsed": true,
    "slideshow": {
     "slide_type": "slide"
    }
   },
   "source": [
    "## Python functions\n",
    "<hr style=\"border: solid 4px green\">\n",
    "\n",
    "* in-built functions exist, *e.g.* `int()`, `type()`, `range()`\n",
    "* object methods are accessed with the dot operator (`object.method()`), *e.g.* `list.sort()`\n",
    "* module functions also accessed with dot operator (`module.function()`), *e.g.* `math.sqrt()`\n",
    "* defining own function is easy, *e.g.*\n",
    "```python\n",
    "def my_square(x):\n",
    "        return x*x\n",
    "```\n",
    "\n",
    "> More about in-built functions https://docs.python.org/2/library/functions.html"
   ]
  },
  {
   "cell_type": "code",
   "execution_count": null,
   "metadata": {},
   "outputs": [],
   "source": [
    "lista = [3, \"a\", 3.14, False]; print lista;\n",
    "lista.sort(); print lista;"
   ]
  },
  {
   "cell_type": "markdown",
   "metadata": {
    "collapsed": true,
    "slideshow": {
     "slide_type": "slide"
    }
   },
   "source": [
    "## Python functions and variable scoping\n",
    "<hr style=\"border: solid 4px green\">\n",
    "\n",
    "### This can be confusing for beginners\n",
    "* variables are local to the scope assigned to them"
   ]
  },
  {
   "cell_type": "code",
   "execution_count": 19,
   "metadata": {},
   "outputs": [
    {
     "name": "stdout",
     "output_type": "stream",
     "text": [
      "inside: cat is purring\n",
      "outside: cat is meowing\n"
     ]
    }
   ],
   "source": [
    "def cat_change ():\n",
    "    cat = \"purring\"\n",
    "    print \"inside: cat is \" + cat\n",
    "\n",
    "cat = \"meowing\"\n",
    "cat_change ()\n",
    "print \"outside: cat is \" + cat"
   ]
  },
  {
   "cell_type": "markdown",
   "metadata": {
    "slideshow": {
     "slide_type": "slide"
    }
   },
   "source": [
    "## Python functions and variable scoping (cont'd)\n",
    "<hr style=\"border: solid 4px green\">\n",
    "\n",
    "### A variable defined in the main body of a file is global\n",
    "* visible throughout the file\n",
    "* also visible inside any file which imports that file\n",
    "<br><br>\n",
    "\n",
    "### A variable defined inside a function is local to that function\n",
    "* it is accessible from the point at which it is defined until the end of the function\n",
    "* it exists for as long as the function is executing"
   ]
  },
  {
   "cell_type": "code",
   "execution_count": 1,
   "metadata": {},
   "outputs": [
    {
     "name": "stdout",
     "output_type": "stream",
     "text": [
      "inside: global cat is also purring\n",
      "inside: local cat is purring\n",
      "outside: global cat is meowing\n"
     ]
    }
   ],
   "source": [
    "def cat_change ():\n",
    "    cat_local = \"purring\"\n",
    "    cat_global = \"also purring\"\n",
    "    print \"inside: global cat is \" + cat_global\n",
    "    print \"inside: local cat is \" + cat_local\n",
    "\n",
    "cat_global = \"meowing\"\n",
    "cat_change ()\n",
    "# the following prints \"meowing\"\n",
    "print \"outside: global cat is \" + cat_global\n",
    "# the following produces an error: comment line out\n",
    "#print \"outside: local cat is \" + cat_local"
   ]
  },
  {
   "cell_type": "markdown",
   "metadata": {
    "slideshow": {
     "slide_type": "slide"
    }
   },
   "source": [
    "## Python functions and variable scoping (cont'd)\n",
    "<hr style=\"border: solid 4px green\">\n",
    "\n",
    "* the global variable is visible but changes to it have local effect\n",
    "* declared as global, the function can change the global variable, with global effect\n",
    "```python\n",
    "global cat_global\n",
    "cat_global = \"also purring\"\n",
    "```"
   ]
  },
  {
   "cell_type": "markdown",
   "metadata": {
    "slideshow": {
     "slide_type": "slide"
    }
   },
   "source": [
    "## Python functions and variable scoping (cont'd)\n",
    "<hr style=\"border: solid 4px green\">\n",
    "\n",
    "### All this confusion is avoidable\n",
    "* globals are *not* a good idea\n",
    "* functions are passed arguments\n",
    "* OOP encapsulates data with code"
   ]
  },
  {
   "cell_type": "markdown",
   "metadata": {
    "slideshow": {
     "slide_type": "slide"
    }
   },
   "source": [
    "## Exercise : Warm-up \n",
    "<hr style=\"border: solid 4px green\">\n",
    "\n",
    "### Median from a list\n",
    "Define a function `my_median()` that takes a list of years and computes the median based on the elapsed number of years since 1900 for each entry in the list.\n",
    "\n",
    "The function should return the median *and* the value either side of the median as a list.  For instance, if `years = [1989, 1955, 2011, 1943, 1975]` then the result should be `[55, 75, 89]`\n",
    "\n",
    "Assume the input list is not ordered and has an odd number of elements $N$, where $N \\geq 3$.\n",
    "1. Use the above example list as input to check you get the right answer.\n",
    "2. The list needs to be sorted -- how?\n",
    "3. List indexing may help you to get the final result, *e.g.* `list[3:5]`.\n",
    "4. Try generating a random array for input using module random.\n",
    "\n",
    "Hint: the `list.append()` method is very useful for this exercise.\n",
    "\n",
    "> Type your solution in the notebook, or use an editor to create a separate script in a file, or use an IDE.  Use the approach you are most comfortable with..."
   ]
  },
  {
   "cell_type": "markdown",
   "metadata": {
    "slideshow": {
     "slide_type": "slide"
    }
   },
   "source": [
    "## Solution : Warm-up\n",
    "<hr style=\"border: solid 4px green\">\n",
    "\n",
    "The solution..."
   ]
  },
  {
   "cell_type": "code",
   "execution_count": 2,
   "metadata": {},
   "outputs": [
    {
     "name": "stdout",
     "output_type": "stream",
     "text": [
      "[55, 75, 89]\n"
     ]
    }
   ],
   "source": [
    "# %load warm_up_1.py\n",
    "\n",
    "\"\"\" A function to calculate the median of a list\"\"\"\n",
    "\n",
    "def my_median(years):\n",
    "    ages = []\n",
    "    for y in years:\n",
    "        ages.append(y - 1900)\n",
    "\n",
    "    ages.sort()\n",
    "    mid = len(ages)/2\n",
    "\n",
    "    return ages[mid-1:mid+2]\n",
    "\n",
    "years = [1989, 1955, 2011, 1943, 1975]\n",
    "print my_median(years)\n"
   ]
  },
  {
   "cell_type": "markdown",
   "metadata": {
    "slideshow": {
     "slide_type": "slide"
    }
   },
   "source": [
    "## Exercise : Warm-up II (bonus)\n",
    "<hr style=\"border: solid 4px green\">\n",
    "\n",
    "### Using an external file\n",
    "Now read the list of years from a text file, `years.txt`, which should have the total number of years $N$ in the first line, followed by a numbered list of years:\n",
    "```\n",
    "total number of years\n",
    "1 year1\n",
    "2 year2\n",
    "...\n",
    "```\n",
    "<br><br>\n",
    "\n",
    "To generate an input file `years.txt`, you can try the following code:\n",
    "\n",
    "```python\n",
    "import sys\n",
    "output = open(filename, \"w\")\n",
    "...\n",
    "output.write(\"{0:2d} {1:2d}\\n\".format(1, years[0]))\n",
    "```\n",
    "<br><br>\n",
    "\n",
    "To read an input file `years.txt`, you may use the following:\n",
    "```python\n",
    "input = open(filename, \"r\")\n",
    "line = input.readline()\n",
    "line.rstrip()\n",
    "tokens = line.split()\n",
    "```\n",
    "<br><br>\n",
    "\n",
    "Check the in-built or web documentation for help with these standard library functions."
   ]
  },
  {
   "cell_type": "markdown",
   "metadata": {
    "slideshow": {
     "slide_type": "slide"
    }
   },
   "source": [
    "## Solution : Warm-up II (bonus)\n",
    "<hr style=\"border: solid 4px green\">\n",
    "\n",
    "The solution..."
   ]
  },
  {
   "cell_type": "code",
   "execution_count": null,
   "metadata": {
    "collapsed": true
   },
   "outputs": [],
   "source": [
    "%load warm_up_2.py"
   ]
  },
  {
   "cell_type": "markdown",
   "metadata": {
    "slideshow": {
     "slide_type": "slide"
    }
   },
   "source": [
    "## Performance: measuring time\n",
    "<hr style=\"border: solid 4px green\">\n",
    "\n",
    "### Two ways of measuring processing time\n",
    "* *from outside code* -- measure overall walltime of an entire application or function\n",
    "* *from within code* -- measure execution time of a critical part of the application"
   ]
  },
  {
   "cell_type": "markdown",
   "metadata": {
    "slideshow": {
     "slide_type": "slide"
    }
   },
   "source": [
    "## Performance: timing from outside code\n",
    "<hr style=\"border: solid 4px green\">\n",
    "\n",
    "### Linux timing function <span style=\"font-family: Courier New, Courier, monospace;\">time</span>\n",
    "Can be use to measure the execution time of small code snippets, *e.g.*\n",
    "```\n",
    "$ time python example.py\n",
    "real 0m1.051s\n",
    "user 0m1.022s\n",
    "sys  0m0.028s\n",
    "```\n",
    "\n",
    "* `real` actual (wallclock) time\n",
    "* `user` cumulative time spent by all threads of the application\n",
    "* `sys`  cumulative time spent by all cores during system tasks (*e.g.* memory allocation)\n",
    "* *Problem*: `user` + `sys` $\\geq$ `real` (if threads work in parallel)\n",
    "<br><br>\n",
    "\n",
    "### Python function <span style=\"font-family: Courier New, Courier, monospace;\">timeit</span>\n",
    "Usage\n",
    "* import module `timeit` and use `timeit.timeit` or\n",
    "* use the magic IPython command `%timeit`\n",
    "\n",
    "By default, `timeit`\n",
    "* measures time by running several time\n",
    "* which gives statistical significance to measurements, especially small runtimes\n",
    "<br><br>\n",
    "\n",
    "Flexible control over the number of times a code is run\n",
    "```\n",
    "%timeit -n <iterations> -r <repeats>  <code_snippet>\n",
    "```\n",
    "* `-n <iterations>` -- how many times to execute `<code_snippet>`\n",
    "* `-r <repeats>` -- how many times to repeat the timer (default 3)\n",
    "<br><br>\n",
    "\n",
    "> More information\n",
    "> * `%timeit?`\n",
    "> * https://docs.python.org/2/library/timeit.html"
   ]
  },
  {
   "cell_type": "markdown",
   "metadata": {
    "slideshow": {
     "slide_type": "slide"
    }
   },
   "source": [
    "## Performance: timing from inside code\n",
    "<hr style=\"border: solid 4px green\">\n",
    "\n",
    "### The <span style=\"font-family: Courier New, Courier, monospace;\">time</span> module has two functions\n",
    "* clock() -- returns real time since previous call to clock()\n",
    "* time() -- returns current time in seconds since the Epoch (*e.g.* 01/01/1970 on Linux, 01/01/2001 on Mac OS)\n",
    "* both depend on the system time and underlying system time functions\n",
    "\n",
    "### Which one to use?\n",
    "* Linux and Mac OS: `time.time()` gives the better precision (microsecond accuracy)\n",
    "* Windows: `time.clock()` gives the better precision\n",
    "* example: run the following test"
   ]
  },
  {
   "cell_type": "code",
   "execution_count": 20,
   "metadata": {},
   "outputs": [
    {
     "name": "stdout",
     "output_type": "stream",
     "text": [
      "0.001471 seconds process time\n",
      "2.00540304184 seconds wall time\n"
     ]
    }
   ],
   "source": [
    "import time\n",
    "\n",
    "def func (sleepTime):\n",
    "    # do nothing for 2 secs\n",
    "    time.sleep (sleepTime)\n",
    "\n",
    "# measure process time\n",
    "t0 = time.clock ()\n",
    "func (2.0)\n",
    "print time.clock() - t0, \"seconds process time\"\n",
    "\n",
    "# measure wall time\n",
    "t0 = time.time()\n",
    "func (2.0)\n",
    "print time.time() - t0, \"seconds wall time\""
   ]
  },
  {
   "cell_type": "markdown",
   "metadata": {
    "slideshow": {
     "slide_type": "slide"
    }
   },
   "source": [
    "## Performance: timing from inside code (cont'd)\n",
    "<hr style=\"border: solid 4px green\">\n",
    "\n",
    "### Conclusion\n",
    "* make good use of `timeit` for benchmarking and testing\n",
    "  * *Pros*: automatically measures a mean value\n",
    "  * *Cons*: restrictive when used on isolated portions of code from within scripts\n",
    "* use `time` when benchmarking portions of code in scripts\n",
    "  * ideally, run the same piece of code a number of times and average\n",
    "  * choose between `time.time()` and `time.clock()` depending on the system\n",
    "  * platform-independent solution: `timeit.default_timer()` points to one of the above\n",
    "<br><br>\n",
    "\n",
    "### Warning: <span style=\"font-family: Courier New, Courier, monospace;\">timeit</span>\n",
    "* can be used to time functions called from a script\n",
    "* but is quite tedious\n",
    "  * returned values are lost\n",
    "  * the `timeit` command must repeat the `import` statements of the script\n",
    "  * the `timeit` command must include argument initialisation"
   ]
  },
  {
   "cell_type": "markdown",
   "metadata": {
    "slideshow": {
     "slide_type": "slide"
    }
   },
   "source": [
    "## Summary\n",
    "<hr style=\"border: solid 4px green\">\n",
    "\n",
    "We have \n",
    "* reviewed some core Python basics\n",
    "* introduced the IPython shell\n",
    "* looked at the options for timing execution\n",
    "<br><br>\n",
    "\n",
    "> Useful links\n",
    "> * https://docs.python.org/2/\n",
    "> * https://www.codecademy.com/learn/python"
   ]
  },
  {
   "cell_type": "markdown",
   "metadata": {
    "slideshow": {
     "slide_type": "notes"
    }
   },
   "source": [
    "<img src=\"../../images/reusematerial.png\"; style=\"float: center; width: 90\"; >"
   ]
  }
 ],
 "metadata": {
  "anaconda-cloud": {},
  "celltoolbar": "Slideshow",
  "kernelspec": {
   "display_name": "Python 2",
   "language": "python",
   "name": "python2"
  },
  "language_info": {
   "codemirror_mode": {
    "name": "ipython",
    "version": 2
   },
   "file_extension": ".py",
   "mimetype": "text/x-python",
   "name": "python",
   "nbconvert_exporter": "python",
   "pygments_lexer": "ipython2",
   "version": "2.7.14"
  }
 },
 "nbformat": 4,
 "nbformat_minor": 1
}

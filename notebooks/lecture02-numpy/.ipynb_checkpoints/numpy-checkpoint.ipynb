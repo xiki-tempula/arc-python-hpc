{
 "cells": [
  {
   "cell_type": "markdown",
   "metadata": {
    "slideshow": {
     "slide_type": "slide"
    }
   },
   "source": [
    "# Python for High Performance Computing\n",
    "# The <span style=\"font-family: Courier New, Courier, monospace;\">NumPy</span> module\n",
    "<hr style=\"border: solid 4px green\">\n",
    "<br>\n",
    "<center> <img src=\"images/arc_logo.png\"; alt=\"Logo\" style=\"float: center; width: 20%\"></center>\n",
    "<br>\n",
    "## http://www.arc.ox.ac.uk\n",
    "## support@arc.ox.ac.uk"
   ]
  },
  {
   "cell_type": "markdown",
   "metadata": {
    "slideshow": {
     "slide_type": "slide"
    }
   },
   "source": [
    "## <span style=\"font-family: Courier New, Courier, monospace;\">NumPy</span> (**Num**erical **Py**thon)\n",
    "<hr style=\"border: solid 4px green\">\n",
    "\n",
    "### Best of two worlds: fast development & fast execution\n",
    "* the *de facto* standard for scientific computing in Python\n",
    "* extends Python with `ndarray`, multi-dimensional arrays classes and methods\n",
    "* allows for *efficient* and *fast* math calculations on arrays\n",
    "  * operations \"expressed\" in `NumPy` are faster than pure Python\n",
    "  * some functionality based on multi-threaded libraries (BLAS, LAPACK, FFTW)\n",
    "* interfaces easily with C and Fortran code\n",
    "  * bridge to legacy code\n",
    "  * a way to write fast executing functions\n",
    "<br><br>\n",
    "\n",
    "### <span style=\"font-family: Courier New, Courier, monospace;\">NumPy</span> is the cornerstone of scientific Python computing\n",
    "* a lot of other packages are built on `NumPy` and rely on it for performance\n",
    "* almost everything in this course depends on `NumPy`"
   ]
  },
  {
   "cell_type": "markdown",
   "metadata": {
    "slideshow": {
     "slide_type": "slide"
    }
   },
   "source": [
    "## <span style=\"font-family: Courier New, Courier, monospace;\">NumPy</span> (**Num**erical **Py**thon)\n",
    "<hr style=\"border: solid 4px green\">\n",
    "\n",
    "### Essential <span style=\"font-family: Courier New, Courier, monospace;\">NumPy</span> methods\n",
    "* multidimensional arrays objects (`numpy.ndarray`)\n",
    "<br><br>\n",
    "\n",
    "### Other\n",
    "* matrices and linear algebra operations\n",
    "* random number generation\n",
    "* Fourier transforms\n",
    "<br><br>\n",
    "\n",
    "> Complete documentation at https://www.numpy.org/"
   ]
  },
  {
   "cell_type": "markdown",
   "metadata": {
    "slideshow": {
     "slide_type": "slide"
    }
   },
   "source": [
    "## <span style=\"font-family: Courier New, Courier, monospace;\">NumPy</span> & <span style=\"font-family: Courier New, Courier, monospace;\">SciPy</span>: significant overlap\n",
    "<hr style=\"border: solid 4px green\">\n",
    "\n",
    "### <span style=\"font-family: Courier New, Courier, monospace;\">SciPy</span>\n",
    "* loads a lot of <span style=\"font-family: Courier New, Courier, monospace;\">NumPy</span> functionality in its own namespace, *e.g.* `randn`, `fft`\n",
    "* overrides the linear algebra and fftw routines from <span style=\"font-family: Courier New, Courier, monospace;\">NumPy</span> with more sophisticated versions\n",
    "<br><br>\n",
    "\n",
    "### The overlap exists because of\n",
    "* development history (<span style=\"font-family: Courier New, Courier, monospace;\">NumPy</span> evolved from `numeric`)\n",
    "* backward compatibility\n",
    "<br><br>\n",
    "\n",
    "### The good practice\n",
    "* from `NumPy` use only the array classes and methods\n",
    "* anything beyond that (*e.g.* linear algebra, fft, optimisation, ...) belongs to `SciPy`"
   ]
  },
  {
   "cell_type": "markdown",
   "metadata": {
    "slideshow": {
     "slide_type": "slide"
    }
   },
   "source": [
    "## <span style=\"font-family: Courier New, Courier, monospace;\">NumPy</span> *core* functionality: fast array operations\n",
    "<hr style=\"border: solid 4px green\">\n",
    "\n",
    "### Overarching idea: specialised and optimised operations on arrays\n",
    "* use the `numpy.ndarray` data type and associated methods\n",
    "* get rid of loops by \"vectorising operations\"\n",
    "<br><br>\n",
    "\n",
    "### Features used in array-based computing\n",
    "* ufuncs (**u**niversal **func**tion**s**)\n",
    "* aggregations\n",
    "* broadcasting\n",
    "* slicing, masking, fancy indexing\n",
    "* vectorisation"
   ]
  },
  {
   "cell_type": "markdown",
   "metadata": {
    "slideshow": {
     "slide_type": "slide"
    }
   },
   "source": [
    "## <span style=\"font-family: Courier New, Courier, monospace;\">NumPy</span> arrays\n",
    "<hr style=\"border: solid 4px green\">\n",
    "\n",
    "### The standard Python library provides *lists* and *1D arrays* (<span style=\"font-family: Courier New, Courier, monospace;\">array.array</span>)\n",
    "* lists are general containers for objects\n",
    "* arrays are 1D containers for objects of the same type\n",
    "* functionality is limited\n",
    "* large memory and performance overheads\n",
    "<br><br>\n",
    "\n",
    "### <span style=\"font-family: Courier New, Courier, monospace;\">NumPy</span> provides *multidimensional arrays* (<span style=\"font-family: Courier New, Courier, monospace;\">numpy.ndarray</span>)\n",
    "* stores elements of the same data type in multiple dimensions\n",
    "  * efficient storage (and memory access) of data (similar and compatible with Fortran/C/C++ arrays)\n",
    "* a lot more functionality than standard library\n",
    "  * efficient and fast mathematical operations\n",
    "<br><br>\n",
    "\n",
    "> Documentation: http://docs.scipy.org/doc/numpy1.10.0/reference/generated/numpy.ndarray.html"
   ]
  },
  {
   "cell_type": "markdown",
   "metadata": {
    "slideshow": {
     "slide_type": "slide"
    }
   },
   "source": [
    "## <span style=\"font-family: Courier New, Courier, monospace;\">NumPy</span> 1d arrays\n",
    "<hr style=\"border: solid 4px green\">\n",
    "\n",
    "First, import `numpy` as alias `np` to shorten code and improve readability."
   ]
  },
  {
   "cell_type": "code",
   "execution_count": 1,
   "metadata": {
    "slideshow": {
     "slide_type": "-"
    }
   },
   "outputs": [],
   "source": [
    "import numpy as np"
   ]
  },
  {
   "cell_type": "markdown",
   "metadata": {
    "slideshow": {
     "slide_type": "slide"
    }
   },
   "source": [
    "## Creating a 1d array\n",
    "<hr style=\"border: solid 4px green\">\n",
    "\n",
    "Example 1: array created from a list"
   ]
  },
  {
   "cell_type": "code",
   "execution_count": 2,
   "metadata": {
    "slideshow": {
     "slide_type": "-"
    }
   },
   "outputs": [
    {
     "name": "stdout",
     "output_type": "stream",
     "text": [
      "[-1  0  1]\n"
     ]
    },
    {
     "data": {
      "text/plain": [
       "numpy.ndarray"
      ]
     },
     "execution_count": 2,
     "metadata": {},
     "output_type": "execute_result"
    }
   ],
   "source": [
    "a = np.array( [-1, 0, 1] )\n",
    "print a\n",
    "type (a)"
   ]
  },
  {
   "cell_type": "markdown",
   "metadata": {
    "slideshow": {
     "slide_type": "slide"
    }
   },
   "source": [
    "## Creating a 1d array (cont'd)\n",
    "<hr style=\"border: solid 4px green\">\n",
    "\n",
    "Example 2: array created from another array (\"copy constructor\")."
   ]
  },
  {
   "cell_type": "code",
   "execution_count": 3,
   "metadata": {
    "slideshow": {
     "slide_type": "-"
    }
   },
   "outputs": [
    {
     "name": "stdout",
     "output_type": "stream",
     "text": [
      "[-1  0  1]\n"
     ]
    }
   ],
   "source": [
    "b = np.array( a )\n",
    "print b"
   ]
  },
  {
   "cell_type": "markdown",
   "metadata": {
    "slideshow": {
     "slide_type": "slide"
    }
   },
   "source": [
    "## Creating a 1d array (cont'd)\n",
    "<hr style=\"border: solid 4px green\">\n",
    "\n",
    "`NumPy` arrays are of type `ndarray`"
   ]
  },
  {
   "cell_type": "code",
   "execution_count": 4,
   "metadata": {},
   "outputs": [
    {
     "name": "stdout",
     "output_type": "stream",
     "text": [
      "<type 'numpy.ndarray'> int64\n"
     ]
    }
   ],
   "source": [
    "print type(b), b.dtype"
   ]
  },
  {
   "cell_type": "markdown",
   "metadata": {
    "slideshow": {
     "slide_type": "slide"
    }
   },
   "source": [
    "## Creating a 1d array (cont'd)\n",
    "<hr style=\"border: solid 4px green\">\n",
    "\n",
    "Example 3: `arange` for arrays, just like using `range` for lists"
   ]
  },
  {
   "cell_type": "code",
   "execution_count": 5,
   "metadata": {
    "slideshow": {
     "slide_type": "-"
    }
   },
   "outputs": [
    {
     "name": "stdout",
     "output_type": "stream",
     "text": [
      "[0 1 2 3]\n",
      "[-2  0  2  4] int64\n"
     ]
    }
   ],
   "source": [
    "a = np.arange(4)\n",
    "print a\n",
    "a = np.arange( -2, 6, 2 )\n",
    "print a, a.dtype"
   ]
  },
  {
   "cell_type": "markdown",
   "metadata": {
    "slideshow": {
     "slide_type": "slide"
    }
   },
   "source": [
    "## Creating a 1d array (cont'd)\n",
    "<hr style=\"border: solid 4px green\">\n",
    "\n",
    "Example 4: use `linspace` to create sample step points in an interval"
   ]
  },
  {
   "cell_type": "code",
   "execution_count": 6,
   "metadata": {
    "slideshow": {
     "slide_type": "-"
    }
   },
   "outputs": [
    {
     "name": "stdout",
     "output_type": "stream",
     "text": [
      "[-10.  -5.   0.   5.  10.] float64\n"
     ]
    }
   ],
   "source": [
    "a = np.linspace(-10, 10, 5)\n",
    "print a, a.dtype"
   ]
  },
  {
   "cell_type": "markdown",
   "metadata": {
    "slideshow": {
     "slide_type": "slide"
    }
   },
   "source": [
    "## Exercise\n",
    "<hr style=\"border: solid 4px green\">\n",
    "\n",
    "Using the cell below, create an array of equally spaced 16 values between (and including) 0 and 1.  Check the size of the array.  How can the sum of all the elements in the array be computed?"
   ]
  },
  {
   "cell_type": "code",
   "execution_count": null,
   "metadata": {},
   "outputs": [],
   "source": []
  },
  {
   "cell_type": "markdown",
   "metadata": {
    "slideshow": {
     "slide_type": "slide"
    }
   },
   "source": [
    "## Exercise\n",
    "<hr style=\"border: solid 4px green\">\n",
    "\n",
    "Can you guess what the following code snippet does?"
   ]
  },
  {
   "cell_type": "code",
   "execution_count": 12,
   "metadata": {
    "slideshow": {
     "slide_type": "-"
    }
   },
   "outputs": [
    {
     "data": {
      "text/plain": [
       "(array([ 0.,  0.,  0.]), array([ 1.,  1.,  1.]))"
      ]
     },
     "execution_count": 12,
     "metadata": {},
     "output_type": "execute_result"
    }
   ],
   "source": [
    "b = np.zeros(3)\n",
    "c = np.ones(3)\n",
    "b, c"
   ]
  },
  {
   "cell_type": "markdown",
   "metadata": {
    "slideshow": {
     "slide_type": "slide"
    }
   },
   "source": [
    "## Useful shortcuts\n",
    "<hr style=\"border: solid 4px green\">\n",
    "Both `zeros` and `ones` are also useful for creating arrays before their contents is known. \n",
    "<br><br>\n",
    "\n",
    "Another function is `empty`."
   ]
  },
  {
   "cell_type": "code",
   "execution_count": null,
   "metadata": {
    "slideshow": {
     "slide_type": "-"
    }
   },
   "outputs": [],
   "source": [
    "d = np.empty(3)\n",
    "print d"
   ]
  },
  {
   "cell_type": "markdown",
   "metadata": {},
   "source": [
    "> *Caution*!  `empty` just allocates memory and *does not* guarantee entries are zero."
   ]
  },
  {
   "cell_type": "markdown",
   "metadata": {
    "slideshow": {
     "slide_type": "slide"
    }
   },
   "source": [
    "## Array attributes\n",
    "<hr style=\"border: solid 4px green\">\n",
    "\n",
    "`NumPy` keeps track of array metadata  as \"attributes\" of the array structure"
   ]
  },
  {
   "cell_type": "code",
   "execution_count": 13,
   "metadata": {
    "slideshow": {
     "slide_type": "-"
    }
   },
   "outputs": [
    {
     "name": "stdout",
     "output_type": "stream",
     "text": [
      "[-10.  -5.   0.   5.  10.]\n",
      "Dimensions  1\n",
      "Shape       (5,)\n",
      "Size        5\n",
      "Data type   float64\n",
      "Object type <type 'numpy.ndarray'>\n"
     ]
    }
   ],
   "source": [
    "# taking \"a\" from the previous example\n",
    "a = np.linspace (-10, 10, 5)\n",
    "\n",
    "# examine key array attributes\n",
    "print a\n",
    "print \"Dimensions \", a.ndim\n",
    "print \"Shape      \", a.shape  # number of elements in each dim\n",
    "print \"Size       \", a.size   # total number of elements\n",
    "print \"Data type  \", a.dtype  # data type of element e.g. 64 bit float\n",
    "print \"Object type\", type(a)"
   ]
  },
  {
   "cell_type": "markdown",
   "metadata": {
    "slideshow": {
     "slide_type": "slide"
    }
   },
   "source": [
    "## Specify data at array creation\n",
    "<hr style=\"border: solid 4px green\">"
   ]
  },
  {
   "cell_type": "code",
   "execution_count": 14,
   "metadata": {
    "slideshow": {
     "slide_type": "-"
    }
   },
   "outputs": [
    {
     "name": "stdout",
     "output_type": "stream",
     "text": [
      "Data type of a float64\n",
      "Data type of b float32\n",
      "Data type of c complex128\n"
     ]
    }
   ],
   "source": [
    "# array of double precision floats (the default!)\n",
    "a = np.array ([1., 2., 3.])\n",
    "print \"Data type of a\", a.dtype\n",
    "# array of single precision floats\n",
    "b = np.array ([1.1,2.2,3.3], np.float32)\n",
    "print \"Data type of b\", b.dtype\n",
    "# arrays of complex elements\n",
    "c = np.array ([[1, 2, 3], [4, 5, 6]], complex)\n",
    "print \"Data type of c\", c.dtype"
   ]
  },
  {
   "cell_type": "markdown",
   "metadata": {
    "slideshow": {
     "slide_type": "slide"
    }
   },
   "source": [
    "## Exercise\n",
    "<hr style=\"border: solid 4px green\">\n",
    "\n",
    "Modify the array `a` in the example above such that the type of the data is 32 and 64 bit integer respectively."
   ]
  },
  {
   "cell_type": "markdown",
   "metadata": {
    "slideshow": {
     "slide_type": "slide"
    }
   },
   "source": [
    "## <span style=\"font-family: Courier New, Courier, monospace;\">NumPy</span> multi-dimensional arrays\n",
    "<hr style=\"border: solid 4px green\">\n",
    "\n",
    "### Example: from lists\n",
    "* `array` transforms sequences of sequences into two-dimensional arrays, sequences of sequences of sequences into three-dimensional arrays, and so on\n",
    "* *e.g.* a 2D array or matrix can be created from list of lists"
   ]
  },
  {
   "cell_type": "code",
   "execution_count": 3,
   "metadata": {
    "slideshow": {
     "slide_type": "-"
    }
   },
   "outputs": [
    {
     "name": "stdout",
     "output_type": "stream",
     "text": [
      "[[1 2 3]\n",
      " [4 5 6]]\n",
      "Dimensions:  2\n",
      "Size:        6\n",
      "Shape:       (2, 3)\n",
      "Type:        int64\n"
     ]
    }
   ],
   "source": [
    "mat = np.array( [[1,2,3], [4,5,6]] )\n",
    "print mat\n",
    "print \"Dimensions: \", mat.ndim\n",
    "print \"Size:       \", mat.size\n",
    "print \"Shape:      \", mat.shape\n",
    "print \"Type:       \", mat.dtype"
   ]
  },
  {
   "cell_type": "markdown",
   "metadata": {
    "slideshow": {
     "slide_type": "slide"
    }
   },
   "source": [
    "## Array shape\n",
    "<hr style=\"border: solid 4px green\">\n",
    "\n",
    "Work out the shape of the resulting arrays then execute these cells"
   ]
  },
  {
   "cell_type": "code",
   "execution_count": 16,
   "metadata": {
    "slideshow": {
     "slide_type": "-"
    }
   },
   "outputs": [
    {
     "name": "stdout",
     "output_type": "stream",
     "text": [
      "i (4, 3)\n",
      "j (2, 4, 3)\n"
     ]
    }
   ],
   "source": [
    "i = np.array( [[1,1,1], [2,2,2], [3,3,3], [4,4,4]] )\n",
    "print \"i\", i.shape\n",
    "j = np.array([[[1,1,1],[2,2,2],[3,3,3],[4,4,4]],\n",
    "             [[1,1,1],[2,2,2],[3,3,3],[4,4,4]]] )\n",
    "print \"j\", j.shape"
   ]
  },
  {
   "cell_type": "markdown",
   "metadata": {
    "slideshow": {
     "slide_type": "slide"
    }
   },
   "source": [
    "## Exercise\n",
    "<hr style=\"border: solid 4px green\">\n",
    "\n",
    "In the cell below, generate an identity matrix of size 6x6.  Then compute its size in memory (in bytes) using the array methods `size` and `itemsize`.  Then, force the matrix to be of 4 byte floats (add `dtype=np.float32`) and recalculate."
   ]
  },
  {
   "cell_type": "code",
   "execution_count": null,
   "metadata": {},
   "outputs": [],
   "source": []
  },
  {
   "cell_type": "markdown",
   "metadata": {
    "slideshow": {
     "slide_type": "slide"
    }
   },
   "source": [
    "## Arrays and ufuncs\n",
    "<hr style=\"border: solid 4px green\">\n",
    "\n",
    "### Ufuncs = overloaded and vectorised operations\n",
    "\n",
    "### Pure Python -- using lists\n",
    "```python\n",
    "x = range (8)\n",
    "y = [v + 5 for v in x]\n",
    "```\n",
    "\n",
    "### <span style=\"font-family: Courier New, Courier, monospace;\">NumPy</span> -- using arrays is concise, loopless and fast\n",
    "```python\n",
    "x = np.array (x)\n",
    "y = x + 5\n",
    "```"
   ]
  },
  {
   "cell_type": "markdown",
   "metadata": {
    "slideshow": {
     "slide_type": "slide"
    }
   },
   "source": [
    "## Example\n",
    "<hr style=\"border: solid 4px green\">"
   ]
  },
  {
   "cell_type": "code",
   "execution_count": 25,
   "metadata": {},
   "outputs": [
    {
     "name": "stdout",
     "output_type": "stream",
     "text": [
      "100 loops, best of 3: 14 ms per loop\n",
      "The slowest run took 4.60 times longer than the fastest. This could mean that an intermediate result is being cached.\n",
      "10000 loops, best of 3: 49.4 µs per loop\n"
     ]
    }
   ],
   "source": [
    "x = range (100000)\n",
    "% timeit [v + 5 for v in x]\n",
    "x = np.array(x)\n",
    "% timeit x + 5"
   ]
  },
  {
   "cell_type": "markdown",
   "metadata": {
    "slideshow": {
     "slide_type": "slide"
    }
   },
   "source": [
    "## Arrays and ufuncs (cont'd)\n",
    "<hr style=\"border: solid 4px green\">\n",
    "\n",
    "### Overloaded operations\n",
    "* arithmetic operators `+`, `-`, `*`, `/`, `%`\n",
    "* bitwise operators `&`, `|`, *etc*\n",
    "* comparison operators `<`, `>`, `<=`, `>=`, `==`, `!=`\n",
    "* math functions `np.exp`, `np.log`, `np.sin`, *etc*"
   ]
  },
  {
   "cell_type": "markdown",
   "metadata": {
    "slideshow": {
     "slide_type": "slide"
    }
   },
   "source": [
    "## Arrays and aggregations\n",
    "<hr style=\"border: solid 4px green\">\n",
    "\n",
    "### Aggregations = reducing operations on arrays\n",
    "* *e.g.* finding the max, sum, mean of an array, for which <span style=\"font-family: Courier New, Courier, monospace;\">NumPy</span>  has dedicated and fast methods.\n",
    "<br>\n",
    "\n",
    "### Example 1"
   ]
  },
  {
   "cell_type": "code",
   "execution_count": 26,
   "metadata": {},
   "outputs": [
    {
     "name": "stdout",
     "output_type": "stream",
     "text": [
      "100 loops, best of 3: 5.38 ms per loop\n",
      "The slowest run took 8.23 times longer than the fastest. This could mean that an intermediate result is being cached.\n",
      "10000 loops, best of 3: 25.2 µs per loop\n"
     ]
    }
   ],
   "source": [
    "x = np.random.random (100000) # random vector\n",
    "# this involves a lot of type-checks\n",
    "% timeit min (x) \n",
    "# this does not involve a lot of type-check and is 100x faster\n",
    "% timeit x.min ()"
   ]
  },
  {
   "cell_type": "markdown",
   "metadata": {
    "slideshow": {
     "slide_type": "-"
    }
   },
   "source": [
    "### Example 2"
   ]
  },
  {
   "cell_type": "code",
   "execution_count": 27,
   "metadata": {},
   "outputs": [
    {
     "name": "stdout",
     "output_type": "stream",
     "text": [
      "1000 loops, best of 3: 761 µs per loop\n",
      "The slowest run took 5.56 times longer than the fastest. This could mean that an intermediate result is being cached.\n",
      "100000 loops, best of 3: 5.19 µs per loop\n",
      "The slowest run took 6.40 times longer than the fastest. This could mean that an intermediate result is being cached.\n",
      "10000 loops, best of 3: 41.4 µs per loop\n"
     ]
    }
   ],
   "source": [
    "# random matrix\n",
    "A = np.random.random ((10, 10000))\n",
    "# select first row and sum \n",
    "% timeit sum(A[0,:])\n",
    "# use the sum method of the array class\n",
    "% timeit A[0,:].sum()\n",
    "# even computing the sums of *all* columns\n",
    "#   is fast using the class method\n",
    "% timeit A.sum(axis=0)"
   ]
  },
  {
   "cell_type": "markdown",
   "metadata": {
    "slideshow": {
     "slide_type": "slide"
    }
   },
   "source": [
    "## Arrays and aggregations (cont'd)\n",
    "<hr style=\"border: solid 4px green\">\n",
    "\n",
    "* `np.min()`, `np.max()`\n",
    "* `np.sum()`, `np.prod()`\n",
    "* `np.argmin`, `np.argmax` return index of min / max value\n",
    "* `np.nanmin`, `np.nanmax`, ... same thing but ignoring NaNs\n",
    "* `np.mean()`,`np.std()`, `np.median()`, `np.percentile()`\n",
    "* *etc.*"
   ]
  },
  {
   "cell_type": "markdown",
   "metadata": {
    "slideshow": {
     "slide_type": "slide"
    }
   },
   "source": [
    "## Exercise\n",
    "<hr style=\"border: solid 4px green\">\n",
    "\n",
    "In the cell below, generate a 1D vector of size 10 using `arange`.  Use the absolute value function `numpy.abs()` as well as `argmin()` to find the index of the vector entry closest to the value 7."
   ]
  },
  {
   "cell_type": "code",
   "execution_count": null,
   "metadata": {},
   "outputs": [],
   "source": []
  },
  {
   "cell_type": "markdown",
   "metadata": {
    "slideshow": {
     "slide_type": "slide"
    }
   },
   "source": [
    "## Array broadcasting\n",
    "<hr style=\"border: solid 4px green\">\n",
    "\n",
    "### Broadcasting = set of *rules* by which ufuncs operate on arrays if different sizes & dimensions\n",
    "<br><br>\n",
    "\n",
    "### Examples"
   ]
  },
  {
   "cell_type": "code",
   "execution_count": 35,
   "metadata": {},
   "outputs": [
    {
     "name": "stdout",
     "output_type": "stream",
     "text": [
      "[1 2 3]\n",
      "[2 4 6]\n",
      "[3 4 5]\n"
     ]
    }
   ],
   "source": [
    "x13 = np.array([1, 2, 3])\n",
    "print x13\n",
    "print x13 * 2\n",
    "print x13 + 2"
   ]
  },
  {
   "cell_type": "markdown",
   "metadata": {
    "slideshow": {
     "slide_type": "slide"
    }
   },
   "source": [
    "## Array broadcasting rules\n",
    "<hr style=\"border: solid 4px green\">\n",
    "\n",
    "### An operation involves two arrays\n",
    "* size of the trailing axes must either be the same or one of them must be one\n",
    "* if neither, an eror is raised\n",
    "* the size of the result is the maximum size along each dimension from the input arrays"
   ]
  },
  {
   "cell_type": "markdown",
   "metadata": {
    "slideshow": {
     "slide_type": "slide"
    }
   },
   "source": [
    "## Broadcasting rules (cont'd)\n",
    "<hr style=\"border: solid 4px green\">\n",
    "\n",
    "Example 1\n",
    "<img src=\"images/bcast_43x13.png\"; style=\"float: center; width: 40%\">"
   ]
  },
  {
   "cell_type": "code",
   "execution_count": 36,
   "metadata": {},
   "outputs": [
    {
     "name": "stdout",
     "output_type": "stream",
     "text": [
      "[[ 0  1  2]\n",
      " [ 3  4  5]\n",
      " [ 6  7  8]\n",
      " [ 9 10 11]] + [10 20 30] = [[10 21 32]\n",
      " [13 24 35]\n",
      " [16 27 38]\n",
      " [19 30 41]]\n"
     ]
    }
   ],
   "source": [
    "x13 = np.array([10, 20, 30])\n",
    "x43 = np.arange(12).reshape(4,3)\n",
    "print x43, \"+\", x13, \"=\", x43+x13"
   ]
  },
  {
   "cell_type": "markdown",
   "metadata": {
    "slideshow": {
     "slide_type": "slide"
    }
   },
   "source": [
    "## Broadcasting rules (cont'd)\n",
    "<hr style=\"border: solid 4px green\">\n",
    "\n",
    "Example 2: vector outer product\n",
    "<img src=\"images/bcast_41x13.png\"; style=\"float: center; width: 40%\">"
   ]
  },
  {
   "cell_type": "code",
   "execution_count": 37,
   "metadata": {},
   "outputs": [
    {
     "name": "stdout",
     "output_type": "stream",
     "text": [
      "[[0]\n",
      " [1]\n",
      " [2]\n",
      " [3]] * [10 20 30] = [[ 0  0  0]\n",
      " [10 20 30]\n",
      " [20 40 60]\n",
      " [30 60 90]]\n"
     ]
    }
   ],
   "source": [
    "x13 = np.array([10, 20, 30])\n",
    "x41 = np.arange(4).reshape(4,1)\n",
    "print x41, \"*\", x13, \"=\", x41*x13"
   ]
  },
  {
   "cell_type": "markdown",
   "metadata": {
    "slideshow": {
     "slide_type": "slide"
    }
   },
   "source": [
    "## Broadcasting rules (cont'd)\n",
    "<hr style=\"border: solid 4px green\">\n",
    "\n",
    "Example 3: compute an outer-product by forcing `x41` to be a column array."
   ]
  },
  {
   "cell_type": "code",
   "execution_count": 38,
   "metadata": {},
   "outputs": [
    {
     "name": "stdout",
     "output_type": "stream",
     "text": [
      "[0 1 2 3] * [10 20 30] = [[ 0  0  0]\n",
      " [10 20 30]\n",
      " [20 40 60]\n",
      " [30 60 90]]\n"
     ]
    }
   ],
   "source": [
    "x13 = np.array([10, 20, 30])\n",
    "x41 = np.arange(4)\n",
    "print x41, \"*\", x13, \"=\", x41[:,np.newaxis]*x13"
   ]
  },
  {
   "cell_type": "markdown",
   "metadata": {
    "slideshow": {
     "slide_type": "slide"
    }
   },
   "source": [
    "## Exercise\n",
    "<hr style=\"border: solid 4px green\">\n",
    "\n",
    "Taking the above examples as a guide, generate an array that has the values\n",
    "* 10, 100, 1000, ... in the first column,\n",
    "* 11, 101, 1001, ... in the second,\n",
    "* 12, 102, 1002, ... in the third,\n",
    "* and so on (adding 1 to each new column).\n",
    "\n",
    "Type solution in the cell below."
   ]
  },
  {
   "cell_type": "code",
   "execution_count": null,
   "metadata": {},
   "outputs": [],
   "source": []
  },
  {
   "cell_type": "markdown",
   "metadata": {
    "slideshow": {
     "slide_type": "slide"
    }
   },
   "source": [
    "## Accessing array elements\n",
    "<hr style=\"border: solid 4px green\">\n",
    "\n",
    "### Basic indexing and slicing (similar to lists)\n",
    "* but there is a lot more to this in `NumPy`"
   ]
  },
  {
   "cell_type": "markdown",
   "metadata": {},
   "source": [
    "### Slicing"
   ]
  },
  {
   "cell_type": "code",
   "execution_count": 8,
   "metadata": {
    "slideshow": {
     "slide_type": "-"
    }
   },
   "outputs": [
    {
     "name": "stdout",
     "output_type": "stream",
     "text": [
      "a [ 0  1  2  3  4  5  6  7  8  9 10]\n",
      "a[0:4] [0 1 2 3]\n",
      "a[0:7:2] [0 2 4 6]\n",
      "a[0::2] [ 0  2  4  6  8 10]\n",
      "a[::2] [ 0  2  4  6  8 10]\n"
     ]
    }
   ],
   "source": [
    "# a[start:stop:step] --> [start, and select every 'step' element until until stop)\n",
    "a = np.arange(11)\n",
    "print \"a\", a\n",
    "print \"a[0:4]\", a[0:4]\n",
    "print \"a[0:7:2]\", a[0:7:2]\n",
    "print \"a[0::2]\", a[0::2]\n",
    "print \"a[::2]\", a[::2]   # \"shorthand\" of the above"
   ]
  },
  {
   "cell_type": "markdown",
   "metadata": {
    "slideshow": {
     "slide_type": "slide"
    }
   },
   "source": [
    "## Accessing array elements (cont'd)\n",
    "<hr style=\"border: solid 4px green\">\n",
    "\n",
    "### Negative indices are valid!\n",
    "* this feature is called *wraparound* and is useful for accessing the last element"
   ]
  },
  {
   "cell_type": "code",
   "execution_count": 44,
   "metadata": {},
   "outputs": [
    {
     "name": "stdout",
     "output_type": "stream",
     "text": [
      "10\n"
     ]
    }
   ],
   "source": [
    "print a[-1]"
   ]
  },
  {
   "cell_type": "markdown",
   "metadata": {
    "slideshow": {
     "slide_type": "slide"
    }
   },
   "source": [
    "## Accessing array elements (cont'd)\n",
    "<hr style=\"border: solid 4px green\">\n",
    "\n",
    "Exercise:  can you guess the output of the following cell?"
   ]
  },
  {
   "cell_type": "code",
   "execution_count": null,
   "metadata": {
    "slideshow": {
     "slide_type": "-"
    }
   },
   "outputs": [],
   "source": [
    "print a[2:-3:2]"
   ]
  },
  {
   "cell_type": "markdown",
   "metadata": {
    "slideshow": {
     "slide_type": "slide"
    }
   },
   "source": [
    "## Accessing array elements (cont'd)\n",
    "<hr style=\"border: solid 4px green\">\n",
    "\n",
    "Multi-dimensional arrays: can use a tuples or index notation."
   ]
  },
  {
   "cell_type": "code",
   "execution_count": 17,
   "metadata": {
    "slideshow": {
     "slide_type": "-"
    }
   },
   "outputs": [
    {
     "name": "stdout",
     "output_type": "stream",
     "text": [
      "c[1][0][1]: 6\n",
      "c[1,0,1]: 6\n"
     ]
    }
   ],
   "source": [
    "# basic indexing of a 3d array\n",
    "c = np.array([[[1,2],[3,4]],[[5,6],[7,8]]])\n",
    "# using index notation\n",
    "print \"c[1][0][1]:\", c[1][0][1] \n",
    "# using a tuple (more performant)\n",
    "print \"c[1,0,1]:\", c[1,0,1]     "
   ]
  },
  {
   "cell_type": "markdown",
   "metadata": {
    "slideshow": {
     "slide_type": "slide"
    }
   },
   "source": [
    "## Accessing array elements (cont'd)\n",
    "<hr style=\"border: solid 4px green\">\n",
    "\n",
    "Using tuples is faster!"
   ]
  },
  {
   "cell_type": "code",
   "execution_count": 46,
   "metadata": {
    "slideshow": {
     "slide_type": "-"
    }
   },
   "outputs": [
    {
     "name": "stdout",
     "output_type": "stream",
     "text": [
      "The slowest run took 13.94 times longer than the fastest. This could mean that an intermediate result is being cached.\n",
      "1000000 loops, best of 3: 445 ns per loop\n",
      "The slowest run took 20.84 times longer than the fastest. This could mean that an intermediate result is being cached.\n",
      "10000000 loops, best of 3: 195 ns per loop\n"
     ]
    }
   ],
   "source": [
    "% timeit c[1][0][1] \n",
    "% timeit c[1,0,1]     "
   ]
  },
  {
   "cell_type": "markdown",
   "metadata": {
    "slideshow": {
     "slide_type": "slide"
    }
   },
   "source": [
    "## Accessing array elements (cont'd)\n",
    "<hr style=\"border: solid 4px green\">"
   ]
  },
  {
   "cell_type": "code",
   "execution_count": 19,
   "metadata": {
    "slideshow": {
     "slide_type": "-"
    }
   },
   "outputs": [
    {
     "name": "stdout",
     "output_type": "stream",
     "text": [
      "[[[1 2]\n",
      "  [3 4]]\n",
      "\n",
      " [[5 6]\n",
      "  [7 8]]]\n",
      "c[1] =  [[5 6]\n",
      " [7 8]]\n",
      "c[1,0] =  [5 6]\n",
      "c[1,0,...] =  [5 6]\n"
     ]
    }
   ],
   "source": [
    "print c\n",
    "# if fewer indices given than number of axes, \n",
    "# missing axes are taken complete slices\n",
    "print \"c[1] = \", c[1]\n",
    "print \"c[1,0] = \", c[1,0]\n",
    "# can use 3 dots for missing indices\n",
    "print \"c[1,0,...] = \", c[1,0,...] "
   ]
  },
  {
   "cell_type": "markdown",
   "metadata": {
    "slideshow": {
     "slide_type": "subslide"
    }
   },
   "source": [
    "## Slices and views\n",
    "<hr style=\"border: solid 4px green\">\n",
    "\n",
    "### View = an array that refers to data from another array (a reference!)\n",
    "* can create a view on an array by selecting a slice of an array\n",
    "* no data is copied when a view is created"
   ]
  },
  {
   "cell_type": "code",
   "execution_count": 50,
   "metadata": {
    "slideshow": {
     "slide_type": "-"
    }
   },
   "outputs": [
    {
     "name": "stdout",
     "output_type": "stream",
     "text": [
      "a =  [[1 2 3]\n",
      " [4 5 6]\n",
      " [7 8 9]]\n",
      "[[8 9]]\n",
      "s =  [[-2 -2]]\n",
      "a =  [[ 1  2  3]\n",
      " [ 4  5  6]\n",
      " [ 7 -2 -2]]\n"
     ]
    }
   ],
   "source": [
    "# create a 2d array\n",
    "a = np.array([[1,2,3],[4,5,6],[7,8,9]])\n",
    "print \"a = \", a\n",
    "\n",
    "# can assign a slice to a variable and change\n",
    "# the array referred to by the slice\n",
    "s = a[2:, 1:]\n",
    "print s\n",
    "s[:,:] = -2\n",
    "print \"s = \", s\n",
    "print \"a = \", a"
   ]
  },
  {
   "cell_type": "markdown",
   "metadata": {
    "slideshow": {
     "slide_type": "slide"
    }
   },
   "source": [
    "## Slices and views (cont'd)\n",
    "<hr style=\"border: solid 4px green\">\n",
    "\n",
    "### Slicing creates a view, whose memory is shared with the original array."
   ]
  },
  {
   "cell_type": "code",
   "execution_count": 51,
   "metadata": {},
   "outputs": [
    {
     "name": "stdout",
     "output_type": "stream",
     "text": [
      "True\n",
      "4404502320\n",
      "4405100416\n"
     ]
    }
   ],
   "source": [
    "# this will print true, because\n",
    "# s points to memory that is already pointed to by a\n",
    "print s.base is a\n",
    "# although pointers s and a are different\n",
    "print id(s)\n",
    "print id(a)"
   ]
  },
  {
   "cell_type": "markdown",
   "metadata": {
    "slideshow": {
     "slide_type": "slide"
    }
   },
   "source": [
    "## Exercise\n",
    "<hr style=\"border: solid 4px green\">\n",
    "\n",
    "Using slicing, change all the elements with values 7,8,10,11 in matrix `m` below (*i.e.* bottom right corner elements) to 1000 using a slice."
   ]
  },
  {
   "cell_type": "code",
   "execution_count": 20,
   "metadata": {
    "slideshow": {
     "slide_type": "-"
    }
   },
   "outputs": [],
   "source": [
    "m = np.array([[0,1,2],[3,4,5],[6,7,8],[9,10,11]])"
   ]
  },
  {
   "cell_type": "markdown",
   "metadata": {
    "slideshow": {
     "slide_type": "slide"
    }
   },
   "source": [
    "## Exercise\n",
    "<hr style=\"border: solid 4px green\">\n",
    "\n",
    "Use the cell below to generate a 8x8 matrix of nonzero values and modify its border values to be zero.  Regenerate the matrix and fill it with a checkerboard pattern of zeros and ones."
   ]
  },
  {
   "cell_type": "code",
   "execution_count": null,
   "metadata": {},
   "outputs": [],
   "source": []
  },
  {
   "cell_type": "markdown",
   "metadata": {
    "slideshow": {
     "slide_type": "slide"
    }
   },
   "source": [
    "## Reshaping arrays\n",
    "<hr style=\"border: solid 4px green\">\n",
    "\n",
    "### An array can have its size and shape modified"
   ]
  },
  {
   "cell_type": "code",
   "execution_count": 72,
   "metadata": {
    "slideshow": {
     "slide_type": "-"
    }
   },
   "outputs": [
    {
     "name": "stdout",
     "output_type": "stream",
     "text": [
      "a =  [0 1 2 3 4 5]\n",
      "shape of a: (6,)\n",
      "a =  [[0 1]\n",
      " [2 3]\n",
      " [4 5]]\n"
     ]
    }
   ],
   "source": [
    "a = np.arange(6)\n",
    "print \"a = \", a\n",
    "print \"shape of a:\", a.shape\n",
    "# modifying the shape attribute (not a copy) requires the size remains the same\n",
    "a.shape = (3,2)\n",
    "print \"a = \", a"
   ]
  },
  {
   "cell_type": "markdown",
   "metadata": {
    "slideshow": {
     "slide_type": "slide"
    }
   },
   "source": [
    "## Reshaping arrays (cont'd)\n",
    "<hr style=\"border: solid 4px green\">"
   ]
  },
  {
   "cell_type": "code",
   "execution_count": 25,
   "metadata": {
    "slideshow": {
     "slide_type": "-"
    }
   },
   "outputs": [
    {
     "name": "stdout",
     "output_type": "stream",
     "text": [
      "[0 1 2 3 4 5]\n",
      "[[0 1]\n",
      " [2 3]\n",
      " [4 5]]\n",
      "[[0 1 2]\n",
      " [3 4 5]\n",
      " [0 1 2]\n",
      " [3 4 5]]\n",
      "[[0]\n",
      " [1]\n",
      " [2]\n",
      " [3]]\n"
     ]
    }
   ],
   "source": [
    "# can alter the size and shape of the array with resize()\n",
    "# (this may copy or pad, depending on shape)\n",
    "a = np.arange(6)\n",
    "print a\n",
    "print np.resize(a, (3, 2))\n",
    "print np.resize(a, (4, 3))\n",
    "print np.resize(a, (4,1))"
   ]
  },
  {
   "cell_type": "markdown",
   "metadata": {
    "slideshow": {
     "slide_type": "slide"
    }
   },
   "source": [
    "## Exercise\n",
    "<hr style=\"border: solid 4px green\">\n",
    "\n",
    "Use the cell below to resize array `a` with various sizes that do not multiply up to the original length of 6."
   ]
  },
  {
   "cell_type": "code",
   "execution_count": null,
   "metadata": {
    "collapsed": true
   },
   "outputs": [],
   "source": []
  },
  {
   "cell_type": "markdown",
   "metadata": {
    "slideshow": {
     "slide_type": "slide"
    }
   },
   "source": [
    "## Reshaping arrays (cont'd)\n",
    "<hr style=\"border: solid 4px green\">\n",
    "\n",
    "### Check if arrays share the same data (*i.e.* not a copy) using <span style=\"font-family: Courier New, Courier, monospace;\">base</span>"
   ]
  },
  {
   "cell_type": "code",
   "execution_count": 27,
   "metadata": {},
   "outputs": [
    {
     "name": "stdout",
     "output_type": "stream",
     "text": [
      "False\n",
      "False\n"
     ]
    }
   ],
   "source": [
    "a1 = np.resize(a, (3, 2))\n",
    "print a1.base is a\n",
    "print id(a) == id(a1)"
   ]
  },
  {
   "cell_type": "markdown",
   "metadata": {
    "slideshow": {
     "slide_type": "slide"
    }
   },
   "source": [
    "## Reshaping arrays (cont'd)\n",
    "<hr style=\"border: solid 4px green\">\n",
    "\n",
    "### Careful!  <span style=\"font-family: Courier New, Courier, monospace;\">reshape()</span> works differently"
   ]
  },
  {
   "cell_type": "code",
   "execution_count": 28,
   "metadata": {
    "slideshow": {
     "slide_type": "-"
    }
   },
   "outputs": [
    {
     "name": "stdout",
     "output_type": "stream",
     "text": [
      "[[0 1]\n",
      " [2 3]\n",
      " [4 5]]\n",
      "True\n",
      "False\n"
     ]
    }
   ],
   "source": [
    "a1 = np.reshape(a, (3, 2))\n",
    "print a1\n",
    "print a1.base is a\n",
    "print id(a) == id(a1)"
   ]
  },
  {
   "cell_type": "markdown",
   "metadata": {
    "slideshow": {
     "slide_type": "slide"
    }
   },
   "source": [
    "## Fancy indexing\n",
    "<hr style=\"border: solid 4px green\">\n",
    "\n",
    "### Indexing using another numpy array of integer or boolean values\n",
    "* this is advanced indexing, which lets you do more than simple indexing"
   ]
  },
  {
   "cell_type": "code",
   "execution_count": 29,
   "metadata": {
    "slideshow": {
     "slide_type": "-"
    }
   },
   "outputs": [
    {
     "name": "stdout",
     "output_type": "stream",
     "text": [
      "[[ 0  1  2]\n",
      " [ 3  4  5]\n",
      " [ 6  7  8]\n",
      " [ 9 10 11]]\n",
      "[ 0  2  9 11]\n"
     ]
    }
   ],
   "source": [
    "# create an array\n",
    "p = np.array([[ 0,  1,  2],[ 3,  4,  5],\n",
    "              [ 6,  7,  8],[ 9, 10, 11]])\n",
    "print p\n",
    "\n",
    "rows = [0,0,3,3]   # indices for rows\n",
    "cols = [0,2,0,2]   # indices for columns\n",
    "q = p[rows,cols]\n",
    "print q"
   ]
  },
  {
   "cell_type": "markdown",
   "metadata": {
    "slideshow": {
     "slide_type": "slide"
    }
   },
   "source": [
    "## Fancy indexing (cont'd)\n",
    "<hr style=\"border: solid 4px green\">\n",
    "\n",
    "Fancy indexing returns a copy (not a view like slicing)"
   ]
  },
  {
   "cell_type": "code",
   "execution_count": 30,
   "metadata": {},
   "outputs": [
    {
     "name": "stdout",
     "output_type": "stream",
     "text": [
      "[1000    2    9   11]\n",
      "[[ 0  1  2]\n",
      " [ 3  4  5]\n",
      " [ 6  7  8]\n",
      " [ 9 10 11]]\n"
     ]
    }
   ],
   "source": [
    "# ... check if a is a view or a copy\n",
    "q[0] = 1000\n",
    "print q\n",
    "print p"
   ]
  },
  {
   "cell_type": "markdown",
   "metadata": {
    "slideshow": {
     "slide_type": "slide"
    }
   },
   "source": [
    "## Exercise\n",
    "<hr style=\"border: solid 4px green\">\n",
    "\n",
    "Use `base` in the cell below to check whether `q` is a copy.  Then, do the same for a simple indexed slice of `p`, *e.g.* `p[1:2,3:4]`."
   ]
  },
  {
   "cell_type": "code",
   "execution_count": null,
   "metadata": {},
   "outputs": [],
   "source": []
  },
  {
   "cell_type": "markdown",
   "metadata": {
    "slideshow": {
     "slide_type": "slide"
    }
   },
   "source": [
    "## Fancy indexing (cont'd)\n",
    "<hr style=\"border: solid 4px green\">\n",
    "\n",
    "You can use logical expressions and boolean \"masks\" to find indices of elements of interest.\n",
    "\n",
    "Example"
   ]
  },
  {
   "cell_type": "code",
   "execution_count": 83,
   "metadata": {
    "slideshow": {
     "slide_type": "-"
    }
   },
   "outputs": [
    {
     "name": "stdout",
     "output_type": "stream",
     "text": [
      "[[  0  -1   4  20  99]\n",
      " [ -3  -5   6   7 -10]]\n",
      "[ -1  -3  -5 -10]\n",
      "[[False  True False False False]\n",
      " [ True  True False False  True]]\n"
     ]
    }
   ],
   "source": [
    "# find indices of elements \n",
    "# with value less than zero\n",
    "m = np.array( [[0,-1,4,20,99],[-3,-5,6,7,-10]] )\n",
    "print m\n",
    "print m[ m < 0 ]\n",
    "print m<0"
   ]
  },
  {
   "cell_type": "markdown",
   "metadata": {
    "slideshow": {
     "slide_type": "slide"
    }
   },
   "source": [
    "## Fancy indexing (cont'd)\n",
    "<hr style=\"border: solid 4px green\">\n",
    "\n",
    "\n",
    "Can you guess what the following code does?"
   ]
  },
  {
   "cell_type": "code",
   "execution_count": 84,
   "metadata": {
    "slideshow": {
     "slide_type": "-"
    }
   },
   "outputs": [
    {
     "name": "stdout",
     "output_type": "stream",
     "text": [
      "[0 1 2 3 4 5 6 7 8 9]\n",
      "[1 3 5 6 7 8 9]\n"
     ]
    }
   ],
   "source": [
    "a = np.arange(10)\n",
    "print a\n",
    "mask = np.ones(len(a), dtype=bool)\n",
    "mask[[0,2,4]] = False  # set certain mask values to False\n",
    "result = a[mask]\n",
    "print result"
   ]
  },
  {
   "cell_type": "markdown",
   "metadata": {},
   "source": [
    "> *Note*: Masks are particularly powerful when used in conjunction with the ufunc operations."
   ]
  },
  {
   "cell_type": "markdown",
   "metadata": {
    "slideshow": {
     "slide_type": "slide"
    }
   },
   "source": [
    "## Array copies\n",
    "<hr style=\"border: solid 4px green\">\n",
    "\n",
    "Simple assignment creates references or \"shallow\" copies of arrays."
   ]
  },
  {
   "cell_type": "code",
   "execution_count": 34,
   "metadata": {
    "slideshow": {
     "slide_type": "-"
    }
   },
   "outputs": [
    {
     "name": "stdout",
     "output_type": "stream",
     "text": [
      "a =  [-2  6  2]\n",
      "b points to a!\n",
      "b = [20  6  2]\n"
     ]
    }
   ],
   "source": [
    "a = np.array( [-2,6,2] )\n",
    "print \"a = \", a\n",
    "b = a\n",
    "a[0] = 20\n",
    "print \"b points to a!\"\n",
    "print \"b =\", b"
   ]
  },
  {
   "cell_type": "markdown",
   "metadata": {
    "slideshow": {
     "slide_type": "slide"
    }
   },
   "source": [
    "## Array copies (cont'd)\n",
    "<hr style=\"border: solid 4px green\">\n",
    "\n",
    "\n",
    "That is because all `b = a` does is a pointer copy.  Indeed"
   ]
  },
  {
   "cell_type": "code",
   "execution_count": 35,
   "metadata": {
    "slideshow": {
     "slide_type": "-"
    }
   },
   "outputs": [
    {
     "name": "stdout",
     "output_type": "stream",
     "text": [
      "id(a)= 139671260856192\n",
      "id(b)= 139671260856192\n"
     ]
    }
   ],
   "source": [
    "print \"id(a)=\", id(a)\n",
    "print \"id(b)=\", id(b)"
   ]
  },
  {
   "cell_type": "markdown",
   "metadata": {
    "slideshow": {
     "slide_type": "slide"
    }
   },
   "source": [
    "## Array copies (cont'd)\n",
    "<hr style=\"border: solid 4px green\">\n",
    "\n",
    "\n",
    "Use `copy()` to create a true or \"deep\" copy."
   ]
  },
  {
   "cell_type": "code",
   "execution_count": 36,
   "metadata": {},
   "outputs": [
    {
     "name": "stdout",
     "output_type": "stream",
     "text": [
      "id(a)= 139671260856192\n",
      "id(c)= 139671260856032\n"
     ]
    }
   ],
   "source": [
    "c = a.copy()\n",
    "print \"id(a)=\", id(a)\n",
    "print \"id(c)=\", id(c)"
   ]
  },
  {
   "cell_type": "markdown",
   "metadata": {
    "slideshow": {
     "slide_type": "slide"
    }
   },
   "source": [
    "## Array copies (cont'd)\n",
    "<hr style=\"border: solid 4px green\">"
   ]
  },
  {
   "cell_type": "code",
   "execution_count": 37,
   "metadata": {},
   "outputs": [
    {
     "name": "stdout",
     "output_type": "stream",
     "text": [
      "c changes [0 6 2]\n",
      "a unaffected [20  6  2]\n"
     ]
    }
   ],
   "source": [
    "# check c really is an independent copy of a \n",
    "c[0] = 0\n",
    "print \"c changes\", c\n",
    "print \"a unaffected\", a"
   ]
  },
  {
   "cell_type": "markdown",
   "metadata": {
    "slideshow": {
     "slide_type": "slide"
    }
   },
   "source": [
    "## Vectorization\n",
    "<hr style=\"border: solid 4px green\">\n",
    "\n",
    "### Vectorization = replacement of explicit loops by array expressions\n",
    "* allows element-wise operations on arrays\n",
    "* no loops involved\n",
    "* efficient element-wise operations\n",
    "* uses all the \"tricks\" above (indexing, broadcating, *etc.*)\n",
    "<br><br>\n",
    "\n",
    "### Vectorization is powerful\n",
    "* one or two (or more) orders of magnitude faster than the pure Python equivalent\n",
    "<br><br>\n",
    "\n",
    "### Vectorization = tradeoff between time and space\n",
    "* time is execution **time**, space is **memory**\n",
    "* replacing loops may need extra variables for intermediary results\n",
    "<br><br>\n",
    "\n",
    "### Example: operations on arrays of matching size."
   ]
  },
  {
   "cell_type": "code",
   "execution_count": 90,
   "metadata": {},
   "outputs": [
    {
     "name": "stdout",
     "output_type": "stream",
     "text": [
      "1000 loops, best of 3: 849 µs per loop\n",
      "The slowest run took 37.16 times longer than the fastest. This could mean that an intermediate result is being cached.\n",
      "100000 loops, best of 3: 5.19 µs per loop\n"
     ]
    }
   ],
   "source": [
    "import math\n",
    "x = np.random.randn(1000)\n",
    "y = np.random.randn(1000)\n",
    "% timeit [math.sqrt(x[i]*x[i] + y[i]*y[i]) for i in xrange(1000)]\n",
    "% timeit np.sqrt(x*x + y*y)"
   ]
  },
  {
   "cell_type": "markdown",
   "metadata": {
    "slideshow": {
     "slide_type": "slide"
    }
   },
   "source": [
    "## Vectorization (cont'd)\n",
    "<hr style=\"border: solid 4px green\">\n",
    "\n",
    "### Power and flexibility: all sorts of operations are possible"
   ]
  },
  {
   "cell_type": "code",
   "execution_count": 91,
   "metadata": {
    "slideshow": {
     "slide_type": "-"
    }
   },
   "outputs": [
    {
     "name": "stdout",
     "output_type": "stream",
     "text": [
      "[[-0.  -0.1 -0.2 -0.3 -0.4]\n",
      " [-0.5 -0.6 -0.7 -0.8 -0.9]]\n",
      "[[ 0  1  4  9 16]\n",
      " [25 36 49 64 81]]\n"
     ]
    }
   ],
   "source": [
    "a = np.arange(10).reshape([2,5])\n",
    "b = np.arange(10).reshape([2,5])\n",
    "\n",
    "# multiply with a constant scalar\n",
    "print -0.1*a\n",
    "\n",
    "# multiply a and b, entry by entry\n",
    "# (NB: this is not matrix multiplication)\n",
    "print a*b"
   ]
  },
  {
   "cell_type": "markdown",
   "metadata": {
    "slideshow": {
     "slide_type": "slide"
    }
   },
   "source": [
    "## Vectorization (cont'd)\n",
    "<hr style=\"border: solid 4px green\">\n",
    "\n",
    "### Careful -- type of data elements matters!"
   ]
  },
  {
   "cell_type": "code",
   "execution_count": 92,
   "metadata": {
    "slideshow": {
     "slide_type": "-"
    }
   },
   "outputs": [
    {
     "name": "stdout",
     "output_type": "stream",
     "text": [
      "[[ 0.          0.5         0.66666667  0.75        0.8       ]\n",
      " [ 0.83333333  0.85714286  0.875       0.88888889  0.9       ]]\n",
      "[[0 0 0 0 0]\n",
      " [0 0 0 0 0]]\n"
     ]
    }
   ],
   "source": [
    "# divide a to b plus 1\n",
    "print a/(b+1).astype(float)\n",
    "# what happens if the astype() is removed?\n",
    "print a/(b+1)"
   ]
  },
  {
   "cell_type": "markdown",
   "metadata": {
    "slideshow": {
     "slide_type": "slide"
    }
   },
   "source": [
    "## Vectorization (cont'd)\n",
    "<hr style=\"border: solid 4px green\">\n",
    "\n",
    "### Example: element-wise math functions on arrays"
   ]
  },
  {
   "cell_type": "code",
   "execution_count": 93,
   "metadata": {
    "slideshow": {
     "slide_type": "-"
    }
   },
   "outputs": [
    {
     "data": {
      "text/plain": [
       "array([ 2.,  3.,  4.])"
      ]
     },
     "execution_count": 93,
     "metadata": {},
     "output_type": "execute_result"
    }
   ],
   "source": [
    "# efficient vectorised computation\n",
    "np.sqrt(np.array([4, 9, 16]))"
   ]
  },
  {
   "cell_type": "markdown",
   "metadata": {
    "slideshow": {
     "slide_type": "slide"
    }
   },
   "source": [
    "## Exercise\n",
    "<hr style=\"border: solid 4px green\">\n",
    "\n",
    "Run the cell below and determine which method to square the elements of an array is faster.\n",
    "\n",
    "Then, change the power from square to cube.  How does the times change?\n",
    "\n",
    "Add two extra methods to compute the cube of all the elements in `x`\n",
    "* using the power function `numpy.power()`\n",
    "* using Einstein summation `numpy.einsum ('i,i,i->i', x,x,x)`"
   ]
  },
  {
   "cell_type": "code",
   "execution_count": 38,
   "metadata": {},
   "outputs": [
    {
     "name": "stdout",
     "output_type": "stream",
     "text": [
      "1 loop, best of 3: 137 ms per loop\n",
      "10 loops, best of 3: 138 ms per loop\n",
      "1 loop, best of 3: 801 ms per loop\n",
      "1 loop, best of 3: 237 ms per loop\n"
     ]
    }
   ],
   "source": [
    "# multiplying two vectors\n",
    "x = np.arange(10E7)\n",
    "% timeit x*x\n",
    "% timeit x**2\n",
    "% timeit np.power(x, 2)\n",
    "% timeit np.einsum ('i,i->i', x,x)"
   ]
  },
  {
   "cell_type": "markdown",
   "metadata": {
    "slideshow": {
     "slide_type": "slide"
    }
   },
   "source": [
    "## Manipulating arrays\n",
    "<hr style=\"border: solid 4px green\">\n",
    "\n",
    "#### Many methods for manipulating arrays (reshaping, joining, splitting, inserting, ...).\n",
    "\n",
    "For example,\n",
    "```python\n",
    "concatenate((a1,a2),axis=0)\n",
    "split(a, indices_or_sections, axis=0)\n",
    "hstack\n",
    "vstack\n",
    "flatten\n",
    "ravel(a)\n",
    "stack(arrays[, axis])\n",
    "tile(a, reps)\n",
    "repeat(a, repeats[, axis])\n",
    "unique(ar[, return_index, return_inverse, ...])\n",
    "trim_zeros(filt[, trim])\n",
    "fill(scalar)\n",
    "xv, yv = meshgrid(x,y)\n",
    "```"
   ]
  },
  {
   "cell_type": "markdown",
   "metadata": {
    "slideshow": {
     "slide_type": "slide"
    }
   },
   "source": [
    "## Math operations\n",
    "<hr style=\"border: solid 4px green\">\n",
    "\n",
    "### <span style=\"font-family: Courier New, Courier, monospace;\">NumPy</span> provides a host of math funtions\n",
    "<br><br>\n",
    "\n",
    "### But so does the <span style=\"font-family: Courier New, Courier, monospace;\">math</span> module\n",
    "<br><br>\n",
    "\n",
    "### Which one to use?\n",
    "* `math`\n",
    "  * mathematical functions defined by the C standard\n",
    "  * fast operations on\n",
    "* `NumPy`\n",
    "  * mathematical functions defined as ufuncs\n",
    "  * slower than `math` on Python scalars\n",
    "  * faster than `math` on NumPy arrays"
   ]
  },
  {
   "cell_type": "code",
   "execution_count": 98,
   "metadata": {
    "slideshow": {
     "slide_type": "-"
    }
   },
   "outputs": [
    {
     "name": "stdout",
     "output_type": "stream",
     "text": [
      "The slowest run took 26.98 times longer than the fastest. This could mean that an intermediate result is being cached.\n",
      "1000000 loops, best of 3: 848 ns per loop\n",
      "The slowest run took 10.47 times longer than the fastest. This could mean that an intermediate result is being cached.\n",
      "1000000 loops, best of 3: 205 ns per loop\n",
      "The slowest run took 13.62 times longer than the fastest. This could mean that an intermediate result is being cached.\n",
      "100000 loops, best of 3: 11.8 µs per loop\n",
      "1000 loops, best of 3: 277 µs per loop\n"
     ]
    }
   ],
   "source": [
    "import numpy\n",
    "import math\n",
    "x = 1.2\n",
    "v = numpy.random.rand(1024)\n",
    "% timeit numpy.sinh(x)\n",
    "% timeit math.sinh(x)\n",
    "% timeit numpy.sinh(v)\n",
    "% timeit [math.sinh(vi) for vi in v]"
   ]
  },
  {
   "cell_type": "markdown",
   "metadata": {
    "slideshow": {
     "slide_type": "slide"
    }
   },
   "source": [
    "## Exercise\n",
    "<hr style=\"border: solid 4px green\">\n",
    "\n",
    "Build two 1D arrays `x` and `y`, representing cartesian coordinates of a series of points.  Tip: use the `numpy` function `random.rand`.  Apply vector transformations to change these to polar coodinates.  Then, use `numpy.sqrt()` and `numpy.arctan2()` and write your solution in the cell below."
   ]
  },
  {
   "cell_type": "code",
   "execution_count": 101,
   "metadata": {},
   "outputs": [],
   "source": []
  },
  {
   "cell_type": "markdown",
   "metadata": {
    "slideshow": {
     "slide_type": "slide"
    }
   },
   "source": [
    "## File operations\n",
    "<hr style=\"border: solid 4px green\">\n",
    "\n",
    "### <span style=\"font-family: Courier New, Courier, monospace;\">NumPy</span> provides an easy way to save data to text file"
   ]
  },
  {
   "cell_type": "code",
   "execution_count": null,
   "metadata": {
    "slideshow": {
     "slide_type": "-"
    }
   },
   "outputs": [],
   "source": [
    "# Generate an array of 5 random real numbers\n",
    "pts = 5\n",
    "x = np.arange(pts)\n",
    "y = np.random.random(pts)"
   ]
  },
  {
   "cell_type": "markdown",
   "metadata": {
    "slideshow": {
     "slide_type": "slide"
    }
   },
   "source": [
    "## File operations (cont'd)\n",
    "<hr style=\"border: solid 4px green\">"
   ]
  },
  {
   "cell_type": "code",
   "execution_count": null,
   "metadata": {},
   "outputs": [],
   "source": [
    "# data format specifiers: d = int, f = float, e = exponential\n",
    "np.savetxt('savedata.txt', np.c_[x,y], header='DATA', footer='END', fmt='%d %1.4f')\n",
    "# escape to shell to see file\n",
    "!cat savedata.txt"
   ]
  },
  {
   "cell_type": "markdown",
   "metadata": {
    "slideshow": {
     "slide_type": "slide"
    }
   },
   "source": [
    "## File operations (cont'd)\n",
    "<hr style=\"border: solid 4px green\">"
   ]
  },
  {
   "cell_type": "code",
   "execution_count": null,
   "metadata": {
    "slideshow": {
     "slide_type": "-"
    }
   },
   "outputs": [],
   "source": [
    "# Reload data to an array\n",
    "p = np.loadtxt('savedata.txt')\n",
    "print p"
   ]
  },
  {
   "cell_type": "markdown",
   "metadata": {
    "slideshow": {
     "slide_type": "slide"
    }
   },
   "source": [
    "## File operations (cont'd)\n",
    "<hr style=\"border: solid 4px green\">\n",
    "\n",
    "### More flexibility with <span style=\"font-family: Courier New, Courier, monospace;\">genfromtext()</span>"
   ]
  },
  {
   "cell_type": "code",
   "execution_count": null,
   "metadata": {
    "slideshow": {
     "slide_type": "-"
    }
   },
   "outputs": [],
   "source": [
    "p = np.genfromtxt ('savedata.txt', skip_header=2, skip_footer=1)\n",
    "print p"
   ]
  },
  {
   "cell_type": "markdown",
   "metadata": {
    "slideshow": {
     "slide_type": "slide"
    }
   },
   "source": [
    "## Exercise\n",
    "<hr style=\"border: solid 4px green\">\n",
    "\n",
    "What do `numpy.save()` and `numpy.load()` do?  Write a snippet of code to save a variable to a binary file.  Read the data in from the file into another variable and compare with the first variable whose values were saved."
   ]
  },
  {
   "cell_type": "code",
   "execution_count": null,
   "metadata": {},
   "outputs": [],
   "source": []
  },
  {
   "cell_type": "markdown",
   "metadata": {
    "slideshow": {
     "slide_type": "slide"
    }
   },
   "source": [
    "## <span style=\"font-family: Courier New, Courier, monospace;\">numexpr</scan>\n",
    "<hr style=\"border: solid 4px green\">\n",
    "\n",
    "### Fast numerical expression evaluator for <span style=\"font-family: Courier New, Courier, monospace;\">NumPy</scan>\n",
    "* an easy-to-use way to compute array-based operations\n",
    "* faster than pure `NumPy` by up to an order of magnitude\n",
    "<br><br>\n",
    "\n",
    "### Accelerates expressions operating on <span style=\"font-family: Courier New, Courier, monospace;\">NumPy</span> arrays\n",
    "* faster execution\n",
    "  * expression parsed\n",
    "  * array operands are split into small chunks that easily fit in the cache of the CPU\n",
    "* less memory\n",
    "  * allocating memory for intermediate results is avoided\n",
    "* parallelism\n",
    "  * the operations are multi-threaded\n",
    "  * support from Intel's VML (Vector Math Library), part of Math Kernel Library (MKL)"
   ]
  },
  {
   "cell_type": "markdown",
   "metadata": {
    "slideshow": {
     "slide_type": "slide"
    }
   },
   "source": [
    "## <span style=\"font-family: Courier New, Courier, monospace;\">numexpr</span> (cont'd)\n",
    "<hr style=\"border: solid 4px green\">\n",
    "\n",
    "### Best acceleration of expression evaluation\n",
    "* on large arrays\n",
    "* CPU expensive operations that are not memory-bound (*e.g.* transcendental functions)"
   ]
  },
  {
   "cell_type": "markdown",
   "metadata": {
    "slideshow": {
     "slide_type": "slide"
    }
   },
   "source": [
    "## <span style=\"font-family: Courier New, Courier, monospace;\">numexpr</span> (cont'd)\n",
    "<hr style=\"border: solid 4px green\">\n",
    "\n",
    "### Example"
   ]
  },
  {
   "cell_type": "code",
   "execution_count": 102,
   "metadata": {
    "slideshow": {
     "slide_type": "-"
    }
   },
   "outputs": [
    {
     "name": "stdout",
     "output_type": "stream",
     "text": [
      "10 loops, best of 3: 141 ms per loop\n",
      "10 loops, best of 3: 45.8 ms per loop\n",
      "1 loop, best of 3: 915 ms per loop\n",
      "10 loops, best of 3: 47.1 ms per loop\n"
     ]
    }
   ],
   "source": [
    "import numpy as np\n",
    "import numexpr as ne\n",
    "import time\n",
    "import math\n",
    "n = 10000000;\n",
    "# generate some large arrays\n",
    "x = np.random.rand(n); y = np.random.rand(n); z = np.random.rand(n)\n",
    "# normal numpy\n",
    "%timeit r1 = np.sqrt(np.sum(x**2 + y**2 + z**2))\n",
    "# numexpr\n",
    "%timeit r2 = ne.evaluate('sum(x**2 + y**2 + z**2)'); r2 = ne.evaluate('sqrt(r2)')\n",
    "# normal numpy (something more expensive than above)\n",
    "%timeit r3 = np.sin(x**2) + np.arcsinh(y**2) + np.arctanh(z**2)\n",
    "# numexpr\n",
    "%timeit r4 = ne.evaluate('sin(x**2) + arcsinh(y**2) + arctanh(z**2)');  "
   ]
  },
  {
   "cell_type": "markdown",
   "metadata": {
    "slideshow": {
     "slide_type": "slide"
    }
   },
   "source": [
    "## Random number generation\n",
    "<hr style=\"border: solid 4px green\">\n",
    "\n",
    "<span style=\"font-family: Courier New, Courier, monospace;\">NumPy</span> provides functions for **R**andom **N**umber **G**eneration (RNG)."
   ]
  },
  {
   "cell_type": "code",
   "execution_count": null,
   "metadata": {
    "slideshow": {
     "slide_type": "-"
    }
   },
   "outputs": [],
   "source": [
    "# create an array of 10 random real numbers \n",
    "# from a uniform distribution\n",
    "print np.random.rand (10)"
   ]
  },
  {
   "cell_type": "markdown",
   "metadata": {
    "slideshow": {
     "slide_type": "slide"
    }
   },
   "source": [
    "## Random number generation (cont'd)\n",
    "<hr style=\"border: solid 4px green\">"
   ]
  },
  {
   "cell_type": "code",
   "execution_count": null,
   "metadata": {
    "slideshow": {
     "slide_type": "-"
    }
   },
   "outputs": [],
   "source": [
    "# create a matrix of numbers from a normal distribution\n",
    "# (0 mean, 1 variance)\n",
    "print np.random.randn (5,3)"
   ]
  },
  {
   "cell_type": "markdown",
   "metadata": {
    "slideshow": {
     "slide_type": "slide"
    }
   },
   "source": [
    "## Random number generation (cont'd)\n",
    "<hr style=\"border: solid 4px green\">"
   ]
  },
  {
   "cell_type": "code",
   "execution_count": null,
   "metadata": {
    "slideshow": {
     "slide_type": "-"
    }
   },
   "outputs": [],
   "source": [
    "# create 2d array (5x5) reshaped matrix from a 1d array of (25)\n",
    "# random integers between 0 and 5\n",
    "print np.random.randint(0,high=5,size=25).reshape(5,5)"
   ]
  },
  {
   "cell_type": "markdown",
   "metadata": {
    "slideshow": {
     "slide_type": "slide"
    }
   },
   "source": [
    "## Random number generation (cont'd)\n",
    "<hr style=\"border: solid 4px green\">"
   ]
  },
  {
   "cell_type": "code",
   "execution_count": null,
   "metadata": {
    "slideshow": {
     "slide_type": "-"
    }
   },
   "outputs": [],
   "source": [
    "# generate sample from normal distribution \n",
    "# (mean=0, standard deviation=1)\n",
    "print np.random.standard_normal((5,5))"
   ]
  },
  {
   "cell_type": "markdown",
   "metadata": {
    "collapsed": true,
    "slideshow": {
     "slide_type": "slide"
    }
   },
   "source": [
    "## Exercise\n",
    "<hr style=\"border: solid 4px green\">\n",
    "\n",
    "Explore other ways of generating random numbers.  What other distributions can you sample?"
   ]
  },
  {
   "cell_type": "markdown",
   "metadata": {
    "collapsed": true,
    "slideshow": {
     "slide_type": "slide"
    }
   },
   "source": [
    "## RNG and parallel processing\n",
    "<hr style=\"border: solid 4px green\">\n",
    "\n",
    "### RNG in parallel can be a source of error\n",
    "What happens when you need to generate random numbers for different Python processes running concurrently on the same system?  (This is a frequent occurrence, for example in Monte Carlo simulations.)\n",
    "<br><br>\n",
    "\n",
    "### Caution!\n",
    "The default seed for the RNG is `/dev/urandom` (or the Windows analogue).  Parallel processes that use the default may easily end up generating identical streams of numbers.\n"
   ]
  },
  {
   "cell_type": "markdown",
   "metadata": {
    "slideshow": {
     "slide_type": "slide"
    }
   },
   "source": [
    "## RNG and parallel processing (cont'd)\n",
    "<hr style=\"border: solid 4px green\">\n",
    "\n",
    "Consider the following code (which uses the `multiprocessing` module)."
   ]
  },
  {
   "cell_type": "code",
   "execution_count": 44,
   "metadata": {},
   "outputs": [
    {
     "name": "stdout",
     "output_type": "stream",
     "text": [
      "[[ 0.21774402  0.87520553  0.57335391  0.02402425]\n",
      " [ 0.21774402  0.87520553  0.57335391  0.02402425]\n",
      " [ 0.89658483  0.40507974  0.48759049  0.60595859]\n",
      " [ 0.21774402  0.87520553  0.57335391  0.02402425]\n",
      " [ 0.21774402  0.87520553  0.57335391  0.02402425]\n",
      " [ 0.21774402  0.87520553  0.57335391  0.02402425]\n",
      " [ 0.21774402  0.87520553  0.57335391  0.02402425]\n",
      " [ 0.89658483  0.40507974  0.48759049  0.60595859]]\n"
     ]
    }
   ],
   "source": [
    "import numpy as np\n",
    "from multiprocessing import Pool\n",
    "\n",
    "def func (seed=None):\n",
    "    # uncomment the following line to seed the RNG\n",
    "    # np.random.seed (seed)\n",
    "    # generate 5 random numbers with a uniform distribution\n",
    "    return np.random.uniform (0, 1, 4)\n",
    "\n",
    "pool = Pool (processes=8)\n",
    "print np.array (pool.map(func, range(8)))"
   ]
  },
  {
   "cell_type": "markdown",
   "metadata": {
    "collapsed": true,
    "slideshow": {
     "slide_type": "slide"
    }
   },
   "source": [
    "## RNG and parallel processing (cont'd)\n",
    "<hr style=\"border: solid 4px green\">\n",
    "\n",
    "### Seed the RNG\n",
    "Clearly, each process must use something other than the default to seed the RNG.  But what?\n",
    "<br><br>\n",
    "\n",
    "### Random seeds\n",
    "A first idea is to use random integers as seeds.  But the probability of getting two identical seeds in two separate processes is surprisingly high.  So this first idea is a *bad* one, particularly when the number of processes is high.\n",
    "\n",
    "* Classic problem: what is the probability two people in a group share birthday?  For a group of 23 people the chance is 50% and it increases to 97% for a group of 50.\n",
    "\n",
    "* Similarly, if the seed is a 16-bit unsigned integer, there are 65.5k possible seeds.  The probability two seeds are indentical from a sample of 1000 is 99.95%.\n",
    "<br>\n"
   ]
  },
  {
   "cell_type": "markdown",
   "metadata": {
    "slideshow": {
     "slide_type": "slide"
    }
   },
   "source": [
    "## RNG and parallel processing (cont'd)\n",
    "<hr style=\"border: solid 4px green\">\n",
    "\n",
    "### Sequential seeds\n",
    "A better idea!  A good quality RNG produces uncorrelated output for any two different seeds (including consecutive seeds).  Uncomment the seeding command in the code above to illustrate this.\n",
    "<br><br>\n",
    "\n",
    "### Dedicated parallel RNG\n",
    "An even better idea if Monte Carlo simulations are the bulk of your research.\n",
    "\n",
    "RandomState (https://pypi.python.org/pypi/randomstate/1.10.1)\n",
    "* a good choice\n",
    "* drop-in replacement for `numpy`'s own (`numpy.random.RandomState`), so also easy to use"
   ]
  },
  {
   "cell_type": "markdown",
   "metadata": {
    "slideshow": {
     "slide_type": "slide"
    }
   },
   "source": [
    "## Summary\n",
    "<hr style=\"border: solid 4px green\">\n",
    "\n",
    "### The <span style=\"font-family: Courier New, Courier, monospace;\">NumPy</span> extension module\n",
    "* designed for scientific computing in Python\n",
    "* multi-dimensional array structures\n",
    "* fast array oriented computing"
   ]
  },
  {
   "cell_type": "markdown",
   "metadata": {
    "slideshow": {
     "slide_type": "slide"
    }
   },
   "source": [
    "## Exercise: <span style=\"font-family: Courier New, Courier, monospace;\">NumPy</span> indexing and slicing\n",
    "<hr style=\"border: solid 4px green\">\n",
    "\n",
    "### Using the cell below for programming, follow the following steps:\n",
    "1. Define a 1D `NumPy` array `x`, containing random numbers (real, double precision).\n",
    "2. Using index slicing and negative indices, assign the \"interior\" of the array `x` (the entire array except the first and the last entry) to a new array variable `y`.\n",
    "3. Using slicing, create yet another array `z` that contains every other element of `x`, starting with the first.\n",
    "4. Using fancy indexing, create an array `z2` that contains all the negative elements of `z`.\n",
    "5. Transform the array `x` into a 2D array and assign the result to `x2`.  Modify the first element of `x2`.  Now, verify whether the two arrays share the same data or not.  The result depends on the transformation method used: try both `reshape` and `resize`.  To compare `x` and `x2`, use the `numpy` function `flatten` to adjust`x2` back to a single dimension.\n",
    "\n",
    "> *Hint*: One way to compare `x` and `x2` is to use the logical `==` and the function `numpy.all`.  Another way is to use `np.testing.assert_almost_equal`."
   ]
  },
  {
   "cell_type": "code",
   "execution_count": 26,
   "metadata": {},
   "outputs": [
    {
     "name": "stdout",
     "output_type": "stream",
     "text": [
      "[-8.08512258 -6.09951458  1.44880284  4.45202971  0.43294371 -3.0268401\n",
      " -6.90761686 -5.22285429 -7.43169445  8.25902342]\n",
      "[-6.09951458  1.44880284  4.45202971  0.43294371 -3.0268401  -6.90761686\n",
      " -5.22285429 -7.43169445]\n",
      "[-8.08512258  1.44880284  0.43294371 -6.90761686 -7.43169445]\n",
      "[-8.08512258 -6.90761686 -7.43169445]\n",
      "[[-8.08512258 -6.09951458]\n",
      " [ 1.44880284  4.45202971]\n",
      " [ 0.43294371 -3.0268401 ]\n",
      " [-6.90761686 -5.22285429]\n",
      " [-7.43169445  8.25902342]]\n",
      "[[-8.08512258 -6.09951458]\n",
      " [ 1.44880284  4.45202971]\n",
      " [ 0.43294371 -3.0268401 ]\n",
      " [-6.90761686 -5.22285429]]\n"
     ]
    }
   ],
   "source": [
    "import numpy as np\n",
    "\n",
    "x = np.random.uniform(-10,10,10)\n",
    "print x\n",
    "\n",
    "y = x[1:-1:1]\n",
    "print y\n",
    "\n",
    "z = x[0::2]\n",
    "print z\n",
    "\n",
    "z2= z[ z<0 ]\n",
    "print z2\n",
    "\n",
    "x2 = np.reshape(x, (-1,2))\n",
    "print x2\n",
    "\n",
    "x3 = np.resize(x, (-1,2))\n",
    "print x3\n"
   ]
  },
  {
   "cell_type": "markdown",
   "metadata": {},
   "source": [
    "## Exercise: <span style=\"font-family: Courier New, Courier, monospace;\">NumPy</span> arrays and loops\n",
    "<hr style=\"border: solid 4px green\">\n",
    "\n",
    "### Use the cell below and follow the following steps:\n",
    "1. Define a large 1D `NumPy` array `x`, containing random numbers (real, double precision).\n",
    "2. Create another array `y` of the same dimensions as `x` but with all entries zero.\n",
    "2. Using different methods, define a function `apply_sin()` that takes both `x` and `y` as arguments and computes the sine of each element of `x`, storing the results in the corresponding element of `y`.\n",
    "  * First, use iterations over a list generated by `range` and use the function `math.sin`, *e.g.*\n",
    "  ```python\n",
    "  for i in range(n):\n",
    "      y[i] = math.sin(x[i])\n",
    "  ```\n",
    "  * Time the execution of the function.  Change `range` with `xrange`.  How does the execution time change?  What does `xrange` do?\n",
    "  * Now, change `math.sin` with `numpy.sin`.  How does execution time change?  Which is the more expensive function for calculating the sine of a scalar?\n",
    "  * Lastly, use NumPy and a vectorised approach, applying `numpy.sin` directly to the entire array `x`.  How does vectorisation improve performance over the iterated approach?  Can `math.sin` be mapped directly on the array?"
   ]
  },
  {
   "cell_type": "code",
   "execution_count": null,
   "metadata": {},
   "outputs": [],
   "source": []
  },
  {
   "cell_type": "markdown",
   "metadata": {
    "slideshow": {
     "slide_type": "notes"
    }
   },
   "source": [
    "<img src=\"../../images/reusematerial.png\"; style=\"float: center; width: 90\"; >"
   ]
  }
 ],
 "metadata": {
  "anaconda-cloud": {},
  "celltoolbar": "Slideshow",
  "kernelspec": {
   "display_name": "Python 2",
   "language": "python",
   "name": "python2"
  },
  "language_info": {
   "codemirror_mode": {
    "name": "ipython",
    "version": 2
   },
   "file_extension": ".py",
   "mimetype": "text/x-python",
   "name": "python",
   "nbconvert_exporter": "python",
   "pygments_lexer": "ipython2",
   "version": "2.7.14"
  },
  "livereveal": {
   "height": "768",
   "start_slideshow_at": "selected",
   "theme": "serif",
   "transition": "none",
   "width": "1024"
  }
 },
 "nbformat": 4,
 "nbformat_minor": 1
}
